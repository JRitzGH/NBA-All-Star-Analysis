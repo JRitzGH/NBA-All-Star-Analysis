{
 "cells": [
  {
   "cell_type": "markdown",
   "id": "ebf52349-3294-4698-b783-ba72e43ff06d",
   "metadata": {},
   "source": [
    "# NBA All-Star Success Analysis\n",
    "\n",
    "## Summary:\n",
    "> The National Basketball Association (NBA) annually celebrates the best players in the league with their All-Star game. Twenty-four players each year are selected for the game, where, starting in the 1975 season, the votes were split as 50% **fan** votes, 25% **media** votes, and 25% **player** votes. \n",
    ">\n",
    "> These All-Stars are meant to represent the twenty-four best players in the game, but they are decided on opinion. This study is meant to check what statistics us as fans value in an All-Star, how these statistics relate to team success and if these All-Stars are crucial for team success.\n",
    "\n",
    "## Three Research Questions:\n",
    "### 1: What are the prominent statistics of an All-Star player?\n",
    "\n",
    "For the first question, the prominent statistics can be based on the following:\n",
    " * Are All-Stars across the years in the top 5% (~Top 25) of NBA players for their respective season in the specific statistic?\n",
    " \n",
    " * The percentages of All-Stars that fit the above criteria will be displayed high-to-low, and the top 6 statistics will be denoted as the “prominent” ones.\n",
    " \n",
    " * I chose to do 6 statistics because I feel it is enough to have a decent variety of potential statistics while also not being too much to where the data is messy.\n",
    " \n",
    "After this study, it was found that, while the statistics change over the years, the 6 prominent statistics of All-Star players in 2025 are:\n",
    "\n",
    "> 1: **Free-Throw Attempts Per Game**: The amount of times a player shoots free-throws each game.\n",
    "> \n",
    "> 2: **Points Per Game**: The amount of points scored per game played.\n",
    "> \n",
    "> 3: **Field Goals Per Game**: The number of shots made per game played.\n",
    "> \n",
    "> 4: **Field Goal Attempts Per Game**: The number of shots taken per game played.\n",
    "> \n",
    "> 5: **Win Shares**: Estimates how much a player contributes to their team winning, based on contributions offensively and defensively.\n",
    ">\n",
    "> 6: **Two-Pointers Attempted Per Game**: The number of two-pointers attempted per game by a player.\n",
    "\n",
    "When looking at every season's prominent stats, the 6 most frequent statistics came out to be:\n",
    "\n",
    "> 1: **Win Shares**: Estimates how much a player contributes to their team winning, based on contributions offensively and defensively.\n",
    ">\n",
    "> 2: **Field Goals Per Game**: The number of shots made per game played.\n",
    ">  \n",
    "> 3: **Points Per Game**: The amount of points scored per game played.\n",
    "> \n",
    "> 4: **Offensive Win Shares**: Estimates how much a player contributes to their team winning, based on contributions offensively.\n",
    ">  \n",
    "> 5: **Free-Throws Per Game**: # of free-throws a player makes per game by a player.\n",
    "> \n",
    "> 6: Tie between: **PER (Player Efficiency Rating)** and **Field Goal Attempts Per Game**\n",
    "\n",
    "These six statistics denote the most important individual statistics for players that aspire to be All-Stars in the National Basketball Association. If a player say, next year, performs really well in all six of these stats, then it is clear that they are fit to be an All-Star for that season.\n",
    "\n",
    "#### Is this surprising?\n",
    "These answers are partially surprising, and they show a bias that NBA fans, media, and players have towards offensive production compared to defensive production. Each of the statistics shown in both the top 6 prominent stats for this season and all of the seasons combined are offensive-based, such as offensive win-shares, points per game, and field goals per game. Very rarely there are defensive statistics being in the top 6 prominent statistics for a season. This does make sense though, as its easy to say that a player that produces a lot of points is an elite player in the NBA, and deserves a spot in the All-Star game.\n",
    "\n",
    "### 2: How do prominent statistics transfer to team success?\n",
    "\n",
    "For the second question, we will look deeper into these six statistics, and look at the teams across the years that performed best/worst in these statistics as a unit, and how it relates to their success in these years. The way this will be done is looking season-by-season at the six prominent stats for each team that season. This will give us a ranking that we can compare to the ranking of success based on the following:\n",
    "\n",
    "> * Win count in the season (1 point per win)\n",
    "> * If a team made the playoffs (5 points)\n",
    "> * If a team won the championship that season (10 points)\n",
    "\n",
    "In this question, I ranked the teams each season by their average placement in the 6 prominent stats compared to the other teams that season, and graphed the correlation between these rankings and the season scores that were calculated using the criteria above. In this graph, there was a clear positive correlation between the two. This means that, to answer this question...\n",
    "#### Teams that are **performing better** in the six prominent statistics compared to the rest of the league generally **find better success.**\n",
    "This means that, if you see a team performing really well in all of the prominent statistics in a season, you can get a sense of how well that team will do regarding win count, playoff berth, and championships.\n",
    "\n",
    "#### Is this surprising?\n",
    "This answer isn't too surprising, but it is important to note that statistics that are important for individual success also impact team success as well. When we relate this to the results found in question one, this could also potentially mean that offensive-heavy teams typically will find better success than defense-focused teams, as the prominent statistics that we found to be most common in Research Question #1 were offensive-based and relied on statistics that were produced when teams were on offense. Still, though, it makes sense that teams that are performing better in statistics that make players individually great find themselves in better positions in the season compared to teams that don't do as well in these statistics.\n",
    "\n",
    "### 3: Do teams *need* All-Stars in order to find season success?\n",
    "\n",
    "This third question is a check based on the first two questions. Once we have concluded the impact of an All-Star and how it relates to the success of the team, we can look at the success of all the teams compared to the number of All-Stars they had that season. Team success will be calculated the same as it was in Research Question #2. These statistics will be compared to how many All-Star players were on the team during the specific season, and compared with other teams throughout the years. This question is the most important to me because it is a debate I have had with plenty of people over the course of my lifetime, and I want to access the statistics to actually see if singular players are key for success or if it is actually based on the team aspect of basketball.\n",
    "\n",
    "In this study, the answer I found is that, teams don't necessarily *need* an All-Star in order to perform well in a season, as shown by the 2013 Denver Nuggets, who performed better in their season compared to the 2011 Boston Celtics, who had 4 All-Stars. ***HOWEVER***, an All-Star **generally** improves a team and makes them have a higher chance of finding success in a season. To go further, it was found that the best teams of all time in terms of success scores had 2 All-Stars on the team during that season, with all 3 of the top 3 Season Scores coming from teams that only had 2 All-Stars that season.\n",
    "\n",
    "#### Is this surprising?\n",
    "The first part of the answer, where teams don't *need* an All-Star, but definitely benifit from having one, isn't surprising to me. When a team has an All-Star, that means they have arguably one of the top 24 players on their team, which is bound to have an impact on their success as a squad. A single player can generate production offensively, defensively, and enough production to earn a team more wins, a playoff appearance, and sometimes even a championship. However, I was really surprised by the second part of the answer, where the best success scores come from teams with 2 All-Stars, rather than teams that have 3 or even 4. Perhaps it is just a fluke, but it could also be due to the fact that a team with a bunch of individually talented players may struggle to produce success at a team level. The prominent statistics are meant to represent why All-Stars on their own are better than the rest of the league, so if there are 4 players that are individually really great on the same team, there may be complications with playing together if they're all attempting to find success on their own. This leads to 2 All-Stars being the sweet spot for having enough individual talent while still being able to play as a team for a season.\n",
    "\n",
    "### Answer Summary\n",
    "\n",
    "Overall, All-Stars are typically characterized by their elite performance in stats such as **Win Shares, Field Goals Per Game, Points Per Game, Offensive Win Shares, Free-Throws Per Game, Player Efficiency Rating, and Field Goal Attempts Per Game.** Not only that, but teams performing well in these six stats seem to perform **better** in a season compared to teams that do not perform as well. However, teams may not need an All-Star themselves in order to be successful. If they do have one, though, they generally seem to find **more success** than teams that are without an All-Star, with **2 All-Stars** being the sweet spot for teams that want to be among the best teams ever."
   ]
  },
  {
   "cell_type": "markdown",
   "id": "84e331f5-20f9-442c-ab65-364d4efb118c",
   "metadata": {
    "jp-MarkdownHeadingCollapsed": true
   },
   "source": [
    "## Challenge Goals\n",
    "\n",
    "### Goal 1 - Statistical Hypothesis Testing:\n",
    "Since we’re dealing with a lot of statistics that rely on each other, there are a few hypotheses that I can think of that can be made for each of the three research questions. Each of these are supported by my own knowledge of the NBA and my current understanding of what people value. After the study, I'll reflect on these hypothesis and describe how I was surprised/not surprised by the answers.\n",
    "\n",
    "#### PRE-STUDY HYPOTHESIS\n",
    "The first hypothesis is that the statistics that will likely show up as a “prominent statistic” include points per game, assists per game, and rebounds per game. These stats are the most widely-known stats by the general population of NBA fans as they are 1. The easiest to track and 2. The most displayed stats on televisions and on post-game highlights. In terms of the other statistics, it’s a little bit of a toss-up, but I predict that it may include box plus-minus (how well/bad your team does against the other team while you are on the court), true shooting percentage (which is a combination of all of the shooting percentages of 2-pointers, 3-pointers, and free-throws), and win-shares per 48 minutes (how much a player contributes to their team winning). These stats, while being a little complicated, are traditionally very high for All-Star level players, and low for players that aren’t. For all of these though, there are exceptions and there is the possibility for other stats to sneak in once all the data is compiled.\n",
    "\n",
    "The second hypothesis, to relate to the second research question, is that stats such as win-shares, box plus-minus, and points will correlate to team success pretty easily. However, when it comes to assists, rebounds, and true-shooting percentage, it isn’t guaranteed that these will directly correlate to good teams. For example, a team could take a lot of individual shots per game, which would lower the total assist count for that team. They would still get a lot of points, but their assists as a team may be lower. These all rely on the assumption that my hypothesis for the first question is correct. If not, I do believe that, overall, prominent statistics will correlate to team success, as it would make sense that the stats that All-Star players are good at would connect to what is needed on a team level.\n",
    "\n",
    "My third and final hypothesis regarding the third problem is that, while teams do not need an All-Star in order to find success, it generally helps and I predict that likely 90% of highly successful teams (Season Score of 60+) will have at least one All-Star, with maybe around 70% having two or more. In terms of wins, I think similar statistics will be found where teams with All-Stars will generally have more wins, with the number of wins increasing as more All-Stars appear on the team. This hypothesis doesn’t rely on the previous two questions, and there are no outside assumptions that are needed as we know what teams All-Stars were on each year and how teams did each year in terms of wins.\n",
    "\n",
    "#### POST-STUDY HYPOTHESIS REFLECTION\n",
    "Looking back on my first hypothesis, I was shocked to see that assists per game AND rebounds per game were never a top 6 prominent stat for **any** season from 1975-2025. Usually, when I would look at the rankings for points, rebounds, and assists per game, I would see familiar names on each of them. For example, in this past season, Nikola Jokic was a top 3 player in points, rebounds, and assists per game. Based on this knowledge that I had, I thought that all three of them would make an appearance as the most frequent. However, I am happy that I predicted that box plus-minus, win shares, and true shooting percentage would make an apperance in a top 6 prominent stat for atleast a single season. Win shares and box plus-minus were a big hit, as these stats made appearances in multiple seasons, while true shooting percentage only appeared once. However, I am happy with this first hypothesis and I think, overall, I was fairly accurate with my judgment that was based on my own knowledge of the NBA\n",
    "\n",
    "Now, onto the second hypothesis. Since my first hypothesis was partly incorrect, this one is affected by that as well, since I based it partially off my prediction in the first hypothesis. With that being said, I did end up landing on the idea that prominent statistics in All-Stars would generally correlate to team success for those teams that perform well in these statistics on a team level. However, while stats like assist per game and rebounds per game were never looked at on a team level, I was correct in my hypothesis that some statistics wouldn't correlate to team success, even if they were prominent statistics. There were some statistics, such as age, minutes played, and defensive win shares that didn't correlate to team success, and the rankings of teams in these statistics would be very different compared to statistics that did correlate, such as win shares and points per game. This makes sense, as the amount of minutes a team plays in a season doesn't connect to team performance, it is only relevant based on if teams find themselves in overtime situations. Overall, though, this hypothesis wasn't bad, and I think I had good judgment based on my NBA knowledge for this question, and the statistics surprised me (in a good way!).\n",
    "\n",
    "Lastly, my third hypothesis was pretty spot on, which makes sense to me as I feel as if I had the most knowledge about this question compared to the other two. As I said in my hypothesis, teams do not *need* an All-Star, they generally helps. My percentage predictions were nearly spot on, but there was only one team that had no All-Stars that had more than 60 season score, compared to the many, many more that had All-Stars on their squad. I did have an incorrect part of my prediction, though, as I claimed that, if a team has more All-Stars, they will get more wins. This isn't completely true, as my study found, the sweet spot for the number of All-Stars for a great team is 2. While having 3 or 4 raise the floor for team success, the cieling was highest for teams with two All-Stars. Overall, though, I think this research question was easiest to predict, as I am fairly familiar with how good teams were year-to-year since around the 2010s. With this, I know that most successful teams (ones that had high win counts, playoff appearances, and championships) had at least one All-Star on their team. However, I also knew there were some great teams that had no All-Stars whatsoever. It was great to see the stats confirm this, and that completes all three of my statistical hypothesis and I think this challenge goal was more than achieved in this project!\n",
    "\n",
    "### Goal 2 - New Library (Plotly):\n",
    "For this project, I used Plotly in order to represent the data I found into interactive visualizations where specific seasons, satistics, and teams can be seen in order to better represent my results and in order to make the notebook look cleaner in its representation. For each research question, I included multiple plots and graphs (10 total!), which also included bar graphs, line graphs, and scatter plots. For questions #2 and #3, these plots were key in not only helping visualize the data and the processing of data happening, but actually judging correlation between statistics that would have been more difficult otherwise. For question #2, I plotted the correlation between my calculated season scores and the average ranking in prominent statistics. If I didn't have plotly or any other graphing library, I wouldn't have been able to represent these findings properly and it would have been a lot more difficult to get a propery answer for my research questions. In question #3, a similar situation happened where I plotted the season success scores based on the # of All-Stars on the team for that season. This also showed correlation between having All-Stars and finding season success. Again, without Plotly, I wouldn't have been able to answer this question and it would have been harder to visualize my results.\n",
    "\n",
    "My favorite plots in this project are the two correlation graphs mentioned above and the line plot showing team rankings for each of the 6 prominent statistics. I feel like these graphs not only were visually appealing, but also really helpful in terms of showcasing my data. For the other graphs, I tried to use similar color palletes for my bar graphs related to statistical differences, such as my graphs about the # of All-Stars who passed the threshold for a prominent statistic, and the graph that compares team success scores across teams in a season. For all of my graphs, though, I tried it incorporate data that hasn't been shown off yet in order to make it so each part of my study has some sort of representation that can go with it.\n",
    "\n",
    "One nice thing about this project is that I feel as if I have a really good understanding of how Plotly works after finishing this study. It was great to learn the tool and there were a lot of helpful resources (the ones cited below) that were great at teaching how every kind of graph worked with Plotly. I feel very comfortable with Plotly and I believe all of my graphs are key in helping readers visualize my data and my findings! With all of this being said, I believe I achieved this challenge goal and have learned a new library!"
   ]
  },
  {
   "cell_type": "code",
   "execution_count": 1,
   "id": "77c5d696-2e15-4c25-9fdf-b31e535b9c22",
   "metadata": {},
   "outputs": [],
   "source": [
    "sources = [\n",
    "    ## DATASHEETS\n",
    "    # Used for the datasets in this project.\n",
    "    \"https://www.kaggle.com/datasets/sumitrodatta/nba-aba-baa-stats?select=All-Star+Selections.csv\",\n",
    "    # Specific datasheets used from this set:\n",
    "    #  - Advanced.csv\n",
    "    #  - All-Star Selections.csv\n",
    "    #  - Player Per Game.csv\n",
    "    #  - Team Stats Per Game.csv\n",
    "    #  - Team Summaries.csv\n",
    "\n",
    "    # Used for the NBA Finals and MVP.csv datasheet:\n",
    "    \"https://www.kaggle.com/datasets/thedevastator/historical-nba-finals-and-mvp-results\",\n",
    "\n",
    "    ## SPECIFIC LECTURE/SECTION NOTEBOOKS LOOKED AT & THEIR DATE\n",
    "    # Used for reading the csv data,\n",
    "    \"data-frames.ipynb, Data Frames lecture - April 14th\",\n",
    "    # Used for narrowing down columns, getting data from the dataframes\n",
    "    \"groupby-and-indexing, Groupby and Indexing lecture - April 16th\",\n",
    "    # Used for merging the two stat datasheets to create one complete datasheet to use\n",
    "    \"dissolve-intersect-and-join, Dissolve, Intersect, and Join lecture - May 14th\",\n",
    "\n",
    "    ## PLOTLY SOURCES:\n",
    "    # Used to learn PlotLy to represent my data.\n",
    "    \"https://plotly.com/python/\",\n",
    "    # Also used for learning PlotLy\n",
    "    \"https://www.geeksforgeeks.org/python-plotly-tutorial/#how-to-install-plotly\",\n",
    "    # Used to figure out colors when plotting\n",
    "    \"https://plotly.com/python/builtin-colorscales/\",\n",
    "    # Used to figure out line plots in plotly\n",
    "    \"https://plotly.com/python/line-charts/\",\n",
    "    # Used to learn about adding traces to a graph_objects figure\n",
    "    \"https://plotly.com/python/creating-and-updating-figures/\",\n",
    "\n",
    "    ## OUTSIDE SOURCES\n",
    "    # Used to learn .quantile, a DataFrame method that allows me to get the 95% percentile of\n",
    "    # statistics in my data\n",
    "    \"https://pandas.pydata.org/docs/reference/api/pandas.DataFrame.quantile.html\",\n",
    "\n",
    "    # Used to learn .isin(), a DataFrame method that allows me to narrow down rows in a dataset\n",
    "    # to only rows that also appear in a seperate dataset (used in prominent_stats_counter.\n",
    "    \"https://pandas.pydata.org/docs/reference/api/pandas.DataFrame.isin.html\",\n",
    "]"
   ]
  },
  {
   "cell_type": "markdown",
   "id": "e3a9116b-b1c6-424a-a790-037dd3a8a55b",
   "metadata": {},
   "source": [
    "## Data Setting and Methods\n",
    "\n",
    "### Data Sheets used (and what they provide):\n",
    "\n",
    "The datasheets used in this study were provided by Sumitro Datta's [NBA Stats](https://www.kaggle.com/datasets/sumitrodatta/nba-aba-baa-stats/data) datasheet and [this NBA Champion](https://www.kaggle.com/datasets/thedevastator/historical-nba-finals-and-mvp-results/data) datasheet made by user \"The Devastator\".\n",
    "\n",
    "* ### **Advanced.csv**:\n",
    "  * Provides the advanced stats of every player in the NBA from the 1947-2025 seasons.\n",
    "  * Advanced stats are the stats that are calculated through algorithms and are a more advanced representation of basketball.\n",
    "  * Some spaces will be empty (NA) due to some stats not being recorded until later seasons.\n",
    "* ### **All-Star Selections.csv**:\n",
    "  * Provides the names of all of the All-Stars per season since 1951.\n",
    "* ### **Player Per Game.csv**:\n",
    "  * Provides the basic stats of every player in the NBA from the 1947-2025 seasons.\n",
    "  * Basic stats are the stats that are typically shown in box scores and are based on per-game statistics.\n",
    "  * Some spaces will be empty (NA) due to some stats not being recorded until later seasons.\n",
    "* ### **Team Stats Per Game.csv**:\n",
    "  * Provides the basic stats of every player in the NBA from the 1947-2025 seasons.\n",
    "  * Basic stats are the stats that are typically shown in box scores and are based on per-game statistics.\n",
    "  * Some spaces will be empty (NA) due to some stats not being recorded until later seasons.\n",
    "* ### **Team Summaries.csv**:\n",
    "  * Provides a few of the advanced statistics for NBA teams that are able to be tracked by this study.\n",
    "  * Provides some advanced team stats that are connected to individual statistics of players.\n",
    "* ### **NBA Finals and MVP.csv**:\n",
    "  * Provides all of the NBA Champions from the 1950-2024 seasons and the year they won (2025 NBA champion undecided as of 06/09/2025).\n",
    "\n",
    "### Changes to each Data Sheet (and why):\n",
    "* ### **FOR ALL**:\n",
    "  * Narrow the league down to the \"NBA\" only, so no ABA seasons are included.\n",
    "  * Narrow the league down to only the seasons of 1975-2024, as the 1974-75 season was the first season where fans voted for the All-Stars.\n",
    "* ### **Advanced.csv**:\n",
    "  * Removed the columns representing the birth year and the position of players as they are both irrelevant to what is being researched.\n",
    "  * Removed the VORP stat, as there is no good team-equivalent.\n",
    "  * Irrelevant due to this project not using birth years and treating the study as a positionless study.\n",
    "* ### **All-Star Selections.csv**:\n",
    "  * Removed the All-Star team column and the column representing if a player was replaced as they are both irrelevant to what is being researched.\n",
    "  * Irrelevant due to being unrelated to any stats and having no affect on the games.\n",
    "* ### **Player Per Game.csv**:\n",
    "  * Removed the columns for birth year and position of players for same reasons as Advanced.csv.\n",
    "* ### **Team Stats Per Game.csv**:\n",
    "  * Removed the games played for each team, as it won't be necessary for calculating team success.\n",
    "* ### **Team Summaries.csv**:\n",
    "  * Removed stats regarding opponent scores, removed arena details, and removed some general stats that aren't applicable to the study.\n",
    "* ### **NBA Finals and MVP.csv**:\n",
    "  * Only kept the year and name of the team that won the championship for the given year as those are the only pieces of information given that will be useful for this study.\n",
    " \n",
    "After this cleaning, I will **merge the Player Per Game.csv dataset with the Advanced.csv dataset to get a single datasheet for player statistics**, and **do the same for Team Stats Per Game.csv and Team Summaries.csv**."
   ]
  },
  {
   "cell_type": "markdown",
   "id": "81a2fea8-0102-4747-b152-dd3f8aeb0a10",
   "metadata": {},
   "source": [
    "## Code: Initializing and cleaning the individual data sheets."
   ]
  },
  {
   "cell_type": "code",
   "execution_count": 2,
   "id": "9bba4710-1471-4495-83fd-13d9a7786e0e",
   "metadata": {},
   "outputs": [
    {
     "name": "stdout",
     "output_type": "stream",
     "text": [
      "Requirement already satisfied: plotly in c:\\users\\joeyp\\appdata\\local\\rlbotguix\\python37\\lib\\site-packages (5.18.0)\n",
      "Requirement already satisfied: tenacity>=6.2.0 in c:\\users\\joeyp\\appdata\\local\\rlbotguix\\python37\\lib\\site-packages (from plotly) (8.2.3)\n",
      "Requirement already satisfied: packaging in c:\\users\\joeyp\\appdata\\roaming\\python\\python37\\site-packages (from plotly) (24.0)\n",
      "Note: you may need to restart the kernel to use updated packages.\n"
     ]
    },
    {
     "name": "stderr",
     "output_type": "stream",
     "text": [
      "\n",
      "[notice] A new release of pip available: 22.2.2 -> 24.0\n",
      "[notice] To update, run: python.exe -m pip install --upgrade pip\n"
     ]
    },
    {
     "name": "stdout",
     "output_type": "stream",
     "text": [
      "Requirement already satisfied: pandas in c:\\users\\joeyp\\appdata\\local\\rlbotguix\\python37\\lib\\site-packages (1.3.5)\n",
      "Requirement already satisfied: python-dateutil>=2.7.3 in c:\\users\\joeyp\\appdata\\roaming\\python\\python37\\site-packages (from pandas) (2.9.0.post0)\n",
      "Requirement already satisfied: numpy>=1.17.3 in c:\\users\\joeyp\\appdata\\local\\rlbotguix\\python37\\lib\\site-packages (from pandas) (1.21.6)\n",
      "Requirement already satisfied: pytz>=2017.3 in c:\\users\\joeyp\\appdata\\local\\rlbotguix\\python37\\lib\\site-packages (from pandas) (2025.2)\n",
      "Requirement already satisfied: six>=1.5 in c:\\users\\joeyp\\appdata\\roaming\\python\\python37\\site-packages (from python-dateutil>=2.7.3->pandas) (1.17.0)\n",
      "Note: you may need to restart the kernel to use updated packages.\n"
     ]
    },
    {
     "name": "stderr",
     "output_type": "stream",
     "text": [
      "\n",
      "[notice] A new release of pip available: 22.2.2 -> 24.0\n",
      "[notice] To update, run: python.exe -m pip install --upgrade pip\n",
      "\n",
      "[notice] A new release of pip available: 22.2.2 -> 24.0\n",
      "[notice] To update, run: python.exe -m pip install --upgrade pip\n"
     ]
    },
    {
     "name": "stdout",
     "output_type": "stream",
     "text": [
      "Requirement already satisfied: nbformat in c:\\users\\joeyp\\appdata\\local\\rlbotguix\\python37\\lib\\site-packages (5.8.0)\n",
      "Requirement already satisfied: traitlets>=5.1 in c:\\users\\joeyp\\appdata\\roaming\\python\\python37\\site-packages (from nbformat) (5.9.0)\n",
      "Requirement already satisfied: fastjsonschema in c:\\users\\joeyp\\appdata\\local\\rlbotguix\\python37\\lib\\site-packages (from nbformat) (2.21.1)\n",
      "Requirement already satisfied: jupyter-core in c:\\users\\joeyp\\appdata\\roaming\\python\\python37\\site-packages (from nbformat) (4.12.0)\n",
      "Requirement already satisfied: importlib-metadata>=3.6 in c:\\users\\joeyp\\appdata\\local\\rlbotguix\\python37\\lib\\site-packages (from nbformat) (6.7.0)\n",
      "Requirement already satisfied: jsonschema>=2.6 in c:\\users\\joeyp\\appdata\\local\\rlbotguix\\python37\\lib\\site-packages (from nbformat) (4.17.3)\n",
      "Requirement already satisfied: zipp>=0.5 in c:\\users\\joeyp\\appdata\\local\\rlbotguix\\python37\\lib\\site-packages (from importlib-metadata>=3.6->nbformat) (3.15.0)\n",
      "Requirement already satisfied: typing-extensions>=3.6.4 in c:\\users\\joeyp\\appdata\\local\\rlbotguix\\python37\\lib\\site-packages (from importlib-metadata>=3.6->nbformat) (4.2.0)\n",
      "Requirement already satisfied: importlib-resources>=1.4.0 in c:\\users\\joeyp\\appdata\\local\\rlbotguix\\python37\\lib\\site-packages (from jsonschema>=2.6->nbformat) (5.12.0)\n",
      "Requirement already satisfied: pyrsistent!=0.17.0,!=0.17.1,!=0.17.2,>=0.14.0 in c:\\users\\joeyp\\appdata\\local\\rlbotguix\\python37\\lib\\site-packages (from jsonschema>=2.6->nbformat) (0.19.3)\n",
      "Requirement already satisfied: pkgutil-resolve-name>=1.3.10 in c:\\users\\joeyp\\appdata\\local\\rlbotguix\\python37\\lib\\site-packages (from jsonschema>=2.6->nbformat) (1.3.10)\n",
      "Requirement already satisfied: attrs>=17.4.0 in c:\\users\\joeyp\\appdata\\local\\rlbotguix\\python37\\lib\\site-packages (from jsonschema>=2.6->nbformat) (21.4.0)\n",
      "Requirement already satisfied: pywin32>=1.0 in c:\\users\\joeyp\\appdata\\roaming\\python\\python37\\site-packages (from jupyter-core->nbformat) (308)\n",
      "Note: you may need to restart the kernel to use updated packages.\n"
     ]
    }
   ],
   "source": [
    "# First, install dependencies\n",
    "%pip install plotly\n",
    "%pip install pandas\n",
    "%pip install nbformat\n",
    "\n",
    "# Next, import all packages used\n",
    "import pandas as pd\n",
    "import plotly.express as px\n",
    "import plotly.graph_objects as go\n",
    "\n",
    "from pandas.testing import assert_series_equal"
   ]
  },
  {
   "cell_type": "code",
   "execution_count": 3,
   "id": "33cecd7f-eb42-4ef6-bde8-d1283ceb792a",
   "metadata": {},
   "outputs": [],
   "source": [
    "# Reading csvs\n",
    "advanced = pd.read_csv(\"statistics/Advanced.csv\")\n",
    "all_stars = pd.read_csv(\"statistics/All-Star Selections.csv\")\n",
    "nba_champions = pd.read_csv(\"statistics/NBA Finals and MVP.csv\")\n",
    "player_per_game = pd.read_csv(\"statistics/Player Per Game.csv\")\n",
    "team_per_game = pd.read_csv(\"statistics/Team Stats Per Game.csv\")\n",
    "team_advanced = pd.read_csv(\"statistics/Team Summaries.csv\")\n",
    "\n",
    "# Cleaning NBA Finals and MVP.csv *HANDLED SEPERATE DUE TO DIFFERENT LABELS IN DATASHEET\n",
    "nba_champions = nba_champions[[\"Year\", \"NBA Champion\"]]\n",
    "nba_champions = nba_champions[nba_champions[\"Year\"] >= 1975]\n",
    "\n",
    "# Cleaning Advanced.csv\n",
    "advanced = advanced[(advanced[\"season\"] >= 1975) & (advanced[\"lg\"] == \"NBA\")]\n",
    "advanced = advanced.drop([\"birth_year\", \"pos\", \"lg\", \"vorp\"], axis=1)\n",
    "\n",
    "# Cleaning All-Star Selections.csv\n",
    "all_stars = all_stars[(all_stars[\"season\"] >= 1975) & (all_stars[\"lg\"] == \"NBA\")]\n",
    "all_stars = all_stars.drop([\"team\", \"replaced\", \"lg\"], axis=1)\n",
    "\n",
    "# Cleaning Player Per Game.csv\n",
    "player_per_game = player_per_game[(player_per_game[\"season\"] >= 1975) &\n",
    "                                  (player_per_game[\"lg\"] == \"NBA\")]\n",
    "player_per_game = player_per_game.drop([\"birth_year\", \"pos\", \"lg\"], axis=1)\n",
    "\n",
    "# Cleaning Team Stats Per Game.csv\n",
    "team_per_game = team_per_game[(team_per_game[\"season\"] >= 1975) &\n",
    "                              (team_per_game[\"lg\"] == \"NBA\")]\n",
    "team_per_game = team_per_game.drop([\"lg\",\"g\"], axis=1)\n",
    "\n",
    "# Cleaning Team Summaries.csv\n",
    "team_advanced = team_advanced[(team_advanced[\"season\"] >= 1975) &\n",
    "                              (team_advanced[\"lg\"] == \"NBA\")]\n",
    "team_advanced = team_advanced[[\"season\", \"team\", \"abbreviation\", \"age\", \"w\", \"l\", \"o_rtg\",\n",
    "                               \"d_rtg\", \"n_rtg\", \"pace\", \"f_tr\", \"x3p_ar\", \"ts_percent\", \n",
    "                               \"tov_percent\", \"orb_percent\", \"e_fg_percent\"]]\n",
    "\n",
    "# Merging player_per_game and advanced_stats for one single stats sheet\n",
    "columns = [\"seas_id\", \"season\", \"player_id\", \"player\", \"age\", \"experience\", \"tm\", \"g\"]\n",
    "player_stats = player_per_game.merge(advanced, on=columns)\n",
    "\n",
    "columns = [\"season\", \"team\", \"abbreviation\"]\n",
    "team_stats = team_per_game.merge(team_advanced, on=columns)"
   ]
  },
  {
   "cell_type": "markdown",
   "id": "d90f9387-3dd8-4032-bdeb-1732f566cc4f",
   "metadata": {},
   "source": [
    "### Each Stat being recorded and their meaning:\n",
    "In total, we are looking at 52 different statistics, this is a lot and some have confusing names, so let's go through each of them and what they represent!\n",
    "#### Basic statistics (from Player Per Game.csv)\n",
    "* **age**: The age of the player, in years.\n",
    "* **experience**: The number of years a player has been playing in the NBA.\n",
    "* **g**: Games played in a season\n",
    "* **gs**: Games *started* in a season, meaning games where players were on the court at the beginning of a game.\n",
    "* **mp_per_game**: Minutes played per game, the # of minutes someone is playing on the court on average for the season.\n",
    "* **fg_per_game**: Field goals per game, the # of shots a player makes in a game, not counting free-throws.\n",
    "* **fga_per_game**: Field goal attempts per game, the # of shots a player takes in a game, not counting free-throws.\n",
    "* **fg_percent**: Field goal percent, the % of shots made versus the attempts per game.\n",
    "* **x3p_per_game**: # of three-pointers made per game by a player.\n",
    "* **x3pa_per_game**: # of three-pointers attempted per game by a player.\n",
    "* **x3p_percent**: Percentage of three-pointers made per game.\n",
    "* **x2p_per_game**: # of two-pointers made per game by a player.\n",
    "* **x2pa_per_game**: # of two-pointers attempted per game by a player.\n",
    "* **x2p_percent**: Percentage of two-pointers made per game.\n",
    "* **e_fg_percent**: Effective field-goal percentage, field goal percentage that accounts for three-pointers being more valuable.\n",
    "* **ft_per_game**: # of free-throws a player makes per game by a player.\n",
    "* **fta_per_game**: #r of free-throws attempted per game by a player.\n",
    "* **ft_percent**: Percentage of free-throws made per game.\n",
    "* **orb_per_game**: Offensive rebounds per game by a player.\n",
    "* **drb_per_game**: Defensive rebounds per game by a player.\n",
    "* **trb_per_game**: Total rebounds per game by a player.\n",
    "* **ast_per_game**: Assists per game by a player.\n",
    "* **stl_per_game**: Steals per game by a player.\n",
    "* **blk_per_game**: Blocks per game by a player.\n",
    "* **tov_per_game**: Turnovers per game by a player.\n",
    "* **pf_per_game**: Personal fouls per game charged on a player.\n",
    "* **pts_per_game**: Points scored per game by a player.\n",
    "\n",
    "#### Advanced Statistics (from Advanced.csv)\n",
    "* **mp**: Minutes played total in a season.\n",
    "* **per**: Player Efficiency Rating, describes the positive/negative impact a player has compared to their usage.\n",
    "* **ts_percent**: True Shooting Percentage, a calculation of shooting percentage that weights the different types of shots.\n",
    "* **x3p_ar**: The rate of which a player shoots a three-pointer compared to any other shot.\n",
    "* **f_tr**: The rate of which a player shoots a free-throw compared to any other shot.\n",
    "* **orb_percent**: The percentage of offensive rebounds grabbed compared to the # available per game.\n",
    "* **drb_percent**: The percentage of defensive rebounds grabbed compared to the # available per game.\n",
    "* **trb_percent**: The percentage of total rebounds grabbed compared to the # available per game.\n",
    "* **ast_percent**: The percentage of teammate's field goals a player assisted per game.\n",
    "* **stl_percent**: The percentage of steals a player gets compared to their team total per game.\n",
    "* **blk_percent**: The percentage of blocks a player gets compared to their team total per game.\n",
    "* **tov_percent**: The percentage of turnovers a player gets compared to their team total per game.\n",
    "* **usg_percent**: Usage percentage, describes how often a player is used each possession they play in (if they touch the ball)\n",
    "* **ows**: Estimates how much a player contributes to their team winning, based on contributions offensively \n",
    "* **dws**: Estimates how much a player contributes to their team winning, based on contributions defensively\n",
    "* **ws**: Estimates how much a player contributes to their team winning, based on contributions offensively and defensively\n",
    "* **ws_48**: Weights the win-shares to be calculated based on if a player were to play 48 minutes (total minutes in regulation)\n",
    "* **obpm**: Offensive Box Plus-Minus, calculates how much a team scores when a player is on the court.\n",
    "* **dbpm**: Defensive Box Plus-Minus, calculates how much a team gets scored on when a player is on the court.\n",
    "* **bpm**: Box Plus-Minus, calculates how much a team gains/loses a lead when a player is on the court.\n",
    "\n",
    "#### Team-only Statistics (From Team Summaries.csv and Team Stats Per Game.csv)\n",
    "* **o_rtg**: Offensive Rating: How good a team is offensively (Higher the better).\n",
    "* **d_rtg**: Defensive Rating: How good a team is offensively (Lower the better).\n",
    "* **n_rtg**: Net Raing: Offensive rating - defensive rating, how good a team is (Higher the better).\n",
    "* **pace**: Average amount of possessions a team has in a typical 48 minute game.\n",
    "* **f_tr**: Free-throw rate: The frequency in which a team shoots free-throws on a possession that ends in a shot."
   ]
  },
  {
   "cell_type": "markdown",
   "id": "f1b83801-6b6f-4ee4-829e-7a1a2c026f4e",
   "metadata": {},
   "source": [
    "### Testing Data\n",
    "In order to make sure the program is working properly, I made this basic stat sheet using rows from the large datasheet in order to test for effectiveness. I included players that played in 2024 and/or 2023, which are the seasons we will be using for the tests. I also picked six random teams that had different performances in the 2023 and 2024 seasons, which will be used for testing for the later research questions that involve team statistics."
   ]
  },
  {
   "cell_type": "code",
   "execution_count": 4,
   "id": "181c00b4-ac94-47e1-8e14-871bc82599a2",
   "metadata": {},
   "outputs": [],
   "source": [
    "# Random Assortment of players, including some All-Stars\n",
    "test_data = player_stats[(player_stats[\"player\"] == \"Anthony Edwards\") |\n",
    "                         (player_stats[\"player\"] == \"Victor Wembanyama\") |\n",
    "                         (player_stats[\"player\"] == \"Ja Morant\") |\n",
    "                         (player_stats[\"player\"] == \"LaMelo Ball\") |\n",
    "                         (player_stats[\"player\"] == \"Scottie Barnes\") |\n",
    "                         (player_stats[\"player\"] == \"Herbert Jones\") |\n",
    "                         (player_stats[\"player\"] == \"Paolo Banchero\") |\n",
    "                         (player_stats[\"player\"] == \"Kobe Bufkin\")]\n",
    "# Random Assortment of teams\n",
    "team_test_data = team_stats[(team_stats[\"team\"] == \"Boston Celtics\") |\n",
    "                            (team_stats[\"team\"] == \"Detroit Pistons\") |\n",
    "                            (team_stats[\"team\"] == \"Miami Heat\") |\n",
    "                            (team_stats[\"team\"] == \"Minnesota Timberwolves\") |\n",
    "                            (team_stats[\"team\"] == \"San Antonio Spurs\") |\n",
    "                            (team_stats[\"team\"] == \"Washington Wizards\")]\n",
    "# Narrow down to just the seasons being used\n",
    "test_data = test_data[(test_data[\"season\"] == 2024) |\n",
    "                      (test_data[\"season\"] == 2023)]\n",
    "team_test_data = team_test_data[(team_test_data[\"season\"] == 2024) |\n",
    "                                (team_test_data[\"season\"] == 2023)]"
   ]
  },
  {
   "cell_type": "code",
   "execution_count": 5,
   "id": "0d82c13e-9651-4556-858a-12dfcc8fbb18",
   "metadata": {},
   "outputs": [
    {
     "data": {
      "text/html": [
       "<div>\n",
       "<style scoped>\n",
       "    .dataframe tbody tr th:only-of-type {\n",
       "        vertical-align: middle;\n",
       "    }\n",
       "\n",
       "    .dataframe tbody tr th {\n",
       "        vertical-align: top;\n",
       "    }\n",
       "\n",
       "    .dataframe thead th {\n",
       "        text-align: right;\n",
       "    }\n",
       "</style>\n",
       "<table border=\"1\" class=\"dataframe\">\n",
       "  <thead>\n",
       "    <tr style=\"text-align: right;\">\n",
       "      <th></th>\n",
       "      <th>seas_id</th>\n",
       "      <th>season</th>\n",
       "      <th>player_id</th>\n",
       "      <th>player</th>\n",
       "      <th>age</th>\n",
       "      <th>experience</th>\n",
       "      <th>tm</th>\n",
       "      <th>g</th>\n",
       "      <th>gs</th>\n",
       "      <th>mp_per_game</th>\n",
       "      <th>...</th>\n",
       "      <th>blk_percent</th>\n",
       "      <th>tov_percent</th>\n",
       "      <th>usg_percent</th>\n",
       "      <th>ows</th>\n",
       "      <th>dws</th>\n",
       "      <th>ws</th>\n",
       "      <th>ws_48</th>\n",
       "      <th>obpm</th>\n",
       "      <th>dbpm</th>\n",
       "      <th>bpm</th>\n",
       "    </tr>\n",
       "  </thead>\n",
       "  <tbody>\n",
       "    <tr>\n",
       "      <th>770</th>\n",
       "      <td>31171.0</td>\n",
       "      <td>2024</td>\n",
       "      <td>4808.0</td>\n",
       "      <td>Anthony Edwards</td>\n",
       "      <td>22.0</td>\n",
       "      <td>4</td>\n",
       "      <td>MIN</td>\n",
       "      <td>79</td>\n",
       "      <td>78.0</td>\n",
       "      <td>35.1</td>\n",
       "      <td>...</td>\n",
       "      <td>1.3</td>\n",
       "      <td>11.9</td>\n",
       "      <td>32.3</td>\n",
       "      <td>2.9</td>\n",
       "      <td>4.7</td>\n",
       "      <td>7.5</td>\n",
       "      <td>0.130</td>\n",
       "      <td>2.7</td>\n",
       "      <td>0.5</td>\n",
       "      <td>3.3</td>\n",
       "    </tr>\n",
       "    <tr>\n",
       "      <th>984</th>\n",
       "      <td>31385.0</td>\n",
       "      <td>2024</td>\n",
       "      <td>4939.0</td>\n",
       "      <td>Herbert Jones</td>\n",
       "      <td>25.0</td>\n",
       "      <td>3</td>\n",
       "      <td>NOP</td>\n",
       "      <td>76</td>\n",
       "      <td>76.0</td>\n",
       "      <td>30.5</td>\n",
       "      <td>...</td>\n",
       "      <td>2.6</td>\n",
       "      <td>12.4</td>\n",
       "      <td>14.1</td>\n",
       "      <td>3.3</td>\n",
       "      <td>3.0</td>\n",
       "      <td>6.3</td>\n",
       "      <td>0.131</td>\n",
       "      <td>-0.9</td>\n",
       "      <td>1.5</td>\n",
       "      <td>0.6</td>\n",
       "    </tr>\n",
       "    <tr>\n",
       "      <th>1007</th>\n",
       "      <td>31408.0</td>\n",
       "      <td>2024</td>\n",
       "      <td>4723.0</td>\n",
       "      <td>Ja Morant</td>\n",
       "      <td>24.0</td>\n",
       "      <td>5</td>\n",
       "      <td>MEM</td>\n",
       "      <td>9</td>\n",
       "      <td>9.0</td>\n",
       "      <td>35.3</td>\n",
       "      <td>...</td>\n",
       "      <td>1.5</td>\n",
       "      <td>12.0</td>\n",
       "      <td>30.4</td>\n",
       "      <td>0.5</td>\n",
       "      <td>0.3</td>\n",
       "      <td>0.8</td>\n",
       "      <td>0.124</td>\n",
       "      <td>2.7</td>\n",
       "      <td>0.4</td>\n",
       "      <td>3.1</td>\n",
       "    </tr>\n",
       "    <tr>\n",
       "      <th>1166</th>\n",
       "      <td>31567.0</td>\n",
       "      <td>2024</td>\n",
       "      <td>5172.0</td>\n",
       "      <td>Kobe Bufkin</td>\n",
       "      <td>20.0</td>\n",
       "      <td>1</td>\n",
       "      <td>ATL</td>\n",
       "      <td>17</td>\n",
       "      <td>0.0</td>\n",
       "      <td>11.5</td>\n",
       "      <td>...</td>\n",
       "      <td>2.3</td>\n",
       "      <td>9.5</td>\n",
       "      <td>22.4</td>\n",
       "      <td>-0.3</td>\n",
       "      <td>0.1</td>\n",
       "      <td>-0.1</td>\n",
       "      <td>-0.031</td>\n",
       "      <td>-4.3</td>\n",
       "      <td>-0.2</td>\n",
       "      <td>-4.5</td>\n",
       "    </tr>\n",
       "    <tr>\n",
       "      <th>1177</th>\n",
       "      <td>31578.0</td>\n",
       "      <td>2024</td>\n",
       "      <td>4858.0</td>\n",
       "      <td>LaMelo Ball</td>\n",
       "      <td>22.0</td>\n",
       "      <td>4</td>\n",
       "      <td>CHO</td>\n",
       "      <td>22</td>\n",
       "      <td>22.0</td>\n",
       "      <td>32.3</td>\n",
       "      <td>...</td>\n",
       "      <td>0.5</td>\n",
       "      <td>15.0</td>\n",
       "      <td>34.3</td>\n",
       "      <td>0.6</td>\n",
       "      <td>0.5</td>\n",
       "      <td>1.1</td>\n",
       "      <td>0.074</td>\n",
       "      <td>3.8</td>\n",
       "      <td>-0.5</td>\n",
       "      <td>3.3</td>\n",
       "    </tr>\n",
       "    <tr>\n",
       "      <th>1299</th>\n",
       "      <td>31700.0</td>\n",
       "      <td>2024</td>\n",
       "      <td>5089.0</td>\n",
       "      <td>Paolo Banchero</td>\n",
       "      <td>21.0</td>\n",
       "      <td>2</td>\n",
       "      <td>ORL</td>\n",
       "      <td>80</td>\n",
       "      <td>80.0</td>\n",
       "      <td>35.0</td>\n",
       "      <td>...</td>\n",
       "      <td>1.6</td>\n",
       "      <td>13.0</td>\n",
       "      <td>29.7</td>\n",
       "      <td>1.3</td>\n",
       "      <td>4.0</td>\n",
       "      <td>5.3</td>\n",
       "      <td>0.090</td>\n",
       "      <td>1.3</td>\n",
       "      <td>0.0</td>\n",
       "      <td>1.3</td>\n",
       "    </tr>\n",
       "    <tr>\n",
       "      <th>1361</th>\n",
       "      <td>31762.0</td>\n",
       "      <td>2024</td>\n",
       "      <td>5006.0</td>\n",
       "      <td>Scottie Barnes</td>\n",
       "      <td>22.0</td>\n",
       "      <td>3</td>\n",
       "      <td>TOR</td>\n",
       "      <td>60</td>\n",
       "      <td>60.0</td>\n",
       "      <td>34.9</td>\n",
       "      <td>...</td>\n",
       "      <td>3.7</td>\n",
       "      <td>13.6</td>\n",
       "      <td>24.8</td>\n",
       "      <td>2.3</td>\n",
       "      <td>2.0</td>\n",
       "      <td>4.3</td>\n",
       "      <td>0.098</td>\n",
       "      <td>2.9</td>\n",
       "      <td>0.8</td>\n",
       "      <td>3.7</td>\n",
       "    </tr>\n",
       "    <tr>\n",
       "      <th>1449</th>\n",
       "      <td>31850.0</td>\n",
       "      <td>2024</td>\n",
       "      <td>5209.0</td>\n",
       "      <td>Victor Wembanyama</td>\n",
       "      <td>20.0</td>\n",
       "      <td>1</td>\n",
       "      <td>SAS</td>\n",
       "      <td>71</td>\n",
       "      <td>71.0</td>\n",
       "      <td>29.7</td>\n",
       "      <td>...</td>\n",
       "      <td>10.0</td>\n",
       "      <td>16.2</td>\n",
       "      <td>32.2</td>\n",
       "      <td>-0.7</td>\n",
       "      <td>4.4</td>\n",
       "      <td>3.7</td>\n",
       "      <td>0.085</td>\n",
       "      <td>1.9</td>\n",
       "      <td>3.3</td>\n",
       "      <td>5.2</td>\n",
       "    </tr>\n",
       "    <tr>\n",
       "      <th>1495</th>\n",
       "      <td>30483.0</td>\n",
       "      <td>2023</td>\n",
       "      <td>4808.0</td>\n",
       "      <td>Anthony Edwards</td>\n",
       "      <td>21.0</td>\n",
       "      <td>3</td>\n",
       "      <td>MIN</td>\n",
       "      <td>79</td>\n",
       "      <td>79.0</td>\n",
       "      <td>36.0</td>\n",
       "      <td>...</td>\n",
       "      <td>1.8</td>\n",
       "      <td>13.0</td>\n",
       "      <td>29.9</td>\n",
       "      <td>0.2</td>\n",
       "      <td>3.6</td>\n",
       "      <td>3.8</td>\n",
       "      <td>0.064</td>\n",
       "      <td>1.0</td>\n",
       "      <td>0.0</td>\n",
       "      <td>1.0</td>\n",
       "    </tr>\n",
       "    <tr>\n",
       "      <th>1692</th>\n",
       "      <td>30680.0</td>\n",
       "      <td>2023</td>\n",
       "      <td>4939.0</td>\n",
       "      <td>Herbert Jones</td>\n",
       "      <td>24.0</td>\n",
       "      <td>2</td>\n",
       "      <td>NOP</td>\n",
       "      <td>66</td>\n",
       "      <td>66.0</td>\n",
       "      <td>29.6</td>\n",
       "      <td>...</td>\n",
       "      <td>2.1</td>\n",
       "      <td>13.3</td>\n",
       "      <td>14.5</td>\n",
       "      <td>1.5</td>\n",
       "      <td>2.7</td>\n",
       "      <td>4.2</td>\n",
       "      <td>0.104</td>\n",
       "      <td>-2.0</td>\n",
       "      <td>1.7</td>\n",
       "      <td>-0.3</td>\n",
       "    </tr>\n",
       "    <tr>\n",
       "      <th>1708</th>\n",
       "      <td>30696.0</td>\n",
       "      <td>2023</td>\n",
       "      <td>4723.0</td>\n",
       "      <td>Ja Morant</td>\n",
       "      <td>23.0</td>\n",
       "      <td>4</td>\n",
       "      <td>MEM</td>\n",
       "      <td>61</td>\n",
       "      <td>59.0</td>\n",
       "      <td>31.9</td>\n",
       "      <td>...</td>\n",
       "      <td>0.7</td>\n",
       "      <td>12.6</td>\n",
       "      <td>34.9</td>\n",
       "      <td>3.4</td>\n",
       "      <td>2.6</td>\n",
       "      <td>6.0</td>\n",
       "      <td>0.148</td>\n",
       "      <td>5.2</td>\n",
       "      <td>0.5</td>\n",
       "      <td>5.7</td>\n",
       "    </tr>\n",
       "    <tr>\n",
       "      <th>1879</th>\n",
       "      <td>30867.0</td>\n",
       "      <td>2023</td>\n",
       "      <td>4858.0</td>\n",
       "      <td>LaMelo Ball</td>\n",
       "      <td>21.0</td>\n",
       "      <td>3</td>\n",
       "      <td>CHO</td>\n",
       "      <td>36</td>\n",
       "      <td>36.0</td>\n",
       "      <td>35.2</td>\n",
       "      <td>...</td>\n",
       "      <td>0.8</td>\n",
       "      <td>14.3</td>\n",
       "      <td>30.0</td>\n",
       "      <td>0.6</td>\n",
       "      <td>1.2</td>\n",
       "      <td>1.8</td>\n",
       "      <td>0.068</td>\n",
       "      <td>3.2</td>\n",
       "      <td>-0.8</td>\n",
       "      <td>2.4</td>\n",
       "    </tr>\n",
       "    <tr>\n",
       "      <th>1994</th>\n",
       "      <td>30982.0</td>\n",
       "      <td>2023</td>\n",
       "      <td>5089.0</td>\n",
       "      <td>Paolo Banchero</td>\n",
       "      <td>20.0</td>\n",
       "      <td>1</td>\n",
       "      <td>ORL</td>\n",
       "      <td>72</td>\n",
       "      <td>72.0</td>\n",
       "      <td>33.8</td>\n",
       "      <td>...</td>\n",
       "      <td>1.5</td>\n",
       "      <td>12.8</td>\n",
       "      <td>27.5</td>\n",
       "      <td>-0.3</td>\n",
       "      <td>2.6</td>\n",
       "      <td>2.4</td>\n",
       "      <td>0.047</td>\n",
       "      <td>-0.7</td>\n",
       "      <td>-0.7</td>\n",
       "      <td>-1.5</td>\n",
       "    </tr>\n",
       "    <tr>\n",
       "      <th>2053</th>\n",
       "      <td>31041.0</td>\n",
       "      <td>2023</td>\n",
       "      <td>5006.0</td>\n",
       "      <td>Scottie Barnes</td>\n",
       "      <td>21.0</td>\n",
       "      <td>2</td>\n",
       "      <td>TOR</td>\n",
       "      <td>77</td>\n",
       "      <td>76.0</td>\n",
       "      <td>34.8</td>\n",
       "      <td>...</td>\n",
       "      <td>2.2</td>\n",
       "      <td>12.0</td>\n",
       "      <td>20.3</td>\n",
       "      <td>2.3</td>\n",
       "      <td>2.7</td>\n",
       "      <td>5.0</td>\n",
       "      <td>0.090</td>\n",
       "      <td>0.5</td>\n",
       "      <td>-0.1</td>\n",
       "      <td>0.4</td>\n",
       "    </tr>\n",
       "  </tbody>\n",
       "</table>\n",
       "<p>14 rows × 52 columns</p>\n",
       "</div>"
      ],
      "text/plain": [
       "      seas_id  season  player_id             player   age  experience   tm  \\\n",
       "770   31171.0    2024     4808.0    Anthony Edwards  22.0           4  MIN   \n",
       "984   31385.0    2024     4939.0      Herbert Jones  25.0           3  NOP   \n",
       "1007  31408.0    2024     4723.0          Ja Morant  24.0           5  MEM   \n",
       "1166  31567.0    2024     5172.0        Kobe Bufkin  20.0           1  ATL   \n",
       "1177  31578.0    2024     4858.0        LaMelo Ball  22.0           4  CHO   \n",
       "1299  31700.0    2024     5089.0     Paolo Banchero  21.0           2  ORL   \n",
       "1361  31762.0    2024     5006.0     Scottie Barnes  22.0           3  TOR   \n",
       "1449  31850.0    2024     5209.0  Victor Wembanyama  20.0           1  SAS   \n",
       "1495  30483.0    2023     4808.0    Anthony Edwards  21.0           3  MIN   \n",
       "1692  30680.0    2023     4939.0      Herbert Jones  24.0           2  NOP   \n",
       "1708  30696.0    2023     4723.0          Ja Morant  23.0           4  MEM   \n",
       "1879  30867.0    2023     4858.0        LaMelo Ball  21.0           3  CHO   \n",
       "1994  30982.0    2023     5089.0     Paolo Banchero  20.0           1  ORL   \n",
       "2053  31041.0    2023     5006.0     Scottie Barnes  21.0           2  TOR   \n",
       "\n",
       "       g    gs  mp_per_game  ...  blk_percent  tov_percent  usg_percent  ows  \\\n",
       "770   79  78.0         35.1  ...          1.3         11.9         32.3  2.9   \n",
       "984   76  76.0         30.5  ...          2.6         12.4         14.1  3.3   \n",
       "1007   9   9.0         35.3  ...          1.5         12.0         30.4  0.5   \n",
       "1166  17   0.0         11.5  ...          2.3          9.5         22.4 -0.3   \n",
       "1177  22  22.0         32.3  ...          0.5         15.0         34.3  0.6   \n",
       "1299  80  80.0         35.0  ...          1.6         13.0         29.7  1.3   \n",
       "1361  60  60.0         34.9  ...          3.7         13.6         24.8  2.3   \n",
       "1449  71  71.0         29.7  ...         10.0         16.2         32.2 -0.7   \n",
       "1495  79  79.0         36.0  ...          1.8         13.0         29.9  0.2   \n",
       "1692  66  66.0         29.6  ...          2.1         13.3         14.5  1.5   \n",
       "1708  61  59.0         31.9  ...          0.7         12.6         34.9  3.4   \n",
       "1879  36  36.0         35.2  ...          0.8         14.3         30.0  0.6   \n",
       "1994  72  72.0         33.8  ...          1.5         12.8         27.5 -0.3   \n",
       "2053  77  76.0         34.8  ...          2.2         12.0         20.3  2.3   \n",
       "\n",
       "      dws   ws  ws_48  obpm  dbpm  bpm  \n",
       "770   4.7  7.5  0.130   2.7   0.5  3.3  \n",
       "984   3.0  6.3  0.131  -0.9   1.5  0.6  \n",
       "1007  0.3  0.8  0.124   2.7   0.4  3.1  \n",
       "1166  0.1 -0.1 -0.031  -4.3  -0.2 -4.5  \n",
       "1177  0.5  1.1  0.074   3.8  -0.5  3.3  \n",
       "1299  4.0  5.3  0.090   1.3   0.0  1.3  \n",
       "1361  2.0  4.3  0.098   2.9   0.8  3.7  \n",
       "1449  4.4  3.7  0.085   1.9   3.3  5.2  \n",
       "1495  3.6  3.8  0.064   1.0   0.0  1.0  \n",
       "1692  2.7  4.2  0.104  -2.0   1.7 -0.3  \n",
       "1708  2.6  6.0  0.148   5.2   0.5  5.7  \n",
       "1879  1.2  1.8  0.068   3.2  -0.8  2.4  \n",
       "1994  2.6  2.4  0.047  -0.7  -0.7 -1.5  \n",
       "2053  2.7  5.0  0.090   0.5  -0.1  0.4  \n",
       "\n",
       "[14 rows x 52 columns]"
      ]
     },
     "execution_count": 5,
     "metadata": {},
     "output_type": "execute_result"
    }
   ],
   "source": [
    "# Player Test Data\n",
    "test_data"
   ]
  },
  {
   "cell_type": "code",
   "execution_count": 6,
   "id": "d7724822-1dda-44c6-8e7b-01b9f439e0cb",
   "metadata": {},
   "outputs": [
    {
     "data": {
      "text/html": [
       "<div>\n",
       "<style scoped>\n",
       "    .dataframe tbody tr th:only-of-type {\n",
       "        vertical-align: middle;\n",
       "    }\n",
       "\n",
       "    .dataframe tbody tr th {\n",
       "        vertical-align: top;\n",
       "    }\n",
       "\n",
       "    .dataframe thead th {\n",
       "        text-align: right;\n",
       "    }\n",
       "</style>\n",
       "<table border=\"1\" class=\"dataframe\">\n",
       "  <thead>\n",
       "    <tr style=\"text-align: right;\">\n",
       "      <th></th>\n",
       "      <th>season</th>\n",
       "      <th>team</th>\n",
       "      <th>abbreviation</th>\n",
       "      <th>playoffs</th>\n",
       "      <th>mp_per_game</th>\n",
       "      <th>fg_per_game</th>\n",
       "      <th>fga_per_game</th>\n",
       "      <th>fg_percent</th>\n",
       "      <th>x3p_per_game</th>\n",
       "      <th>x3pa_per_game</th>\n",
       "      <th>...</th>\n",
       "      <th>o_rtg</th>\n",
       "      <th>d_rtg</th>\n",
       "      <th>n_rtg</th>\n",
       "      <th>pace</th>\n",
       "      <th>f_tr</th>\n",
       "      <th>x3p_ar</th>\n",
       "      <th>ts_percent</th>\n",
       "      <th>tov_percent</th>\n",
       "      <th>orb_percent</th>\n",
       "      <th>e_fg_percent</th>\n",
       "    </tr>\n",
       "  </thead>\n",
       "  <tbody>\n",
       "    <tr>\n",
       "      <th>32</th>\n",
       "      <td>2024</td>\n",
       "      <td>Boston Celtics</td>\n",
       "      <td>BOS</td>\n",
       "      <td>True</td>\n",
       "      <td>241.8</td>\n",
       "      <td>43.9</td>\n",
       "      <td>90.2</td>\n",
       "      <td>0.487</td>\n",
       "      <td>16.5</td>\n",
       "      <td>42.5</td>\n",
       "      <td>...</td>\n",
       "      <td>123.2</td>\n",
       "      <td>111.6</td>\n",
       "      <td>11.6</td>\n",
       "      <td>97.2</td>\n",
       "      <td>0.224</td>\n",
       "      <td>0.471</td>\n",
       "      <td>0.609</td>\n",
       "      <td>10.8</td>\n",
       "      <td>24.9</td>\n",
       "      <td>0.578</td>\n",
       "    </tr>\n",
       "    <tr>\n",
       "      <th>39</th>\n",
       "      <td>2024</td>\n",
       "      <td>Detroit Pistons</td>\n",
       "      <td>DET</td>\n",
       "      <td>False</td>\n",
       "      <td>240.9</td>\n",
       "      <td>40.9</td>\n",
       "      <td>88.2</td>\n",
       "      <td>0.463</td>\n",
       "      <td>11.0</td>\n",
       "      <td>31.7</td>\n",
       "      <td>...</td>\n",
       "      <td>109.7</td>\n",
       "      <td>118.8</td>\n",
       "      <td>-9.1</td>\n",
       "      <td>99.8</td>\n",
       "      <td>0.246</td>\n",
       "      <td>0.360</td>\n",
       "      <td>0.562</td>\n",
       "      <td>13.5</td>\n",
       "      <td>23.9</td>\n",
       "      <td>0.526</td>\n",
       "    </tr>\n",
       "    <tr>\n",
       "      <th>46</th>\n",
       "      <td>2024</td>\n",
       "      <td>Miami Heat</td>\n",
       "      <td>MIA</td>\n",
       "      <td>True</td>\n",
       "      <td>240.9</td>\n",
       "      <td>39.8</td>\n",
       "      <td>85.6</td>\n",
       "      <td>0.465</td>\n",
       "      <td>12.5</td>\n",
       "      <td>33.7</td>\n",
       "      <td>...</td>\n",
       "      <td>114.0</td>\n",
       "      <td>112.2</td>\n",
       "      <td>1.8</td>\n",
       "      <td>96.2</td>\n",
       "      <td>0.257</td>\n",
       "      <td>0.394</td>\n",
       "      <td>0.578</td>\n",
       "      <td>11.7</td>\n",
       "      <td>21.8</td>\n",
       "      <td>0.538</td>\n",
       "    </tr>\n",
       "    <tr>\n",
       "      <th>48</th>\n",
       "      <td>2024</td>\n",
       "      <td>Minnesota Timberwolves</td>\n",
       "      <td>MIN</td>\n",
       "      <td>True</td>\n",
       "      <td>241.5</td>\n",
       "      <td>41.3</td>\n",
       "      <td>85.0</td>\n",
       "      <td>0.485</td>\n",
       "      <td>12.6</td>\n",
       "      <td>32.7</td>\n",
       "      <td>...</td>\n",
       "      <td>115.6</td>\n",
       "      <td>109.0</td>\n",
       "      <td>6.6</td>\n",
       "      <td>97.1</td>\n",
       "      <td>0.270</td>\n",
       "      <td>0.384</td>\n",
       "      <td>0.594</td>\n",
       "      <td>13.0</td>\n",
       "      <td>23.2</td>\n",
       "      <td>0.559</td>\n",
       "    </tr>\n",
       "    <tr>\n",
       "      <th>57</th>\n",
       "      <td>2024</td>\n",
       "      <td>San Antonio Spurs</td>\n",
       "      <td>SAS</td>\n",
       "      <td>False</td>\n",
       "      <td>241.8</td>\n",
       "      <td>41.9</td>\n",
       "      <td>90.7</td>\n",
       "      <td>0.462</td>\n",
       "      <td>12.6</td>\n",
       "      <td>36.4</td>\n",
       "      <td>...</td>\n",
       "      <td>110.0</td>\n",
       "      <td>116.4</td>\n",
       "      <td>-6.4</td>\n",
       "      <td>101.1</td>\n",
       "      <td>0.220</td>\n",
       "      <td>0.401</td>\n",
       "      <td>0.563</td>\n",
       "      <td>13.2</td>\n",
       "      <td>22.9</td>\n",
       "      <td>0.532</td>\n",
       "    </tr>\n",
       "    <tr>\n",
       "      <th>60</th>\n",
       "      <td>2024</td>\n",
       "      <td>Washington Wizards</td>\n",
       "      <td>WAS</td>\n",
       "      <td>False</td>\n",
       "      <td>240.6</td>\n",
       "      <td>43.0</td>\n",
       "      <td>91.4</td>\n",
       "      <td>0.470</td>\n",
       "      <td>12.4</td>\n",
       "      <td>35.5</td>\n",
       "      <td>...</td>\n",
       "      <td>110.5</td>\n",
       "      <td>119.6</td>\n",
       "      <td>-9.1</td>\n",
       "      <td>102.7</td>\n",
       "      <td>0.221</td>\n",
       "      <td>0.389</td>\n",
       "      <td>0.567</td>\n",
       "      <td>12.2</td>\n",
       "      <td>20.0</td>\n",
       "      <td>0.538</td>\n",
       "    </tr>\n",
       "    <tr>\n",
       "      <th>63</th>\n",
       "      <td>2023</td>\n",
       "      <td>Boston Celtics</td>\n",
       "      <td>BOS</td>\n",
       "      <td>False</td>\n",
       "      <td>243.7</td>\n",
       "      <td>42.2</td>\n",
       "      <td>88.8</td>\n",
       "      <td>0.475</td>\n",
       "      <td>16.0</td>\n",
       "      <td>42.6</td>\n",
       "      <td>...</td>\n",
       "      <td>118.0</td>\n",
       "      <td>111.5</td>\n",
       "      <td>6.5</td>\n",
       "      <td>98.5</td>\n",
       "      <td>0.243</td>\n",
       "      <td>0.480</td>\n",
       "      <td>0.600</td>\n",
       "      <td>12.0</td>\n",
       "      <td>22.1</td>\n",
       "      <td>0.566</td>\n",
       "    </tr>\n",
       "    <tr>\n",
       "      <th>70</th>\n",
       "      <td>2023</td>\n",
       "      <td>Detroit Pistons</td>\n",
       "      <td>DET</td>\n",
       "      <td>False</td>\n",
       "      <td>241.5</td>\n",
       "      <td>39.6</td>\n",
       "      <td>87.1</td>\n",
       "      <td>0.454</td>\n",
       "      <td>11.4</td>\n",
       "      <td>32.4</td>\n",
       "      <td>...</td>\n",
       "      <td>110.7</td>\n",
       "      <td>118.9</td>\n",
       "      <td>-8.2</td>\n",
       "      <td>99.0</td>\n",
       "      <td>0.295</td>\n",
       "      <td>0.372</td>\n",
       "      <td>0.561</td>\n",
       "      <td>13.3</td>\n",
       "      <td>24.9</td>\n",
       "      <td>0.520</td>\n",
       "    </tr>\n",
       "    <tr>\n",
       "      <th>77</th>\n",
       "      <td>2023</td>\n",
       "      <td>Miami Heat</td>\n",
       "      <td>MIA</td>\n",
       "      <td>False</td>\n",
       "      <td>241.5</td>\n",
       "      <td>39.2</td>\n",
       "      <td>85.3</td>\n",
       "      <td>0.460</td>\n",
       "      <td>12.0</td>\n",
       "      <td>34.8</td>\n",
       "      <td>...</td>\n",
       "      <td>113.0</td>\n",
       "      <td>113.3</td>\n",
       "      <td>-0.3</td>\n",
       "      <td>96.3</td>\n",
       "      <td>0.270</td>\n",
       "      <td>0.408</td>\n",
       "      <td>0.574</td>\n",
       "      <td>12.4</td>\n",
       "      <td>22.8</td>\n",
       "      <td>0.530</td>\n",
       "    </tr>\n",
       "    <tr>\n",
       "      <th>79</th>\n",
       "      <td>2023</td>\n",
       "      <td>Minnesota Timberwolves</td>\n",
       "      <td>MIN</td>\n",
       "      <td>False</td>\n",
       "      <td>241.8</td>\n",
       "      <td>42.9</td>\n",
       "      <td>87.4</td>\n",
       "      <td>0.490</td>\n",
       "      <td>12.2</td>\n",
       "      <td>33.3</td>\n",
       "      <td>...</td>\n",
       "      <td>113.7</td>\n",
       "      <td>113.8</td>\n",
       "      <td>-0.1</td>\n",
       "      <td>101.0</td>\n",
       "      <td>0.271</td>\n",
       "      <td>0.381</td>\n",
       "      <td>0.592</td>\n",
       "      <td>13.6</td>\n",
       "      <td>21.5</td>\n",
       "      <td>0.560</td>\n",
       "    </tr>\n",
       "    <tr>\n",
       "      <th>88</th>\n",
       "      <td>2023</td>\n",
       "      <td>San Antonio Spurs</td>\n",
       "      <td>SAS</td>\n",
       "      <td>False</td>\n",
       "      <td>242.1</td>\n",
       "      <td>43.1</td>\n",
       "      <td>92.6</td>\n",
       "      <td>0.465</td>\n",
       "      <td>11.1</td>\n",
       "      <td>32.2</td>\n",
       "      <td>...</td>\n",
       "      <td>110.2</td>\n",
       "      <td>120.0</td>\n",
       "      <td>-9.8</td>\n",
       "      <td>101.6</td>\n",
       "      <td>0.229</td>\n",
       "      <td>0.348</td>\n",
       "      <td>0.554</td>\n",
       "      <td>13.0</td>\n",
       "      <td>25.6</td>\n",
       "      <td>0.525</td>\n",
       "    </tr>\n",
       "    <tr>\n",
       "      <th>91</th>\n",
       "      <td>2023</td>\n",
       "      <td>Washington Wizards</td>\n",
       "      <td>WAS</td>\n",
       "      <td>False</td>\n",
       "      <td>240.9</td>\n",
       "      <td>42.1</td>\n",
       "      <td>86.9</td>\n",
       "      <td>0.485</td>\n",
       "      <td>11.3</td>\n",
       "      <td>31.7</td>\n",
       "      <td>...</td>\n",
       "      <td>114.4</td>\n",
       "      <td>115.6</td>\n",
       "      <td>-1.2</td>\n",
       "      <td>98.5</td>\n",
       "      <td>0.258</td>\n",
       "      <td>0.365</td>\n",
       "      <td>0.585</td>\n",
       "      <td>12.7</td>\n",
       "      <td>22.6</td>\n",
       "      <td>0.550</td>\n",
       "    </tr>\n",
       "  </tbody>\n",
       "</table>\n",
       "<p>12 rows × 39 columns</p>\n",
       "</div>"
      ],
      "text/plain": [
       "    season                    team abbreviation  playoffs  mp_per_game  \\\n",
       "32    2024          Boston Celtics          BOS      True        241.8   \n",
       "39    2024         Detroit Pistons          DET     False        240.9   \n",
       "46    2024              Miami Heat          MIA      True        240.9   \n",
       "48    2024  Minnesota Timberwolves          MIN      True        241.5   \n",
       "57    2024       San Antonio Spurs          SAS     False        241.8   \n",
       "60    2024      Washington Wizards          WAS     False        240.6   \n",
       "63    2023          Boston Celtics          BOS     False        243.7   \n",
       "70    2023         Detroit Pistons          DET     False        241.5   \n",
       "77    2023              Miami Heat          MIA     False        241.5   \n",
       "79    2023  Minnesota Timberwolves          MIN     False        241.8   \n",
       "88    2023       San Antonio Spurs          SAS     False        242.1   \n",
       "91    2023      Washington Wizards          WAS     False        240.9   \n",
       "\n",
       "    fg_per_game  fga_per_game  fg_percent  x3p_per_game  x3pa_per_game  ...  \\\n",
       "32         43.9          90.2       0.487          16.5           42.5  ...   \n",
       "39         40.9          88.2       0.463          11.0           31.7  ...   \n",
       "46         39.8          85.6       0.465          12.5           33.7  ...   \n",
       "48         41.3          85.0       0.485          12.6           32.7  ...   \n",
       "57         41.9          90.7       0.462          12.6           36.4  ...   \n",
       "60         43.0          91.4       0.470          12.4           35.5  ...   \n",
       "63         42.2          88.8       0.475          16.0           42.6  ...   \n",
       "70         39.6          87.1       0.454          11.4           32.4  ...   \n",
       "77         39.2          85.3       0.460          12.0           34.8  ...   \n",
       "79         42.9          87.4       0.490          12.2           33.3  ...   \n",
       "88         43.1          92.6       0.465          11.1           32.2  ...   \n",
       "91         42.1          86.9       0.485          11.3           31.7  ...   \n",
       "\n",
       "    o_rtg  d_rtg  n_rtg   pace   f_tr  x3p_ar  ts_percent  tov_percent  \\\n",
       "32  123.2  111.6   11.6   97.2  0.224   0.471       0.609         10.8   \n",
       "39  109.7  118.8   -9.1   99.8  0.246   0.360       0.562         13.5   \n",
       "46  114.0  112.2    1.8   96.2  0.257   0.394       0.578         11.7   \n",
       "48  115.6  109.0    6.6   97.1  0.270   0.384       0.594         13.0   \n",
       "57  110.0  116.4   -6.4  101.1  0.220   0.401       0.563         13.2   \n",
       "60  110.5  119.6   -9.1  102.7  0.221   0.389       0.567         12.2   \n",
       "63  118.0  111.5    6.5   98.5  0.243   0.480       0.600         12.0   \n",
       "70  110.7  118.9   -8.2   99.0  0.295   0.372       0.561         13.3   \n",
       "77  113.0  113.3   -0.3   96.3  0.270   0.408       0.574         12.4   \n",
       "79  113.7  113.8   -0.1  101.0  0.271   0.381       0.592         13.6   \n",
       "88  110.2  120.0   -9.8  101.6  0.229   0.348       0.554         13.0   \n",
       "91  114.4  115.6   -1.2   98.5  0.258   0.365       0.585         12.7   \n",
       "\n",
       "    orb_percent  e_fg_percent  \n",
       "32         24.9         0.578  \n",
       "39         23.9         0.526  \n",
       "46         21.8         0.538  \n",
       "48         23.2         0.559  \n",
       "57         22.9         0.532  \n",
       "60         20.0         0.538  \n",
       "63         22.1         0.566  \n",
       "70         24.9         0.520  \n",
       "77         22.8         0.530  \n",
       "79         21.5         0.560  \n",
       "88         25.6         0.525  \n",
       "91         22.6         0.550  \n",
       "\n",
       "[12 rows x 39 columns]"
      ]
     },
     "execution_count": 6,
     "metadata": {},
     "output_type": "execute_result"
    }
   ],
   "source": [
    "# Team Test Data\n",
    "team_test_data"
   ]
  },
  {
   "cell_type": "markdown",
   "id": "48cc7a70-ad8c-47be-a2ed-36fd7f07cffe",
   "metadata": {},
   "source": [
    "#### Now that we have all the stats that we're working with, lets get to the results!"
   ]
  },
  {
   "cell_type": "markdown",
   "id": "6f82369a-4b1d-4c5e-aaf6-b747b453a157",
   "metadata": {},
   "source": [
    "# Results"
   ]
  },
  {
   "cell_type": "markdown",
   "id": "573487eb-8fee-4d47-b28d-1190b05af84f",
   "metadata": {},
   "source": [
    "## RESEARCH QUESTION #1: What are the prominent statistics of All-Stars?\n",
    "\n",
    "When looking at All-Stars, they are meant to represent players that are above and beyond all of their peers. However, there is no complete way to quantify what it means to be above and beyond others. This is what I am trying to answer, as I am looking at how certain statistics seen in players compare to that of peers, and which stats set players apart if they are high in that stat.\n",
    "\n",
    "### Part 1: Beginning Steps - Calculate Thresholds\n",
    "\n",
    "We have our stat sheets, but we currently have no way to make meaning of the data. To start, if we want to figure out which All-Stars are in the top 95% of players for a certain statistic, we have to figure out the marker, or threshold, that a player needs to reach in a certain statistic to be considered in the top 95%. This can be done with:\n",
    "\n",
    "#### get_stat_thresholds:\n",
    "> This program returns a series that contains the minimum number needed for a stat to be considered in the top X% of players in the NBA. For our purposes, we will use the top 95%, or .95 of players, but this program could theoretically look at any percent and get the thresholds for all of the statistics for that percentile."
   ]
  },
  {
   "cell_type": "code",
   "execution_count": 7,
   "id": "80cf38eb-73e5-498a-873a-2a4a814d5e5d",
   "metadata": {},
   "outputs": [],
   "source": [
    "def get_stat_thresholds(data, season, threshold):\n",
    "    \"\"\"\n",
    "    Given an NBA statistical dataset, a season, and a threshold, returns a series of the number\n",
    "    needed for any player to surpass that threshold in a season (be in that threshold percentile).\n",
    "    \"\"\"\n",
    "    curr_season = data[data[\"season\"] == season]\n",
    "    curr_season = curr_season.drop([\"seas_id\", \"season\", \"player_id\", \"player\", \"tm\"], axis=1)\n",
    "    return curr_season.quantile(threshold)\n",
    "\n",
    "# TEST PORTION - Changing thresholds with each to ensure correctness\n",
    "assert get_stat_thresholds(test_data, 2024, 0.0)[\"g\"] == 9.0, \"Incorrect Threshold\"\n",
    "assert get_stat_thresholds(test_data, 2024, 1.0)[\"ws\"] == 7.5, \"Incorrect Thresholds\"\n",
    "assert get_stat_thresholds(test_data, 2024, 0.5)[\"bpm\"] == 3.2, \"Incorrect Threshold\"\n",
    "assert get_stat_thresholds(test_data, 2023, 0.25)[\"mp\"] == 1948.75, \"Incorrect Threshold\""
   ]
  },
  {
   "cell_type": "markdown",
   "id": "ecb72a37-02ad-4b29-931c-80a7bbdac06b",
   "metadata": {},
   "source": [
    "#### Great! This gives us the statistical thresholds for any nth percentile, lets visualize this with a graph!"
   ]
  },
  {
   "cell_type": "markdown",
   "id": "023a3d55-8447-49dd-85ce-1d1519f5c369",
   "metadata": {},
   "source": [
    "Using Plotly, lets graph the changes in what the threshold for being in the top 95% of points, rebounds, and assists is through the 1975-2025 seasons! We will also be establishing our DataFrame that gives us the thresholds for each season, which we will use for the next part of this question!"
   ]
  },
  {
   "cell_type": "code",
   "execution_count": 8,
   "id": "b884be9d-83d9-4856-9f18-f644acf8529e",
   "metadata": {},
   "outputs": [
    {
     "data": {
      "application/vnd.plotly.v1+json": {
       "config": {
        "plotlyServerURL": "https://plot.ly"
       },
       "data": [
        {
         "mode": "lines",
         "name": "pts",
         "type": "scatter",
         "x": [
          2025,
          2024,
          2023,
          2022,
          2021,
          2020,
          2019,
          2018,
          2017,
          2016,
          2015,
          2014,
          2013,
          2012,
          2011,
          2010,
          2009,
          2008,
          2007,
          2006,
          2005,
          2004,
          2003,
          2002,
          2001,
          2000,
          1999,
          1998,
          1997,
          1996,
          1995,
          1994,
          1993,
          1992,
          1991,
          1990,
          1989,
          1988,
          1987,
          1986,
          1985,
          1984,
          1983,
          1982,
          1981,
          1980,
          1979,
          1978,
          1977,
          1976,
          1975
         ],
         "y": [
          22.25999999999999,
          22.2,
          23.37499999999999,
          20.2,
          21.5,
          20.75,
          20,
          19.385,
          20.679999999999975,
          19.014999999999997,
          17.6,
          18.6,
          17.5,
          18.7,
          18.679999999999996,
          19.07499999999999,
          20.079999999999973,
          20.1,
          20.125,
          19.96999999999999,
          19.939999999999987,
          18.779999999999998,
          20.6,
          20.40999999999999,
          19.7,
          19.225,
          18.209999999999997,
          19.169999999999995,
          19.135,
          19.379999999999995,
          20.6,
          19.2,
          19.65999999999998,
          19.914999999999996,
          20.5,
          22.119999999999994,
          20.5,
          20.2,
          21.744999999999994,
          20.92999999999999,
          22.095,
          21.479999999999997,
          21.65,
          20.439999999999998,
          20.279999999999998,
          21.3,
          22.53999999999999,
          21.91999999999996,
          21.439999999999998,
          20.569999999999993,
          21.55
         ]
        },
        {
         "mode": "lines",
         "name": "trb",
         "type": "scatter",
         "x": [
          2025,
          2024,
          2023,
          2022,
          2021,
          2020,
          2019,
          2018,
          2017,
          2016,
          2015,
          2014,
          2013,
          2012,
          2011,
          2010,
          2009,
          2008,
          2007,
          2006,
          2005,
          2004,
          2003,
          2002,
          2001,
          2000,
          1999,
          1998,
          1997,
          1996,
          1995,
          1994,
          1993,
          1992,
          1991,
          1990,
          1989,
          1988,
          1987,
          1986,
          1985,
          1984,
          1983,
          1982,
          1981,
          1980,
          1979,
          1978,
          1977,
          1976,
          1975
         ],
         "y": [
          8.2,
          8,
          8.4,
          8.044999999999993,
          8.079999999999995,
          7.85,
          8.4,
          7.6,
          8.1,
          8.1,
          7.8,
          8.5,
          8.339999999999998,
          8.25,
          8.2,
          8.714999999999998,
          8.5,
          8.9,
          8.350000000000001,
          8,
          8.879999999999995,
          8.379999999999995,
          8.2,
          8.409999999999991,
          8.62,
          8.225,
          8.5,
          8.6,
          8.870000000000005,
          8.8,
          9.134999999999996,
          9.3,
          8.859999999999998,
          9,
          8.9,
          8.709999999999996,
          9.114999999999997,
          8.7,
          8.944999999999993,
          8.9,
          8.895,
          8.879999999999995,
          8.85,
          9.039999999999997,
          8.689999999999998,
          9.4,
          9.769999999999994,
          10.134999999999996,
          10.379999999999995,
          10.374999999999982,
          10.75
         ]
        },
        {
         "mode": "lines",
         "name": "ast",
         "type": "scatter",
         "x": [
          2025,
          2024,
          2023,
          2022,
          2021,
          2020,
          2019,
          2018,
          2017,
          2016,
          2015,
          2014,
          2013,
          2012,
          2011,
          2010,
          2009,
          2008,
          2007,
          2006,
          2005,
          2004,
          2003,
          2002,
          2001,
          2000,
          1999,
          1998,
          1997,
          1996,
          1995,
          1994,
          1993,
          1992,
          1991,
          1990,
          1989,
          1988,
          1987,
          1986,
          1985,
          1984,
          1983,
          1982,
          1981,
          1980,
          1979,
          1978,
          1977,
          1976,
          1975
         ],
         "y": [
          5.8,
          5.6299999999999955,
          6.1149999999999975,
          5.7,
          5.8,
          5.6,
          5.3649999999999975,
          5.285000000000002,
          5.2,
          5.3,
          5.5,
          5.6,
          5.9,
          5.5,
          5.6,
          5.1299999999999955,
          5.289999999999986,
          5.529999999999995,
          5.5,
          5,
          5.5,
          5.3,
          5.4,
          5.5049999999999955,
          5.6,
          5.2,
          5.639999999999998,
          5.30999999999998,
          5.770000000000005,
          5.9,
          5.589999999999998,
          5.4,
          5.759999999999996,
          6.259999999999991,
          6.4,
          6.5,
          6.6,
          6.55,
          6.529999999999996,
          6.3,
          6.694999999999999,
          5.9,
          5.9,
          5.6,
          5.4899999999999975,
          5.2399999999999975,
          5.284999999999997,
          4.934999999999997,
          5.1,
          5.4,
          5.6
         ]
        }
       ],
       "layout": {
        "template": {
         "data": {
          "bar": [
           {
            "error_x": {
             "color": "#2a3f5f"
            },
            "error_y": {
             "color": "#2a3f5f"
            },
            "marker": {
             "line": {
              "color": "#E5ECF6",
              "width": 0.5
             },
             "pattern": {
              "fillmode": "overlay",
              "size": 10,
              "solidity": 0.2
             }
            },
            "type": "bar"
           }
          ],
          "barpolar": [
           {
            "marker": {
             "line": {
              "color": "#E5ECF6",
              "width": 0.5
             },
             "pattern": {
              "fillmode": "overlay",
              "size": 10,
              "solidity": 0.2
             }
            },
            "type": "barpolar"
           }
          ],
          "carpet": [
           {
            "aaxis": {
             "endlinecolor": "#2a3f5f",
             "gridcolor": "white",
             "linecolor": "white",
             "minorgridcolor": "white",
             "startlinecolor": "#2a3f5f"
            },
            "baxis": {
             "endlinecolor": "#2a3f5f",
             "gridcolor": "white",
             "linecolor": "white",
             "minorgridcolor": "white",
             "startlinecolor": "#2a3f5f"
            },
            "type": "carpet"
           }
          ],
          "choropleth": [
           {
            "colorbar": {
             "outlinewidth": 0,
             "ticks": ""
            },
            "type": "choropleth"
           }
          ],
          "contour": [
           {
            "colorbar": {
             "outlinewidth": 0,
             "ticks": ""
            },
            "colorscale": [
             [
              0,
              "#0d0887"
             ],
             [
              0.1111111111111111,
              "#46039f"
             ],
             [
              0.2222222222222222,
              "#7201a8"
             ],
             [
              0.3333333333333333,
              "#9c179e"
             ],
             [
              0.4444444444444444,
              "#bd3786"
             ],
             [
              0.5555555555555556,
              "#d8576b"
             ],
             [
              0.6666666666666666,
              "#ed7953"
             ],
             [
              0.7777777777777778,
              "#fb9f3a"
             ],
             [
              0.8888888888888888,
              "#fdca26"
             ],
             [
              1,
              "#f0f921"
             ]
            ],
            "type": "contour"
           }
          ],
          "contourcarpet": [
           {
            "colorbar": {
             "outlinewidth": 0,
             "ticks": ""
            },
            "type": "contourcarpet"
           }
          ],
          "heatmap": [
           {
            "colorbar": {
             "outlinewidth": 0,
             "ticks": ""
            },
            "colorscale": [
             [
              0,
              "#0d0887"
             ],
             [
              0.1111111111111111,
              "#46039f"
             ],
             [
              0.2222222222222222,
              "#7201a8"
             ],
             [
              0.3333333333333333,
              "#9c179e"
             ],
             [
              0.4444444444444444,
              "#bd3786"
             ],
             [
              0.5555555555555556,
              "#d8576b"
             ],
             [
              0.6666666666666666,
              "#ed7953"
             ],
             [
              0.7777777777777778,
              "#fb9f3a"
             ],
             [
              0.8888888888888888,
              "#fdca26"
             ],
             [
              1,
              "#f0f921"
             ]
            ],
            "type": "heatmap"
           }
          ],
          "heatmapgl": [
           {
            "colorbar": {
             "outlinewidth": 0,
             "ticks": ""
            },
            "colorscale": [
             [
              0,
              "#0d0887"
             ],
             [
              0.1111111111111111,
              "#46039f"
             ],
             [
              0.2222222222222222,
              "#7201a8"
             ],
             [
              0.3333333333333333,
              "#9c179e"
             ],
             [
              0.4444444444444444,
              "#bd3786"
             ],
             [
              0.5555555555555556,
              "#d8576b"
             ],
             [
              0.6666666666666666,
              "#ed7953"
             ],
             [
              0.7777777777777778,
              "#fb9f3a"
             ],
             [
              0.8888888888888888,
              "#fdca26"
             ],
             [
              1,
              "#f0f921"
             ]
            ],
            "type": "heatmapgl"
           }
          ],
          "histogram": [
           {
            "marker": {
             "pattern": {
              "fillmode": "overlay",
              "size": 10,
              "solidity": 0.2
             }
            },
            "type": "histogram"
           }
          ],
          "histogram2d": [
           {
            "colorbar": {
             "outlinewidth": 0,
             "ticks": ""
            },
            "colorscale": [
             [
              0,
              "#0d0887"
             ],
             [
              0.1111111111111111,
              "#46039f"
             ],
             [
              0.2222222222222222,
              "#7201a8"
             ],
             [
              0.3333333333333333,
              "#9c179e"
             ],
             [
              0.4444444444444444,
              "#bd3786"
             ],
             [
              0.5555555555555556,
              "#d8576b"
             ],
             [
              0.6666666666666666,
              "#ed7953"
             ],
             [
              0.7777777777777778,
              "#fb9f3a"
             ],
             [
              0.8888888888888888,
              "#fdca26"
             ],
             [
              1,
              "#f0f921"
             ]
            ],
            "type": "histogram2d"
           }
          ],
          "histogram2dcontour": [
           {
            "colorbar": {
             "outlinewidth": 0,
             "ticks": ""
            },
            "colorscale": [
             [
              0,
              "#0d0887"
             ],
             [
              0.1111111111111111,
              "#46039f"
             ],
             [
              0.2222222222222222,
              "#7201a8"
             ],
             [
              0.3333333333333333,
              "#9c179e"
             ],
             [
              0.4444444444444444,
              "#bd3786"
             ],
             [
              0.5555555555555556,
              "#d8576b"
             ],
             [
              0.6666666666666666,
              "#ed7953"
             ],
             [
              0.7777777777777778,
              "#fb9f3a"
             ],
             [
              0.8888888888888888,
              "#fdca26"
             ],
             [
              1,
              "#f0f921"
             ]
            ],
            "type": "histogram2dcontour"
           }
          ],
          "mesh3d": [
           {
            "colorbar": {
             "outlinewidth": 0,
             "ticks": ""
            },
            "type": "mesh3d"
           }
          ],
          "parcoords": [
           {
            "line": {
             "colorbar": {
              "outlinewidth": 0,
              "ticks": ""
             }
            },
            "type": "parcoords"
           }
          ],
          "pie": [
           {
            "automargin": true,
            "type": "pie"
           }
          ],
          "scatter": [
           {
            "fillpattern": {
             "fillmode": "overlay",
             "size": 10,
             "solidity": 0.2
            },
            "type": "scatter"
           }
          ],
          "scatter3d": [
           {
            "line": {
             "colorbar": {
              "outlinewidth": 0,
              "ticks": ""
             }
            },
            "marker": {
             "colorbar": {
              "outlinewidth": 0,
              "ticks": ""
             }
            },
            "type": "scatter3d"
           }
          ],
          "scattercarpet": [
           {
            "marker": {
             "colorbar": {
              "outlinewidth": 0,
              "ticks": ""
             }
            },
            "type": "scattercarpet"
           }
          ],
          "scattergeo": [
           {
            "marker": {
             "colorbar": {
              "outlinewidth": 0,
              "ticks": ""
             }
            },
            "type": "scattergeo"
           }
          ],
          "scattergl": [
           {
            "marker": {
             "colorbar": {
              "outlinewidth": 0,
              "ticks": ""
             }
            },
            "type": "scattergl"
           }
          ],
          "scattermapbox": [
           {
            "marker": {
             "colorbar": {
              "outlinewidth": 0,
              "ticks": ""
             }
            },
            "type": "scattermapbox"
           }
          ],
          "scatterpolar": [
           {
            "marker": {
             "colorbar": {
              "outlinewidth": 0,
              "ticks": ""
             }
            },
            "type": "scatterpolar"
           }
          ],
          "scatterpolargl": [
           {
            "marker": {
             "colorbar": {
              "outlinewidth": 0,
              "ticks": ""
             }
            },
            "type": "scatterpolargl"
           }
          ],
          "scatterternary": [
           {
            "marker": {
             "colorbar": {
              "outlinewidth": 0,
              "ticks": ""
             }
            },
            "type": "scatterternary"
           }
          ],
          "surface": [
           {
            "colorbar": {
             "outlinewidth": 0,
             "ticks": ""
            },
            "colorscale": [
             [
              0,
              "#0d0887"
             ],
             [
              0.1111111111111111,
              "#46039f"
             ],
             [
              0.2222222222222222,
              "#7201a8"
             ],
             [
              0.3333333333333333,
              "#9c179e"
             ],
             [
              0.4444444444444444,
              "#bd3786"
             ],
             [
              0.5555555555555556,
              "#d8576b"
             ],
             [
              0.6666666666666666,
              "#ed7953"
             ],
             [
              0.7777777777777778,
              "#fb9f3a"
             ],
             [
              0.8888888888888888,
              "#fdca26"
             ],
             [
              1,
              "#f0f921"
             ]
            ],
            "type": "surface"
           }
          ],
          "table": [
           {
            "cells": {
             "fill": {
              "color": "#EBF0F8"
             },
             "line": {
              "color": "white"
             }
            },
            "header": {
             "fill": {
              "color": "#C8D4E3"
             },
             "line": {
              "color": "white"
             }
            },
            "type": "table"
           }
          ]
         },
         "layout": {
          "annotationdefaults": {
           "arrowcolor": "#2a3f5f",
           "arrowhead": 0,
           "arrowwidth": 1
          },
          "autotypenumbers": "strict",
          "coloraxis": {
           "colorbar": {
            "outlinewidth": 0,
            "ticks": ""
           }
          },
          "colorscale": {
           "diverging": [
            [
             0,
             "#8e0152"
            ],
            [
             0.1,
             "#c51b7d"
            ],
            [
             0.2,
             "#de77ae"
            ],
            [
             0.3,
             "#f1b6da"
            ],
            [
             0.4,
             "#fde0ef"
            ],
            [
             0.5,
             "#f7f7f7"
            ],
            [
             0.6,
             "#e6f5d0"
            ],
            [
             0.7,
             "#b8e186"
            ],
            [
             0.8,
             "#7fbc41"
            ],
            [
             0.9,
             "#4d9221"
            ],
            [
             1,
             "#276419"
            ]
           ],
           "sequential": [
            [
             0,
             "#0d0887"
            ],
            [
             0.1111111111111111,
             "#46039f"
            ],
            [
             0.2222222222222222,
             "#7201a8"
            ],
            [
             0.3333333333333333,
             "#9c179e"
            ],
            [
             0.4444444444444444,
             "#bd3786"
            ],
            [
             0.5555555555555556,
             "#d8576b"
            ],
            [
             0.6666666666666666,
             "#ed7953"
            ],
            [
             0.7777777777777778,
             "#fb9f3a"
            ],
            [
             0.8888888888888888,
             "#fdca26"
            ],
            [
             1,
             "#f0f921"
            ]
           ],
           "sequentialminus": [
            [
             0,
             "#0d0887"
            ],
            [
             0.1111111111111111,
             "#46039f"
            ],
            [
             0.2222222222222222,
             "#7201a8"
            ],
            [
             0.3333333333333333,
             "#9c179e"
            ],
            [
             0.4444444444444444,
             "#bd3786"
            ],
            [
             0.5555555555555556,
             "#d8576b"
            ],
            [
             0.6666666666666666,
             "#ed7953"
            ],
            [
             0.7777777777777778,
             "#fb9f3a"
            ],
            [
             0.8888888888888888,
             "#fdca26"
            ],
            [
             1,
             "#f0f921"
            ]
           ]
          },
          "colorway": [
           "#636efa",
           "#EF553B",
           "#00cc96",
           "#ab63fa",
           "#FFA15A",
           "#19d3f3",
           "#FF6692",
           "#B6E880",
           "#FF97FF",
           "#FECB52"
          ],
          "font": {
           "color": "#2a3f5f"
          },
          "geo": {
           "bgcolor": "white",
           "lakecolor": "white",
           "landcolor": "#E5ECF6",
           "showlakes": true,
           "showland": true,
           "subunitcolor": "white"
          },
          "hoverlabel": {
           "align": "left"
          },
          "hovermode": "closest",
          "mapbox": {
           "style": "light"
          },
          "paper_bgcolor": "white",
          "plot_bgcolor": "#E5ECF6",
          "polar": {
           "angularaxis": {
            "gridcolor": "white",
            "linecolor": "white",
            "ticks": ""
           },
           "bgcolor": "#E5ECF6",
           "radialaxis": {
            "gridcolor": "white",
            "linecolor": "white",
            "ticks": ""
           }
          },
          "scene": {
           "xaxis": {
            "backgroundcolor": "#E5ECF6",
            "gridcolor": "white",
            "gridwidth": 2,
            "linecolor": "white",
            "showbackground": true,
            "ticks": "",
            "zerolinecolor": "white"
           },
           "yaxis": {
            "backgroundcolor": "#E5ECF6",
            "gridcolor": "white",
            "gridwidth": 2,
            "linecolor": "white",
            "showbackground": true,
            "ticks": "",
            "zerolinecolor": "white"
           },
           "zaxis": {
            "backgroundcolor": "#E5ECF6",
            "gridcolor": "white",
            "gridwidth": 2,
            "linecolor": "white",
            "showbackground": true,
            "ticks": "",
            "zerolinecolor": "white"
           }
          },
          "shapedefaults": {
           "line": {
            "color": "#2a3f5f"
           }
          },
          "ternary": {
           "aaxis": {
            "gridcolor": "white",
            "linecolor": "white",
            "ticks": ""
           },
           "baxis": {
            "gridcolor": "white",
            "linecolor": "white",
            "ticks": ""
           },
           "bgcolor": "#E5ECF6",
           "caxis": {
            "gridcolor": "white",
            "linecolor": "white",
            "ticks": ""
           }
          },
          "title": {
           "x": 0.05
          },
          "xaxis": {
           "automargin": true,
           "gridcolor": "white",
           "linecolor": "white",
           "ticks": "",
           "title": {
            "standoff": 15
           },
           "zerolinecolor": "white",
           "zerolinewidth": 2
          },
          "yaxis": {
           "automargin": true,
           "gridcolor": "white",
           "linecolor": "white",
           "ticks": "",
           "title": {
            "standoff": 15
           },
           "zerolinecolor": "white",
           "zerolinewidth": 2
          }
         }
        },
        "title": {
         "text": "95th Percentile in Points, Rebounds, and Assists throughout the seasons"
        },
        "xaxis": {
         "title": {
          "text": "Season"
         }
        },
        "yaxis": {
         "title": {
          "text": "Stat Count"
         }
        }
       }
      }
     },
     "metadata": {},
     "output_type": "display_data"
    }
   ],
   "source": [
    "season_thresholds = pd.DataFrame()\n",
    "for season in range(2025, 1974, -1):\n",
    "    season_thresholds[season] = get_stat_thresholds(player_stats, season, .95)\n",
    "fig = go.Figure()\n",
    "for stat in [\"pts_per_game\", \"trb_per_game\", \"ast_per_game\"]:\n",
    "    fig.add_trace(go.Scatter(\n",
    "        x=season_thresholds.columns,\n",
    "        y=season_thresholds.loc[stat].values,\n",
    "        mode=\"lines\",\n",
    "        name=stat[0:3]\n",
    "    ))\n",
    "\n",
    "fig.update_layout(title=\"95th Percentile in Points, Rebounds, and Assists throughout the seasons\",\n",
    "                  xaxis_title=\"Season\", yaxis_title=\"Stat Count\")\n",
    "\n",
    "fig.show()"
   ]
  },
  {
   "cell_type": "markdown",
   "id": "a3ad2ab7-5275-4a31-96e3-1fd7e620d946",
   "metadata": {},
   "source": [
    "As shown above, the 95th percentile in points is quite inflated compared to rebounds and assists, with assists having the lowest value required to be in the top 95%!"
   ]
  },
  {
   "cell_type": "markdown",
   "id": "6fa6df0c-5a78-46d6-980a-716989a576d8",
   "metadata": {},
   "source": [
    "#### Now, what else can we do with this data?"
   ]
  },
  {
   "cell_type": "markdown",
   "id": "a4073336-04bc-4d93-b764-dce63f621fb8",
   "metadata": {},
   "source": [
    "For the upcoming methods, lets establish out testing set. For this, we will just use the 2023 and 2024 seasons and use the top 50% of players (since there are little players in the testing set)."
   ]
  },
  {
   "cell_type": "code",
   "execution_count": 9,
   "id": "7ae8b4c3-691c-45b4-88c6-21e4f0acff44",
   "metadata": {
    "scrolled": true
   },
   "outputs": [],
   "source": [
    "test_thresholds = pd.DataFrame()\n",
    "test_thresholds[2023] = get_stat_thresholds(test_data, 2023, .5)\n",
    "test_thresholds[2024] = get_stat_thresholds(test_data, 2024, .5)"
   ]
  },
  {
   "cell_type": "markdown",
   "id": "4bad220e-28df-4169-9b5c-628cbfbaca16",
   "metadata": {},
   "source": [
    "To get a representation of how different the top 95% of players are in statistics compared to league average (50%), we can also use a bar graph and check the differences based on the 2025 season.\n",
    "\n",
    "With our method, we can compare the league average with the top 95% using bar graphs for 2025!\n",
    "\n",
    "Let's compare points, assists, and rebounds per game!"
   ]
  },
  {
   "cell_type": "code",
   "execution_count": 10,
   "id": "df7295c8-ebc0-4fd1-9499-7c3140b1aacf",
   "metadata": {},
   "outputs": [
    {
     "data": {
      "application/vnd.plotly.v1+json": {
       "config": {
        "plotlyServerURL": "https://plot.ly"
       },
       "data": [
        {
         "name": "Average",
         "type": "bar",
         "x": [
          "Points",
          "Assists",
          "Rebounds"
         ],
         "y": [
          7.1,
          1.5,
          3.1
         ]
        },
        {
         "name": "Top 95%",
         "type": "bar",
         "x": [
          "Points",
          "Assists",
          "Rebounds"
         ],
         "y": [
          22.25999999999999,
          5.8,
          8.2
         ]
        }
       ],
       "layout": {
        "barmode": "group",
        "template": {
         "data": {
          "bar": [
           {
            "error_x": {
             "color": "#2a3f5f"
            },
            "error_y": {
             "color": "#2a3f5f"
            },
            "marker": {
             "line": {
              "color": "#E5ECF6",
              "width": 0.5
             },
             "pattern": {
              "fillmode": "overlay",
              "size": 10,
              "solidity": 0.2
             }
            },
            "type": "bar"
           }
          ],
          "barpolar": [
           {
            "marker": {
             "line": {
              "color": "#E5ECF6",
              "width": 0.5
             },
             "pattern": {
              "fillmode": "overlay",
              "size": 10,
              "solidity": 0.2
             }
            },
            "type": "barpolar"
           }
          ],
          "carpet": [
           {
            "aaxis": {
             "endlinecolor": "#2a3f5f",
             "gridcolor": "white",
             "linecolor": "white",
             "minorgridcolor": "white",
             "startlinecolor": "#2a3f5f"
            },
            "baxis": {
             "endlinecolor": "#2a3f5f",
             "gridcolor": "white",
             "linecolor": "white",
             "minorgridcolor": "white",
             "startlinecolor": "#2a3f5f"
            },
            "type": "carpet"
           }
          ],
          "choropleth": [
           {
            "colorbar": {
             "outlinewidth": 0,
             "ticks": ""
            },
            "type": "choropleth"
           }
          ],
          "contour": [
           {
            "colorbar": {
             "outlinewidth": 0,
             "ticks": ""
            },
            "colorscale": [
             [
              0,
              "#0d0887"
             ],
             [
              0.1111111111111111,
              "#46039f"
             ],
             [
              0.2222222222222222,
              "#7201a8"
             ],
             [
              0.3333333333333333,
              "#9c179e"
             ],
             [
              0.4444444444444444,
              "#bd3786"
             ],
             [
              0.5555555555555556,
              "#d8576b"
             ],
             [
              0.6666666666666666,
              "#ed7953"
             ],
             [
              0.7777777777777778,
              "#fb9f3a"
             ],
             [
              0.8888888888888888,
              "#fdca26"
             ],
             [
              1,
              "#f0f921"
             ]
            ],
            "type": "contour"
           }
          ],
          "contourcarpet": [
           {
            "colorbar": {
             "outlinewidth": 0,
             "ticks": ""
            },
            "type": "contourcarpet"
           }
          ],
          "heatmap": [
           {
            "colorbar": {
             "outlinewidth": 0,
             "ticks": ""
            },
            "colorscale": [
             [
              0,
              "#0d0887"
             ],
             [
              0.1111111111111111,
              "#46039f"
             ],
             [
              0.2222222222222222,
              "#7201a8"
             ],
             [
              0.3333333333333333,
              "#9c179e"
             ],
             [
              0.4444444444444444,
              "#bd3786"
             ],
             [
              0.5555555555555556,
              "#d8576b"
             ],
             [
              0.6666666666666666,
              "#ed7953"
             ],
             [
              0.7777777777777778,
              "#fb9f3a"
             ],
             [
              0.8888888888888888,
              "#fdca26"
             ],
             [
              1,
              "#f0f921"
             ]
            ],
            "type": "heatmap"
           }
          ],
          "heatmapgl": [
           {
            "colorbar": {
             "outlinewidth": 0,
             "ticks": ""
            },
            "colorscale": [
             [
              0,
              "#0d0887"
             ],
             [
              0.1111111111111111,
              "#46039f"
             ],
             [
              0.2222222222222222,
              "#7201a8"
             ],
             [
              0.3333333333333333,
              "#9c179e"
             ],
             [
              0.4444444444444444,
              "#bd3786"
             ],
             [
              0.5555555555555556,
              "#d8576b"
             ],
             [
              0.6666666666666666,
              "#ed7953"
             ],
             [
              0.7777777777777778,
              "#fb9f3a"
             ],
             [
              0.8888888888888888,
              "#fdca26"
             ],
             [
              1,
              "#f0f921"
             ]
            ],
            "type": "heatmapgl"
           }
          ],
          "histogram": [
           {
            "marker": {
             "pattern": {
              "fillmode": "overlay",
              "size": 10,
              "solidity": 0.2
             }
            },
            "type": "histogram"
           }
          ],
          "histogram2d": [
           {
            "colorbar": {
             "outlinewidth": 0,
             "ticks": ""
            },
            "colorscale": [
             [
              0,
              "#0d0887"
             ],
             [
              0.1111111111111111,
              "#46039f"
             ],
             [
              0.2222222222222222,
              "#7201a8"
             ],
             [
              0.3333333333333333,
              "#9c179e"
             ],
             [
              0.4444444444444444,
              "#bd3786"
             ],
             [
              0.5555555555555556,
              "#d8576b"
             ],
             [
              0.6666666666666666,
              "#ed7953"
             ],
             [
              0.7777777777777778,
              "#fb9f3a"
             ],
             [
              0.8888888888888888,
              "#fdca26"
             ],
             [
              1,
              "#f0f921"
             ]
            ],
            "type": "histogram2d"
           }
          ],
          "histogram2dcontour": [
           {
            "colorbar": {
             "outlinewidth": 0,
             "ticks": ""
            },
            "colorscale": [
             [
              0,
              "#0d0887"
             ],
             [
              0.1111111111111111,
              "#46039f"
             ],
             [
              0.2222222222222222,
              "#7201a8"
             ],
             [
              0.3333333333333333,
              "#9c179e"
             ],
             [
              0.4444444444444444,
              "#bd3786"
             ],
             [
              0.5555555555555556,
              "#d8576b"
             ],
             [
              0.6666666666666666,
              "#ed7953"
             ],
             [
              0.7777777777777778,
              "#fb9f3a"
             ],
             [
              0.8888888888888888,
              "#fdca26"
             ],
             [
              1,
              "#f0f921"
             ]
            ],
            "type": "histogram2dcontour"
           }
          ],
          "mesh3d": [
           {
            "colorbar": {
             "outlinewidth": 0,
             "ticks": ""
            },
            "type": "mesh3d"
           }
          ],
          "parcoords": [
           {
            "line": {
             "colorbar": {
              "outlinewidth": 0,
              "ticks": ""
             }
            },
            "type": "parcoords"
           }
          ],
          "pie": [
           {
            "automargin": true,
            "type": "pie"
           }
          ],
          "scatter": [
           {
            "fillpattern": {
             "fillmode": "overlay",
             "size": 10,
             "solidity": 0.2
            },
            "type": "scatter"
           }
          ],
          "scatter3d": [
           {
            "line": {
             "colorbar": {
              "outlinewidth": 0,
              "ticks": ""
             }
            },
            "marker": {
             "colorbar": {
              "outlinewidth": 0,
              "ticks": ""
             }
            },
            "type": "scatter3d"
           }
          ],
          "scattercarpet": [
           {
            "marker": {
             "colorbar": {
              "outlinewidth": 0,
              "ticks": ""
             }
            },
            "type": "scattercarpet"
           }
          ],
          "scattergeo": [
           {
            "marker": {
             "colorbar": {
              "outlinewidth": 0,
              "ticks": ""
             }
            },
            "type": "scattergeo"
           }
          ],
          "scattergl": [
           {
            "marker": {
             "colorbar": {
              "outlinewidth": 0,
              "ticks": ""
             }
            },
            "type": "scattergl"
           }
          ],
          "scattermapbox": [
           {
            "marker": {
             "colorbar": {
              "outlinewidth": 0,
              "ticks": ""
             }
            },
            "type": "scattermapbox"
           }
          ],
          "scatterpolar": [
           {
            "marker": {
             "colorbar": {
              "outlinewidth": 0,
              "ticks": ""
             }
            },
            "type": "scatterpolar"
           }
          ],
          "scatterpolargl": [
           {
            "marker": {
             "colorbar": {
              "outlinewidth": 0,
              "ticks": ""
             }
            },
            "type": "scatterpolargl"
           }
          ],
          "scatterternary": [
           {
            "marker": {
             "colorbar": {
              "outlinewidth": 0,
              "ticks": ""
             }
            },
            "type": "scatterternary"
           }
          ],
          "surface": [
           {
            "colorbar": {
             "outlinewidth": 0,
             "ticks": ""
            },
            "colorscale": [
             [
              0,
              "#0d0887"
             ],
             [
              0.1111111111111111,
              "#46039f"
             ],
             [
              0.2222222222222222,
              "#7201a8"
             ],
             [
              0.3333333333333333,
              "#9c179e"
             ],
             [
              0.4444444444444444,
              "#bd3786"
             ],
             [
              0.5555555555555556,
              "#d8576b"
             ],
             [
              0.6666666666666666,
              "#ed7953"
             ],
             [
              0.7777777777777778,
              "#fb9f3a"
             ],
             [
              0.8888888888888888,
              "#fdca26"
             ],
             [
              1,
              "#f0f921"
             ]
            ],
            "type": "surface"
           }
          ],
          "table": [
           {
            "cells": {
             "fill": {
              "color": "#EBF0F8"
             },
             "line": {
              "color": "white"
             }
            },
            "header": {
             "fill": {
              "color": "#C8D4E3"
             },
             "line": {
              "color": "white"
             }
            },
            "type": "table"
           }
          ]
         },
         "layout": {
          "annotationdefaults": {
           "arrowcolor": "#2a3f5f",
           "arrowhead": 0,
           "arrowwidth": 1
          },
          "autotypenumbers": "strict",
          "coloraxis": {
           "colorbar": {
            "outlinewidth": 0,
            "ticks": ""
           }
          },
          "colorscale": {
           "diverging": [
            [
             0,
             "#8e0152"
            ],
            [
             0.1,
             "#c51b7d"
            ],
            [
             0.2,
             "#de77ae"
            ],
            [
             0.3,
             "#f1b6da"
            ],
            [
             0.4,
             "#fde0ef"
            ],
            [
             0.5,
             "#f7f7f7"
            ],
            [
             0.6,
             "#e6f5d0"
            ],
            [
             0.7,
             "#b8e186"
            ],
            [
             0.8,
             "#7fbc41"
            ],
            [
             0.9,
             "#4d9221"
            ],
            [
             1,
             "#276419"
            ]
           ],
           "sequential": [
            [
             0,
             "#0d0887"
            ],
            [
             0.1111111111111111,
             "#46039f"
            ],
            [
             0.2222222222222222,
             "#7201a8"
            ],
            [
             0.3333333333333333,
             "#9c179e"
            ],
            [
             0.4444444444444444,
             "#bd3786"
            ],
            [
             0.5555555555555556,
             "#d8576b"
            ],
            [
             0.6666666666666666,
             "#ed7953"
            ],
            [
             0.7777777777777778,
             "#fb9f3a"
            ],
            [
             0.8888888888888888,
             "#fdca26"
            ],
            [
             1,
             "#f0f921"
            ]
           ],
           "sequentialminus": [
            [
             0,
             "#0d0887"
            ],
            [
             0.1111111111111111,
             "#46039f"
            ],
            [
             0.2222222222222222,
             "#7201a8"
            ],
            [
             0.3333333333333333,
             "#9c179e"
            ],
            [
             0.4444444444444444,
             "#bd3786"
            ],
            [
             0.5555555555555556,
             "#d8576b"
            ],
            [
             0.6666666666666666,
             "#ed7953"
            ],
            [
             0.7777777777777778,
             "#fb9f3a"
            ],
            [
             0.8888888888888888,
             "#fdca26"
            ],
            [
             1,
             "#f0f921"
            ]
           ]
          },
          "colorway": [
           "#636efa",
           "#EF553B",
           "#00cc96",
           "#ab63fa",
           "#FFA15A",
           "#19d3f3",
           "#FF6692",
           "#B6E880",
           "#FF97FF",
           "#FECB52"
          ],
          "font": {
           "color": "#2a3f5f"
          },
          "geo": {
           "bgcolor": "white",
           "lakecolor": "white",
           "landcolor": "#E5ECF6",
           "showlakes": true,
           "showland": true,
           "subunitcolor": "white"
          },
          "hoverlabel": {
           "align": "left"
          },
          "hovermode": "closest",
          "mapbox": {
           "style": "light"
          },
          "paper_bgcolor": "white",
          "plot_bgcolor": "#E5ECF6",
          "polar": {
           "angularaxis": {
            "gridcolor": "white",
            "linecolor": "white",
            "ticks": ""
           },
           "bgcolor": "#E5ECF6",
           "radialaxis": {
            "gridcolor": "white",
            "linecolor": "white",
            "ticks": ""
           }
          },
          "scene": {
           "xaxis": {
            "backgroundcolor": "#E5ECF6",
            "gridcolor": "white",
            "gridwidth": 2,
            "linecolor": "white",
            "showbackground": true,
            "ticks": "",
            "zerolinecolor": "white"
           },
           "yaxis": {
            "backgroundcolor": "#E5ECF6",
            "gridcolor": "white",
            "gridwidth": 2,
            "linecolor": "white",
            "showbackground": true,
            "ticks": "",
            "zerolinecolor": "white"
           },
           "zaxis": {
            "backgroundcolor": "#E5ECF6",
            "gridcolor": "white",
            "gridwidth": 2,
            "linecolor": "white",
            "showbackground": true,
            "ticks": "",
            "zerolinecolor": "white"
           }
          },
          "shapedefaults": {
           "line": {
            "color": "#2a3f5f"
           }
          },
          "ternary": {
           "aaxis": {
            "gridcolor": "white",
            "linecolor": "white",
            "ticks": ""
           },
           "baxis": {
            "gridcolor": "white",
            "linecolor": "white",
            "ticks": ""
           },
           "bgcolor": "#E5ECF6",
           "caxis": {
            "gridcolor": "white",
            "linecolor": "white",
            "ticks": ""
           }
          },
          "title": {
           "x": 0.05
          },
          "xaxis": {
           "automargin": true,
           "gridcolor": "white",
           "linecolor": "white",
           "ticks": "",
           "title": {
            "standoff": 15
           },
           "zerolinecolor": "white",
           "zerolinewidth": 2
          },
          "yaxis": {
           "automargin": true,
           "gridcolor": "white",
           "linecolor": "white",
           "ticks": "",
           "title": {
            "standoff": 15
           },
           "zerolinecolor": "white",
           "zerolinewidth": 2
          }
         }
        },
        "title": {
         "text": "Top 95% in PTS, AST, RBS Per Game VS League Average"
        },
        "xaxis": {
         "title": {
          "text": "Stat"
         }
        },
        "yaxis": {
         "title": {
          "text": "# Of Stat"
         }
        }
       }
      }
     },
     "metadata": {},
     "output_type": "display_data"
    }
   ],
   "source": [
    "average_thresholds = get_stat_thresholds(player_stats, 2025, 0.5)\n",
    "\n",
    "fig = go.Figure(data=[\n",
    "    go.Bar(name='Average', x=[\"Points\", \"Assists\", \"Rebounds\"],\n",
    "           y=average_thresholds[[\"pts_per_game\", \"ast_per_game\", \"trb_per_game\"]]),\n",
    "    go.Bar(name='Top 95%', x=[\"Points\", \"Assists\", \"Rebounds\"], \n",
    "           y=season_thresholds.loc[[\"pts_per_game\", \"ast_per_game\", \"trb_per_game\"], 2025])\n",
    "])  \n",
    "           \n",
    "\n",
    "fig.update_layout(barmode='group', yaxis_title=\"# Of Stat\", xaxis_title=\"Stat\",\n",
    "                  title_text=\"Top 95% in PTS, AST, RBS Per Game VS League Average\")\n",
    "\n",
    "fig.show()"
   ]
  },
  {
   "cell_type": "markdown",
   "id": "e17838ae-2a5c-4383-a987-919768d40daa",
   "metadata": {},
   "source": [
    "### Part 2: Nearly There - Calculate Prominence\n",
    "We now have the thresholds for each season for a player to be in the top 95% of the league for the statistic. We now have to check how many All-Stars are at/past this threshold for each season. This will tell us what the prominent statistics are!\n",
    "\n",
    "#### prominent_stats_counter\n",
    "> This method, when given our data and a season, calculates the number of All-Stars for that season that pass each statistic threshold as a Series. We input our threshold list, so it wouldn't be hard-coded as the 95% percentile that we are looking for, and this allows us to test our method properly!"
   ]
  },
  {
   "cell_type": "code",
   "execution_count": 11,
   "id": "d707118f-31a6-438b-b2e5-34eb16b5b945",
   "metadata": {},
   "outputs": [],
   "source": [
    "def prominent_stats_counter(data, stars, thresholds, season):\n",
    "    \"\"\"\n",
    "    Given the All-Star dataset, the minimum percentile thresholds, and a season, return a series\n",
    "    that has the number of All-Stars for the given season that are at or above the given threshold\n",
    "    for each statistic.\n",
    "    \"\"\"\n",
    "    curr_thresholds = thresholds[season]\n",
    "    curr_stars = stars[stars[\"season\"] == season]\n",
    "    curr_data = data[data[\"season\"] == season]\n",
    "    stars_stats = curr_data[curr_data[\"player\"].isin(curr_stars[\"player\"])]\n",
    "    stars_stats = stars_stats.drop([\"seas_id\", \"season\", \"player_id\", \"player\", \"tm\"], axis=1)\n",
    "        \n",
    "    return (stars_stats >= curr_thresholds).sum()\n",
    "\n",
    "# TEST PORTION\n",
    "test_all_stars = all_stars[(all_stars[\"player\"] == \"Anthony Edwards\") |\n",
    "                           (all_stars[\"player\"] == \"Scottie Barnes\") |\n",
    "                           (all_stars[\"player\"] == \"LaMelo Ball\") |\n",
    "                           (all_stars[\"player\"] == \"Ja Morant\") |\n",
    "                           (all_stars[\"player\"] == \"Paolo Banchero\")]\n",
    "\n",
    "test_prominent_stats_counts = pd.DataFrame()\n",
    "test_prominent_stats_counts[2024] = prominent_stats_counter(test_data, test_all_stars, test_thresholds, 2024)\n",
    "test_prominent_stats_counts[2023] = prominent_stats_counter(test_data, test_all_stars, test_thresholds, 2023)\n",
    "assert test_prominent_stats_counts.loc[\"ws\", 2024] == 3\n",
    "assert test_prominent_stats_counts.loc[\"pts_per_game\", 2024] == 2\n",
    "assert test_prominent_stats_counts.loc[\"mp\", 2023] == 1\n",
    "assert test_prominent_stats_counts.loc[\"mp\", 2024] == 2\n",
    "assert test_prominent_stats_counts.loc[\"bpm\", 2023] == 2"
   ]
  },
  {
   "cell_type": "markdown",
   "id": "888f584d-abfc-425c-8789-2ccae0c77f59",
   "metadata": {},
   "source": [
    "#### With this new program, we can create a datasheet of the number of All-Stars that pass the prominence threshold for each season!"
   ]
  },
  {
   "cell_type": "code",
   "execution_count": 12,
   "id": "688a4bcf-13c2-4b7e-99ce-7f420011e2f4",
   "metadata": {},
   "outputs": [],
   "source": [
    "prominent_stats_counts = pd.DataFrame()\n",
    "for season in range(2025, 1974, -1):\n",
    "    prominent_stats_counts[season] = prominent_stats_counter(player_stats, all_stars, \n",
    "                                                      season_thresholds, season)"
   ]
  },
  {
   "cell_type": "markdown",
   "id": "8dff45ce-ad98-42d3-83d9-92e7bc5be7df",
   "metadata": {},
   "source": [
    "Say we want to see the statistics in 2025 with the most amount of All-Star players past the 95% threshold, we can graph it again!"
   ]
  },
  {
   "cell_type": "code",
   "execution_count": 13,
   "id": "1fe96ae4-2a2e-45b2-b0d7-b115e32bb45e",
   "metadata": {},
   "outputs": [
    {
     "data": {
      "application/vnd.plotly.v1+json": {
       "config": {
        "plotlyServerURL": "https://plot.ly"
       },
       "data": [
        {
         "alignmentgroup": "True",
         "hovertemplate": "index=%{x}<br>value=%{y}<br>color=%{marker.color}<extra></extra>",
         "legendgroup": "",
         "marker": {
          "color": [
           5,
           5,
           3,
           9,
           15,
           18,
           18,
           0,
           10,
           9,
           0,
           16,
           17,
           0,
           0,
           17,
           19,
           1,
           5,
           10,
           9,
           12,
           4,
           7,
           11,
           4,
           19,
           12,
           8,
           0,
           0,
           1,
           0,
           5,
           1,
           8,
           0,
           3,
           0,
           15,
           16,
           14,
           18,
           5,
           17,
           2,
           14
          ],
          "coloraxis": "coloraxis",
          "pattern": {
           "shape": ""
          }
         },
         "name": "",
         "offsetgroup": "",
         "orientation": "v",
         "showlegend": false,
         "textposition": "auto",
         "type": "bar",
         "x": [
          "age",
          "experience",
          "g",
          "gs",
          "mp_per_game",
          "fg_per_game",
          "fga_per_game",
          "fg_percent",
          "x3p_per_game",
          "x3pa_per_game",
          "x3p_percent",
          "x2p_per_game",
          "x2pa_per_game",
          "x2p_percent",
          "e_fg_percent",
          "ft_per_game",
          "fta_per_game",
          "ft_percent",
          "orb_per_game",
          "drb_per_game",
          "trb_per_game",
          "ast_per_game",
          "stl_per_game",
          "blk_per_game",
          "tov_per_game",
          "pf_per_game",
          "pts_per_game",
          "mp",
          "per",
          "ts_percent",
          "x3p_ar",
          "f_tr",
          "orb_percent",
          "drb_percent",
          "trb_percent",
          "ast_percent",
          "stl_percent",
          "blk_percent",
          "tov_percent",
          "usg_percent",
          "ows",
          "dws",
          "ws",
          "ws_48",
          "obpm",
          "dbpm",
          "bpm"
         ],
         "xaxis": "x",
         "y": [
          5,
          5,
          3,
          9,
          15,
          18,
          18,
          0,
          10,
          9,
          0,
          16,
          17,
          0,
          0,
          17,
          19,
          1,
          5,
          10,
          9,
          12,
          4,
          7,
          11,
          4,
          19,
          12,
          8,
          0,
          0,
          1,
          0,
          5,
          1,
          8,
          0,
          3,
          0,
          15,
          16,
          14,
          18,
          5,
          17,
          2,
          14
         ],
         "yaxis": "y"
        }
       ],
       "layout": {
        "barmode": "relative",
        "coloraxis": {
         "colorbar": {
          "title": {
           "text": "color"
          }
         },
         "colorscale": [
          [
           0,
           "rgb(252, 222, 156)"
          ],
          [
           0.16666666666666666,
           "rgb(250, 164, 118)"
          ],
          [
           0.3333333333333333,
           "rgb(240, 116, 110)"
          ],
          [
           0.5,
           "rgb(227, 79, 111)"
          ],
          [
           0.6666666666666666,
           "rgb(220, 57, 119)"
          ],
          [
           0.8333333333333334,
           "rgb(185, 37, 122)"
          ],
          [
           1,
           "rgb(124, 29, 111)"
          ]
         ]
        },
        "legend": {
         "tracegroupgap": 0
        },
        "template": {
         "data": {
          "bar": [
           {
            "error_x": {
             "color": "#2a3f5f"
            },
            "error_y": {
             "color": "#2a3f5f"
            },
            "marker": {
             "line": {
              "color": "#E5ECF6",
              "width": 0.5
             },
             "pattern": {
              "fillmode": "overlay",
              "size": 10,
              "solidity": 0.2
             }
            },
            "type": "bar"
           }
          ],
          "barpolar": [
           {
            "marker": {
             "line": {
              "color": "#E5ECF6",
              "width": 0.5
             },
             "pattern": {
              "fillmode": "overlay",
              "size": 10,
              "solidity": 0.2
             }
            },
            "type": "barpolar"
           }
          ],
          "carpet": [
           {
            "aaxis": {
             "endlinecolor": "#2a3f5f",
             "gridcolor": "white",
             "linecolor": "white",
             "minorgridcolor": "white",
             "startlinecolor": "#2a3f5f"
            },
            "baxis": {
             "endlinecolor": "#2a3f5f",
             "gridcolor": "white",
             "linecolor": "white",
             "minorgridcolor": "white",
             "startlinecolor": "#2a3f5f"
            },
            "type": "carpet"
           }
          ],
          "choropleth": [
           {
            "colorbar": {
             "outlinewidth": 0,
             "ticks": ""
            },
            "type": "choropleth"
           }
          ],
          "contour": [
           {
            "colorbar": {
             "outlinewidth": 0,
             "ticks": ""
            },
            "colorscale": [
             [
              0,
              "#0d0887"
             ],
             [
              0.1111111111111111,
              "#46039f"
             ],
             [
              0.2222222222222222,
              "#7201a8"
             ],
             [
              0.3333333333333333,
              "#9c179e"
             ],
             [
              0.4444444444444444,
              "#bd3786"
             ],
             [
              0.5555555555555556,
              "#d8576b"
             ],
             [
              0.6666666666666666,
              "#ed7953"
             ],
             [
              0.7777777777777778,
              "#fb9f3a"
             ],
             [
              0.8888888888888888,
              "#fdca26"
             ],
             [
              1,
              "#f0f921"
             ]
            ],
            "type": "contour"
           }
          ],
          "contourcarpet": [
           {
            "colorbar": {
             "outlinewidth": 0,
             "ticks": ""
            },
            "type": "contourcarpet"
           }
          ],
          "heatmap": [
           {
            "colorbar": {
             "outlinewidth": 0,
             "ticks": ""
            },
            "colorscale": [
             [
              0,
              "#0d0887"
             ],
             [
              0.1111111111111111,
              "#46039f"
             ],
             [
              0.2222222222222222,
              "#7201a8"
             ],
             [
              0.3333333333333333,
              "#9c179e"
             ],
             [
              0.4444444444444444,
              "#bd3786"
             ],
             [
              0.5555555555555556,
              "#d8576b"
             ],
             [
              0.6666666666666666,
              "#ed7953"
             ],
             [
              0.7777777777777778,
              "#fb9f3a"
             ],
             [
              0.8888888888888888,
              "#fdca26"
             ],
             [
              1,
              "#f0f921"
             ]
            ],
            "type": "heatmap"
           }
          ],
          "heatmapgl": [
           {
            "colorbar": {
             "outlinewidth": 0,
             "ticks": ""
            },
            "colorscale": [
             [
              0,
              "#0d0887"
             ],
             [
              0.1111111111111111,
              "#46039f"
             ],
             [
              0.2222222222222222,
              "#7201a8"
             ],
             [
              0.3333333333333333,
              "#9c179e"
             ],
             [
              0.4444444444444444,
              "#bd3786"
             ],
             [
              0.5555555555555556,
              "#d8576b"
             ],
             [
              0.6666666666666666,
              "#ed7953"
             ],
             [
              0.7777777777777778,
              "#fb9f3a"
             ],
             [
              0.8888888888888888,
              "#fdca26"
             ],
             [
              1,
              "#f0f921"
             ]
            ],
            "type": "heatmapgl"
           }
          ],
          "histogram": [
           {
            "marker": {
             "pattern": {
              "fillmode": "overlay",
              "size": 10,
              "solidity": 0.2
             }
            },
            "type": "histogram"
           }
          ],
          "histogram2d": [
           {
            "colorbar": {
             "outlinewidth": 0,
             "ticks": ""
            },
            "colorscale": [
             [
              0,
              "#0d0887"
             ],
             [
              0.1111111111111111,
              "#46039f"
             ],
             [
              0.2222222222222222,
              "#7201a8"
             ],
             [
              0.3333333333333333,
              "#9c179e"
             ],
             [
              0.4444444444444444,
              "#bd3786"
             ],
             [
              0.5555555555555556,
              "#d8576b"
             ],
             [
              0.6666666666666666,
              "#ed7953"
             ],
             [
              0.7777777777777778,
              "#fb9f3a"
             ],
             [
              0.8888888888888888,
              "#fdca26"
             ],
             [
              1,
              "#f0f921"
             ]
            ],
            "type": "histogram2d"
           }
          ],
          "histogram2dcontour": [
           {
            "colorbar": {
             "outlinewidth": 0,
             "ticks": ""
            },
            "colorscale": [
             [
              0,
              "#0d0887"
             ],
             [
              0.1111111111111111,
              "#46039f"
             ],
             [
              0.2222222222222222,
              "#7201a8"
             ],
             [
              0.3333333333333333,
              "#9c179e"
             ],
             [
              0.4444444444444444,
              "#bd3786"
             ],
             [
              0.5555555555555556,
              "#d8576b"
             ],
             [
              0.6666666666666666,
              "#ed7953"
             ],
             [
              0.7777777777777778,
              "#fb9f3a"
             ],
             [
              0.8888888888888888,
              "#fdca26"
             ],
             [
              1,
              "#f0f921"
             ]
            ],
            "type": "histogram2dcontour"
           }
          ],
          "mesh3d": [
           {
            "colorbar": {
             "outlinewidth": 0,
             "ticks": ""
            },
            "type": "mesh3d"
           }
          ],
          "parcoords": [
           {
            "line": {
             "colorbar": {
              "outlinewidth": 0,
              "ticks": ""
             }
            },
            "type": "parcoords"
           }
          ],
          "pie": [
           {
            "automargin": true,
            "type": "pie"
           }
          ],
          "scatter": [
           {
            "fillpattern": {
             "fillmode": "overlay",
             "size": 10,
             "solidity": 0.2
            },
            "type": "scatter"
           }
          ],
          "scatter3d": [
           {
            "line": {
             "colorbar": {
              "outlinewidth": 0,
              "ticks": ""
             }
            },
            "marker": {
             "colorbar": {
              "outlinewidth": 0,
              "ticks": ""
             }
            },
            "type": "scatter3d"
           }
          ],
          "scattercarpet": [
           {
            "marker": {
             "colorbar": {
              "outlinewidth": 0,
              "ticks": ""
             }
            },
            "type": "scattercarpet"
           }
          ],
          "scattergeo": [
           {
            "marker": {
             "colorbar": {
              "outlinewidth": 0,
              "ticks": ""
             }
            },
            "type": "scattergeo"
           }
          ],
          "scattergl": [
           {
            "marker": {
             "colorbar": {
              "outlinewidth": 0,
              "ticks": ""
             }
            },
            "type": "scattergl"
           }
          ],
          "scattermapbox": [
           {
            "marker": {
             "colorbar": {
              "outlinewidth": 0,
              "ticks": ""
             }
            },
            "type": "scattermapbox"
           }
          ],
          "scatterpolar": [
           {
            "marker": {
             "colorbar": {
              "outlinewidth": 0,
              "ticks": ""
             }
            },
            "type": "scatterpolar"
           }
          ],
          "scatterpolargl": [
           {
            "marker": {
             "colorbar": {
              "outlinewidth": 0,
              "ticks": ""
             }
            },
            "type": "scatterpolargl"
           }
          ],
          "scatterternary": [
           {
            "marker": {
             "colorbar": {
              "outlinewidth": 0,
              "ticks": ""
             }
            },
            "type": "scatterternary"
           }
          ],
          "surface": [
           {
            "colorbar": {
             "outlinewidth": 0,
             "ticks": ""
            },
            "colorscale": [
             [
              0,
              "#0d0887"
             ],
             [
              0.1111111111111111,
              "#46039f"
             ],
             [
              0.2222222222222222,
              "#7201a8"
             ],
             [
              0.3333333333333333,
              "#9c179e"
             ],
             [
              0.4444444444444444,
              "#bd3786"
             ],
             [
              0.5555555555555556,
              "#d8576b"
             ],
             [
              0.6666666666666666,
              "#ed7953"
             ],
             [
              0.7777777777777778,
              "#fb9f3a"
             ],
             [
              0.8888888888888888,
              "#fdca26"
             ],
             [
              1,
              "#f0f921"
             ]
            ],
            "type": "surface"
           }
          ],
          "table": [
           {
            "cells": {
             "fill": {
              "color": "#EBF0F8"
             },
             "line": {
              "color": "white"
             }
            },
            "header": {
             "fill": {
              "color": "#C8D4E3"
             },
             "line": {
              "color": "white"
             }
            },
            "type": "table"
           }
          ]
         },
         "layout": {
          "annotationdefaults": {
           "arrowcolor": "#2a3f5f",
           "arrowhead": 0,
           "arrowwidth": 1
          },
          "autotypenumbers": "strict",
          "coloraxis": {
           "colorbar": {
            "outlinewidth": 0,
            "ticks": ""
           }
          },
          "colorscale": {
           "diverging": [
            [
             0,
             "#8e0152"
            ],
            [
             0.1,
             "#c51b7d"
            ],
            [
             0.2,
             "#de77ae"
            ],
            [
             0.3,
             "#f1b6da"
            ],
            [
             0.4,
             "#fde0ef"
            ],
            [
             0.5,
             "#f7f7f7"
            ],
            [
             0.6,
             "#e6f5d0"
            ],
            [
             0.7,
             "#b8e186"
            ],
            [
             0.8,
             "#7fbc41"
            ],
            [
             0.9,
             "#4d9221"
            ],
            [
             1,
             "#276419"
            ]
           ],
           "sequential": [
            [
             0,
             "#0d0887"
            ],
            [
             0.1111111111111111,
             "#46039f"
            ],
            [
             0.2222222222222222,
             "#7201a8"
            ],
            [
             0.3333333333333333,
             "#9c179e"
            ],
            [
             0.4444444444444444,
             "#bd3786"
            ],
            [
             0.5555555555555556,
             "#d8576b"
            ],
            [
             0.6666666666666666,
             "#ed7953"
            ],
            [
             0.7777777777777778,
             "#fb9f3a"
            ],
            [
             0.8888888888888888,
             "#fdca26"
            ],
            [
             1,
             "#f0f921"
            ]
           ],
           "sequentialminus": [
            [
             0,
             "#0d0887"
            ],
            [
             0.1111111111111111,
             "#46039f"
            ],
            [
             0.2222222222222222,
             "#7201a8"
            ],
            [
             0.3333333333333333,
             "#9c179e"
            ],
            [
             0.4444444444444444,
             "#bd3786"
            ],
            [
             0.5555555555555556,
             "#d8576b"
            ],
            [
             0.6666666666666666,
             "#ed7953"
            ],
            [
             0.7777777777777778,
             "#fb9f3a"
            ],
            [
             0.8888888888888888,
             "#fdca26"
            ],
            [
             1,
             "#f0f921"
            ]
           ]
          },
          "colorway": [
           "#636efa",
           "#EF553B",
           "#00cc96",
           "#ab63fa",
           "#FFA15A",
           "#19d3f3",
           "#FF6692",
           "#B6E880",
           "#FF97FF",
           "#FECB52"
          ],
          "font": {
           "color": "#2a3f5f"
          },
          "geo": {
           "bgcolor": "white",
           "lakecolor": "white",
           "landcolor": "#E5ECF6",
           "showlakes": true,
           "showland": true,
           "subunitcolor": "white"
          },
          "hoverlabel": {
           "align": "left"
          },
          "hovermode": "closest",
          "mapbox": {
           "style": "light"
          },
          "paper_bgcolor": "white",
          "plot_bgcolor": "#E5ECF6",
          "polar": {
           "angularaxis": {
            "gridcolor": "white",
            "linecolor": "white",
            "ticks": ""
           },
           "bgcolor": "#E5ECF6",
           "radialaxis": {
            "gridcolor": "white",
            "linecolor": "white",
            "ticks": ""
           }
          },
          "scene": {
           "xaxis": {
            "backgroundcolor": "#E5ECF6",
            "gridcolor": "white",
            "gridwidth": 2,
            "linecolor": "white",
            "showbackground": true,
            "ticks": "",
            "zerolinecolor": "white"
           },
           "yaxis": {
            "backgroundcolor": "#E5ECF6",
            "gridcolor": "white",
            "gridwidth": 2,
            "linecolor": "white",
            "showbackground": true,
            "ticks": "",
            "zerolinecolor": "white"
           },
           "zaxis": {
            "backgroundcolor": "#E5ECF6",
            "gridcolor": "white",
            "gridwidth": 2,
            "linecolor": "white",
            "showbackground": true,
            "ticks": "",
            "zerolinecolor": "white"
           }
          },
          "shapedefaults": {
           "line": {
            "color": "#2a3f5f"
           }
          },
          "ternary": {
           "aaxis": {
            "gridcolor": "white",
            "linecolor": "white",
            "ticks": ""
           },
           "baxis": {
            "gridcolor": "white",
            "linecolor": "white",
            "ticks": ""
           },
           "bgcolor": "#E5ECF6",
           "caxis": {
            "gridcolor": "white",
            "linecolor": "white",
            "ticks": ""
           }
          },
          "title": {
           "x": 0.05
          },
          "xaxis": {
           "automargin": true,
           "gridcolor": "white",
           "linecolor": "white",
           "ticks": "",
           "title": {
            "standoff": 15
           },
           "zerolinecolor": "white",
           "zerolinewidth": 2
          },
          "yaxis": {
           "automargin": true,
           "gridcolor": "white",
           "linecolor": "white",
           "ticks": "",
           "title": {
            "standoff": 15
           },
           "zerolinecolor": "white",
           "zerolinewidth": 2
          }
         }
        },
        "title": {
         "text": "2025 Prominent Statistics by # Of All-Stars in the top 95%"
        },
        "xaxis": {
         "anchor": "y",
         "domain": [
          0,
          1
         ],
         "tickangle": -45,
         "title": {
          "text": "Stat"
         }
        },
        "yaxis": {
         "anchor": "x",
         "domain": [
          0,
          1
         ],
         "title": {
          "text": "# of All-Stars"
         }
        }
       }
      }
     },
     "metadata": {},
     "output_type": "display_data"
    }
   ],
   "source": [
    "fig = px.bar(prominent_stats_counts[2025], color=prominent_stats_counts[2025].values,\n",
    "             color_continuous_scale='sunsetdark',\n",
    "             title=\"2025 Prominent Statistics by # Of All-Stars in the top 95%\")\n",
    "fig.update_xaxes(tickangle=-45)\n",
    "fig.update_layout(xaxis_title=\"Stat\", yaxis_title=\"# of All-Stars\")\n",
    "\n",
    "fig.show()"
   ]
  },
  {
   "cell_type": "markdown",
   "id": "a5e527f3-ed82-437e-9a51-a06574786c6d",
   "metadata": {},
   "source": [
    "### Part 3: Final Step - Get the Prominent Statistics\n",
    "We're nearly there! Now that we have the counts for each prominent statistic, we just need to get the top 6 largest counts for each season of the prominent_stats_counts, then those will be the six most individually important stats for All-Stars for the given season. If there are ties in numbers, we can include those stats as they would be in the top 6.\n",
    "\n",
    "#### get_prominent_stats\n",
    "> This program aims to get the top 6 stats that the most All-Stars excel in. There is a chance for ties between seasons, and in that case, since I want to keep it to 6 statistics, the earliest occurring columns in the dataset that are tied for 6th will appear first."
   ]
  },
  {
   "cell_type": "code",
   "execution_count": 14,
   "id": "2cd6d5b4-7b6a-4a04-a012-3cbcf3d17635",
   "metadata": {},
   "outputs": [],
   "source": [
    "def get_prominent_stats(counts, season):\n",
    "    \"\"\"\n",
    "    Given a counter of the All-Stars who pass the prominent stats thresholds and a season, returns\n",
    "    the top six stats with the most All-Stars at or above that stat threshold from that season. In\n",
    "    the instance of a tie, takes the earliest apparent column statistic to maintain 6 statistics.\n",
    "    \"\"\"\n",
    "    curr_counts = counts[season]\n",
    "    minimum_threshold = curr_counts.quantile(1 - (6 / len(curr_counts)))\n",
    "    return curr_counts[curr_counts >= minimum_threshold].sort_values(ascending=False)[0:6].index\n",
    "\n",
    "# TEST PORTION\n",
    "test_prominent_stats = pd.DataFrame()\n",
    "test_prominent_stats[2024] = get_prominent_stats(test_prominent_stats_counts, 2024)\n",
    "test_prominent_stats[2023] = get_prominent_stats(test_prominent_stats_counts, 2023)\n",
    "assert test_prominent_stats.loc[0, 2024] == \"mp_per_game\"\n",
    "assert test_prominent_stats.loc[2, 2024] == \"ows\"\n",
    "assert test_prominent_stats.loc[3, 2023] == \"obpm\"\n",
    "assert test_prominent_stats.loc[1, 2023] == \"experience\""
   ]
  },
  {
   "cell_type": "markdown",
   "id": "5afcc67a-4f6c-4e5a-ae3c-2d8e634114d0",
   "metadata": {},
   "source": [
    "#### Great! Now we can create a datasheet of the six prominent stats for each season, then we're done!"
   ]
  },
  {
   "cell_type": "code",
   "execution_count": 15,
   "id": "b8e69d7c-6bc2-42e6-8a77-4abdf5d9ca73",
   "metadata": {},
   "outputs": [],
   "source": [
    "prominent_stats = pd.DataFrame()\n",
    "for season in range(2025, 1974, -1):\n",
    "    prominent_stats[season] = get_prominent_stats(prominent_stats_counts, season)"
   ]
  },
  {
   "cell_type": "markdown",
   "id": "d65440b5-8db1-4b84-acfa-0f9fb2b206dc",
   "metadata": {},
   "source": [
    " Now, we have all of the prominent statistics for any given season, and if we want to look at a specific season's prominent statistics, we can simply use the dataframe and access are season through that!\n",
    "\n",
    "> For the latest 2025 season, we can see that the most valued statistics by fans, media, and players are the following:"
   ]
  },
  {
   "cell_type": "code",
   "execution_count": 16,
   "id": "8991aad1-f341-417d-b896-b167f7012047",
   "metadata": {},
   "outputs": [
    {
     "data": {
      "text/plain": [
       "0     fta_per_game\n",
       "1     pts_per_game\n",
       "2      fg_per_game\n",
       "3     fga_per_game\n",
       "4               ws\n",
       "5    x2pa_per_game\n",
       "Name: 2025, dtype: object"
      ]
     },
     "execution_count": 16,
     "metadata": {},
     "output_type": "execute_result"
    }
   ],
   "source": [
    "prominent_stats[2025]"
   ]
  },
  {
   "cell_type": "markdown",
   "id": "c95ebb68-939b-484b-be3a-586c84cb6277",
   "metadata": {},
   "source": [
    "We have:\n",
    "> \n",
    "> 1: **Free-Throw Attempts Per Game**\n",
    "> \n",
    "> 2: **Points Per Game**\n",
    "> \n",
    "> 3: **Field Goals Per Game**\n",
    "> \n",
    "> 4: **Field Goal Attempts Per Game**\n",
    "> \n",
    "> 5: **Win Shares**\n",
    ">\n",
    "> 6: **Two-Pointers Attempted Per Game**"
   ]
  },
  {
   "cell_type": "markdown",
   "id": "e18f88c8-782b-464c-947f-92a5052bc3e9",
   "metadata": {},
   "source": [
    "#### With this new program as well, we can look at every season's prominent stats, and see which ones appear most often!"
   ]
  },
  {
   "cell_type": "code",
   "execution_count": 17,
   "id": "ff26952d-b00a-4ca7-a029-743882a3b681",
   "metadata": {},
   "outputs": [
    {
     "data": {
      "application/vnd.plotly.v1+json": {
       "config": {
        "plotlyServerURL": "https://plot.ly"
       },
       "data": [
        {
         "alignmentgroup": "True",
         "hovertemplate": "variable=2025<br>value=%{x}<br>count=%{y}<extra></extra>",
         "legendgroup": "2025",
         "marker": {
          "color": "#636efa",
          "pattern": {
           "shape": ""
          }
         },
         "name": "2025",
         "offsetgroup": "2025",
         "orientation": "v",
         "showlegend": true,
         "textposition": "auto",
         "type": "bar",
         "x": [
          "fta_per_game",
          "pts_per_game",
          "fg_per_game",
          "fga_per_game",
          "ws",
          "x2pa_per_game"
         ],
         "xaxis": "x",
         "y": [
          1,
          1,
          1,
          1,
          1,
          1
         ],
         "yaxis": "y"
        },
        {
         "alignmentgroup": "True",
         "hovertemplate": "variable=2024<br>value=%{x}<br>count=%{y}<extra></extra>",
         "legendgroup": "2024",
         "marker": {
          "color": "#EF553B",
          "pattern": {
           "shape": ""
          }
         },
         "name": "2024",
         "offsetgroup": "2024",
         "orientation": "v",
         "showlegend": true,
         "textposition": "auto",
         "type": "bar",
         "x": [
          "fga_per_game",
          "pts_per_game",
          "ft_per_game",
          "fg_per_game",
          "fta_per_game",
          "ws"
         ],
         "xaxis": "x",
         "y": [
          1,
          1,
          1,
          1,
          1,
          1
         ],
         "yaxis": "y"
        },
        {
         "alignmentgroup": "True",
         "hovertemplate": "variable=2023<br>value=%{x}<br>count=%{y}<extra></extra>",
         "legendgroup": "2023",
         "marker": {
          "color": "#00cc96",
          "pattern": {
           "shape": ""
          }
         },
         "name": "2023",
         "offsetgroup": "2023",
         "orientation": "v",
         "showlegend": true,
         "textposition": "auto",
         "type": "bar",
         "x": [
          "pts_per_game",
          "fg_per_game",
          "x2p_per_game",
          "fga_per_game",
          "ft_per_game",
          "fta_per_game"
         ],
         "xaxis": "x",
         "y": [
          1,
          1,
          1,
          1,
          1,
          1
         ],
         "yaxis": "y"
        },
        {
         "alignmentgroup": "True",
         "hovertemplate": "variable=2022<br>value=%{x}<br>count=%{y}<extra></extra>",
         "legendgroup": "2022",
         "marker": {
          "color": "#ab63fa",
          "pattern": {
           "shape": ""
          }
         },
         "name": "2022",
         "offsetgroup": "2022",
         "orientation": "v",
         "showlegend": true,
         "textposition": "auto",
         "type": "bar",
         "x": [
          "pts_per_game",
          "fga_per_game",
          "ft_per_game",
          "tov_per_game",
          "ows",
          "ws"
         ],
         "xaxis": "x",
         "y": [
          1,
          1,
          1,
          1,
          1,
          1
         ],
         "yaxis": "y"
        },
        {
         "alignmentgroup": "True",
         "hovertemplate": "variable=2021<br>value=%{x}<br>count=%{y}<extra></extra>",
         "legendgroup": "2021",
         "marker": {
          "color": "#FFA15A",
          "pattern": {
           "shape": ""
          }
         },
         "name": "2021",
         "offsetgroup": "2021",
         "orientation": "v",
         "showlegend": true,
         "textposition": "auto",
         "type": "bar",
         "x": [
          "fg_per_game",
          "pts_per_game",
          "bpm",
          "obpm",
          "fga_per_game",
          "ft_per_game"
         ],
         "xaxis": "x",
         "y": [
          1,
          1,
          1,
          1,
          1,
          1
         ],
         "yaxis": "y"
        },
        {
         "alignmentgroup": "True",
         "hovertemplate": "variable=2020<br>value=%{x}<br>count=%{y}<extra></extra>",
         "legendgroup": "2020",
         "marker": {
          "color": "#19d3f3",
          "pattern": {
           "shape": ""
          }
         },
         "name": "2020",
         "offsetgroup": "2020",
         "orientation": "v",
         "showlegend": true,
         "textposition": "auto",
         "type": "bar",
         "x": [
          "bpm",
          "ows",
          "ws",
          "fta_per_game",
          "dws",
          "mp_per_game"
         ],
         "xaxis": "x",
         "y": [
          1,
          1,
          1,
          1,
          1,
          1
         ],
         "yaxis": "y"
        },
        {
         "alignmentgroup": "True",
         "hovertemplate": "variable=2019<br>value=%{x}<br>count=%{y}<extra></extra>",
         "legendgroup": "2019",
         "marker": {
          "color": "#FF6692",
          "pattern": {
           "shape": ""
          }
         },
         "name": "2019",
         "offsetgroup": "2019",
         "orientation": "v",
         "showlegend": true,
         "textposition": "auto",
         "type": "bar",
         "x": [
          "fg_per_game",
          "fga_per_game",
          "pts_per_game",
          "ows",
          "ws",
          "x2pa_per_game"
         ],
         "xaxis": "x",
         "y": [
          1,
          1,
          1,
          1,
          1,
          1
         ],
         "yaxis": "y"
        },
        {
         "alignmentgroup": "True",
         "hovertemplate": "variable=2018<br>value=%{x}<br>count=%{y}<extra></extra>",
         "legendgroup": "2018",
         "marker": {
          "color": "#B6E880",
          "pattern": {
           "shape": ""
          }
         },
         "name": "2018",
         "offsetgroup": "2018",
         "orientation": "v",
         "showlegend": true,
         "textposition": "auto",
         "type": "bar",
         "x": [
          "fta_per_game",
          "pts_per_game",
          "fg_per_game",
          "fga_per_game",
          "ft_per_game",
          "ows"
         ],
         "xaxis": "x",
         "y": [
          1,
          1,
          1,
          1,
          1,
          1
         ],
         "yaxis": "y"
        },
        {
         "alignmentgroup": "True",
         "hovertemplate": "variable=2017<br>value=%{x}<br>count=%{y}<extra></extra>",
         "legendgroup": "2017",
         "marker": {
          "color": "#FF97FF",
          "pattern": {
           "shape": ""
          }
         },
         "name": "2017",
         "offsetgroup": "2017",
         "orientation": "v",
         "showlegend": true,
         "textposition": "auto",
         "type": "bar",
         "x": [
          "pts_per_game",
          "fg_per_game",
          "fga_per_game",
          "mp_per_game",
          "ft_per_game",
          "fta_per_game"
         ],
         "xaxis": "x",
         "y": [
          1,
          1,
          1,
          1,
          1,
          1
         ],
         "yaxis": "y"
        },
        {
         "alignmentgroup": "True",
         "hovertemplate": "variable=2016<br>value=%{x}<br>count=%{y}<extra></extra>",
         "legendgroup": "2016",
         "marker": {
          "color": "#FECB52",
          "pattern": {
           "shape": ""
          }
         },
         "name": "2016",
         "offsetgroup": "2016",
         "orientation": "v",
         "showlegend": true,
         "textposition": "auto",
         "type": "bar",
         "x": [
          "fg_per_game",
          "ft_per_game",
          "pts_per_game",
          "ws",
          "fga_per_game",
          "fta_per_game"
         ],
         "xaxis": "x",
         "y": [
          1,
          1,
          1,
          1,
          1,
          1
         ],
         "yaxis": "y"
        },
        {
         "alignmentgroup": "True",
         "hovertemplate": "variable=2015<br>value=%{x}<br>count=%{y}<extra></extra>",
         "legendgroup": "2015",
         "marker": {
          "color": "#636efa",
          "pattern": {
           "shape": ""
          }
         },
         "name": "2015",
         "offsetgroup": "2015",
         "orientation": "v",
         "showlegend": true,
         "textposition": "auto",
         "type": "bar",
         "x": [
          "fg_per_game",
          "pts_per_game",
          "ws",
          "ows",
          "fga_per_game",
          "ft_per_game"
         ],
         "xaxis": "x",
         "y": [
          1,
          1,
          1,
          1,
          1,
          1
         ],
         "yaxis": "y"
        },
        {
         "alignmentgroup": "True",
         "hovertemplate": "variable=2014<br>value=%{x}<br>count=%{y}<extra></extra>",
         "legendgroup": "2014",
         "marker": {
          "color": "#EF553B",
          "pattern": {
           "shape": ""
          }
         },
         "name": "2014",
         "offsetgroup": "2014",
         "orientation": "v",
         "showlegend": true,
         "textposition": "auto",
         "type": "bar",
         "x": [
          "pts_per_game",
          "ws",
          "per",
          "ows",
          "mp_per_game",
          "fg_per_game"
         ],
         "xaxis": "x",
         "y": [
          1,
          1,
          1,
          1,
          1,
          1
         ],
         "yaxis": "y"
        },
        {
         "alignmentgroup": "True",
         "hovertemplate": "variable=2013<br>value=%{x}<br>count=%{y}<extra></extra>",
         "legendgroup": "2013",
         "marker": {
          "color": "#00cc96",
          "pattern": {
           "shape": ""
          }
         },
         "name": "2013",
         "offsetgroup": "2013",
         "orientation": "v",
         "showlegend": true,
         "textposition": "auto",
         "type": "bar",
         "x": [
          "ws",
          "x2p_per_game",
          "fg_per_game",
          "x2pa_per_game",
          "pts_per_game",
          "ows"
         ],
         "xaxis": "x",
         "y": [
          1,
          1,
          1,
          1,
          1,
          1
         ],
         "yaxis": "y"
        },
        {
         "alignmentgroup": "True",
         "hovertemplate": "variable=2012<br>value=%{x}<br>count=%{y}<extra></extra>",
         "legendgroup": "2012",
         "marker": {
          "color": "#ab63fa",
          "pattern": {
           "shape": ""
          }
         },
         "name": "2012",
         "offsetgroup": "2012",
         "orientation": "v",
         "showlegend": true,
         "textposition": "auto",
         "type": "bar",
         "x": [
          "fg_per_game",
          "pts_per_game",
          "mp_per_game",
          "fta_per_game",
          "ws",
          "x2pa_per_game"
         ],
         "xaxis": "x",
         "y": [
          1,
          1,
          1,
          1,
          1,
          1
         ],
         "yaxis": "y"
        },
        {
         "alignmentgroup": "True",
         "hovertemplate": "variable=2011<br>value=%{x}<br>count=%{y}<extra></extra>",
         "legendgroup": "2011",
         "marker": {
          "color": "#FFA15A",
          "pattern": {
           "shape": ""
          }
         },
         "name": "2011",
         "offsetgroup": "2011",
         "orientation": "v",
         "showlegend": true,
         "textposition": "auto",
         "type": "bar",
         "x": [
          "per",
          "ows",
          "ws",
          "ft_per_game",
          "pts_per_game",
          "fta_per_game"
         ],
         "xaxis": "x",
         "y": [
          1,
          1,
          1,
          1,
          1,
          1
         ],
         "yaxis": "y"
        },
        {
         "alignmentgroup": "True",
         "hovertemplate": "variable=2010<br>value=%{x}<br>count=%{y}<extra></extra>",
         "legendgroup": "2010",
         "marker": {
          "color": "#19d3f3",
          "pattern": {
           "shape": ""
          }
         },
         "name": "2010",
         "offsetgroup": "2010",
         "orientation": "v",
         "showlegend": true,
         "textposition": "auto",
         "type": "bar",
         "x": [
          "ws",
          "ows",
          "fg_per_game",
          "bpm",
          "x2p_per_game",
          "ft_per_game"
         ],
         "xaxis": "x",
         "y": [
          1,
          1,
          1,
          1,
          1,
          1
         ],
         "yaxis": "y"
        },
        {
         "alignmentgroup": "True",
         "hovertemplate": "variable=2009<br>value=%{x}<br>count=%{y}<extra></extra>",
         "legendgroup": "2009",
         "marker": {
          "color": "#FF6692",
          "pattern": {
           "shape": ""
          }
         },
         "name": "2009",
         "offsetgroup": "2009",
         "orientation": "v",
         "showlegend": true,
         "textposition": "auto",
         "type": "bar",
         "x": [
          "fta_per_game",
          "ows",
          "ft_per_game",
          "ws",
          "x2p_per_game",
          "x2pa_per_game"
         ],
         "xaxis": "x",
         "y": [
          1,
          1,
          1,
          1,
          1,
          1
         ],
         "yaxis": "y"
        },
        {
         "alignmentgroup": "True",
         "hovertemplate": "variable=2008<br>value=%{x}<br>count=%{y}<extra></extra>",
         "legendgroup": "2008",
         "marker": {
          "color": "#B6E880",
          "pattern": {
           "shape": ""
          }
         },
         "name": "2008",
         "offsetgroup": "2008",
         "orientation": "v",
         "showlegend": true,
         "textposition": "auto",
         "type": "bar",
         "x": [
          "fg_per_game",
          "per",
          "ws",
          "fga_per_game",
          "pts_per_game",
          "obpm"
         ],
         "xaxis": "x",
         "y": [
          1,
          1,
          1,
          1,
          1,
          1
         ],
         "yaxis": "y"
        },
        {
         "alignmentgroup": "True",
         "hovertemplate": "variable=2007<br>value=%{x}<br>count=%{y}<extra></extra>",
         "legendgroup": "2007",
         "marker": {
          "color": "#FF97FF",
          "pattern": {
           "shape": ""
          }
         },
         "name": "2007",
         "offsetgroup": "2007",
         "orientation": "v",
         "showlegend": true,
         "textposition": "auto",
         "type": "bar",
         "x": [
          "fg_per_game",
          "x2p_per_game",
          "x2pa_per_game",
          "fga_per_game",
          "per",
          "usg_percent"
         ],
         "xaxis": "x",
         "y": [
          1,
          1,
          1,
          1,
          1,
          1
         ],
         "yaxis": "y"
        },
        {
         "alignmentgroup": "True",
         "hovertemplate": "variable=2006<br>value=%{x}<br>count=%{y}<extra></extra>",
         "legendgroup": "2006",
         "marker": {
          "color": "#FECB52",
          "pattern": {
           "shape": ""
          }
         },
         "name": "2006",
         "offsetgroup": "2006",
         "orientation": "v",
         "showlegend": true,
         "textposition": "auto",
         "type": "bar",
         "x": [
          "fg_per_game",
          "x2p_per_game",
          "x2pa_per_game",
          "per",
          "pts_per_game",
          "ws"
         ],
         "xaxis": "x",
         "y": [
          1,
          1,
          1,
          1,
          1,
          1
         ],
         "yaxis": "y"
        },
        {
         "alignmentgroup": "True",
         "hovertemplate": "variable=2005<br>value=%{x}<br>count=%{y}<extra></extra>",
         "legendgroup": "2005",
         "marker": {
          "color": "#636efa",
          "pattern": {
           "shape": ""
          }
         },
         "name": "2005",
         "offsetgroup": "2005",
         "orientation": "v",
         "showlegend": true,
         "textposition": "auto",
         "type": "bar",
         "x": [
          "ws",
          "fg_per_game",
          "ft_per_game",
          "fta_per_game",
          "per",
          "ows"
         ],
         "xaxis": "x",
         "y": [
          1,
          1,
          1,
          1,
          1,
          1
         ],
         "yaxis": "y"
        },
        {
         "alignmentgroup": "True",
         "hovertemplate": "variable=2004<br>value=%{x}<br>count=%{y}<extra></extra>",
         "legendgroup": "2004",
         "marker": {
          "color": "#EF553B",
          "pattern": {
           "shape": ""
          }
         },
         "name": "2004",
         "offsetgroup": "2004",
         "orientation": "v",
         "showlegend": true,
         "textposition": "auto",
         "type": "bar",
         "x": [
          "ft_per_game",
          "fta_per_game",
          "fg_per_game",
          "pts_per_game",
          "bpm",
          "obpm"
         ],
         "xaxis": "x",
         "y": [
          1,
          1,
          1,
          1,
          1,
          1
         ],
         "yaxis": "y"
        },
        {
         "alignmentgroup": "True",
         "hovertemplate": "variable=2003<br>value=%{x}<br>count=%{y}<extra></extra>",
         "legendgroup": "2003",
         "marker": {
          "color": "#00cc96",
          "pattern": {
           "shape": ""
          }
         },
         "name": "2003",
         "offsetgroup": "2003",
         "orientation": "v",
         "showlegend": true,
         "textposition": "auto",
         "type": "bar",
         "x": [
          "fg_per_game",
          "ws",
          "mp_per_game",
          "fga_per_game",
          "x2p_per_game",
          "x2pa_per_game"
         ],
         "xaxis": "x",
         "y": [
          1,
          1,
          1,
          1,
          1,
          1
         ],
         "yaxis": "y"
        },
        {
         "alignmentgroup": "True",
         "hovertemplate": "variable=2002<br>value=%{x}<br>count=%{y}<extra></extra>",
         "legendgroup": "2002",
         "marker": {
          "color": "#ab63fa",
          "pattern": {
           "shape": ""
          }
         },
         "name": "2002",
         "offsetgroup": "2002",
         "orientation": "v",
         "showlegend": true,
         "textposition": "auto",
         "type": "bar",
         "x": [
          "pts_per_game",
          "fg_per_game",
          "ft_per_game",
          "fta_per_game",
          "per",
          "ws"
         ],
         "xaxis": "x",
         "y": [
          1,
          1,
          1,
          1,
          1,
          1
         ],
         "yaxis": "y"
        },
        {
         "alignmentgroup": "True",
         "hovertemplate": "variable=2001<br>value=%{x}<br>count=%{y}<extra></extra>",
         "legendgroup": "2001",
         "marker": {
          "color": "#FFA15A",
          "pattern": {
           "shape": ""
          }
         },
         "name": "2001",
         "offsetgroup": "2001",
         "orientation": "v",
         "showlegend": true,
         "textposition": "auto",
         "type": "bar",
         "x": [
          "fta_per_game",
          "mp_per_game",
          "fg_per_game",
          "bpm",
          "fga_per_game",
          "x2p_per_game"
         ],
         "xaxis": "x",
         "y": [
          1,
          1,
          1,
          1,
          1,
          1
         ],
         "yaxis": "y"
        },
        {
         "alignmentgroup": "True",
         "hovertemplate": "variable=2000<br>value=%{x}<br>count=%{y}<extra></extra>",
         "legendgroup": "2000",
         "marker": {
          "color": "#19d3f3",
          "pattern": {
           "shape": ""
          }
         },
         "name": "2000",
         "offsetgroup": "2000",
         "orientation": "v",
         "showlegend": true,
         "textposition": "auto",
         "type": "bar",
         "x": [
          "ws",
          "pts_per_game",
          "ows",
          "fg_per_game",
          "obpm",
          "mp_per_game"
         ],
         "xaxis": "x",
         "y": [
          1,
          1,
          1,
          1,
          1,
          1
         ],
         "yaxis": "y"
        },
        {
         "alignmentgroup": "True",
         "hovertemplate": "variable=1999<br>value=%{x}<br>count=%{y}<extra></extra>",
         "legendgroup": "1999",
         "marker": {
          "color": "#FF6692",
          "pattern": {
           "shape": ""
          }
         },
         "name": "1999",
         "offsetgroup": "1999",
         "orientation": "v",
         "showlegend": true,
         "textposition": "auto",
         "type": "bar",
         "x": [
          "age",
          "ast_percent",
          "pts_per_game",
          "mp",
          "per",
          "ts_percent"
         ],
         "xaxis": "x",
         "y": [
          1,
          1,
          1,
          1,
          1,
          1
         ],
         "yaxis": "y"
        },
        {
         "alignmentgroup": "True",
         "hovertemplate": "variable=1998<br>value=%{x}<br>count=%{y}<extra></extra>",
         "legendgroup": "1998",
         "marker": {
          "color": "#B6E880",
          "pattern": {
           "shape": ""
          }
         },
         "name": "1998",
         "offsetgroup": "1998",
         "orientation": "v",
         "showlegend": true,
         "textposition": "auto",
         "type": "bar",
         "x": [
          "ows",
          "ws",
          "fta_per_game",
          "mp",
          "gs",
          "fg_per_game"
         ],
         "xaxis": "x",
         "y": [
          1,
          1,
          1,
          1,
          1,
          1
         ],
         "yaxis": "y"
        },
        {
         "alignmentgroup": "True",
         "hovertemplate": "variable=1997<br>value=%{x}<br>count=%{y}<extra></extra>",
         "legendgroup": "1997",
         "marker": {
          "color": "#FF97FF",
          "pattern": {
           "shape": ""
          }
         },
         "name": "1997",
         "offsetgroup": "1997",
         "orientation": "v",
         "showlegend": true,
         "textposition": "auto",
         "type": "bar",
         "x": [
          "fg_per_game",
          "x2p_per_game",
          "pts_per_game",
          "per",
          "ft_per_game",
          "dws"
         ],
         "xaxis": "x",
         "y": [
          1,
          1,
          1,
          1,
          1,
          1
         ],
         "yaxis": "y"
        },
        {
         "alignmentgroup": "True",
         "hovertemplate": "variable=1996<br>value=%{x}<br>count=%{y}<extra></extra>",
         "legendgroup": "1996",
         "marker": {
          "color": "#FECB52",
          "pattern": {
           "shape": ""
          }
         },
         "name": "1996",
         "offsetgroup": "1996",
         "orientation": "v",
         "showlegend": true,
         "textposition": "auto",
         "type": "bar",
         "x": [
          "pts_per_game",
          "fg_per_game",
          "ws",
          "fga_per_game",
          "ft_per_game",
          "fta_per_game"
         ],
         "xaxis": "x",
         "y": [
          1,
          1,
          1,
          1,
          1,
          1
         ],
         "yaxis": "y"
        },
        {
         "alignmentgroup": "True",
         "hovertemplate": "variable=1995<br>value=%{x}<br>count=%{y}<extra></extra>",
         "legendgroup": "1995",
         "marker": {
          "color": "#636efa",
          "pattern": {
           "shape": ""
          }
         },
         "name": "1995",
         "offsetgroup": "1995",
         "orientation": "v",
         "showlegend": true,
         "textposition": "auto",
         "type": "bar",
         "x": [
          "ws",
          "mp_per_game",
          "mp",
          "pts_per_game",
          "per",
          "fta_per_game"
         ],
         "xaxis": "x",
         "y": [
          1,
          1,
          1,
          1,
          1,
          1
         ],
         "yaxis": "y"
        },
        {
         "alignmentgroup": "True",
         "hovertemplate": "variable=1994<br>value=%{x}<br>count=%{y}<extra></extra>",
         "legendgroup": "1994",
         "marker": {
          "color": "#EF553B",
          "pattern": {
           "shape": ""
          }
         },
         "name": "1994",
         "offsetgroup": "1994",
         "orientation": "v",
         "showlegend": true,
         "textposition": "auto",
         "type": "bar",
         "x": [
          "fga_per_game",
          "pts_per_game",
          "x2pa_per_game",
          "ft_per_game",
          "fta_per_game",
          "x2p_per_game"
         ],
         "xaxis": "x",
         "y": [
          1,
          1,
          1,
          1,
          1,
          1
         ],
         "yaxis": "y"
        },
        {
         "alignmentgroup": "True",
         "hovertemplate": "variable=1993<br>value=%{x}<br>count=%{y}<extra></extra>",
         "legendgroup": "1993",
         "marker": {
          "color": "#00cc96",
          "pattern": {
           "shape": ""
          }
         },
         "name": "1993",
         "offsetgroup": "1993",
         "orientation": "v",
         "showlegend": true,
         "textposition": "auto",
         "type": "bar",
         "x": [
          "ws",
          "fga_per_game",
          "pts_per_game",
          "ows",
          "mp_per_game",
          "fg_per_game"
         ],
         "xaxis": "x",
         "y": [
          1,
          1,
          1,
          1,
          1,
          1
         ],
         "yaxis": "y"
        },
        {
         "alignmentgroup": "True",
         "hovertemplate": "variable=1992<br>value=%{x}<br>count=%{y}<extra></extra>",
         "legendgroup": "1992",
         "marker": {
          "color": "#ab63fa",
          "pattern": {
           "shape": ""
          }
         },
         "name": "1992",
         "offsetgroup": "1992",
         "orientation": "v",
         "showlegend": true,
         "textposition": "auto",
         "type": "bar",
         "x": [
          "mp_per_game",
          "pts_per_game",
          "ws",
          "bpm",
          "fg_per_game",
          "fga_per_game"
         ],
         "xaxis": "x",
         "y": [
          1,
          1,
          1,
          1,
          1,
          1
         ],
         "yaxis": "y"
        },
        {
         "alignmentgroup": "True",
         "hovertemplate": "variable=1991<br>value=%{x}<br>count=%{y}<extra></extra>",
         "legendgroup": "1991",
         "marker": {
          "color": "#FFA15A",
          "pattern": {
           "shape": ""
          }
         },
         "name": "1991",
         "offsetgroup": "1991",
         "orientation": "v",
         "showlegend": true,
         "textposition": "auto",
         "type": "bar",
         "x": [
          "ws",
          "ft_per_game",
          "fta_per_game",
          "pts_per_game",
          "ows",
          "mp_per_game"
         ],
         "xaxis": "x",
         "y": [
          1,
          1,
          1,
          1,
          1,
          1
         ],
         "yaxis": "y"
        },
        {
         "alignmentgroup": "True",
         "hovertemplate": "variable=1990<br>value=%{x}<br>count=%{y}<extra></extra>",
         "legendgroup": "1990",
         "marker": {
          "color": "#19d3f3",
          "pattern": {
           "shape": ""
          }
         },
         "name": "1990",
         "offsetgroup": "1990",
         "orientation": "v",
         "showlegend": true,
         "textposition": "auto",
         "type": "bar",
         "x": [
          "ws",
          "mp",
          "per",
          "ows",
          "mp_per_game",
          "pts_per_game"
         ],
         "xaxis": "x",
         "y": [
          1,
          1,
          1,
          1,
          1,
          1
         ],
         "yaxis": "y"
        },
        {
         "alignmentgroup": "True",
         "hovertemplate": "variable=1989<br>value=%{x}<br>count=%{y}<extra></extra>",
         "legendgroup": "1989",
         "marker": {
          "color": "#FF6692",
          "pattern": {
           "shape": ""
          }
         },
         "name": "1989",
         "offsetgroup": "1989",
         "orientation": "v",
         "showlegend": true,
         "textposition": "auto",
         "type": "bar",
         "x": [
          "ws",
          "ft_per_game",
          "per",
          "pts_per_game",
          "ows",
          "fg_per_game"
         ],
         "xaxis": "x",
         "y": [
          1,
          1,
          1,
          1,
          1,
          1
         ],
         "yaxis": "y"
        },
        {
         "alignmentgroup": "True",
         "hovertemplate": "variable=1988<br>value=%{x}<br>count=%{y}<extra></extra>",
         "legendgroup": "1988",
         "marker": {
          "color": "#B6E880",
          "pattern": {
           "shape": ""
          }
         },
         "name": "1988",
         "offsetgroup": "1988",
         "orientation": "v",
         "showlegend": true,
         "textposition": "auto",
         "type": "bar",
         "x": [
          "fg_per_game",
          "x2p_per_game",
          "per",
          "fga_per_game",
          "x2pa_per_game",
          "pts_per_game"
         ],
         "xaxis": "x",
         "y": [
          1,
          1,
          1,
          1,
          1,
          1
         ],
         "yaxis": "y"
        },
        {
         "alignmentgroup": "True",
         "hovertemplate": "variable=1987<br>value=%{x}<br>count=%{y}<extra></extra>",
         "legendgroup": "1987",
         "marker": {
          "color": "#FF97FF",
          "pattern": {
           "shape": ""
          }
         },
         "name": "1987",
         "offsetgroup": "1987",
         "orientation": "v",
         "showlegend": true,
         "textposition": "auto",
         "type": "bar",
         "x": [
          "pts_per_game",
          "ft_per_game",
          "fg_per_game",
          "fga_per_game",
          "x2pa_per_game",
          "per"
         ],
         "xaxis": "x",
         "y": [
          1,
          1,
          1,
          1,
          1,
          1
         ],
         "yaxis": "y"
        },
        {
         "alignmentgroup": "True",
         "hovertemplate": "variable=1986<br>value=%{x}<br>count=%{y}<extra></extra>",
         "legendgroup": "1986",
         "marker": {
          "color": "#FECB52",
          "pattern": {
           "shape": ""
          }
         },
         "name": "1986",
         "offsetgroup": "1986",
         "orientation": "v",
         "showlegend": true,
         "textposition": "auto",
         "type": "bar",
         "x": [
          "ws",
          "bpm",
          "per",
          "ows",
          "mp_per_game",
          "x2p_per_game"
         ],
         "xaxis": "x",
         "y": [
          1,
          1,
          1,
          1,
          1,
          1
         ],
         "yaxis": "y"
        },
        {
         "alignmentgroup": "True",
         "hovertemplate": "variable=1985<br>value=%{x}<br>count=%{y}<extra></extra>",
         "legendgroup": "1985",
         "marker": {
          "color": "#636efa",
          "pattern": {
           "shape": ""
          }
         },
         "name": "1985",
         "offsetgroup": "1985",
         "orientation": "v",
         "showlegend": true,
         "textposition": "auto",
         "type": "bar",
         "x": [
          "per",
          "mp_per_game",
          "ows",
          "ws",
          "ws_48",
          "obpm"
         ],
         "xaxis": "x",
         "y": [
          1,
          1,
          1,
          1,
          1,
          1
         ],
         "yaxis": "y"
        },
        {
         "alignmentgroup": "True",
         "hovertemplate": "variable=1984<br>value=%{x}<br>count=%{y}<extra></extra>",
         "legendgroup": "1984",
         "marker": {
          "color": "#EF553B",
          "pattern": {
           "shape": ""
          }
         },
         "name": "1984",
         "offsetgroup": "1984",
         "orientation": "v",
         "showlegend": true,
         "textposition": "auto",
         "type": "bar",
         "x": [
          "ws",
          "ft_per_game",
          "ows",
          "obpm",
          "fg_per_game",
          "per"
         ],
         "xaxis": "x",
         "y": [
          1,
          1,
          1,
          1,
          1,
          1
         ],
         "yaxis": "y"
        },
        {
         "alignmentgroup": "True",
         "hovertemplate": "variable=1983<br>value=%{x}<br>count=%{y}<extra></extra>",
         "legendgroup": "1983",
         "marker": {
          "color": "#00cc96",
          "pattern": {
           "shape": ""
          }
         },
         "name": "1983",
         "offsetgroup": "1983",
         "orientation": "v",
         "showlegend": true,
         "textposition": "auto",
         "type": "bar",
         "x": [
          "ws",
          "ows",
          "ws_48",
          "per",
          "obpm",
          "bpm"
         ],
         "xaxis": "x",
         "y": [
          1,
          1,
          1,
          1,
          1,
          1
         ],
         "yaxis": "y"
        },
        {
         "alignmentgroup": "True",
         "hovertemplate": "variable=1982<br>value=%{x}<br>count=%{y}<extra></extra>",
         "legendgroup": "1982",
         "marker": {
          "color": "#ab63fa",
          "pattern": {
           "shape": ""
          }
         },
         "name": "1982",
         "offsetgroup": "1982",
         "orientation": "v",
         "showlegend": true,
         "textposition": "auto",
         "type": "bar",
         "x": [
          "tov_per_game",
          "per",
          "ws",
          "obpm",
          "bpm",
          "fta_per_game"
         ],
         "xaxis": "x",
         "y": [
          1,
          1,
          1,
          1,
          1,
          1
         ],
         "yaxis": "y"
        },
        {
         "alignmentgroup": "True",
         "hovertemplate": "variable=1981<br>value=%{x}<br>count=%{y}<extra></extra>",
         "legendgroup": "1981",
         "marker": {
          "color": "#FFA15A",
          "pattern": {
           "shape": ""
          }
         },
         "name": "1981",
         "offsetgroup": "1981",
         "orientation": "v",
         "showlegend": true,
         "textposition": "auto",
         "type": "bar",
         "x": [
          "per",
          "ws",
          "fg_per_game",
          "x2p_per_game",
          "dws",
          "bpm"
         ],
         "xaxis": "x",
         "y": [
          1,
          1,
          1,
          1,
          1,
          1
         ],
         "yaxis": "y"
        },
        {
         "alignmentgroup": "True",
         "hovertemplate": "variable=1980<br>value=%{x}<br>count=%{y}<extra></extra>",
         "legendgroup": "1980",
         "marker": {
          "color": "#19d3f3",
          "pattern": {
           "shape": ""
          }
         },
         "name": "1980",
         "offsetgroup": "1980",
         "orientation": "v",
         "showlegend": true,
         "textposition": "auto",
         "type": "bar",
         "x": [
          "pts_per_game",
          "ws",
          "fg_per_game",
          "ft_per_game",
          "per",
          "ows"
         ],
         "xaxis": "x",
         "y": [
          1,
          1,
          1,
          1,
          1,
          1
         ],
         "yaxis": "y"
        },
        {
         "alignmentgroup": "True",
         "hovertemplate": "variable=1979<br>value=%{x}<br>count=%{y}<extra></extra>",
         "legendgroup": "1979",
         "marker": {
          "color": "#FF6692",
          "pattern": {
           "shape": ""
          }
         },
         "name": "1979",
         "offsetgroup": "1979",
         "orientation": "v",
         "showlegend": true,
         "textposition": "auto",
         "type": "bar",
         "x": [
          "fg_per_game",
          "x2p_per_game",
          "pts_per_game",
          "ws",
          "ows",
          "fga_per_game"
         ],
         "xaxis": "x",
         "y": [
          1,
          1,
          1,
          1,
          1,
          1
         ],
         "yaxis": "y"
        },
        {
         "alignmentgroup": "True",
         "hovertemplate": "variable=1978<br>value=%{x}<br>count=%{y}<extra></extra>",
         "legendgroup": "1978",
         "marker": {
          "color": "#B6E880",
          "pattern": {
           "shape": ""
          }
         },
         "name": "1978",
         "offsetgroup": "1978",
         "orientation": "v",
         "showlegend": true,
         "textposition": "auto",
         "type": "bar",
         "x": [
          "fg_per_game",
          "x2p_per_game",
          "pts_per_game",
          "ws",
          "bpm",
          "mp_per_game"
         ],
         "xaxis": "x",
         "y": [
          1,
          1,
          1,
          1,
          1,
          1
         ],
         "yaxis": "y"
        },
        {
         "alignmentgroup": "True",
         "hovertemplate": "variable=1977<br>value=%{x}<br>count=%{y}<extra></extra>",
         "legendgroup": "1977",
         "marker": {
          "color": "#FF97FF",
          "pattern": {
           "shape": ""
          }
         },
         "name": "1977",
         "offsetgroup": "1977",
         "orientation": "v",
         "showlegend": true,
         "textposition": "auto",
         "type": "bar",
         "x": [
          "mp_per_game",
          "pts_per_game",
          "mp",
          "ws",
          "obpm",
          "fg_per_game"
         ],
         "xaxis": "x",
         "y": [
          1,
          1,
          1,
          1,
          1,
          1
         ],
         "yaxis": "y"
        },
        {
         "alignmentgroup": "True",
         "hovertemplate": "variable=1976<br>value=%{x}<br>count=%{y}<extra></extra>",
         "legendgroup": "1976",
         "marker": {
          "color": "#FECB52",
          "pattern": {
           "shape": ""
          }
         },
         "name": "1976",
         "offsetgroup": "1976",
         "orientation": "v",
         "showlegend": true,
         "textposition": "auto",
         "type": "bar",
         "x": [
          "mp_per_game",
          "pts_per_game",
          "mp",
          "ows",
          "ws",
          "fg_per_game"
         ],
         "xaxis": "x",
         "y": [
          1,
          1,
          1,
          1,
          1,
          1
         ],
         "yaxis": "y"
        },
        {
         "alignmentgroup": "True",
         "hovertemplate": "variable=1975<br>value=%{x}<br>count=%{y}<extra></extra>",
         "legendgroup": "1975",
         "marker": {
          "color": "#636efa",
          "pattern": {
           "shape": ""
          }
         },
         "name": "1975",
         "offsetgroup": "1975",
         "orientation": "v",
         "showlegend": true,
         "textposition": "auto",
         "type": "bar",
         "x": [
          "ws",
          "mp_per_game",
          "fg_per_game",
          "x2p_per_game",
          "pts_per_game",
          "mp"
         ],
         "xaxis": "x",
         "y": [
          1,
          1,
          1,
          1,
          1,
          1
         ],
         "yaxis": "y"
        }
       ],
       "layout": {
        "barmode": "relative",
        "coloraxis": {
         "colorbar": {
          "title": {
           "text": "Season"
          }
         }
        },
        "legend": {
         "title": {
          "text": "Season"
         },
         "tracegroupgap": 0
        },
        "margin": {
         "t": 60
        },
        "template": {
         "data": {
          "bar": [
           {
            "error_x": {
             "color": "#2a3f5f"
            },
            "error_y": {
             "color": "#2a3f5f"
            },
            "marker": {
             "line": {
              "color": "#E5ECF6",
              "width": 0.5
             },
             "pattern": {
              "fillmode": "overlay",
              "size": 10,
              "solidity": 0.2
             }
            },
            "type": "bar"
           }
          ],
          "barpolar": [
           {
            "marker": {
             "line": {
              "color": "#E5ECF6",
              "width": 0.5
             },
             "pattern": {
              "fillmode": "overlay",
              "size": 10,
              "solidity": 0.2
             }
            },
            "type": "barpolar"
           }
          ],
          "carpet": [
           {
            "aaxis": {
             "endlinecolor": "#2a3f5f",
             "gridcolor": "white",
             "linecolor": "white",
             "minorgridcolor": "white",
             "startlinecolor": "#2a3f5f"
            },
            "baxis": {
             "endlinecolor": "#2a3f5f",
             "gridcolor": "white",
             "linecolor": "white",
             "minorgridcolor": "white",
             "startlinecolor": "#2a3f5f"
            },
            "type": "carpet"
           }
          ],
          "choropleth": [
           {
            "colorbar": {
             "outlinewidth": 0,
             "ticks": ""
            },
            "type": "choropleth"
           }
          ],
          "contour": [
           {
            "colorbar": {
             "outlinewidth": 0,
             "ticks": ""
            },
            "colorscale": [
             [
              0,
              "#0d0887"
             ],
             [
              0.1111111111111111,
              "#46039f"
             ],
             [
              0.2222222222222222,
              "#7201a8"
             ],
             [
              0.3333333333333333,
              "#9c179e"
             ],
             [
              0.4444444444444444,
              "#bd3786"
             ],
             [
              0.5555555555555556,
              "#d8576b"
             ],
             [
              0.6666666666666666,
              "#ed7953"
             ],
             [
              0.7777777777777778,
              "#fb9f3a"
             ],
             [
              0.8888888888888888,
              "#fdca26"
             ],
             [
              1,
              "#f0f921"
             ]
            ],
            "type": "contour"
           }
          ],
          "contourcarpet": [
           {
            "colorbar": {
             "outlinewidth": 0,
             "ticks": ""
            },
            "type": "contourcarpet"
           }
          ],
          "heatmap": [
           {
            "colorbar": {
             "outlinewidth": 0,
             "ticks": ""
            },
            "colorscale": [
             [
              0,
              "#0d0887"
             ],
             [
              0.1111111111111111,
              "#46039f"
             ],
             [
              0.2222222222222222,
              "#7201a8"
             ],
             [
              0.3333333333333333,
              "#9c179e"
             ],
             [
              0.4444444444444444,
              "#bd3786"
             ],
             [
              0.5555555555555556,
              "#d8576b"
             ],
             [
              0.6666666666666666,
              "#ed7953"
             ],
             [
              0.7777777777777778,
              "#fb9f3a"
             ],
             [
              0.8888888888888888,
              "#fdca26"
             ],
             [
              1,
              "#f0f921"
             ]
            ],
            "type": "heatmap"
           }
          ],
          "heatmapgl": [
           {
            "colorbar": {
             "outlinewidth": 0,
             "ticks": ""
            },
            "colorscale": [
             [
              0,
              "#0d0887"
             ],
             [
              0.1111111111111111,
              "#46039f"
             ],
             [
              0.2222222222222222,
              "#7201a8"
             ],
             [
              0.3333333333333333,
              "#9c179e"
             ],
             [
              0.4444444444444444,
              "#bd3786"
             ],
             [
              0.5555555555555556,
              "#d8576b"
             ],
             [
              0.6666666666666666,
              "#ed7953"
             ],
             [
              0.7777777777777778,
              "#fb9f3a"
             ],
             [
              0.8888888888888888,
              "#fdca26"
             ],
             [
              1,
              "#f0f921"
             ]
            ],
            "type": "heatmapgl"
           }
          ],
          "histogram": [
           {
            "marker": {
             "pattern": {
              "fillmode": "overlay",
              "size": 10,
              "solidity": 0.2
             }
            },
            "type": "histogram"
           }
          ],
          "histogram2d": [
           {
            "colorbar": {
             "outlinewidth": 0,
             "ticks": ""
            },
            "colorscale": [
             [
              0,
              "#0d0887"
             ],
             [
              0.1111111111111111,
              "#46039f"
             ],
             [
              0.2222222222222222,
              "#7201a8"
             ],
             [
              0.3333333333333333,
              "#9c179e"
             ],
             [
              0.4444444444444444,
              "#bd3786"
             ],
             [
              0.5555555555555556,
              "#d8576b"
             ],
             [
              0.6666666666666666,
              "#ed7953"
             ],
             [
              0.7777777777777778,
              "#fb9f3a"
             ],
             [
              0.8888888888888888,
              "#fdca26"
             ],
             [
              1,
              "#f0f921"
             ]
            ],
            "type": "histogram2d"
           }
          ],
          "histogram2dcontour": [
           {
            "colorbar": {
             "outlinewidth": 0,
             "ticks": ""
            },
            "colorscale": [
             [
              0,
              "#0d0887"
             ],
             [
              0.1111111111111111,
              "#46039f"
             ],
             [
              0.2222222222222222,
              "#7201a8"
             ],
             [
              0.3333333333333333,
              "#9c179e"
             ],
             [
              0.4444444444444444,
              "#bd3786"
             ],
             [
              0.5555555555555556,
              "#d8576b"
             ],
             [
              0.6666666666666666,
              "#ed7953"
             ],
             [
              0.7777777777777778,
              "#fb9f3a"
             ],
             [
              0.8888888888888888,
              "#fdca26"
             ],
             [
              1,
              "#f0f921"
             ]
            ],
            "type": "histogram2dcontour"
           }
          ],
          "mesh3d": [
           {
            "colorbar": {
             "outlinewidth": 0,
             "ticks": ""
            },
            "type": "mesh3d"
           }
          ],
          "parcoords": [
           {
            "line": {
             "colorbar": {
              "outlinewidth": 0,
              "ticks": ""
             }
            },
            "type": "parcoords"
           }
          ],
          "pie": [
           {
            "automargin": true,
            "type": "pie"
           }
          ],
          "scatter": [
           {
            "fillpattern": {
             "fillmode": "overlay",
             "size": 10,
             "solidity": 0.2
            },
            "type": "scatter"
           }
          ],
          "scatter3d": [
           {
            "line": {
             "colorbar": {
              "outlinewidth": 0,
              "ticks": ""
             }
            },
            "marker": {
             "colorbar": {
              "outlinewidth": 0,
              "ticks": ""
             }
            },
            "type": "scatter3d"
           }
          ],
          "scattercarpet": [
           {
            "marker": {
             "colorbar": {
              "outlinewidth": 0,
              "ticks": ""
             }
            },
            "type": "scattercarpet"
           }
          ],
          "scattergeo": [
           {
            "marker": {
             "colorbar": {
              "outlinewidth": 0,
              "ticks": ""
             }
            },
            "type": "scattergeo"
           }
          ],
          "scattergl": [
           {
            "marker": {
             "colorbar": {
              "outlinewidth": 0,
              "ticks": ""
             }
            },
            "type": "scattergl"
           }
          ],
          "scattermapbox": [
           {
            "marker": {
             "colorbar": {
              "outlinewidth": 0,
              "ticks": ""
             }
            },
            "type": "scattermapbox"
           }
          ],
          "scatterpolar": [
           {
            "marker": {
             "colorbar": {
              "outlinewidth": 0,
              "ticks": ""
             }
            },
            "type": "scatterpolar"
           }
          ],
          "scatterpolargl": [
           {
            "marker": {
             "colorbar": {
              "outlinewidth": 0,
              "ticks": ""
             }
            },
            "type": "scatterpolargl"
           }
          ],
          "scatterternary": [
           {
            "marker": {
             "colorbar": {
              "outlinewidth": 0,
              "ticks": ""
             }
            },
            "type": "scatterternary"
           }
          ],
          "surface": [
           {
            "colorbar": {
             "outlinewidth": 0,
             "ticks": ""
            },
            "colorscale": [
             [
              0,
              "#0d0887"
             ],
             [
              0.1111111111111111,
              "#46039f"
             ],
             [
              0.2222222222222222,
              "#7201a8"
             ],
             [
              0.3333333333333333,
              "#9c179e"
             ],
             [
              0.4444444444444444,
              "#bd3786"
             ],
             [
              0.5555555555555556,
              "#d8576b"
             ],
             [
              0.6666666666666666,
              "#ed7953"
             ],
             [
              0.7777777777777778,
              "#fb9f3a"
             ],
             [
              0.8888888888888888,
              "#fdca26"
             ],
             [
              1,
              "#f0f921"
             ]
            ],
            "type": "surface"
           }
          ],
          "table": [
           {
            "cells": {
             "fill": {
              "color": "#EBF0F8"
             },
             "line": {
              "color": "white"
             }
            },
            "header": {
             "fill": {
              "color": "#C8D4E3"
             },
             "line": {
              "color": "white"
             }
            },
            "type": "table"
           }
          ]
         },
         "layout": {
          "annotationdefaults": {
           "arrowcolor": "#2a3f5f",
           "arrowhead": 0,
           "arrowwidth": 1
          },
          "autotypenumbers": "strict",
          "coloraxis": {
           "colorbar": {
            "outlinewidth": 0,
            "ticks": ""
           }
          },
          "colorscale": {
           "diverging": [
            [
             0,
             "#8e0152"
            ],
            [
             0.1,
             "#c51b7d"
            ],
            [
             0.2,
             "#de77ae"
            ],
            [
             0.3,
             "#f1b6da"
            ],
            [
             0.4,
             "#fde0ef"
            ],
            [
             0.5,
             "#f7f7f7"
            ],
            [
             0.6,
             "#e6f5d0"
            ],
            [
             0.7,
             "#b8e186"
            ],
            [
             0.8,
             "#7fbc41"
            ],
            [
             0.9,
             "#4d9221"
            ],
            [
             1,
             "#276419"
            ]
           ],
           "sequential": [
            [
             0,
             "#0d0887"
            ],
            [
             0.1111111111111111,
             "#46039f"
            ],
            [
             0.2222222222222222,
             "#7201a8"
            ],
            [
             0.3333333333333333,
             "#9c179e"
            ],
            [
             0.4444444444444444,
             "#bd3786"
            ],
            [
             0.5555555555555556,
             "#d8576b"
            ],
            [
             0.6666666666666666,
             "#ed7953"
            ],
            [
             0.7777777777777778,
             "#fb9f3a"
            ],
            [
             0.8888888888888888,
             "#fdca26"
            ],
            [
             1,
             "#f0f921"
            ]
           ],
           "sequentialminus": [
            [
             0,
             "#0d0887"
            ],
            [
             0.1111111111111111,
             "#46039f"
            ],
            [
             0.2222222222222222,
             "#7201a8"
            ],
            [
             0.3333333333333333,
             "#9c179e"
            ],
            [
             0.4444444444444444,
             "#bd3786"
            ],
            [
             0.5555555555555556,
             "#d8576b"
            ],
            [
             0.6666666666666666,
             "#ed7953"
            ],
            [
             0.7777777777777778,
             "#fb9f3a"
            ],
            [
             0.8888888888888888,
             "#fdca26"
            ],
            [
             1,
             "#f0f921"
            ]
           ]
          },
          "colorway": [
           "#636efa",
           "#EF553B",
           "#00cc96",
           "#ab63fa",
           "#FFA15A",
           "#19d3f3",
           "#FF6692",
           "#B6E880",
           "#FF97FF",
           "#FECB52"
          ],
          "font": {
           "color": "#2a3f5f"
          },
          "geo": {
           "bgcolor": "white",
           "lakecolor": "white",
           "landcolor": "#E5ECF6",
           "showlakes": true,
           "showland": true,
           "subunitcolor": "white"
          },
          "hoverlabel": {
           "align": "left"
          },
          "hovermode": "closest",
          "mapbox": {
           "style": "light"
          },
          "paper_bgcolor": "white",
          "plot_bgcolor": "#E5ECF6",
          "polar": {
           "angularaxis": {
            "gridcolor": "white",
            "linecolor": "white",
            "ticks": ""
           },
           "bgcolor": "#E5ECF6",
           "radialaxis": {
            "gridcolor": "white",
            "linecolor": "white",
            "ticks": ""
           }
          },
          "scene": {
           "xaxis": {
            "backgroundcolor": "#E5ECF6",
            "gridcolor": "white",
            "gridwidth": 2,
            "linecolor": "white",
            "showbackground": true,
            "ticks": "",
            "zerolinecolor": "white"
           },
           "yaxis": {
            "backgroundcolor": "#E5ECF6",
            "gridcolor": "white",
            "gridwidth": 2,
            "linecolor": "white",
            "showbackground": true,
            "ticks": "",
            "zerolinecolor": "white"
           },
           "zaxis": {
            "backgroundcolor": "#E5ECF6",
            "gridcolor": "white",
            "gridwidth": 2,
            "linecolor": "white",
            "showbackground": true,
            "ticks": "",
            "zerolinecolor": "white"
           }
          },
          "shapedefaults": {
           "line": {
            "color": "#2a3f5f"
           }
          },
          "ternary": {
           "aaxis": {
            "gridcolor": "white",
            "linecolor": "white",
            "ticks": ""
           },
           "baxis": {
            "gridcolor": "white",
            "linecolor": "white",
            "ticks": ""
           },
           "bgcolor": "#E5ECF6",
           "caxis": {
            "gridcolor": "white",
            "linecolor": "white",
            "ticks": ""
           }
          },
          "title": {
           "x": 0.05
          },
          "xaxis": {
           "automargin": true,
           "gridcolor": "white",
           "linecolor": "white",
           "ticks": "",
           "title": {
            "standoff": 15
           },
           "zerolinecolor": "white",
           "zerolinewidth": 2
          },
          "yaxis": {
           "automargin": true,
           "gridcolor": "white",
           "linecolor": "white",
           "ticks": "",
           "title": {
            "standoff": 15
           },
           "zerolinecolor": "white",
           "zerolinewidth": 2
          }
         }
        },
        "title": {
         "text": "Prominent Stats of the 1975-2025 NBA seasons"
        },
        "xaxis": {
         "anchor": "y",
         "domain": [
          0,
          1
         ],
         "tickangle": -45,
         "title": {
          "text": "Stat"
         }
        },
        "yaxis": {
         "anchor": "x",
         "domain": [
          0,
          1
         ],
         "title": {
          "text": "# Appearences in Top 6"
         }
        }
       }
      }
     },
     "metadata": {},
     "output_type": "display_data"
    }
   ],
   "source": [
    "fig = px.bar(prominent_stats)\n",
    "fig.update_xaxes(tickangle=-45)\n",
    "fig.update_layout(xaxis_title=\"Stat\", yaxis_title=\"# Appearences in Top 6\",\n",
    "                  legend_title=\"Season\", coloraxis_colorbar=dict(title=\"Season\"),\n",
    "                  title=\"Prominent Stats of the 1975-2025 NBA seasons\")\n",
    "\n",
    "fig.show()"
   ]
  },
  {
   "cell_type": "markdown",
   "id": "34cb832f-726c-46c5-93f6-c78050e37bf7",
   "metadata": {},
   "source": [
    "#### This graph shows that the 6 most common prominent stats per season are:\n",
    "> 1. **Win Shares**\n",
    "> 2. **Field Goals Per Game**\n",
    "> 3. **Points Per Game**\n",
    "> 4. **Offensive Win Shares**\n",
    "> 5. **Free-Throws Per Game**\n",
    "> 6. Tie between: **PER (Player Efficiency Rating)** and **Field Goal Attempts Per Game**\n",
    "\n",
    "These answers are partially surprising, and they show a bias that NBA fans, media, and players have towards offensive production compared to defensive production. Each of the statistics shown in both the top 6 prominent stats for this season and all of the seasons combined are offensive-based, such as offensive win-shares, points per game, and field goals per game. Very rarely there are defensive statistics being in the top 6 prominent statistics for a season. The only one shown in the above plot are defensive win-shares, which only have three entries from the years 2020, 1997, and 1981. This does make sense though, as its easy to say that a player that produces a lot of points is an elite player in the NBA, and deserves a spot in the All-Star game. This may affect future questions, though, as they may be biased towards offense-heavy teams."
   ]
  },
  {
   "cell_type": "markdown",
   "id": "cd47c939-6adc-4e85-80cd-9086b43f3ac9",
   "metadata": {},
   "source": [
    "### With this information... we can now move to Research Question #2!"
   ]
  },
  {
   "cell_type": "markdown",
   "id": "a85056d6-e34b-4ba6-85a1-3a68355064c3",
   "metadata": {},
   "source": [
    "## RESEARCH QUESTION #2: How do prominent statistics transfer to team success?\n",
    "Now that we have the prominent statistics for each season, we can check if the teams that are highest in specific stats are finding more team success compared to teams that aren't.\n",
    "\n",
    "The way I will look at team success is through wins, if the team made the playoffs or not, and championships!\n",
    "\n",
    "First, though, I have to make some changes for comparing individual statistics to team statistics, as there are a individual statistics that have team statistic equivalents. These are:\n",
    "\n",
    "* **ws_48** -> **w** in teams.\n",
    "* **obpm and ows** -> **o_rtg** in teams.\n",
    "* **dbpm and dws** -> **d_rtg** in teams.\n",
    "* **bpm and ws** -> **n_rtg** in teams.\n",
    "* **mp** -> **mp_per_game** in teams.\n",
    "* **trb_percent** -> **trb_per_game** in teams.\n",
    "* **ast_percent** -> **ast_per_game** in teams.\n",
    "* **experience** -> **age** in teams.\n",
    "* **usg_percent** -> **pace** in teams.\n",
    "* **per** -> **e_fg_percent** in teams.\n",
    "* **gs** -> **mp_per_game** in teams.\n",
    "\n",
    "To account for this, I made a dictionary to translate individual statistics to team statistics."
   ]
  },
  {
   "cell_type": "code",
   "execution_count": 18,
   "id": "4fdbfe10-80d8-4dfc-a887-ddaf6d3c47ce",
   "metadata": {},
   "outputs": [],
   "source": [
    "stat_translations = {\"ws_48\": \"w\", \"obpm\": \"o_rtg\", \"ows\": \"o_rtg\", \"dbpm\": \"d_rtg\",\n",
    "                     \"dws\": \"d_rtg\", \"bpm\": \"n_rtg\", \"ws\": \"n_rtg\", \"mp\": \"mp_per_game\",\n",
    "                     \"trb_percent\": \"trb_per_game\", \"ast_percent\": \"ast_per_game\", \n",
    "                     \"experience\": \"age\", \"usg_percent\": \"pace\", \"per\": \"e_fg_percent\",\n",
    "                     \"gs\": \"mp_per_game\"}"
   ]
  },
  {
   "cell_type": "markdown",
   "id": "7ed990f5-b7cc-4b6c-b651-e5c352f8c8c5",
   "metadata": {},
   "source": [
    "### Part 1: Rank teams by Prominent Stats\n",
    "\n",
    "The first thing I want to do, before we check for team success, is rank each team for each season based on the prominent stats for that season. We can then see which teams are excelling in the main individual statistics that are seen in All-Star players, which will then be used to compare to actual team success that is based on wins, playoffs, and championships.\n",
    "\n",
    "#### get_team_prominence\n",
    "> This program, as stated above, ranks each team by the prominent statistics, which can then be used to compare with overall team success!"
   ]
  },
  {
   "cell_type": "code",
   "execution_count": 19,
   "id": "eec95b76-7296-4fae-8e12-7197c4b805ad",
   "metadata": {},
   "outputs": [],
   "source": [
    "def get_team_prominence(team_data, prominents, season):\n",
    "    \"\"\"\n",
    "    Given an NBA team dataset, a prominent statistic sheet, stat translations, and a \n",
    "    season, returns a sheet of the rankings of each team for each prominent statistics from 1-30,\n",
    "    Where 1 is performing highest in the ranking and 30 the lowest.\n",
    "    \"\"\"\n",
    "    curr_season = team_data[(team_data[\"season\"] == season) &\n",
    "                            (team_data[\"team\"] != \"League Average\")] # Remove league Average row\n",
    "    curr_season = curr_season.set_index(\"team\")\n",
    "    result = pd.DataFrame(index=curr_season.index, dtype=\"float64\")\n",
    "    curr_prominents = prominents[season]\n",
    "    for prominent in curr_prominents:\n",
    "        placement = 1\n",
    "        if prominent in stat_translations:\n",
    "            prominent = stat_translations[prominent]\n",
    "        curr_order = curr_season[prominent].sort_values(ascending=False)\n",
    "        for team in curr_order.index:\n",
    "            result.loc[team, f'{season}_{prominent}'] = placement\n",
    "            placement += 1\n",
    "    return result\n",
    "\n",
    "# TEST PORTION\n",
    "test1 = get_team_prominence(team_test_data, test_prominent_stats, 2024)\n",
    "test2 = get_team_prominence(team_test_data, test_prominent_stats, 2023)\n",
    "test_team_prominence = test1.merge(test2, left_index=True, right_index=True)\n",
    "assert test_team_prominence.loc[\"Boston Celtics\", \"2024_o_rtg\"] == 1\n",
    "assert test_team_prominence.loc[\"Washington Wizards\", \"2023_pace\"] == 5\n",
    "assert test_team_prominence.loc[\"San Antonio Spurs\", \"2024_trb_per_game\"] == 2\n",
    "assert test_team_prominence.loc[\"Miami Heat\", \"2023_ts_percent\"] == 4\n",
    "assert test_team_prominence.loc[\"Minnesota Timberwolves\", \"2024_n_rtg\"] == 2"
   ]
  },
  {
   "cell_type": "markdown",
   "id": "1a924feb-b31c-478d-bd26-33fb1d419b02",
   "metadata": {},
   "source": [
    "#### Great! Now, we can graph and visualize these rankings season by season! Let's look at the 2025 season's teams:"
   ]
  },
  {
   "cell_type": "code",
   "execution_count": 20,
   "id": "e3e53181-5855-439a-a2df-e00c98e19965",
   "metadata": {},
   "outputs": [
    {
     "data": {
      "application/vnd.plotly.v1+json": {
       "config": {
        "plotlyServerURL": "https://plot.ly"
       },
       "data": [
        {
         "mode": "lines+markers",
         "name": "Atlanta Hawks",
         "type": "scatter",
         "x": [
          "fta_per_game",
          "pts_per_game",
          "fg_per_game",
          "fga_per_game",
          "n_rtg",
          "x2pa_per_game"
         ],
         "y": [
          3,
          5,
          6,
          5,
          18,
          9
         ]
        },
        {
         "mode": "lines+markers",
         "name": "Boston Celtics",
         "type": "scatter",
         "x": [
          "fta_per_game",
          "pts_per_game",
          "fg_per_game",
          "fga_per_game",
          "n_rtg",
          "x2pa_per_game"
         ],
         "y": [
          30,
          8,
          15,
          11,
          2,
          30
         ]
        },
        {
         "mode": "lines+markers",
         "name": "Brooklyn Nets",
         "type": "scatter",
         "x": [
          "fta_per_game",
          "pts_per_game",
          "fg_per_game",
          "fga_per_game",
          "n_rtg",
          "x2pa_per_game"
         ],
         "y": [
          24,
          30,
          30,
          28,
          26,
          29
         ]
        },
        {
         "mode": "lines+markers",
         "name": "Chicago Bulls",
         "type": "scatter",
         "x": [
          "fta_per_game",
          "pts_per_game",
          "fg_per_game",
          "fga_per_game",
          "n_rtg",
          "x2pa_per_game"
         ],
         "y": [
          29,
          6,
          8,
          4,
          20,
          20
         ]
        },
        {
         "mode": "lines+markers",
         "name": "Charlotte Hornets",
         "type": "scatter",
         "x": [
          "fta_per_game",
          "pts_per_game",
          "fg_per_game",
          "fga_per_game",
          "n_rtg",
          "x2pa_per_game"
         ],
         "y": [
          28,
          29,
          28,
          19,
          28,
          15
         ]
        },
        {
         "mode": "lines+markers",
         "name": "Cleveland Cavaliers",
         "type": "scatter",
         "x": [
          "fta_per_game",
          "pts_per_game",
          "fg_per_game",
          "fga_per_game",
          "n_rtg",
          "x2pa_per_game"
         ],
         "y": [
          14,
          1,
          4,
          7,
          3,
          23
         ]
        },
        {
         "mode": "lines+markers",
         "name": "Dallas Mavericks",
         "type": "scatter",
         "x": [
          "fta_per_game",
          "pts_per_game",
          "fg_per_game",
          "fga_per_game",
          "n_rtg",
          "x2pa_per_game"
         ],
         "y": [
          6,
          15,
          13,
          21,
          19,
          11
         ]
        },
        {
         "mode": "lines+markers",
         "name": "Denver Nuggets",
         "type": "scatter",
         "x": [
          "fta_per_game",
          "pts_per_game",
          "fg_per_game",
          "fga_per_game",
          "n_rtg",
          "x2pa_per_game"
         ],
         "y": [
          1,
          3,
          1,
          15,
          9,
          1
         ]
        },
        {
         "mode": "lines+markers",
         "name": "Detroit Pistons",
         "type": "scatter",
         "x": [
          "fta_per_game",
          "pts_per_game",
          "fg_per_game",
          "fga_per_game",
          "n_rtg",
          "x2pa_per_game"
         ],
         "y": [
          11,
          11,
          10,
          14,
          13,
          8
         ]
        },
        {
         "mode": "lines+markers",
         "name": "Golden State Warriors",
         "type": "scatter",
         "x": [
          "fta_per_game",
          "pts_per_game",
          "fg_per_game",
          "fga_per_game",
          "n_rtg",
          "x2pa_per_game"
         ],
         "y": [
          13,
          17,
          21,
          8,
          10,
          27
         ]
        },
        {
         "mode": "lines+markers",
         "name": "Houston Rockets",
         "type": "scatter",
         "x": [
          "fta_per_game",
          "pts_per_game",
          "fg_per_game",
          "fga_per_game",
          "n_rtg",
          "x2pa_per_game"
         ],
         "y": [
          8,
          13,
          11,
          1,
          7,
          2
         ]
        },
        {
         "mode": "lines+markers",
         "name": "Indiana Pacers",
         "type": "scatter",
         "x": [
          "fta_per_game",
          "pts_per_game",
          "fg_per_game",
          "fga_per_game",
          "n_rtg",
          "x2pa_per_game"
         ],
         "y": [
          18,
          7,
          5,
          17,
          12,
          12
         ]
        },
        {
         "mode": "lines+markers",
         "name": "Los Angeles Clippers",
         "type": "scatter",
         "x": [
          "fta_per_game",
          "pts_per_game",
          "fg_per_game",
          "fga_per_game",
          "n_rtg",
          "x2pa_per_game"
         ],
         "y": [
          17,
          20,
          16,
          26,
          5,
          13
         ]
        },
        {
         "mode": "lines+markers",
         "name": "Los Angeles Lakers",
         "type": "scatter",
         "x": [
          "fta_per_game",
          "pts_per_game",
          "fg_per_game",
          "fga_per_game",
          "n_rtg",
          "x2pa_per_game"
         ],
         "y": [
          4,
          19,
          20,
          30,
          14,
          24
         ]
        },
        {
         "mode": "lines+markers",
         "name": "Memphis Grizzlies",
         "type": "scatter",
         "x": [
          "fta_per_game",
          "pts_per_game",
          "fg_per_game",
          "fga_per_game",
          "n_rtg",
          "x2pa_per_game"
         ],
         "y": [
          2,
          2,
          2,
          2,
          6,
          4
         ]
        },
        {
         "mode": "lines+markers",
         "name": "Miami Heat",
         "type": "scatter",
         "x": [
          "fta_per_game",
          "pts_per_game",
          "fg_per_game",
          "fga_per_game",
          "n_rtg",
          "x2pa_per_game"
         ],
         "y": [
          27,
          24,
          24,
          24,
          15,
          22
         ]
        },
        {
         "mode": "lines+markers",
         "name": "Milwaukee Bucks",
         "type": "scatter",
         "x": [
          "fta_per_game",
          "pts_per_game",
          "fg_per_game",
          "fga_per_game",
          "n_rtg",
          "x2pa_per_game"
         ],
         "y": [
          5,
          12,
          12,
          25,
          11,
          21
         ]
        },
        {
         "mode": "lines+markers",
         "name": "Minnesota Timberwolves",
         "type": "scatter",
         "x": [
          "fta_per_game",
          "pts_per_game",
          "fg_per_game",
          "fga_per_game",
          "n_rtg",
          "x2pa_per_game"
         ],
         "y": [
          16,
          14,
          19,
          22,
          4,
          28
         ]
        },
        {
         "mode": "lines+markers",
         "name": "New Orleans Pelicans",
         "type": "scatter",
         "x": [
          "fta_per_game",
          "pts_per_game",
          "fg_per_game",
          "fga_per_game",
          "n_rtg",
          "x2pa_per_game"
         ],
         "y": [
          15,
          25,
          22,
          12,
          29,
          5
         ]
        },
        {
         "mode": "lines+markers",
         "name": "New York Knicks",
         "type": "scatter",
         "x": [
          "fta_per_game",
          "pts_per_game",
          "fg_per_game",
          "fga_per_game",
          "n_rtg",
          "x2pa_per_game"
         ],
         "y": [
          23,
          9,
          7,
          18,
          8,
          6
         ]
        },
        {
         "mode": "lines+markers",
         "name": "Oklahoma City Thunder",
         "type": "scatter",
         "x": [
          "fta_per_game",
          "pts_per_game",
          "fg_per_game",
          "fga_per_game",
          "n_rtg",
          "x2pa_per_game"
         ],
         "y": [
          26,
          4,
          3,
          3,
          1,
          10
         ]
        },
        {
         "mode": "lines+markers",
         "name": "Orlando Magic",
         "type": "scatter",
         "x": [
          "fta_per_game",
          "pts_per_game",
          "fg_per_game",
          "fga_per_game",
          "n_rtg",
          "x2pa_per_game"
         ],
         "y": [
          7,
          28,
          29,
          29,
          17,
          17
         ]
        },
        {
         "mode": "lines+markers",
         "name": "Philadelphia 76ers",
         "type": "scatter",
         "x": [
          "fta_per_game",
          "pts_per_game",
          "fg_per_game",
          "fga_per_game",
          "n_rtg",
          "x2pa_per_game"
         ],
         "y": [
          9,
          26,
          26,
          23,
          25,
          18
         ]
        },
        {
         "mode": "lines+markers",
         "name": "Phoenix Suns",
         "type": "scatter",
         "x": [
          "fta_per_game",
          "pts_per_game",
          "fg_per_game",
          "fga_per_game",
          "n_rtg",
          "x2pa_per_game"
         ],
         "y": [
          22,
          18,
          18,
          27,
          23,
          26
         ]
        },
        {
         "mode": "lines+markers",
         "name": "Portland Trail Blazers",
         "type": "scatter",
         "x": [
          "fta_per_game",
          "pts_per_game",
          "fg_per_game",
          "fga_per_game",
          "n_rtg",
          "x2pa_per_game"
         ],
         "y": [
          12,
          23,
          23,
          9,
          22,
          14
         ]
        },
        {
         "mode": "lines+markers",
         "name": "Sacramento Kings",
         "type": "scatter",
         "x": [
          "fta_per_game",
          "pts_per_game",
          "fg_per_game",
          "fga_per_game",
          "n_rtg",
          "x2pa_per_game"
         ],
         "y": [
          19,
          10,
          9,
          10,
          16,
          7
         ]
        },
        {
         "mode": "lines+markers",
         "name": "San Antonio Spurs",
         "type": "scatter",
         "x": [
          "fta_per_game",
          "pts_per_game",
          "fg_per_game",
          "fga_per_game",
          "n_rtg",
          "x2pa_per_game"
         ],
         "y": [
          21,
          16,
          14,
          16,
          21,
          19
         ]
        },
        {
         "mode": "lines+markers",
         "name": "Toronto Raptors",
         "type": "scatter",
         "x": [
          "fta_per_game",
          "pts_per_game",
          "fg_per_game",
          "fga_per_game",
          "n_rtg",
          "x2pa_per_game"
         ],
         "y": [
          20,
          22,
          17,
          6,
          24,
          3
         ]
        },
        {
         "mode": "lines+markers",
         "name": "Utah Jazz",
         "type": "scatter",
         "x": [
          "fta_per_game",
          "pts_per_game",
          "fg_per_game",
          "fga_per_game",
          "n_rtg",
          "x2pa_per_game"
         ],
         "y": [
          10,
          21,
          25,
          20,
          27,
          25
         ]
        },
        {
         "mode": "lines+markers",
         "name": "Washington Wizards",
         "type": "scatter",
         "x": [
          "fta_per_game",
          "pts_per_game",
          "fg_per_game",
          "fga_per_game",
          "n_rtg",
          "x2pa_per_game"
         ],
         "y": [
          25,
          27,
          27,
          13,
          30,
          16
         ]
        }
       ],
       "layout": {
        "legend": {
         "title": {
          "text": "Team"
         }
        },
        "template": {
         "data": {
          "bar": [
           {
            "error_x": {
             "color": "#2a3f5f"
            },
            "error_y": {
             "color": "#2a3f5f"
            },
            "marker": {
             "line": {
              "color": "#E5ECF6",
              "width": 0.5
             },
             "pattern": {
              "fillmode": "overlay",
              "size": 10,
              "solidity": 0.2
             }
            },
            "type": "bar"
           }
          ],
          "barpolar": [
           {
            "marker": {
             "line": {
              "color": "#E5ECF6",
              "width": 0.5
             },
             "pattern": {
              "fillmode": "overlay",
              "size": 10,
              "solidity": 0.2
             }
            },
            "type": "barpolar"
           }
          ],
          "carpet": [
           {
            "aaxis": {
             "endlinecolor": "#2a3f5f",
             "gridcolor": "white",
             "linecolor": "white",
             "minorgridcolor": "white",
             "startlinecolor": "#2a3f5f"
            },
            "baxis": {
             "endlinecolor": "#2a3f5f",
             "gridcolor": "white",
             "linecolor": "white",
             "minorgridcolor": "white",
             "startlinecolor": "#2a3f5f"
            },
            "type": "carpet"
           }
          ],
          "choropleth": [
           {
            "colorbar": {
             "outlinewidth": 0,
             "ticks": ""
            },
            "type": "choropleth"
           }
          ],
          "contour": [
           {
            "colorbar": {
             "outlinewidth": 0,
             "ticks": ""
            },
            "colorscale": [
             [
              0,
              "#0d0887"
             ],
             [
              0.1111111111111111,
              "#46039f"
             ],
             [
              0.2222222222222222,
              "#7201a8"
             ],
             [
              0.3333333333333333,
              "#9c179e"
             ],
             [
              0.4444444444444444,
              "#bd3786"
             ],
             [
              0.5555555555555556,
              "#d8576b"
             ],
             [
              0.6666666666666666,
              "#ed7953"
             ],
             [
              0.7777777777777778,
              "#fb9f3a"
             ],
             [
              0.8888888888888888,
              "#fdca26"
             ],
             [
              1,
              "#f0f921"
             ]
            ],
            "type": "contour"
           }
          ],
          "contourcarpet": [
           {
            "colorbar": {
             "outlinewidth": 0,
             "ticks": ""
            },
            "type": "contourcarpet"
           }
          ],
          "heatmap": [
           {
            "colorbar": {
             "outlinewidth": 0,
             "ticks": ""
            },
            "colorscale": [
             [
              0,
              "#0d0887"
             ],
             [
              0.1111111111111111,
              "#46039f"
             ],
             [
              0.2222222222222222,
              "#7201a8"
             ],
             [
              0.3333333333333333,
              "#9c179e"
             ],
             [
              0.4444444444444444,
              "#bd3786"
             ],
             [
              0.5555555555555556,
              "#d8576b"
             ],
             [
              0.6666666666666666,
              "#ed7953"
             ],
             [
              0.7777777777777778,
              "#fb9f3a"
             ],
             [
              0.8888888888888888,
              "#fdca26"
             ],
             [
              1,
              "#f0f921"
             ]
            ],
            "type": "heatmap"
           }
          ],
          "heatmapgl": [
           {
            "colorbar": {
             "outlinewidth": 0,
             "ticks": ""
            },
            "colorscale": [
             [
              0,
              "#0d0887"
             ],
             [
              0.1111111111111111,
              "#46039f"
             ],
             [
              0.2222222222222222,
              "#7201a8"
             ],
             [
              0.3333333333333333,
              "#9c179e"
             ],
             [
              0.4444444444444444,
              "#bd3786"
             ],
             [
              0.5555555555555556,
              "#d8576b"
             ],
             [
              0.6666666666666666,
              "#ed7953"
             ],
             [
              0.7777777777777778,
              "#fb9f3a"
             ],
             [
              0.8888888888888888,
              "#fdca26"
             ],
             [
              1,
              "#f0f921"
             ]
            ],
            "type": "heatmapgl"
           }
          ],
          "histogram": [
           {
            "marker": {
             "pattern": {
              "fillmode": "overlay",
              "size": 10,
              "solidity": 0.2
             }
            },
            "type": "histogram"
           }
          ],
          "histogram2d": [
           {
            "colorbar": {
             "outlinewidth": 0,
             "ticks": ""
            },
            "colorscale": [
             [
              0,
              "#0d0887"
             ],
             [
              0.1111111111111111,
              "#46039f"
             ],
             [
              0.2222222222222222,
              "#7201a8"
             ],
             [
              0.3333333333333333,
              "#9c179e"
             ],
             [
              0.4444444444444444,
              "#bd3786"
             ],
             [
              0.5555555555555556,
              "#d8576b"
             ],
             [
              0.6666666666666666,
              "#ed7953"
             ],
             [
              0.7777777777777778,
              "#fb9f3a"
             ],
             [
              0.8888888888888888,
              "#fdca26"
             ],
             [
              1,
              "#f0f921"
             ]
            ],
            "type": "histogram2d"
           }
          ],
          "histogram2dcontour": [
           {
            "colorbar": {
             "outlinewidth": 0,
             "ticks": ""
            },
            "colorscale": [
             [
              0,
              "#0d0887"
             ],
             [
              0.1111111111111111,
              "#46039f"
             ],
             [
              0.2222222222222222,
              "#7201a8"
             ],
             [
              0.3333333333333333,
              "#9c179e"
             ],
             [
              0.4444444444444444,
              "#bd3786"
             ],
             [
              0.5555555555555556,
              "#d8576b"
             ],
             [
              0.6666666666666666,
              "#ed7953"
             ],
             [
              0.7777777777777778,
              "#fb9f3a"
             ],
             [
              0.8888888888888888,
              "#fdca26"
             ],
             [
              1,
              "#f0f921"
             ]
            ],
            "type": "histogram2dcontour"
           }
          ],
          "mesh3d": [
           {
            "colorbar": {
             "outlinewidth": 0,
             "ticks": ""
            },
            "type": "mesh3d"
           }
          ],
          "parcoords": [
           {
            "line": {
             "colorbar": {
              "outlinewidth": 0,
              "ticks": ""
             }
            },
            "type": "parcoords"
           }
          ],
          "pie": [
           {
            "automargin": true,
            "type": "pie"
           }
          ],
          "scatter": [
           {
            "fillpattern": {
             "fillmode": "overlay",
             "size": 10,
             "solidity": 0.2
            },
            "type": "scatter"
           }
          ],
          "scatter3d": [
           {
            "line": {
             "colorbar": {
              "outlinewidth": 0,
              "ticks": ""
             }
            },
            "marker": {
             "colorbar": {
              "outlinewidth": 0,
              "ticks": ""
             }
            },
            "type": "scatter3d"
           }
          ],
          "scattercarpet": [
           {
            "marker": {
             "colorbar": {
              "outlinewidth": 0,
              "ticks": ""
             }
            },
            "type": "scattercarpet"
           }
          ],
          "scattergeo": [
           {
            "marker": {
             "colorbar": {
              "outlinewidth": 0,
              "ticks": ""
             }
            },
            "type": "scattergeo"
           }
          ],
          "scattergl": [
           {
            "marker": {
             "colorbar": {
              "outlinewidth": 0,
              "ticks": ""
             }
            },
            "type": "scattergl"
           }
          ],
          "scattermapbox": [
           {
            "marker": {
             "colorbar": {
              "outlinewidth": 0,
              "ticks": ""
             }
            },
            "type": "scattermapbox"
           }
          ],
          "scatterpolar": [
           {
            "marker": {
             "colorbar": {
              "outlinewidth": 0,
              "ticks": ""
             }
            },
            "type": "scatterpolar"
           }
          ],
          "scatterpolargl": [
           {
            "marker": {
             "colorbar": {
              "outlinewidth": 0,
              "ticks": ""
             }
            },
            "type": "scatterpolargl"
           }
          ],
          "scatterternary": [
           {
            "marker": {
             "colorbar": {
              "outlinewidth": 0,
              "ticks": ""
             }
            },
            "type": "scatterternary"
           }
          ],
          "surface": [
           {
            "colorbar": {
             "outlinewidth": 0,
             "ticks": ""
            },
            "colorscale": [
             [
              0,
              "#0d0887"
             ],
             [
              0.1111111111111111,
              "#46039f"
             ],
             [
              0.2222222222222222,
              "#7201a8"
             ],
             [
              0.3333333333333333,
              "#9c179e"
             ],
             [
              0.4444444444444444,
              "#bd3786"
             ],
             [
              0.5555555555555556,
              "#d8576b"
             ],
             [
              0.6666666666666666,
              "#ed7953"
             ],
             [
              0.7777777777777778,
              "#fb9f3a"
             ],
             [
              0.8888888888888888,
              "#fdca26"
             ],
             [
              1,
              "#f0f921"
             ]
            ],
            "type": "surface"
           }
          ],
          "table": [
           {
            "cells": {
             "fill": {
              "color": "#EBF0F8"
             },
             "line": {
              "color": "white"
             }
            },
            "header": {
             "fill": {
              "color": "#C8D4E3"
             },
             "line": {
              "color": "white"
             }
            },
            "type": "table"
           }
          ]
         },
         "layout": {
          "annotationdefaults": {
           "arrowcolor": "#2a3f5f",
           "arrowhead": 0,
           "arrowwidth": 1
          },
          "autotypenumbers": "strict",
          "coloraxis": {
           "colorbar": {
            "outlinewidth": 0,
            "ticks": ""
           }
          },
          "colorscale": {
           "diverging": [
            [
             0,
             "#8e0152"
            ],
            [
             0.1,
             "#c51b7d"
            ],
            [
             0.2,
             "#de77ae"
            ],
            [
             0.3,
             "#f1b6da"
            ],
            [
             0.4,
             "#fde0ef"
            ],
            [
             0.5,
             "#f7f7f7"
            ],
            [
             0.6,
             "#e6f5d0"
            ],
            [
             0.7,
             "#b8e186"
            ],
            [
             0.8,
             "#7fbc41"
            ],
            [
             0.9,
             "#4d9221"
            ],
            [
             1,
             "#276419"
            ]
           ],
           "sequential": [
            [
             0,
             "#0d0887"
            ],
            [
             0.1111111111111111,
             "#46039f"
            ],
            [
             0.2222222222222222,
             "#7201a8"
            ],
            [
             0.3333333333333333,
             "#9c179e"
            ],
            [
             0.4444444444444444,
             "#bd3786"
            ],
            [
             0.5555555555555556,
             "#d8576b"
            ],
            [
             0.6666666666666666,
             "#ed7953"
            ],
            [
             0.7777777777777778,
             "#fb9f3a"
            ],
            [
             0.8888888888888888,
             "#fdca26"
            ],
            [
             1,
             "#f0f921"
            ]
           ],
           "sequentialminus": [
            [
             0,
             "#0d0887"
            ],
            [
             0.1111111111111111,
             "#46039f"
            ],
            [
             0.2222222222222222,
             "#7201a8"
            ],
            [
             0.3333333333333333,
             "#9c179e"
            ],
            [
             0.4444444444444444,
             "#bd3786"
            ],
            [
             0.5555555555555556,
             "#d8576b"
            ],
            [
             0.6666666666666666,
             "#ed7953"
            ],
            [
             0.7777777777777778,
             "#fb9f3a"
            ],
            [
             0.8888888888888888,
             "#fdca26"
            ],
            [
             1,
             "#f0f921"
            ]
           ]
          },
          "colorway": [
           "#636efa",
           "#EF553B",
           "#00cc96",
           "#ab63fa",
           "#FFA15A",
           "#19d3f3",
           "#FF6692",
           "#B6E880",
           "#FF97FF",
           "#FECB52"
          ],
          "font": {
           "color": "#2a3f5f"
          },
          "geo": {
           "bgcolor": "white",
           "lakecolor": "white",
           "landcolor": "#E5ECF6",
           "showlakes": true,
           "showland": true,
           "subunitcolor": "white"
          },
          "hoverlabel": {
           "align": "left"
          },
          "hovermode": "closest",
          "mapbox": {
           "style": "light"
          },
          "paper_bgcolor": "white",
          "plot_bgcolor": "#E5ECF6",
          "polar": {
           "angularaxis": {
            "gridcolor": "white",
            "linecolor": "white",
            "ticks": ""
           },
           "bgcolor": "#E5ECF6",
           "radialaxis": {
            "gridcolor": "white",
            "linecolor": "white",
            "ticks": ""
           }
          },
          "scene": {
           "xaxis": {
            "backgroundcolor": "#E5ECF6",
            "gridcolor": "white",
            "gridwidth": 2,
            "linecolor": "white",
            "showbackground": true,
            "ticks": "",
            "zerolinecolor": "white"
           },
           "yaxis": {
            "backgroundcolor": "#E5ECF6",
            "gridcolor": "white",
            "gridwidth": 2,
            "linecolor": "white",
            "showbackground": true,
            "ticks": "",
            "zerolinecolor": "white"
           },
           "zaxis": {
            "backgroundcolor": "#E5ECF6",
            "gridcolor": "white",
            "gridwidth": 2,
            "linecolor": "white",
            "showbackground": true,
            "ticks": "",
            "zerolinecolor": "white"
           }
          },
          "shapedefaults": {
           "line": {
            "color": "#2a3f5f"
           }
          },
          "ternary": {
           "aaxis": {
            "gridcolor": "white",
            "linecolor": "white",
            "ticks": ""
           },
           "baxis": {
            "gridcolor": "white",
            "linecolor": "white",
            "ticks": ""
           },
           "bgcolor": "#E5ECF6",
           "caxis": {
            "gridcolor": "white",
            "linecolor": "white",
            "ticks": ""
           }
          },
          "title": {
           "x": 0.05
          },
          "xaxis": {
           "automargin": true,
           "gridcolor": "white",
           "linecolor": "white",
           "ticks": "",
           "title": {
            "standoff": 15
           },
           "zerolinecolor": "white",
           "zerolinewidth": 2
          },
          "yaxis": {
           "automargin": true,
           "gridcolor": "white",
           "linecolor": "white",
           "ticks": "",
           "title": {
            "standoff": 15
           },
           "zerolinecolor": "white",
           "zerolinewidth": 2
          }
         }
        },
        "title": {
         "text": "2025 Teams Scaled by Prominent Statistics"
        },
        "xaxis": {
         "title": {
          "text": "Prominent Stat"
         }
        },
        "yaxis": {
         "autorange": "reversed",
         "range": [
          1,
          30
         ],
         "title": {
          "text": "Team Placement"
         }
        }
       }
      }
     },
     "metadata": {},
     "output_type": "display_data"
    }
   ],
   "source": [
    "curr_data = get_team_prominence(team_stats, prominent_stats, 2025)\n",
    "curr_data.columns = [column[5:] for column in curr_data.columns]\n",
    "fig = go.Figure()\n",
    "for team in curr_data.index:\n",
    "    fig.add_trace(go.Scatter(\n",
    "        x=curr_data.columns,\n",
    "        y=curr_data.loc[team].values,\n",
    "        mode=\"lines+markers\",\n",
    "        name=team\n",
    "    ))\n",
    "fig.update_yaxes(autorange=\"reversed\")\n",
    "fig.update_layout(title=\"2025 Teams Scaled by Prominent Statistics\", yaxis_range=[1, 30],\n",
    "                  xaxis_title=\"Prominent Stat\", yaxis_title=\"Team Placement\",\n",
    "                  legend_title=\"Team\")\n",
    "fig.show()"
   ]
  },
  {
   "cell_type": "markdown",
   "id": "8bdbc068-e495-469f-9d02-6e4005de0e89",
   "metadata": {},
   "source": [
    "##### As seen above, there is a slight trend with some teams. If you look at a team like the Brooklyn Nets, they are near the bottom, whereas a team like the Memphis Grizzlies are near the top for all of the statistics!"
   ]
  },
  {
   "cell_type": "markdown",
   "id": "96884a2b-363f-4cab-bb33-4d65b0b3a6d9",
   "metadata": {},
   "source": [
    "#### Now, we need to get the success for each team per year!"
   ]
  },
  {
   "cell_type": "markdown",
   "id": "487e59d8-2eb7-4332-bbb7-3d706f29d1b1",
   "metadata": {},
   "source": [
    "### Part 2: Rank Teams by Team Success\n",
    "As said earlier, I am valuing team success per season by:\n",
    "* The amount of wins in a season (1 point per win)\n",
    "* If the team made the playoffs (5 points if true)\n",
    "* If the team won a championship (10 points if true - for 2025, we will give half points for the Oklahoma City Thunder and the Indiana Pacers, as the victor is not decided yet).\n",
    "\n",
    "With that being said, lets rank these teams!\n",
    "#### get_season_success\n",
    "> This program will get the success score for each team in a season and will return it as a series of scores! We will then be able to compare each season success scores to the rankings in the prominent stats!"
   ]
  },
  {
   "cell_type": "code",
   "execution_count": 21,
   "id": "fa1a6720-1aa1-48d7-9a10-1fc2c69a072c",
   "metadata": {},
   "outputs": [],
   "source": [
    "def get_season_success(team_data, champions, season):\n",
    "    \"\"\"\n",
    "    Given an NBA team dataset, NBA champions, and a season, returns a series representing the\n",
    "    \"success scores\" for each NBA team for that season, based on wins, playoff appearance, and\n",
    "    championships. If the year is 2025, give 5 points to the two current finalists as the champion\n",
    "    isn't decided as of 6/9/2025\n",
    "    \"\"\"\n",
    "    curr_season = team_data[(team_data[\"season\"] == season) &\n",
    "                            (team_data[\"team\"] != \"League Average\")] # Remove League Average Row\n",
    "    curr_season = curr_season.set_index(\"team\")\n",
    "    scores = pd.Series(index=curr_season.index, dtype=\"float64\")\n",
    "    for team in scores.index:\n",
    "        team_score = curr_season.loc[team, \"w\"]\n",
    "        if team in curr_season[curr_season[\"playoffs\"]].index:\n",
    "            team_score += 5\n",
    "        scores[team] = team_score\n",
    "\n",
    "    if season == 2025:\n",
    "        scores[\"Indiana Pacers\"] = scores[\"Indiana Pacers\"] + 5\n",
    "        scores[\"Oklahoma City Thunder\"] = scores[\"Oklahoma City Thunder\"] + 5\n",
    "    else:\n",
    "        curr_champ = champions[champions[\"Year\"] == season][\"NBA Champion\"]\n",
    "        scores[curr_champ] = scores[curr_champ] + 10\n",
    "    return scores\n",
    "\n",
    "# TEST PORTION\n",
    "test_season_success = get_season_success(team_test_data, nba_champions, 2024)\n",
    "assert test_season_success[\"Boston Celtics\"] == 79\n",
    "assert test_season_success[\"Detroit Pistons\"] == 14\n",
    "assert test_season_success[\"Miami Heat\"] == 51\n",
    "assert test_season_success[\"Minnesota Timberwolves\"] == 61\n",
    "assert test_season_success[\"San Antonio Spurs\"] == 22\n",
    "assert test_season_success[\"Washington Wizards\"] == 15"
   ]
  },
  {
   "cell_type": "markdown",
   "id": "75a13624-0a31-45ba-8b11-5e97211f21f3",
   "metadata": {},
   "source": [
    "#### With this new program, let's try to visualize the scores with a season such as the 2017 season!"
   ]
  },
  {
   "cell_type": "code",
   "execution_count": 22,
   "id": "b2e91fea-c0cc-4c74-88fd-a87c9a628b33",
   "metadata": {},
   "outputs": [
    {
     "data": {
      "application/vnd.plotly.v1+json": {
       "config": {
        "plotlyServerURL": "https://plot.ly"
       },
       "data": [
        {
         "alignmentgroup": "True",
         "hovertemplate": "team=%{x}<br>value=%{y}<br>color=%{marker.color}<extra></extra>",
         "legendgroup": "",
         "marker": {
          "color": [
           48,
           58,
           20,
           46,
           36,
           56,
           33,
           40,
           37,
           82,
           60,
           47,
           56,
           26,
           48,
           41,
           47,
           31,
           34,
           31,
           52,
           29,
           28,
           24,
           46,
           32,
           66,
           56,
           56,
           54
          ],
          "coloraxis": "coloraxis",
          "pattern": {
           "shape": ""
          }
         },
         "name": "",
         "offsetgroup": "",
         "orientation": "v",
         "showlegend": false,
         "textposition": "auto",
         "type": "bar",
         "x": [
          "Atlanta Hawks",
          "Boston Celtics",
          "Brooklyn Nets",
          "Chicago Bulls",
          "Charlotte Hornets",
          "Cleveland Cavaliers",
          "Dallas Mavericks",
          "Denver Nuggets",
          "Detroit Pistons",
          "Golden State Warriors",
          "Houston Rockets",
          "Indiana Pacers",
          "Los Angeles Clippers",
          "Los Angeles Lakers",
          "Memphis Grizzlies",
          "Miami Heat",
          "Milwaukee Bucks",
          "Minnesota Timberwolves",
          "New Orleans Pelicans",
          "New York Knicks",
          "Oklahoma City Thunder",
          "Orlando Magic",
          "Philadelphia 76ers",
          "Phoenix Suns",
          "Portland Trail Blazers",
          "Sacramento Kings",
          "San Antonio Spurs",
          "Toronto Raptors",
          "Utah Jazz",
          "Washington Wizards"
         ],
         "xaxis": "x",
         "y": [
          48,
          58,
          20,
          46,
          36,
          56,
          33,
          40,
          37,
          82,
          60,
          47,
          56,
          26,
          48,
          41,
          47,
          31,
          34,
          31,
          52,
          29,
          28,
          24,
          46,
          32,
          66,
          56,
          56,
          54
         ],
         "yaxis": "y"
        }
       ],
       "layout": {
        "barmode": "relative",
        "coloraxis": {
         "colorbar": {
          "title": {
           "text": "color"
          }
         },
         "colorscale": [
          [
           0,
           "rgb(252, 222, 156)"
          ],
          [
           0.16666666666666666,
           "rgb(250, 164, 118)"
          ],
          [
           0.3333333333333333,
           "rgb(240, 116, 110)"
          ],
          [
           0.5,
           "rgb(227, 79, 111)"
          ],
          [
           0.6666666666666666,
           "rgb(220, 57, 119)"
          ],
          [
           0.8333333333333334,
           "rgb(185, 37, 122)"
          ],
          [
           1,
           "rgb(124, 29, 111)"
          ]
         ]
        },
        "legend": {
         "tracegroupgap": 0
        },
        "template": {
         "data": {
          "bar": [
           {
            "error_x": {
             "color": "#2a3f5f"
            },
            "error_y": {
             "color": "#2a3f5f"
            },
            "marker": {
             "line": {
              "color": "#E5ECF6",
              "width": 0.5
             },
             "pattern": {
              "fillmode": "overlay",
              "size": 10,
              "solidity": 0.2
             }
            },
            "type": "bar"
           }
          ],
          "barpolar": [
           {
            "marker": {
             "line": {
              "color": "#E5ECF6",
              "width": 0.5
             },
             "pattern": {
              "fillmode": "overlay",
              "size": 10,
              "solidity": 0.2
             }
            },
            "type": "barpolar"
           }
          ],
          "carpet": [
           {
            "aaxis": {
             "endlinecolor": "#2a3f5f",
             "gridcolor": "white",
             "linecolor": "white",
             "minorgridcolor": "white",
             "startlinecolor": "#2a3f5f"
            },
            "baxis": {
             "endlinecolor": "#2a3f5f",
             "gridcolor": "white",
             "linecolor": "white",
             "minorgridcolor": "white",
             "startlinecolor": "#2a3f5f"
            },
            "type": "carpet"
           }
          ],
          "choropleth": [
           {
            "colorbar": {
             "outlinewidth": 0,
             "ticks": ""
            },
            "type": "choropleth"
           }
          ],
          "contour": [
           {
            "colorbar": {
             "outlinewidth": 0,
             "ticks": ""
            },
            "colorscale": [
             [
              0,
              "#0d0887"
             ],
             [
              0.1111111111111111,
              "#46039f"
             ],
             [
              0.2222222222222222,
              "#7201a8"
             ],
             [
              0.3333333333333333,
              "#9c179e"
             ],
             [
              0.4444444444444444,
              "#bd3786"
             ],
             [
              0.5555555555555556,
              "#d8576b"
             ],
             [
              0.6666666666666666,
              "#ed7953"
             ],
             [
              0.7777777777777778,
              "#fb9f3a"
             ],
             [
              0.8888888888888888,
              "#fdca26"
             ],
             [
              1,
              "#f0f921"
             ]
            ],
            "type": "contour"
           }
          ],
          "contourcarpet": [
           {
            "colorbar": {
             "outlinewidth": 0,
             "ticks": ""
            },
            "type": "contourcarpet"
           }
          ],
          "heatmap": [
           {
            "colorbar": {
             "outlinewidth": 0,
             "ticks": ""
            },
            "colorscale": [
             [
              0,
              "#0d0887"
             ],
             [
              0.1111111111111111,
              "#46039f"
             ],
             [
              0.2222222222222222,
              "#7201a8"
             ],
             [
              0.3333333333333333,
              "#9c179e"
             ],
             [
              0.4444444444444444,
              "#bd3786"
             ],
             [
              0.5555555555555556,
              "#d8576b"
             ],
             [
              0.6666666666666666,
              "#ed7953"
             ],
             [
              0.7777777777777778,
              "#fb9f3a"
             ],
             [
              0.8888888888888888,
              "#fdca26"
             ],
             [
              1,
              "#f0f921"
             ]
            ],
            "type": "heatmap"
           }
          ],
          "heatmapgl": [
           {
            "colorbar": {
             "outlinewidth": 0,
             "ticks": ""
            },
            "colorscale": [
             [
              0,
              "#0d0887"
             ],
             [
              0.1111111111111111,
              "#46039f"
             ],
             [
              0.2222222222222222,
              "#7201a8"
             ],
             [
              0.3333333333333333,
              "#9c179e"
             ],
             [
              0.4444444444444444,
              "#bd3786"
             ],
             [
              0.5555555555555556,
              "#d8576b"
             ],
             [
              0.6666666666666666,
              "#ed7953"
             ],
             [
              0.7777777777777778,
              "#fb9f3a"
             ],
             [
              0.8888888888888888,
              "#fdca26"
             ],
             [
              1,
              "#f0f921"
             ]
            ],
            "type": "heatmapgl"
           }
          ],
          "histogram": [
           {
            "marker": {
             "pattern": {
              "fillmode": "overlay",
              "size": 10,
              "solidity": 0.2
             }
            },
            "type": "histogram"
           }
          ],
          "histogram2d": [
           {
            "colorbar": {
             "outlinewidth": 0,
             "ticks": ""
            },
            "colorscale": [
             [
              0,
              "#0d0887"
             ],
             [
              0.1111111111111111,
              "#46039f"
             ],
             [
              0.2222222222222222,
              "#7201a8"
             ],
             [
              0.3333333333333333,
              "#9c179e"
             ],
             [
              0.4444444444444444,
              "#bd3786"
             ],
             [
              0.5555555555555556,
              "#d8576b"
             ],
             [
              0.6666666666666666,
              "#ed7953"
             ],
             [
              0.7777777777777778,
              "#fb9f3a"
             ],
             [
              0.8888888888888888,
              "#fdca26"
             ],
             [
              1,
              "#f0f921"
             ]
            ],
            "type": "histogram2d"
           }
          ],
          "histogram2dcontour": [
           {
            "colorbar": {
             "outlinewidth": 0,
             "ticks": ""
            },
            "colorscale": [
             [
              0,
              "#0d0887"
             ],
             [
              0.1111111111111111,
              "#46039f"
             ],
             [
              0.2222222222222222,
              "#7201a8"
             ],
             [
              0.3333333333333333,
              "#9c179e"
             ],
             [
              0.4444444444444444,
              "#bd3786"
             ],
             [
              0.5555555555555556,
              "#d8576b"
             ],
             [
              0.6666666666666666,
              "#ed7953"
             ],
             [
              0.7777777777777778,
              "#fb9f3a"
             ],
             [
              0.8888888888888888,
              "#fdca26"
             ],
             [
              1,
              "#f0f921"
             ]
            ],
            "type": "histogram2dcontour"
           }
          ],
          "mesh3d": [
           {
            "colorbar": {
             "outlinewidth": 0,
             "ticks": ""
            },
            "type": "mesh3d"
           }
          ],
          "parcoords": [
           {
            "line": {
             "colorbar": {
              "outlinewidth": 0,
              "ticks": ""
             }
            },
            "type": "parcoords"
           }
          ],
          "pie": [
           {
            "automargin": true,
            "type": "pie"
           }
          ],
          "scatter": [
           {
            "fillpattern": {
             "fillmode": "overlay",
             "size": 10,
             "solidity": 0.2
            },
            "type": "scatter"
           }
          ],
          "scatter3d": [
           {
            "line": {
             "colorbar": {
              "outlinewidth": 0,
              "ticks": ""
             }
            },
            "marker": {
             "colorbar": {
              "outlinewidth": 0,
              "ticks": ""
             }
            },
            "type": "scatter3d"
           }
          ],
          "scattercarpet": [
           {
            "marker": {
             "colorbar": {
              "outlinewidth": 0,
              "ticks": ""
             }
            },
            "type": "scattercarpet"
           }
          ],
          "scattergeo": [
           {
            "marker": {
             "colorbar": {
              "outlinewidth": 0,
              "ticks": ""
             }
            },
            "type": "scattergeo"
           }
          ],
          "scattergl": [
           {
            "marker": {
             "colorbar": {
              "outlinewidth": 0,
              "ticks": ""
             }
            },
            "type": "scattergl"
           }
          ],
          "scattermapbox": [
           {
            "marker": {
             "colorbar": {
              "outlinewidth": 0,
              "ticks": ""
             }
            },
            "type": "scattermapbox"
           }
          ],
          "scatterpolar": [
           {
            "marker": {
             "colorbar": {
              "outlinewidth": 0,
              "ticks": ""
             }
            },
            "type": "scatterpolar"
           }
          ],
          "scatterpolargl": [
           {
            "marker": {
             "colorbar": {
              "outlinewidth": 0,
              "ticks": ""
             }
            },
            "type": "scatterpolargl"
           }
          ],
          "scatterternary": [
           {
            "marker": {
             "colorbar": {
              "outlinewidth": 0,
              "ticks": ""
             }
            },
            "type": "scatterternary"
           }
          ],
          "surface": [
           {
            "colorbar": {
             "outlinewidth": 0,
             "ticks": ""
            },
            "colorscale": [
             [
              0,
              "#0d0887"
             ],
             [
              0.1111111111111111,
              "#46039f"
             ],
             [
              0.2222222222222222,
              "#7201a8"
             ],
             [
              0.3333333333333333,
              "#9c179e"
             ],
             [
              0.4444444444444444,
              "#bd3786"
             ],
             [
              0.5555555555555556,
              "#d8576b"
             ],
             [
              0.6666666666666666,
              "#ed7953"
             ],
             [
              0.7777777777777778,
              "#fb9f3a"
             ],
             [
              0.8888888888888888,
              "#fdca26"
             ],
             [
              1,
              "#f0f921"
             ]
            ],
            "type": "surface"
           }
          ],
          "table": [
           {
            "cells": {
             "fill": {
              "color": "#EBF0F8"
             },
             "line": {
              "color": "white"
             }
            },
            "header": {
             "fill": {
              "color": "#C8D4E3"
             },
             "line": {
              "color": "white"
             }
            },
            "type": "table"
           }
          ]
         },
         "layout": {
          "annotationdefaults": {
           "arrowcolor": "#2a3f5f",
           "arrowhead": 0,
           "arrowwidth": 1
          },
          "autotypenumbers": "strict",
          "coloraxis": {
           "colorbar": {
            "outlinewidth": 0,
            "ticks": ""
           }
          },
          "colorscale": {
           "diverging": [
            [
             0,
             "#8e0152"
            ],
            [
             0.1,
             "#c51b7d"
            ],
            [
             0.2,
             "#de77ae"
            ],
            [
             0.3,
             "#f1b6da"
            ],
            [
             0.4,
             "#fde0ef"
            ],
            [
             0.5,
             "#f7f7f7"
            ],
            [
             0.6,
             "#e6f5d0"
            ],
            [
             0.7,
             "#b8e186"
            ],
            [
             0.8,
             "#7fbc41"
            ],
            [
             0.9,
             "#4d9221"
            ],
            [
             1,
             "#276419"
            ]
           ],
           "sequential": [
            [
             0,
             "#0d0887"
            ],
            [
             0.1111111111111111,
             "#46039f"
            ],
            [
             0.2222222222222222,
             "#7201a8"
            ],
            [
             0.3333333333333333,
             "#9c179e"
            ],
            [
             0.4444444444444444,
             "#bd3786"
            ],
            [
             0.5555555555555556,
             "#d8576b"
            ],
            [
             0.6666666666666666,
             "#ed7953"
            ],
            [
             0.7777777777777778,
             "#fb9f3a"
            ],
            [
             0.8888888888888888,
             "#fdca26"
            ],
            [
             1,
             "#f0f921"
            ]
           ],
           "sequentialminus": [
            [
             0,
             "#0d0887"
            ],
            [
             0.1111111111111111,
             "#46039f"
            ],
            [
             0.2222222222222222,
             "#7201a8"
            ],
            [
             0.3333333333333333,
             "#9c179e"
            ],
            [
             0.4444444444444444,
             "#bd3786"
            ],
            [
             0.5555555555555556,
             "#d8576b"
            ],
            [
             0.6666666666666666,
             "#ed7953"
            ],
            [
             0.7777777777777778,
             "#fb9f3a"
            ],
            [
             0.8888888888888888,
             "#fdca26"
            ],
            [
             1,
             "#f0f921"
            ]
           ]
          },
          "colorway": [
           "#636efa",
           "#EF553B",
           "#00cc96",
           "#ab63fa",
           "#FFA15A",
           "#19d3f3",
           "#FF6692",
           "#B6E880",
           "#FF97FF",
           "#FECB52"
          ],
          "font": {
           "color": "#2a3f5f"
          },
          "geo": {
           "bgcolor": "white",
           "lakecolor": "white",
           "landcolor": "#E5ECF6",
           "showlakes": true,
           "showland": true,
           "subunitcolor": "white"
          },
          "hoverlabel": {
           "align": "left"
          },
          "hovermode": "closest",
          "mapbox": {
           "style": "light"
          },
          "paper_bgcolor": "white",
          "plot_bgcolor": "#E5ECF6",
          "polar": {
           "angularaxis": {
            "gridcolor": "white",
            "linecolor": "white",
            "ticks": ""
           },
           "bgcolor": "#E5ECF6",
           "radialaxis": {
            "gridcolor": "white",
            "linecolor": "white",
            "ticks": ""
           }
          },
          "scene": {
           "xaxis": {
            "backgroundcolor": "#E5ECF6",
            "gridcolor": "white",
            "gridwidth": 2,
            "linecolor": "white",
            "showbackground": true,
            "ticks": "",
            "zerolinecolor": "white"
           },
           "yaxis": {
            "backgroundcolor": "#E5ECF6",
            "gridcolor": "white",
            "gridwidth": 2,
            "linecolor": "white",
            "showbackground": true,
            "ticks": "",
            "zerolinecolor": "white"
           },
           "zaxis": {
            "backgroundcolor": "#E5ECF6",
            "gridcolor": "white",
            "gridwidth": 2,
            "linecolor": "white",
            "showbackground": true,
            "ticks": "",
            "zerolinecolor": "white"
           }
          },
          "shapedefaults": {
           "line": {
            "color": "#2a3f5f"
           }
          },
          "ternary": {
           "aaxis": {
            "gridcolor": "white",
            "linecolor": "white",
            "ticks": ""
           },
           "baxis": {
            "gridcolor": "white",
            "linecolor": "white",
            "ticks": ""
           },
           "bgcolor": "#E5ECF6",
           "caxis": {
            "gridcolor": "white",
            "linecolor": "white",
            "ticks": ""
           }
          },
          "title": {
           "x": 0.05
          },
          "xaxis": {
           "automargin": true,
           "gridcolor": "white",
           "linecolor": "white",
           "ticks": "",
           "title": {
            "standoff": 15
           },
           "zerolinecolor": "white",
           "zerolinewidth": 2
          },
          "yaxis": {
           "automargin": true,
           "gridcolor": "white",
           "linecolor": "white",
           "ticks": "",
           "title": {
            "standoff": 15
           },
           "zerolinecolor": "white",
           "zerolinewidth": 2
          }
         }
        },
        "title": {
         "text": "2017 NBA Team Success Scores"
        },
        "xaxis": {
         "anchor": "y",
         "domain": [
          0,
          1
         ],
         "tickangle": -45,
         "title": {
          "text": "Team"
         }
        },
        "yaxis": {
         "anchor": "x",
         "domain": [
          0,
          1
         ],
         "title": {
          "text": "Success Score"
         }
        }
       }
      }
     },
     "metadata": {},
     "output_type": "display_data"
    }
   ],
   "source": [
    "graph_data = get_season_success(team_stats, nba_champions, 2017)\n",
    "\n",
    "fig = px.bar(graph_data, color=graph_data.values, color_continuous_scale='sunsetdark', \n",
    "             title=\"2017 NBA Team Success Scores\")\n",
    "fig.update_xaxes(tickangle=-45)\n",
    "fig.update_layout(xaxis_title=\"Team\", yaxis_title=\"Success Score\")\n",
    "\n",
    "fig.show()"
   ]
  },
  {
   "cell_type": "markdown",
   "id": "27fe3d5a-bcd0-4f4b-bfc5-bde052e24fd1",
   "metadata": {},
   "source": [
    "#### As seen by the graph, the champion Golden State Warriors take charge, as they had the most success, followed by the high-win San Antonio Spurs."
   ]
  },
  {
   "attachments": {},
   "cell_type": "markdown",
   "id": "3309fc76-f842-4ae3-9fd3-f7de21b3eb46",
   "metadata": {},
   "source": [
    "#### Great! Now that we have figured out the scores for each team, let's compare these scores to the average of the prominence rankings for the 30 teams!\n",
    "\n",
    "### Part 3: Compare the Season Scores with the Prominent Statistic Rankings.\n",
    "We have both the Season Scores and the Prominent Statistics. Now, in order to figure out if the two correlate, we can look at the season scores and compare them to the average ranking in the prominent statistics. By graphing this, we can see if there is a correlation between the two, and our research question 2 will be answered.\n",
    "\n",
    "#### Scatter Plot\n",
    "> Whille this isn't a method, we will take in our prominent rankings for a season, ang get the average ranking for each team as a series. This will give a general sense of which teams are great at the prominent individual stats seen in All-Stars, then we graph that along with the season scores."
   ]
  },
  {
   "cell_type": "code",
   "execution_count": 23,
   "id": "e2b6d7d0-99a6-4498-8d24-7f92a743822f",
   "metadata": {},
   "outputs": [
    {
     "data": {
      "application/vnd.plotly.v1+json": {
       "config": {
        "plotlyServerURL": "https://plot.ly"
       },
       "data": [
        {
         "mode": "markers",
         "name": "2025",
         "type": "scatter",
         "x": [
          7.666666666666667,
          16,
          27.833333333333332,
          14.5,
          24.5,
          8.666666666666666,
          14.166666666666666,
          5,
          11.166666666666666,
          16,
          7,
          11.833333333333334,
          16.166666666666668,
          18.5,
          3,
          22.666666666666668,
          14.333333333333334,
          17.166666666666668,
          18,
          11.833333333333334,
          7.833333333333333,
          21.166666666666668,
          21.166666666666668,
          22.333333333333332,
          17.166666666666668,
          11.833333333333334,
          17.833333333333332,
          15.333333333333334,
          21.333333333333332,
          23
         ],
         "y": [
          40,
          66,
          26,
          39,
          19,
          69,
          39,
          55,
          49,
          53,
          57,
          60,
          55,
          55,
          53,
          42,
          53,
          54,
          21,
          56,
          78,
          46,
          24,
          36,
          36,
          40,
          34,
          30,
          17,
          18
         ]
        },
        {
         "mode": "markers",
         "name": "2024",
         "type": "scatter",
         "x": [
          8.333333333333334,
          9.666666666666666,
          21.833333333333332,
          17.666666666666668,
          28.333333333333332,
          21.166666666666668,
          11.166666666666666,
          16,
          21.166666666666668,
          13.5,
          12.166666666666666,
          9.333333333333334,
          13.166666666666666,
          9.5,
          24.666666666666668,
          20.166666666666668,
          8.833333333333334,
          15.333333333333334,
          12.666666666666666,
          15.666666666666666,
          8.5,
          17,
          10.5,
          11,
          23.333333333333332,
          14.5,
          20.5,
          18,
          12.333333333333334,
          19
         ],
         "y": [
          36,
          79,
          32,
          39,
          21,
          53,
          55,
          62,
          14,
          46,
          41,
          52,
          56,
          52,
          27,
          51,
          54,
          61,
          54,
          55,
          62,
          52,
          52,
          54,
          21,
          46,
          22,
          25,
          31,
          15
         ]
        },
        {
         "mode": "markers",
         "name": "2023",
         "type": "scatter",
         "x": [
          7.333333333333333,
          18.666666666666668,
          22.166666666666668,
          17.5,
          17.5,
          22,
          20.333333333333332,
          15.5,
          17.666666666666668,
          17.333333333333332,
          15.833333333333334,
          14.333333333333334,
          18.833333333333332,
          5.5,
          9.5,
          23.666666666666668,
          16.5,
          14,
          12.5,
          11.5,
          7.5,
          17.5,
          16.333333333333332,
          18,
          18.5,
          7.666666666666667,
          15.5,
          15,
          12.166666666666666,
          18.666666666666668
         ],
         "y": [
          41,
          57,
          45,
          40,
          27,
          51,
          38,
          63,
          17,
          44,
          22,
          35,
          44,
          43,
          51,
          44,
          58,
          42,
          42,
          47,
          40,
          34,
          54,
          45,
          33,
          48,
          22,
          41,
          37,
          35
         ]
        },
        {
         "mode": "markers",
         "name": "2022",
         "type": "scatter",
         "x": [
          11.333333333333334,
          12.166666666666666,
          11.5,
          16.833333333333332,
          12.833333333333334,
          18.833333333333332,
          20.333333333333332,
          12.333333333333334,
          19.5,
          14.5,
          17.833333333333332,
          15,
          21,
          14.666666666666666,
          8.166666666666666,
          12.666666666666666,
          8.166666666666666,
          6.5,
          15.5,
          19.333333333333332,
          23.666666666666668,
          22.5,
          16.166666666666668,
          10.666666666666666,
          21.833333333333332,
          16.666666666666668,
          16.666666666666668,
          16.833333333333332,
          9.5,
          21.5
         ],
         "y": [
          48,
          56,
          49,
          51,
          43,
          44,
          57,
          53,
          23,
          68,
          20,
          25,
          42,
          33,
          61,
          58,
          56,
          51,
          41,
          37,
          24,
          22,
          56,
          69,
          27,
          30,
          34,
          53,
          54,
          35
         ]
        },
        {
         "mode": "markers",
         "name": "2021",
         "type": "scatter",
         "x": [
          12.166666666666666,
          14.666666666666666,
          7.166666666666667,
          19.166666666666668,
          22.5,
          26.166666666666668,
          15.333333333333334,
          9.833333333333334,
          23.666666666666668,
          16,
          22.666666666666668,
          10.5,
          12.666666666666666,
          19,
          12.666666666666666,
          21.166666666666668,
          6.166666666666667,
          17,
          10.333333333333334,
          21.666666666666668,
          27.166666666666668,
          23.5,
          12.166666666666666,
          10.333333333333334,
          7.333333333333333,
          14.666666666666666,
          15,
          16.166666666666668,
          9,
          9.166666666666666
         ],
         "y": [
          46,
          41,
          53,
          31,
          33,
          22,
          47,
          52,
          20,
          39,
          17,
          34,
          52,
          47,
          43,
          45,
          61,
          23,
          31,
          46,
          22,
          21,
          54,
          56,
          47,
          31,
          33,
          27,
          57,
          39
         ]
        },
        {
         "mode": "markers",
         "name": "2020",
         "type": "scatter",
         "x": [
          15.4,
          12,
          14.4,
          23.2,
          19.2,
          20,
          7.8,
          11.8,
          17.4,
          19.2,
          10.4,
          20.8,
          9.6,
          16.2,
          21,
          7.8,
          13.6,
          13,
          14.8,
          18,
          13.8,
          22.2,
          18.2,
          15,
          14.4,
          16.8,
          10.6,
          17,
          16.4,
          15
         ],
         "y": [
          20,
          53,
          40,
          22,
          23,
          19,
          48,
          51,
          20,
          15,
          49,
          50,
          54,
          67,
          34,
          49,
          61,
          19,
          30,
          21,
          49,
          38,
          48,
          34,
          40,
          31,
          32,
          58,
          49,
          25
         ]
        },
        {
         "mode": "markers",
         "name": "2019",
         "type": "scatter",
         "x": [
          17.333333333333332,
          11.333333333333334,
          18,
          22.166666666666668,
          17.166666666666668,
          24.333333333333332,
          24.5,
          11.333333333333334,
          22.166666666666668,
          6.833333333333333,
          16.5,
          16.666666666666668,
          12.166666666666666,
          14.5,
          27,
          22.333333333333332,
          7,
          11.333333333333334,
          7.166666666666667,
          24.333333333333332,
          8,
          18.166666666666668,
          12,
          23.333333333333332,
          6.666666666666667,
          8.5,
          10.5,
          10.666666666666666,
          18.666666666666668,
          14.333333333333334
         ],
         "y": [
          29,
          54,
          47,
          22,
          39,
          19,
          33,
          59,
          46,
          72,
          58,
          53,
          53,
          37,
          33,
          39,
          65,
          36,
          33,
          17,
          54,
          47,
          56,
          19,
          58,
          39,
          53,
          63,
          55,
          32
         ]
        },
        {
         "mode": "markers",
         "name": "2018",
         "type": "scatter",
         "x": [
          23.666666666666668,
          21.333333333333332,
          15.166666666666666,
          22.166666666666668,
          8.833333333333334,
          10,
          26.166666666666668,
          9.333333333333334,
          19.333333333333332,
          11.333333333333334,
          9.5,
          16.333333333333332,
          9.166666666666666,
          11.833333333333334,
          25,
          23.833333333333332,
          13,
          6.5,
          9.333333333333334,
          17,
          8.166666666666666,
          21.666666666666668,
          9.666666666666666,
          15.833333333333334,
          14.666666666666666,
          25.666666666666668,
          20.333333333333332,
          6.166666666666667,
          19.666666666666668,
          14.333333333333334
         ],
         "y": [
          24,
          60,
          28,
          27,
          36,
          55,
          24,
          46,
          39,
          73,
          70,
          53,
          42,
          35,
          22,
          49,
          49,
          52,
          53,
          29,
          53,
          25,
          57,
          21,
          54,
          27,
          52,
          64,
          53,
          48
         ]
        },
        {
         "mode": "markers",
         "name": "2017",
         "type": "scatter",
         "x": [
          15,
          15.833333333333334,
          15.333333333333334,
          17.5,
          13.833333333333334,
          11.5,
          28,
          8.833333333333334,
          17.666666666666668,
          10.833333333333334,
          6.166666666666667,
          15.833333333333334,
          13.5,
          18.166666666666668,
          18.333333333333332,
          22,
          22,
          12.5,
          15.833333333333334,
          15.333333333333334,
          9,
          21.833333333333332,
          21,
          5,
          8.833333333333334,
          17.833333333333332,
          18.166666666666668,
          12.5,
          25.5,
          11.333333333333334
         ],
         "y": [
          48,
          58,
          20,
          46,
          36,
          56,
          33,
          40,
          37,
          82,
          60,
          47,
          56,
          26,
          48,
          41,
          47,
          31,
          34,
          31,
          52,
          29,
          28,
          24,
          46,
          32,
          66,
          56,
          56,
          54
         ]
        },
        {
         "mode": "markers",
         "name": "2016",
         "type": "scatter",
         "x": [
          17.166666666666668,
          7.166666666666667,
          23.833333333333332,
          17,
          13,
          15.166666666666666,
          17.5,
          15.833333333333334,
          13.5,
          8.666666666666666,
          10.833333333333334,
          14.666666666666666,
          11.333333333333334,
          19.5,
          17.833333333333332,
          18.166666666666668,
          21.666666666666668,
          15,
          16.333333333333332,
          22.5,
          4.166666666666667,
          17.666666666666668,
          25.5,
          18.166666666666668,
          11,
          7.5,
          15.166666666666666,
          13.166666666666666,
          22,
          14
         ],
         "y": [
          53,
          53,
          21,
          42,
          53,
          72,
          47,
          33,
          49,
          78,
          46,
          50,
          58,
          17,
          47,
          53,
          33,
          29,
          30,
          32,
          60,
          35,
          10,
          23,
          49,
          33,
          72,
          61,
          40,
          41
         ]
        },
        {
         "mode": "markers",
         "name": "2015",
         "type": "scatter",
         "x": [
          12.666666666666666,
          13.666666666666666,
          19.333333333333332,
          13.666666666666666,
          21.333333333333332,
          10.666666666666666,
          7.166666666666667,
          13.166666666666666,
          17.833333333333332,
          5.333333333333333,
          11,
          19.5,
          4.5,
          18,
          14.5,
          23.166666666666668,
          21.333333333333332,
          19.666666666666668,
          14.5,
          28.833333333333332,
          7.166666666666667,
          24.166666666666668,
          27,
          13.166666666666666,
          10.666666666666666,
          17.5,
          8.166666666666666,
          7.5,
          21.833333333333332,
          18
         ],
         "y": [
          65,
          45,
          43,
          55,
          33,
          58,
          55,
          30,
          32,
          82,
          61,
          38,
          61,
          21,
          60,
          37,
          46,
          16,
          50,
          17,
          45,
          25,
          18,
          39,
          56,
          29,
          60,
          54,
          38,
          51
         ]
        },
        {
         "mode": "markers",
         "name": "2014",
         "type": "scatter",
         "x": [
          15.833333333333334,
          26.333333333333332,
          17,
          19.833333333333332,
          22.5,
          19.666666666666668,
          7.666666666666667,
          16.333333333333332,
          18.833333333333332,
          9.166666666666666,
          8.333333333333334,
          20.333333333333332,
          6.5,
          18.833333333333332,
          18.166666666666668,
          7.166666666666667,
          23.666666666666668,
          10.333333333333334,
          16.666666666666668,
          15.666666666666666,
          7.833333333333333,
          20.666666666666668,
          22.833333333333332,
          11.333333333333334,
          7.5,
          19.5,
          7.333333333333333,
          12.166666666666666,
          25.666666666666668,
          11.333333333333334
         ],
         "y": [
          43,
          25,
          49,
          48,
          53,
          33,
          54,
          36,
          29,
          56,
          59,
          61,
          62,
          27,
          55,
          59,
          15,
          40,
          34,
          37,
          64,
          23,
          19,
          48,
          59,
          28,
          77,
          53,
          25,
          49
         ]
        },
        {
         "mode": "markers",
         "name": "2013",
         "type": "scatter",
         "x": [
          17.5,
          17,
          19,
          25,
          19,
          18.5,
          9.5,
          2.8333333333333335,
          20.333333333333332,
          11,
          14,
          21,
          8.666666666666666,
          15.666666666666666,
          12.666666666666666,
          10.166666666666666,
          12.166666666666666,
          19.166666666666668,
          21.166666666666668,
          16.5,
          7.5,
          17,
          17.166666666666668,
          16.333333333333332,
          19.833333333333332,
          14.5,
          7.5,
          18.166666666666668,
          11.666666666666666,
          24.5
         ],
         "y": [
          49,
          46,
          54,
          21,
          50,
          24,
          41,
          62,
          29,
          52,
          50,
          54,
          61,
          50,
          61,
          81,
          43,
          31,
          27,
          59,
          65,
          20,
          34,
          25,
          33,
          28,
          63,
          34,
          43,
          29
         ]
        },
        {
         "mode": "markers",
         "name": "2012",
         "type": "scatter",
         "x": [
          14.166666666666666,
          20.5,
          22.833333333333332,
          13.333333333333334,
          20.333333333333332,
          17.666666666666668,
          6.166666666666667,
          19.333333333333332,
          18.333333333333332,
          13.333333333333334,
          10.833333333333334,
          13.833333333333334,
          11.5,
          13.5,
          8.5,
          13.5,
          16.666666666666668,
          25,
          20.666666666666668,
          15.5,
          9,
          19.333333333333332,
          15.666666666666666,
          16.333333333333332,
          18,
          13.166666666666666,
          11,
          21.333333333333332,
          5,
          20.666666666666668
         ],
         "y": [
          45,
          44,
          7,
          55,
          21,
          41,
          43,
          25,
          23,
          34,
          47,
          45,
          46,
          46,
          61,
          31,
          26,
          22,
          21,
          41,
          52,
          42,
          40,
          33,
          28,
          22,
          55,
          23,
          41,
          20
         ]
        },
        {
         "mode": "markers",
         "name": "2011",
         "type": "scatter",
         "x": [
          22.5,
          15.833333333333334,
          21.5,
          12.333333333333334,
          21.333333333333332,
          13.5,
          2.3333333333333335,
          21.833333333333332,
          18.166666666666668,
          6.666666666666667,
          15.666666666666666,
          15.333333333333334,
          9.333333333333334,
          15,
          3.6666666666666665,
          26,
          19.333333333333332,
          26.5,
          20.333333333333332,
          7,
          5.666666666666667,
          11.5,
          19.5,
          12.166666666666666,
          19.166666666666668,
          21.166666666666668,
          6.5,
          19.833333333333332,
          13,
          22.333333333333332
         ],
         "y": [
          49,
          61,
          34,
          67,
          19,
          72,
          55,
          30,
          36,
          43,
          42,
          32,
          62,
          51,
          63,
          35,
          17,
          24,
          51,
          47,
          60,
          57,
          46,
          40,
          53,
          24,
          66,
          22,
          39,
          23
         ]
        },
        {
         "mode": "markers",
         "name": "2010",
         "type": "scatter",
         "x": [
          8.6,
          15.8,
          19.8,
          16.6,
          11.4,
          12.4,
          8,
          23,
          9.8,
          17.2,
          22,
          25.8,
          11.4,
          8.6,
          20,
          22.6,
          20,
          25,
          17.4,
          21.4,
          10.6,
          14,
          19.8,
          5,
          15.2,
          17.8,
          10.8,
          8.4,
          3.8,
          22.8
         ],
         "y": [
          58,
          55,
          49,
          46,
          66,
          60,
          58,
          27,
          26,
          42,
          32,
          29,
          72,
          40,
          52,
          51,
          15,
          12,
          37,
          29,
          55,
          64,
          27,
          59,
          55,
          25,
          55,
          40,
          58,
          26
         ]
        },
        {
         "mode": "markers",
         "name": "2009",
         "type": "scatter",
         "x": [
          16.5,
          10.5,
          22.5,
          10.333333333333334,
          15.333333333333334,
          15,
          8.166666666666666,
          17.666666666666668,
          7.166666666666667,
          18.5,
          16.166666666666668,
          25.333333333333332,
          5.666666666666667,
          18,
          20.166666666666668,
          15,
          20.166666666666668,
          21,
          21.333333333333332,
          22.833333333333332,
          13.666666666666666,
          15,
          9.666666666666666,
          5.833333333333333,
          14,
          17.333333333333332,
          20.666666666666668,
          17.333333333333332,
          5,
          19.166666666666668
         ],
         "y": [
          52,
          67,
          35,
          46,
          71,
          55,
          59,
          44,
          29,
          58,
          36,
          19,
          80,
          24,
          48,
          34,
          24,
          34,
          54,
          32,
          23,
          64,
          46,
          46,
          59,
          17,
          59,
          33,
          53,
          19
         ]
        },
        {
         "mode": "markers",
         "name": "2008",
         "type": "scatter",
         "x": [
          19.166666666666668,
          12.666666666666666,
          21.166666666666668,
          19.833333333333332,
          21,
          13.666666666666666,
          6.5,
          12.666666666666666,
          4.666666666666667,
          16.166666666666668,
          11.833333333333334,
          28.333333333333332,
          4.333333333333333,
          15.666666666666666,
          28.5,
          19.666666666666668,
          19.166666666666668,
          25.166666666666668,
          6.666666666666667,
          21.5,
          9.666666666666666,
          17.666666666666668,
          4.166666666666667,
          20.666666666666668,
          14.166666666666666,
          19,
          19.166666666666668,
          10.333333333333334,
          5.833333333333333,
          16
         ],
         "y": [
          42,
          81,
          32,
          33,
          50,
          56,
          55,
          64,
          48,
          60,
          36,
          23,
          62,
          22,
          15,
          26,
          22,
          34,
          61,
          23,
          57,
          45,
          60,
          41,
          38,
          61,
          20,
          46,
          59,
          48
         ]
        },
        {
         "mode": "markers",
         "name": "2007",
         "type": "scatter",
         "x": [
          22.833333333333332,
          21.833333333333332,
          14.666666666666666,
          8.166666666666666,
          15.833333333333334,
          18,
          5.166666666666667,
          19.5,
          5.833333333333333,
          22.5,
          20.166666666666668,
          18,
          11.166666666666666,
          13.5,
          22.666666666666668,
          7.166666666666667,
          12.833333333333334,
          21.5,
          14.5,
          22,
          20.333333333333332,
          15.5,
          6.5,
          23.5,
          16.833333333333332,
          20.166666666666668,
          12.166666666666666,
          13,
          9.333333333333334,
          9.833333333333334
         ],
         "y": [
          30,
          24,
          33,
          54,
          55,
          72,
          50,
          58,
          47,
          57,
          35,
          40,
          47,
          22,
          49,
          28,
          32,
          46,
          39,
          33,
          45,
          35,
          66,
          32,
          33,
          73,
          31,
          52,
          56,
          46
         ]
        },
        {
         "mode": "markers",
         "name": "2006",
         "type": "scatter",
         "x": [
          16.833333333333332,
          13.833333333333334,
          16.666666666666668,
          14.166666666666666,
          17.833333333333332,
          10.166666666666666,
          6.833333333333333,
          12.833333333333334,
          20.333333333333332,
          27.166666666666668,
          21.833333333333332,
          9.666666666666666,
          12,
          21.666666666666668,
          8.5,
          14.166666666666666,
          17.666666666666668,
          23.833333333333332,
          19.166666666666668,
          19.333333333333332,
          13,
          10.666666666666666,
          5.166666666666667,
          25,
          14,
          12,
          11.5,
          14.5,
          22.666666666666668,
          12
         ],
         "y": [
          26,
          33,
          26,
          46,
          55,
          65,
          49,
          69,
          34,
          34,
          46,
          52,
          50,
          54,
          67,
          45,
          33,
          54,
          38,
          23,
          36,
          38,
          59,
          21,
          49,
          68,
          35,
          27,
          41,
          47
         ]
        },
        {
         "mode": "markers",
         "name": "2005",
         "type": "scatter",
         "x": [
          25.833333333333332,
          6.5,
          23.5,
          21.666666666666668,
          14.666666666666666,
          4.333333333333333,
          10,
          16.333333333333332,
          21.166666666666668,
          16.833333333333332,
          16.5,
          13.833333333333334,
          15,
          18.666666666666668,
          4.666666666666667,
          14.833333333333334,
          14.5,
          24,
          29.5,
          16.5,
          12.166666666666666,
          15.833333333333334,
          7.166666666666667,
          23.833333333333332,
          10,
          12.333333333333334,
          10.333333333333334,
          14.166666666666666,
          19.833333333333332,
          10.5
         ],
         "y": [
          13,
          50,
          18,
          52,
          42,
          63,
          54,
          59,
          34,
          56,
          49,
          37,
          34,
          50,
          64,
          30,
          44,
          47,
          18,
          33,
          36,
          48,
          67,
          27,
          55,
          74,
          57,
          33,
          26,
          50
         ]
        },
        {
         "mode": "markers",
         "name": "2004",
         "type": "scatter",
         "x": [
          18.333333333333332,
          12.666666666666666,
          25.5,
          15.166666666666666,
          7.833333333333333,
          6.333333333333333,
          14.5,
          14.166666666666666,
          22.166666666666668,
          13,
          11,
          4.333333333333333,
          8,
          18.833333333333332,
          5.5,
          12.166666666666666,
          19.5,
          17.166666666666668,
          19.833333333333332,
          16,
          22.166666666666668,
          17.666666666666668,
          19.333333333333332,
          4.666666666666667,
          13.5,
          13.833333333333334,
          27.833333333333332,
          16.5,
          17.5
         ],
         "y": [
          28,
          41,
          23,
          35,
          57,
          48,
          69,
          37,
          50,
          66,
          28,
          61,
          55,
          47,
          46,
          63,
          52,
          46,
          44,
          21,
          33,
          29,
          41,
          60,
          62,
          37,
          33,
          42,
          25
         ]
        },
        {
         "mode": "markers",
         "name": "2003",
         "type": "scatter",
         "x": [
          18.833333333333332,
          23.5,
          9.5,
          14.5,
          10.666666666666666,
          21.333333333333332,
          20.833333333333332,
          11.333333333333334,
          18.166666666666668,
          12,
          23,
          7.333333333333333,
          11,
          22.833333333333332,
          15.166666666666666,
          6.666666666666667,
          15,
          11.666666666666666,
          17.333333333333332,
          17.5,
          9,
          11,
          12.666666666666666,
          4.833333333333333,
          17.166666666666668,
          18,
          20.333333333333332,
          15.833333333333334,
          18
         ],
         "y": [
          35,
          49,
          30,
          17,
          65,
          17,
          55,
          38,
          43,
          53,
          27,
          55,
          28,
          25,
          47,
          56,
          54,
          52,
          37,
          47,
          53,
          49,
          55,
          64,
          75,
          40,
          24,
          52,
          37
         ]
        },
        {
         "mode": "markers",
         "name": "2002",
         "type": "scatter",
         "x": [
          18,
          13.333333333333334,
          14.666666666666666,
          23.5,
          13.833333333333334,
          4.5,
          24.166666666666668,
          14.166666666666666,
          12.5,
          22.333333333333332,
          9.5,
          12.666666666666666,
          5.166666666666667,
          24.333333333333332,
          26.5,
          13.333333333333334,
          11.333333333333334,
          12.833333333333334,
          22.333333333333332,
          10.333333333333334,
          17.666666666666668,
          19.166666666666668,
          12,
          3.5,
          7.333333333333333,
          13,
          22.333333333333332,
          11.333333333333334,
          19.333333333333332
         ],
         "y": [
          33,
          54,
          49,
          21,
          29,
          62,
          27,
          55,
          21,
          28,
          47,
          39,
          73,
          23,
          36,
          41,
          55,
          57,
          30,
          49,
          48,
          36,
          54,
          66,
          63,
          50,
          47,
          49,
          37
         ]
        },
        {
         "mode": "markers",
         "name": "2001",
         "type": "scatter",
         "x": [
          21.166666666666668,
          19.333333333333332,
          15.5,
          23.5,
          14.333333333333334,
          12,
          16.666666666666668,
          12.166666666666666,
          14.166666666666666,
          15.5,
          17.333333333333332,
          15.333333333333334,
          5.666666666666667,
          21.5,
          13.833333333333334,
          11.333333333333334,
          20.666666666666668,
          21.166666666666668,
          11,
          10.166666666666666,
          14,
          15,
          3.8333333333333335,
          14.333333333333334,
          14,
          8.333333333333334,
          12.5,
          20.833333333333332,
          19.833333333333332
         ],
         "y": [
          25,
          36,
          51,
          15,
          30,
          58,
          40,
          32,
          17,
          45,
          46,
          31,
          71,
          55,
          57,
          52,
          26,
          53,
          48,
          61,
          56,
          55,
          60,
          63,
          44,
          52,
          58,
          23,
          19
         ]
        },
        {
         "mode": "markers",
         "name": "2000",
         "type": "scatter",
         "x": [
          20.2,
          15.6,
          17.4,
          26,
          18.8,
          11.4,
          13.6,
          8.6,
          23.4,
          14,
          10,
          28.4,
          7.2,
          14.8,
          5.8,
          6.8,
          15.2,
          18.8,
          14.2,
          17.2,
          10.8,
          10.6,
          7.6,
          12.6,
          12,
          19,
          15.4,
          21,
          18.6
         ],
         "y": [
          28,
          35,
          54,
          17,
          32,
          40,
          35,
          47,
          19,
          34,
          61,
          15,
          82,
          57,
          47,
          55,
          31,
          55,
          41,
          54,
          58,
          64,
          49,
          58,
          50,
          50,
          60,
          22,
          29
         ]
        },
        {
         "mode": "markers",
         "name": "1999",
         "type": "scatter",
         "x": [
          21.166666666666668,
          14.833333333333334,
          7.333333333333333,
          22.833333333333332,
          18,
          19.833333333333332,
          20,
          16.333333333333332,
          20,
          7.5,
          8.5,
          21,
          9.333333333333334,
          13.166666666666666,
          12.666666666666666,
          18.666666666666668,
          23.5,
          17,
          18.166666666666668,
          21.166666666666668,
          8.166666666666666,
          10,
          9.166666666666666,
          10,
          7.833333333333333,
          18,
          4.5,
          20.333333333333332,
          16
         ],
         "y": [
          36,
          19,
          26,
          13,
          22,
          19,
          14,
          34,
          21,
          36,
          38,
          9,
          36,
          38,
          33,
          30,
          16,
          32,
          38,
          33,
          32,
          40,
          32,
          52,
          25,
          23,
          42,
          8,
          18
         ]
        },
        {
         "mode": "markers",
         "name": "1998",
         "type": "scatter",
         "x": [
          9.6,
          21.2,
          13,
          9.8,
          16.4,
          21.4,
          25.6,
          11.2,
          23.8,
          14.8,
          12.4,
          20.6,
          4.8,
          17.4,
          13.8,
          7.4,
          7.2,
          19.4,
          20.6,
          19,
          9.8,
          14.4,
          22.2,
          13.4,
          11.4,
          18,
          8,
          15,
          13.4
         ],
         "y": [
          55,
          36,
          56,
          77,
          52,
          20,
          11,
          37,
          19,
          46,
          63,
          17,
          66,
          60,
          36,
          50,
          48,
          48,
          41,
          31,
          61,
          51,
          27,
          61,
          66,
          16,
          67,
          19,
          42
         ]
        },
        {
         "mode": "markers",
         "name": "1997",
         "type": "scatter",
         "x": [
          22.833333333333332,
          8.666666666666666,
          11.666666666666666,
          10.5,
          25.5,
          23.166666666666668,
          15.666666666666666,
          19.333333333333332,
          9.166666666666666,
          12,
          16.333333333333332,
          14.5,
          12,
          22.5,
          13,
          13.833333333333334,
          15,
          17.833333333333332,
          21.833333333333332,
          9.833333333333334,
          6.166666666666667,
          12.666666666666666,
          13,
          19.5,
          10.833333333333334,
          19.833333333333332,
          5.166666666666667,
          22.166666666666668,
          10.5
         ],
         "y": [
          61,
          15,
          59,
          84,
          42,
          24,
          21,
          59,
          30,
          62,
          39,
          41,
          61,
          66,
          33,
          45,
          26,
          62,
          50,
          22,
          45,
          54,
          34,
          20,
          62,
          30,
          69,
          14,
          49
         ]
        },
        {
         "mode": "markers",
         "name": "1996",
         "type": "scatter",
         "x": [
          17,
          9,
          13.5,
          8.333333333333334,
          25.333333333333332,
          15.833333333333334,
          16.5,
          18.833333333333332,
          10.5,
          13.333333333333334,
          13,
          18.833333333333332,
          9.833333333333334,
          19.5,
          23.666666666666668,
          16.166666666666668,
          16.5,
          20.666666666666668,
          8.666666666666666,
          20.333333333333332,
          6,
          12.333333333333334,
          14.166666666666666,
          9,
          7.5,
          21.666666666666668,
          10,
          25.333333333333332,
          13.666666666666666
         ],
         "y": [
          51,
          33,
          41,
          87,
          52,
          26,
          35,
          51,
          36,
          53,
          57,
          29,
          58,
          47,
          25,
          26,
          30,
          52,
          65,
          18,
          46,
          49,
          44,
          64,
          69,
          21,
          60,
          15,
          39
         ]
        },
        {
         "mode": "markers",
         "name": "1995",
         "type": "scatter",
         "x": [
          18.2,
          15.4,
          14.4,
          12.4,
          18.4,
          14.6,
          9,
          22.6,
          9.8,
          13.8,
          12.8,
          20.2,
          12,
          16.4,
          16,
          21,
          17.2,
          16.2,
          2.6,
          21,
          7,
          16,
          14.4,
          5.6,
          5.2,
          6.8,
          19
         ],
         "y": [
          47,
          40,
          55,
          52,
          48,
          36,
          46,
          28,
          26,
          62,
          57,
          17,
          53,
          32,
          34,
          21,
          30,
          60,
          62,
          24,
          64,
          49,
          39,
          67,
          62,
          65,
          21
         ]
        },
        {
         "mode": "markers",
         "name": "1994",
         "type": "scatter",
         "x": [
          13.5,
          12.333333333333334,
          9.666666666666666,
          19.5,
          16,
          18.666666666666668,
          12,
          22,
          7,
          22.166666666666668,
          13.5,
          9.833333333333334,
          13,
          13.666666666666666,
          21.166666666666668,
          17.5,
          5.666666666666667,
          21.166666666666668,
          14.166666666666666,
          20.833333333333332,
          8.333333333333334,
          2.5,
          11.833333333333334,
          18.5,
          7.166666666666667,
          11,
          15.333333333333334
         ],
         "y": [
          62,
          32,
          41,
          60,
          52,
          13,
          47,
          20,
          55,
          73,
          52,
          27,
          33,
          47,
          20,
          20,
          50,
          62,
          55,
          25,
          61,
          52,
          28,
          60,
          68,
          58,
          24
         ]
        },
        {
         "mode": "markers",
         "name": "1993",
         "type": "scatter",
         "x": [
          9.666666666666666,
          13.5,
          9.666666666666666,
          7.5,
          9.166666666666666,
          22.833333333333332,
          14.333333333333334,
          18.666666666666668,
          8.166666666666666,
          15.166666666666666,
          12.166666666666666,
          9.833333333333334,
          15.833333333333334,
          17,
          21.833333333333332,
          23.333333333333332,
          17.333333333333332,
          16.333333333333332,
          15.166666666666666,
          17.166666666666668,
          7.666666666666667,
          7,
          14.333333333333334,
          12.166666666666666,
          7.666666666666667,
          14.333333333333334,
          20.166666666666668
         ],
         "y": [
          48,
          53,
          49,
          72,
          59,
          11,
          36,
          40,
          34,
          60,
          46,
          46,
          44,
          36,
          28,
          19,
          48,
          65,
          41,
          26,
          67,
          56,
          25,
          54,
          60,
          52,
          22
         ]
        },
        {
         "mode": "markers",
         "name": "1992",
         "type": "scatter",
         "x": [
          7.8,
          11.2,
          9.6,
          6.8,
          12.4,
          24.4,
          20,
          21.6,
          4.2,
          17,
          7.8,
          16,
          19.6,
          17.6,
          12.8,
          17.4,
          12.2,
          15.6,
          22.4,
          22.2,
          7.4,
          5,
          16.2,
          15,
          11,
          10.2,
          14.6
         ],
         "y": [
          38,
          56,
          31,
          82,
          62,
          22,
          24,
          53,
          60,
          42,
          45,
          50,
          48,
          43,
          31,
          15,
          45,
          56,
          21,
          35,
          58,
          62,
          29,
          52,
          52,
          60,
          25
         ]
        },
        {
         "mode": "markers",
         "name": "1991",
         "type": "scatter",
         "x": [
          9.833333333333334,
          12.833333333333334,
          19,
          12.833333333333334,
          16.833333333333332,
          22.5,
          16.666666666666668,
          14.5,
          5.666666666666667,
          13,
          9.333333333333334,
          18.166666666666668,
          8.666666666666666,
          20.333333333333332,
          10.666666666666666,
          19.166666666666668,
          17.833333333333332,
          14.333333333333334,
          15.166666666666666,
          10.166666666666666,
          6.666666666666667,
          3.5,
          25.333333333333332,
          9.166666666666666,
          13.333333333333334,
          11,
          21.5
         ],
         "y": [
          48,
          61,
          26,
          76,
          33,
          28,
          20,
          55,
          49,
          57,
          46,
          31,
          63,
          24,
          53,
          29,
          26,
          44,
          31,
          49,
          60,
          68,
          25,
          60,
          46,
          59,
          30
         ]
        },
        {
         "mode": "markers",
         "name": "1990",
         "type": "scatter",
         "x": [
          12.4,
          10.6,
          23.8,
          7.8,
          16,
          15.8,
          13.2,
          12.2,
          13.6,
          14.6,
          7.4,
          19.4,
          4,
          25.4,
          15.6,
          21.2,
          25.6,
          10.8,
          18.4,
          7.8,
          3.4,
          7.4,
          21.6,
          15.6,
          9.4,
          8.8,
          16.2
         ],
         "y": [
          41,
          57,
          19,
          60,
          47,
          52,
          48,
          74,
          37,
          46,
          47,
          30,
          68,
          18,
          49,
          22,
          17,
          50,
          18,
          58,
          59,
          64,
          23,
          61,
          41,
          60,
          31
         ]
        },
        {
         "mode": "markers",
         "name": "1989",
         "type": "scatter",
         "x": [
          9,
          9.666666666666666,
          21.333333333333332,
          13.5,
          7.833333333333333,
          17.833333333333332,
          9,
          10.5,
          10.666666666666666,
          14,
          15,
          19.333333333333332,
          3.3333333333333335,
          24.833333333333332,
          10.833333333333334,
          21.333333333333332,
          7,
          7.666666666666667,
          2.3333333333333335,
          10,
          20.333333333333332,
          20.166666666666668,
          9.333333333333334,
          13.5,
          16.666666666666668
         ],
         "y": [
          57,
          47,
          20,
          52,
          62,
          38,
          49,
          78,
          48,
          50,
          28,
          21,
          62,
          15,
          54,
          26,
          57,
          51,
          60,
          44,
          27,
          21,
          52,
          56,
          40
         ]
        },
        {
         "mode": "markers",
         "name": "1988",
         "type": "scatter",
         "x": [
          12,
          10.666666666666666,
          13.666666666666666,
          17.666666666666668,
          14,
          3.1666666666666665,
          10,
          10.5,
          9.333333333333334,
          14.666666666666666,
          18.333333333333332,
          8.666666666666666,
          16.166666666666668,
          21,
          16.5,
          19.833333333333332,
          7.5,
          3.5,
          11.833333333333334,
          2.5,
          9,
          10.5,
          15
         ],
         "y": [
          55,
          62,
          55,
          47,
          58,
          59,
          59,
          20,
          51,
          38,
          17,
          77,
          47,
          19,
          43,
          36,
          28,
          58,
          24,
          36,
          49,
          52,
          43
         ]
        },
        {
         "mode": "markers",
         "name": "1987",
         "type": "scatter",
         "x": [
          12.666666666666666,
          12,
          17.333333333333332,
          18.833333333333332,
          6.666666666666667,
          5.5,
          8.5,
          7.833333333333333,
          13.833333333333334,
          15,
          16.5,
          6.5,
          12.666666666666666,
          14.666666666666666,
          20.333333333333332,
          16.666666666666668,
          10.166666666666666,
          5.666666666666667,
          8.833333333333334,
          12.166666666666666,
          7.5,
          12.333333333333334,
          13.833333333333334
         ],
         "y": [
          62,
          64,
          45,
          31,
          60,
          42,
          57,
          47,
          47,
          46,
          12,
          80,
          55,
          24,
          24,
          50,
          36,
          54,
          29,
          28,
          44,
          49,
          47
         ]
        },
        {
         "mode": "markers",
         "name": "1986",
         "type": "scatter",
         "x": [
          11.2,
          3,
          13.8,
          16.2,
          7.4,
          13.4,
          9.8,
          13,
          8,
          19.2,
          20.4,
          2.6,
          6.8,
          13.2,
          20.2,
          8.8,
          12.8,
          7.2,
          13.6,
          10,
          13.4,
          15.6,
          16.4
         ],
         "y": [
          55,
          82,
          35,
          29,
          49,
          52,
          51,
          30,
          56,
          26,
          32,
          67,
          62,
          44,
          23,
          59,
          32,
          45,
          42,
          40,
          31,
          47,
          44
         ]
        },
        {
         "mode": "markers",
         "name": "1985",
         "type": "scatter",
         "x": [
          13,
          6.2,
          11.4,
          16.4,
          6.2,
          7.4,
          9.6,
          17.6,
          7.8,
          20.4,
          13.8,
          17,
          4.8,
          7,
          13,
          16.8,
          7.2,
          14.2,
          5.6,
          9.6,
          21.4,
          16,
          13.6
         ],
         "y": [
          34,
          68,
          43,
          41,
          49,
          57,
          51,
          22,
          53,
          22,
          31,
          31,
          77,
          64,
          47,
          24,
          63,
          41,
          47,
          46,
          31,
          46,
          45
         ]
        },
        {
         "mode": "markers",
         "name": "1984",
         "type": "scatter",
         "x": [
          17.6,
          6.6,
          20,
          21.4,
          10.2,
          5.6,
          7,
          16.6,
          15.2,
          20,
          13.8,
          6.2,
          12,
          11.8,
          10,
          11.4,
          9.4,
          4.8,
          5.4,
          12,
          12.4,
          7.4,
          19.2
         ],
         "y": [
          45,
          77,
          27,
          28,
          48,
          43,
          54,
          37,
          29,
          26,
          43,
          59,
          55,
          50,
          52,
          57,
          46,
          53,
          37,
          30,
          47,
          50,
          40
         ]
        },
        {
         "mode": "markers",
         "name": "1983",
         "type": "scatter",
         "x": [
          17,
          5,
          17.5,
          21.5,
          11.25,
          8,
          14.75,
          15.25,
          23,
          18.75,
          8.25,
          1.5,
          7.75,
          10.75,
          13,
          2.5,
          6.5,
          9.75,
          3.5,
          17.75,
          7.5,
          18,
          17.25
         ],
         "y": [
          48,
          61,
          28,
          23,
          38,
          50,
          37,
          30,
          14,
          20,
          45,
          63,
          56,
          54,
          49,
          80,
          58,
          51,
          58,
          25,
          53,
          30,
          42
         ]
        },
        {
         "mode": "markers",
         "name": "1982",
         "type": "scatter",
         "x": [
          15,
          6.2,
          8,
          21,
          17.2,
          5.4,
          10.6,
          8.8,
          15.2,
          19.4,
          15.4,
          7.8,
          6.8,
          12,
          14,
          4.4,
          12.6,
          9.2,
          12,
          11,
          11.8,
          14.6,
          17.6
         ],
         "y": [
          47,
          68,
          34,
          15,
          28,
          51,
          39,
          45,
          51,
          35,
          30,
          72,
          60,
          49,
          33,
          63,
          51,
          42,
          53,
          17,
          57,
          25,
          48
         ]
        },
        {
         "mode": "markers",
         "name": "1981",
         "type": "scatter",
         "x": [
          16.6,
          8.6,
          11.2,
          13.6,
          18.4,
          7.6,
          21.2,
          9.8,
          9.6,
          13.2,
          10.2,
          5.4,
          7.4,
          15.4,
          13.2,
          6.8,
          10,
          6.8,
          8.6,
          14.2,
          18,
          15.2,
          15
         ],
         "y": [
          31,
          77,
          50,
          28,
          15,
          37,
          21,
          39,
          45,
          49,
          45,
          59,
          65,
          24,
          55,
          67,
          62,
          50,
          57,
          36,
          34,
          28,
          39
         ]
        },
        {
         "mode": "markers",
         "name": "1980",
         "type": "scatter",
         "x": [
          13.833333333333334,
          3.8333333333333335,
          13.5,
          8.333333333333334,
          15.833333333333334,
          15.166666666666666,
          17.833333333333332,
          8.333333333333334,
          10.166666666666666,
          12.666666666666666,
          3.6666666666666665,
          8,
          15.333333333333334,
          8.166666666666666,
          9.333333333333334,
          7.5,
          17.666666666666668,
          3.5,
          14.833333333333334,
          10.833333333333334,
          16.833333333333332,
          17.833333333333332
         ],
         "y": [
          55,
          66,
          30,
          37,
          30,
          16,
          24,
          46,
          37,
          52,
          75,
          54,
          34,
          39,
          64,
          60,
          43,
          46,
          35,
          61,
          24,
          44
         ]
        },
        {
         "mode": "markers",
         "name": "1979",
         "type": "scatter",
         "x": [
          13.833333333333334,
          17.666666666666668,
          21,
          14.166666666666666,
          14.333333333333334,
          10.5,
          14.333333333333334,
          7.5,
          12.5,
          6.5,
          7,
          4.166666666666667,
          18.833333333333332,
          17.333333333333332,
          13.166666666666666,
          13.5,
          4.666666666666667,
          14.333333333333334,
          2,
          7.666666666666667,
          15.166666666666666,
          2.8333333333333335
         ],
         "y": [
          51,
          29,
          31,
          30,
          52,
          30,
          38,
          52,
          38,
          53,
          52,
          38,
          42,
          26,
          31,
          52,
          55,
          50,
          53,
          43,
          67,
          59
         ]
        },
        {
         "mode": "markers",
         "name": "1978",
         "type": "scatter",
         "x": [
          16.2,
          15.4,
          18,
          19.6,
          13.6,
          10.8,
          10.8,
          11.6,
          18.6,
          14.6,
          9.2,
          6.8,
          4.6,
          13,
          13.2,
          3.6,
          4.6,
          7,
          11.4,
          6,
          16.2,
          8.2
         ],
         "y": [
          46,
          32,
          27,
          40,
          48,
          53,
          38,
          43,
          28,
          31,
          31,
          50,
          49,
          24,
          39,
          48,
          60,
          54,
          63,
          57,
          52,
          59
         ]
        },
        {
         "mode": "markers",
         "name": "1977",
         "type": "scatter",
         "x": [
          19.6,
          14.2,
          18.4,
          14.4,
          12.2,
          5.4,
          9.8,
          4.6,
          7.8,
          13,
          7,
          5.4,
          12.8,
          16,
          10,
          21.2,
          6.6,
          15.2,
          5.6,
          6.2,
          14.8,
          12.8
         ],
         "y": [
          31,
          49,
          30,
          49,
          48,
          55,
          49,
          51,
          54,
          36,
          40,
          58,
          30,
          35,
          40,
          22,
          55,
          34,
          64,
          49,
          40,
          53
         ]
        },
        {
         "mode": "markers",
         "name": "1976",
         "type": "scatter",
         "x": [
          13.4,
          7.6,
          7.4,
          16.4,
          7.6,
          8,
          2.2,
          7.2,
          14.2,
          7.4,
          12.2,
          11.2,
          11.4,
          7,
          7.4,
          13.8,
          7.8,
          8.8
         ],
         "y": [
          29,
          69,
          51,
          24,
          54,
          41,
          64,
          40,
          31,
          40,
          43,
          38,
          38,
          51,
          47,
          37,
          48,
          53
         ]
        },
        {
         "mode": "markers",
         "name": "1975",
         "type": "scatter",
         "x": [
          8.4,
          4.4,
          6.4,
          12,
          9.4,
          16.2,
          3.6,
          7.4,
          13.6,
          10.4,
          7.8,
          14.6,
          13.6,
          13.4,
          11.6,
          7.6,
          6.2,
          4.4
         ],
         "y": [
          31,
          65,
          54,
          52,
          40,
          45,
          63,
          46,
          49,
          30,
          38,
          23,
          45,
          34,
          32,
          38,
          48,
          65
         ]
        }
       ],
       "layout": {
        "legend": {
         "title": {
          "text": "Season"
         }
        },
        "template": {
         "data": {
          "bar": [
           {
            "error_x": {
             "color": "#2a3f5f"
            },
            "error_y": {
             "color": "#2a3f5f"
            },
            "marker": {
             "line": {
              "color": "#E5ECF6",
              "width": 0.5
             },
             "pattern": {
              "fillmode": "overlay",
              "size": 10,
              "solidity": 0.2
             }
            },
            "type": "bar"
           }
          ],
          "barpolar": [
           {
            "marker": {
             "line": {
              "color": "#E5ECF6",
              "width": 0.5
             },
             "pattern": {
              "fillmode": "overlay",
              "size": 10,
              "solidity": 0.2
             }
            },
            "type": "barpolar"
           }
          ],
          "carpet": [
           {
            "aaxis": {
             "endlinecolor": "#2a3f5f",
             "gridcolor": "white",
             "linecolor": "white",
             "minorgridcolor": "white",
             "startlinecolor": "#2a3f5f"
            },
            "baxis": {
             "endlinecolor": "#2a3f5f",
             "gridcolor": "white",
             "linecolor": "white",
             "minorgridcolor": "white",
             "startlinecolor": "#2a3f5f"
            },
            "type": "carpet"
           }
          ],
          "choropleth": [
           {
            "colorbar": {
             "outlinewidth": 0,
             "ticks": ""
            },
            "type": "choropleth"
           }
          ],
          "contour": [
           {
            "colorbar": {
             "outlinewidth": 0,
             "ticks": ""
            },
            "colorscale": [
             [
              0,
              "#0d0887"
             ],
             [
              0.1111111111111111,
              "#46039f"
             ],
             [
              0.2222222222222222,
              "#7201a8"
             ],
             [
              0.3333333333333333,
              "#9c179e"
             ],
             [
              0.4444444444444444,
              "#bd3786"
             ],
             [
              0.5555555555555556,
              "#d8576b"
             ],
             [
              0.6666666666666666,
              "#ed7953"
             ],
             [
              0.7777777777777778,
              "#fb9f3a"
             ],
             [
              0.8888888888888888,
              "#fdca26"
             ],
             [
              1,
              "#f0f921"
             ]
            ],
            "type": "contour"
           }
          ],
          "contourcarpet": [
           {
            "colorbar": {
             "outlinewidth": 0,
             "ticks": ""
            },
            "type": "contourcarpet"
           }
          ],
          "heatmap": [
           {
            "colorbar": {
             "outlinewidth": 0,
             "ticks": ""
            },
            "colorscale": [
             [
              0,
              "#0d0887"
             ],
             [
              0.1111111111111111,
              "#46039f"
             ],
             [
              0.2222222222222222,
              "#7201a8"
             ],
             [
              0.3333333333333333,
              "#9c179e"
             ],
             [
              0.4444444444444444,
              "#bd3786"
             ],
             [
              0.5555555555555556,
              "#d8576b"
             ],
             [
              0.6666666666666666,
              "#ed7953"
             ],
             [
              0.7777777777777778,
              "#fb9f3a"
             ],
             [
              0.8888888888888888,
              "#fdca26"
             ],
             [
              1,
              "#f0f921"
             ]
            ],
            "type": "heatmap"
           }
          ],
          "heatmapgl": [
           {
            "colorbar": {
             "outlinewidth": 0,
             "ticks": ""
            },
            "colorscale": [
             [
              0,
              "#0d0887"
             ],
             [
              0.1111111111111111,
              "#46039f"
             ],
             [
              0.2222222222222222,
              "#7201a8"
             ],
             [
              0.3333333333333333,
              "#9c179e"
             ],
             [
              0.4444444444444444,
              "#bd3786"
             ],
             [
              0.5555555555555556,
              "#d8576b"
             ],
             [
              0.6666666666666666,
              "#ed7953"
             ],
             [
              0.7777777777777778,
              "#fb9f3a"
             ],
             [
              0.8888888888888888,
              "#fdca26"
             ],
             [
              1,
              "#f0f921"
             ]
            ],
            "type": "heatmapgl"
           }
          ],
          "histogram": [
           {
            "marker": {
             "pattern": {
              "fillmode": "overlay",
              "size": 10,
              "solidity": 0.2
             }
            },
            "type": "histogram"
           }
          ],
          "histogram2d": [
           {
            "colorbar": {
             "outlinewidth": 0,
             "ticks": ""
            },
            "colorscale": [
             [
              0,
              "#0d0887"
             ],
             [
              0.1111111111111111,
              "#46039f"
             ],
             [
              0.2222222222222222,
              "#7201a8"
             ],
             [
              0.3333333333333333,
              "#9c179e"
             ],
             [
              0.4444444444444444,
              "#bd3786"
             ],
             [
              0.5555555555555556,
              "#d8576b"
             ],
             [
              0.6666666666666666,
              "#ed7953"
             ],
             [
              0.7777777777777778,
              "#fb9f3a"
             ],
             [
              0.8888888888888888,
              "#fdca26"
             ],
             [
              1,
              "#f0f921"
             ]
            ],
            "type": "histogram2d"
           }
          ],
          "histogram2dcontour": [
           {
            "colorbar": {
             "outlinewidth": 0,
             "ticks": ""
            },
            "colorscale": [
             [
              0,
              "#0d0887"
             ],
             [
              0.1111111111111111,
              "#46039f"
             ],
             [
              0.2222222222222222,
              "#7201a8"
             ],
             [
              0.3333333333333333,
              "#9c179e"
             ],
             [
              0.4444444444444444,
              "#bd3786"
             ],
             [
              0.5555555555555556,
              "#d8576b"
             ],
             [
              0.6666666666666666,
              "#ed7953"
             ],
             [
              0.7777777777777778,
              "#fb9f3a"
             ],
             [
              0.8888888888888888,
              "#fdca26"
             ],
             [
              1,
              "#f0f921"
             ]
            ],
            "type": "histogram2dcontour"
           }
          ],
          "mesh3d": [
           {
            "colorbar": {
             "outlinewidth": 0,
             "ticks": ""
            },
            "type": "mesh3d"
           }
          ],
          "parcoords": [
           {
            "line": {
             "colorbar": {
              "outlinewidth": 0,
              "ticks": ""
             }
            },
            "type": "parcoords"
           }
          ],
          "pie": [
           {
            "automargin": true,
            "type": "pie"
           }
          ],
          "scatter": [
           {
            "fillpattern": {
             "fillmode": "overlay",
             "size": 10,
             "solidity": 0.2
            },
            "type": "scatter"
           }
          ],
          "scatter3d": [
           {
            "line": {
             "colorbar": {
              "outlinewidth": 0,
              "ticks": ""
             }
            },
            "marker": {
             "colorbar": {
              "outlinewidth": 0,
              "ticks": ""
             }
            },
            "type": "scatter3d"
           }
          ],
          "scattercarpet": [
           {
            "marker": {
             "colorbar": {
              "outlinewidth": 0,
              "ticks": ""
             }
            },
            "type": "scattercarpet"
           }
          ],
          "scattergeo": [
           {
            "marker": {
             "colorbar": {
              "outlinewidth": 0,
              "ticks": ""
             }
            },
            "type": "scattergeo"
           }
          ],
          "scattergl": [
           {
            "marker": {
             "colorbar": {
              "outlinewidth": 0,
              "ticks": ""
             }
            },
            "type": "scattergl"
           }
          ],
          "scattermapbox": [
           {
            "marker": {
             "colorbar": {
              "outlinewidth": 0,
              "ticks": ""
             }
            },
            "type": "scattermapbox"
           }
          ],
          "scatterpolar": [
           {
            "marker": {
             "colorbar": {
              "outlinewidth": 0,
              "ticks": ""
             }
            },
            "type": "scatterpolar"
           }
          ],
          "scatterpolargl": [
           {
            "marker": {
             "colorbar": {
              "outlinewidth": 0,
              "ticks": ""
             }
            },
            "type": "scatterpolargl"
           }
          ],
          "scatterternary": [
           {
            "marker": {
             "colorbar": {
              "outlinewidth": 0,
              "ticks": ""
             }
            },
            "type": "scatterternary"
           }
          ],
          "surface": [
           {
            "colorbar": {
             "outlinewidth": 0,
             "ticks": ""
            },
            "colorscale": [
             [
              0,
              "#0d0887"
             ],
             [
              0.1111111111111111,
              "#46039f"
             ],
             [
              0.2222222222222222,
              "#7201a8"
             ],
             [
              0.3333333333333333,
              "#9c179e"
             ],
             [
              0.4444444444444444,
              "#bd3786"
             ],
             [
              0.5555555555555556,
              "#d8576b"
             ],
             [
              0.6666666666666666,
              "#ed7953"
             ],
             [
              0.7777777777777778,
              "#fb9f3a"
             ],
             [
              0.8888888888888888,
              "#fdca26"
             ],
             [
              1,
              "#f0f921"
             ]
            ],
            "type": "surface"
           }
          ],
          "table": [
           {
            "cells": {
             "fill": {
              "color": "#EBF0F8"
             },
             "line": {
              "color": "white"
             }
            },
            "header": {
             "fill": {
              "color": "#C8D4E3"
             },
             "line": {
              "color": "white"
             }
            },
            "type": "table"
           }
          ]
         },
         "layout": {
          "annotationdefaults": {
           "arrowcolor": "#2a3f5f",
           "arrowhead": 0,
           "arrowwidth": 1
          },
          "autotypenumbers": "strict",
          "coloraxis": {
           "colorbar": {
            "outlinewidth": 0,
            "ticks": ""
           }
          },
          "colorscale": {
           "diverging": [
            [
             0,
             "#8e0152"
            ],
            [
             0.1,
             "#c51b7d"
            ],
            [
             0.2,
             "#de77ae"
            ],
            [
             0.3,
             "#f1b6da"
            ],
            [
             0.4,
             "#fde0ef"
            ],
            [
             0.5,
             "#f7f7f7"
            ],
            [
             0.6,
             "#e6f5d0"
            ],
            [
             0.7,
             "#b8e186"
            ],
            [
             0.8,
             "#7fbc41"
            ],
            [
             0.9,
             "#4d9221"
            ],
            [
             1,
             "#276419"
            ]
           ],
           "sequential": [
            [
             0,
             "#0d0887"
            ],
            [
             0.1111111111111111,
             "#46039f"
            ],
            [
             0.2222222222222222,
             "#7201a8"
            ],
            [
             0.3333333333333333,
             "#9c179e"
            ],
            [
             0.4444444444444444,
             "#bd3786"
            ],
            [
             0.5555555555555556,
             "#d8576b"
            ],
            [
             0.6666666666666666,
             "#ed7953"
            ],
            [
             0.7777777777777778,
             "#fb9f3a"
            ],
            [
             0.8888888888888888,
             "#fdca26"
            ],
            [
             1,
             "#f0f921"
            ]
           ],
           "sequentialminus": [
            [
             0,
             "#0d0887"
            ],
            [
             0.1111111111111111,
             "#46039f"
            ],
            [
             0.2222222222222222,
             "#7201a8"
            ],
            [
             0.3333333333333333,
             "#9c179e"
            ],
            [
             0.4444444444444444,
             "#bd3786"
            ],
            [
             0.5555555555555556,
             "#d8576b"
            ],
            [
             0.6666666666666666,
             "#ed7953"
            ],
            [
             0.7777777777777778,
             "#fb9f3a"
            ],
            [
             0.8888888888888888,
             "#fdca26"
            ],
            [
             1,
             "#f0f921"
            ]
           ]
          },
          "colorway": [
           "#636efa",
           "#EF553B",
           "#00cc96",
           "#ab63fa",
           "#FFA15A",
           "#19d3f3",
           "#FF6692",
           "#B6E880",
           "#FF97FF",
           "#FECB52"
          ],
          "font": {
           "color": "#2a3f5f"
          },
          "geo": {
           "bgcolor": "white",
           "lakecolor": "white",
           "landcolor": "#E5ECF6",
           "showlakes": true,
           "showland": true,
           "subunitcolor": "white"
          },
          "hoverlabel": {
           "align": "left"
          },
          "hovermode": "closest",
          "mapbox": {
           "style": "light"
          },
          "paper_bgcolor": "white",
          "plot_bgcolor": "#E5ECF6",
          "polar": {
           "angularaxis": {
            "gridcolor": "white",
            "linecolor": "white",
            "ticks": ""
           },
           "bgcolor": "#E5ECF6",
           "radialaxis": {
            "gridcolor": "white",
            "linecolor": "white",
            "ticks": ""
           }
          },
          "scene": {
           "xaxis": {
            "backgroundcolor": "#E5ECF6",
            "gridcolor": "white",
            "gridwidth": 2,
            "linecolor": "white",
            "showbackground": true,
            "ticks": "",
            "zerolinecolor": "white"
           },
           "yaxis": {
            "backgroundcolor": "#E5ECF6",
            "gridcolor": "white",
            "gridwidth": 2,
            "linecolor": "white",
            "showbackground": true,
            "ticks": "",
            "zerolinecolor": "white"
           },
           "zaxis": {
            "backgroundcolor": "#E5ECF6",
            "gridcolor": "white",
            "gridwidth": 2,
            "linecolor": "white",
            "showbackground": true,
            "ticks": "",
            "zerolinecolor": "white"
           }
          },
          "shapedefaults": {
           "line": {
            "color": "#2a3f5f"
           }
          },
          "ternary": {
           "aaxis": {
            "gridcolor": "white",
            "linecolor": "white",
            "ticks": ""
           },
           "baxis": {
            "gridcolor": "white",
            "linecolor": "white",
            "ticks": ""
           },
           "bgcolor": "#E5ECF6",
           "caxis": {
            "gridcolor": "white",
            "linecolor": "white",
            "ticks": ""
           }
          },
          "title": {
           "x": 0.05
          },
          "xaxis": {
           "automargin": true,
           "gridcolor": "white",
           "linecolor": "white",
           "ticks": "",
           "title": {
            "standoff": 15
           },
           "zerolinecolor": "white",
           "zerolinewidth": 2
          },
          "yaxis": {
           "automargin": true,
           "gridcolor": "white",
           "linecolor": "white",
           "ticks": "",
           "title": {
            "standoff": 15
           },
           "zerolinecolor": "white",
           "zerolinewidth": 2
          }
         }
        },
        "title": {
         "text": "Season Success VS Team Prominence"
        },
        "xaxis": {
         "autorange": "reversed",
         "title": {
          "text": "Prominent Ranking"
         }
        },
        "yaxis": {
         "title": {
          "text": "Season Score"
         }
        }
       }
      }
     },
     "metadata": {},
     "output_type": "display_data"
    }
   ],
   "source": [
    "fig = go.Figure()\n",
    "for season in range(2025, 1974, -1):\n",
    "    curr_team_prom = get_team_prominence(team_stats, prominent_stats, season).mean(axis=1)\n",
    "    curr_szn_success = get_season_success(team_stats, nba_champions, season)\n",
    "    fig.add_trace(go.Scatter(y=curr_szn_success.values, x=curr_team_prom.values, mode=\"markers\",\n",
    "                             name=season))\n",
    "fig.update_layout(title=\"Season Success VS Team Prominence\", xaxis_title=\"Prominent Ranking\",\n",
    "                  yaxis_title=\"Season Score\", legend_title=\"Season\")\n",
    "fig.update_xaxes(autorange=\"reversed\")\n",
    "fig.show()"
   ]
  },
  {
   "cell_type": "markdown",
   "id": "5dc847f7-2fd6-4af8-87bd-26ae0cee40f2",
   "metadata": {},
   "source": [
    "### Part 4: Research Question #2 Conclusion\n",
    "As seen above, there is a noticable correlation between a team's success score for a season versus their average prominent stat ranking for the same season. Its important to notice the abundance of dots in the lower left corner and the upper right corner, and the lack of dots in the lower right and upper left corners. This shows that there is a positive correlation meaning that, if a team is doing well in the prominent stats for that season, then they are likely to find themselves having team success\n",
    "\n",
    "#### Now that we know the individual statistics that make All-Stars elite also correlate to team success, let's move onto Research Question #3!"
   ]
  },
  {
   "cell_type": "markdown",
   "id": "b6c0c26f-f58b-4536-848a-ff71666e7cd0",
   "metadata": {},
   "source": [
    "## RESEARCH QUESTION #3: Do teams *need* All-Stars in order to find season success?\n",
    "So far, we have concluded the statistics that separate All-Stars from the ordinary player in the NBA, and concluded that these stats in teams correlate directly to team success. Now, we must check the number of All-Stars for each team in a season and compare that to the success that the team had that season. Let's get started!\n",
    "\n",
    "### Part 1: Get All-Stars For Each Team in a Season\n",
    "The first thing we will have to do is find a way to get each team in the season's counts of All-Stars. To do this, we can write a simple program.\n",
    "\n",
    "#### get_team_all_stars\n",
    "This program will take in a season and the necessary datasheets and return a series of all the counts of All-Stars for each team. This will be great for the future, as we can then check each team throughout every season and get the number of All-Stars easily!"
   ]
  },
  {
   "cell_type": "code",
   "execution_count": 24,
   "id": "a102a1f1-d797-4daa-9043-1ac226d38aca",
   "metadata": {},
   "outputs": [],
   "source": [
    "def get_team_all_stars(stars, player_data, team_data, season):\n",
    "    \"\"\"\n",
    "    Given datasheets of All-Stars, player statistics, team statistics, and a season, returns a\n",
    "    series representing the counts of All-Stars for each team that season. If a team had no\n",
    "    All-Stars in the season, give them a value of 0 rather than N/A\n",
    "    \"\"\"\n",
    "    curr_teams = team_data[(team_data[\"season\"] == season) &\n",
    "                           (team_data[\"team\"] != \"League Average\")]\n",
    "    curr_teams = curr_teams.set_index(\"team\")\n",
    "    result = pd.Series([0]*len(curr_teams.index), index=curr_teams.index)\n",
    "    curr_players = player_data[(player_data[\"season\"] == season) &\n",
    "                               (player_data[\"tm\"] != \"TOT\")][[\"player\", \"tm\"]]\n",
    "    curr_stars = stars[stars[\"season\"] == season][\"player\"]\n",
    "    for star in curr_stars.values:\n",
    "        curr_abbrevs = curr_players[curr_players[\"player\"] == star][\"tm\"].values\n",
    "        for abbrev in curr_abbrevs: # in the case that an All-Star switched teams mid-season\n",
    "            curr_team = curr_teams[curr_teams[\"abbreviation\"] == abbrev].index[0]\n",
    "        result[curr_team] += 1\n",
    "    return result\n",
    "\n",
    "# TEST PORTION\n",
    "# Since the number of All-Stars in a year is small and managable, use default data\n",
    "test = get_team_all_stars(all_stars, player_stats, team_stats, 2024)\n",
    "assert test[\"Minnesota Timberwolves\"] == 2 # Karl-Anthony Towns, Anthony Edwards\n",
    "assert test[\"Houston Rockets\"] == 0\n",
    "assert test[\"Brooklyn Nets\"] == 0\n",
    "assert test[\"Atlanta Hawks\"] == 1 # Trae Young"
   ]
  },
  {
   "cell_type": "markdown",
   "id": "7b528de8-a27f-45c8-ab70-82d5d5d826fc",
   "metadata": {},
   "source": [
    "#### Great! Now, lets get a visualization of a season's All-Stars, my personal favorite visualization of this is in the 2017 season!"
   ]
  },
  {
   "cell_type": "code",
   "execution_count": 25,
   "id": "b1750398-4677-49d1-9ab3-150a4a9e8e62",
   "metadata": {},
   "outputs": [
    {
     "data": {
      "application/vnd.plotly.v1+json": {
       "config": {
        "plotlyServerURL": "https://plot.ly"
       },
       "data": [
        {
         "alignmentgroup": "True",
         "hovertemplate": "team=%{x}<br>y=%{y}<br>color=%{marker.color}<extra></extra>",
         "legendgroup": "",
         "marker": {
          "color": [
           1,
           1,
           0,
           1,
           1,
           3,
           0,
           0,
           0,
           4,
           1,
           1,
           1,
           0,
           1,
           0,
           1,
           0,
           2,
           1,
           1,
           0,
           0,
           0,
           0,
           0,
           1,
           2,
           1,
           1
          ],
          "coloraxis": "coloraxis",
          "pattern": {
           "shape": ""
          }
         },
         "name": "",
         "offsetgroup": "",
         "orientation": "v",
         "showlegend": false,
         "textposition": "auto",
         "type": "bar",
         "x": [
          "Atlanta Hawks",
          "Boston Celtics",
          "Brooklyn Nets",
          "Chicago Bulls",
          "Charlotte Hornets",
          "Cleveland Cavaliers",
          "Dallas Mavericks",
          "Denver Nuggets",
          "Detroit Pistons",
          "Golden State Warriors",
          "Houston Rockets",
          "Indiana Pacers",
          "Los Angeles Clippers",
          "Los Angeles Lakers",
          "Memphis Grizzlies",
          "Miami Heat",
          "Milwaukee Bucks",
          "Minnesota Timberwolves",
          "New Orleans Pelicans",
          "New York Knicks",
          "Oklahoma City Thunder",
          "Orlando Magic",
          "Philadelphia 76ers",
          "Phoenix Suns",
          "Portland Trail Blazers",
          "Sacramento Kings",
          "San Antonio Spurs",
          "Toronto Raptors",
          "Utah Jazz",
          "Washington Wizards"
         ],
         "xaxis": "x",
         "y": [
          1,
          1,
          0,
          1,
          1,
          3,
          0,
          0,
          0,
          4,
          1,
          1,
          1,
          0,
          1,
          0,
          1,
          0,
          2,
          1,
          1,
          0,
          0,
          0,
          0,
          0,
          1,
          2,
          1,
          1
         ],
         "yaxis": "y"
        }
       ],
       "layout": {
        "barmode": "relative",
        "coloraxis": {
         "colorbar": {
          "title": {
           "text": "color"
          }
         },
         "colorscale": [
          [
           0,
           "rgb(252, 222, 156)"
          ],
          [
           0.16666666666666666,
           "rgb(250, 164, 118)"
          ],
          [
           0.3333333333333333,
           "rgb(240, 116, 110)"
          ],
          [
           0.5,
           "rgb(227, 79, 111)"
          ],
          [
           0.6666666666666666,
           "rgb(220, 57, 119)"
          ],
          [
           0.8333333333333334,
           "rgb(185, 37, 122)"
          ],
          [
           1,
           "rgb(124, 29, 111)"
          ]
         ]
        },
        "legend": {
         "tracegroupgap": 0
        },
        "template": {
         "data": {
          "bar": [
           {
            "error_x": {
             "color": "#2a3f5f"
            },
            "error_y": {
             "color": "#2a3f5f"
            },
            "marker": {
             "line": {
              "color": "#E5ECF6",
              "width": 0.5
             },
             "pattern": {
              "fillmode": "overlay",
              "size": 10,
              "solidity": 0.2
             }
            },
            "type": "bar"
           }
          ],
          "barpolar": [
           {
            "marker": {
             "line": {
              "color": "#E5ECF6",
              "width": 0.5
             },
             "pattern": {
              "fillmode": "overlay",
              "size": 10,
              "solidity": 0.2
             }
            },
            "type": "barpolar"
           }
          ],
          "carpet": [
           {
            "aaxis": {
             "endlinecolor": "#2a3f5f",
             "gridcolor": "white",
             "linecolor": "white",
             "minorgridcolor": "white",
             "startlinecolor": "#2a3f5f"
            },
            "baxis": {
             "endlinecolor": "#2a3f5f",
             "gridcolor": "white",
             "linecolor": "white",
             "minorgridcolor": "white",
             "startlinecolor": "#2a3f5f"
            },
            "type": "carpet"
           }
          ],
          "choropleth": [
           {
            "colorbar": {
             "outlinewidth": 0,
             "ticks": ""
            },
            "type": "choropleth"
           }
          ],
          "contour": [
           {
            "colorbar": {
             "outlinewidth": 0,
             "ticks": ""
            },
            "colorscale": [
             [
              0,
              "#0d0887"
             ],
             [
              0.1111111111111111,
              "#46039f"
             ],
             [
              0.2222222222222222,
              "#7201a8"
             ],
             [
              0.3333333333333333,
              "#9c179e"
             ],
             [
              0.4444444444444444,
              "#bd3786"
             ],
             [
              0.5555555555555556,
              "#d8576b"
             ],
             [
              0.6666666666666666,
              "#ed7953"
             ],
             [
              0.7777777777777778,
              "#fb9f3a"
             ],
             [
              0.8888888888888888,
              "#fdca26"
             ],
             [
              1,
              "#f0f921"
             ]
            ],
            "type": "contour"
           }
          ],
          "contourcarpet": [
           {
            "colorbar": {
             "outlinewidth": 0,
             "ticks": ""
            },
            "type": "contourcarpet"
           }
          ],
          "heatmap": [
           {
            "colorbar": {
             "outlinewidth": 0,
             "ticks": ""
            },
            "colorscale": [
             [
              0,
              "#0d0887"
             ],
             [
              0.1111111111111111,
              "#46039f"
             ],
             [
              0.2222222222222222,
              "#7201a8"
             ],
             [
              0.3333333333333333,
              "#9c179e"
             ],
             [
              0.4444444444444444,
              "#bd3786"
             ],
             [
              0.5555555555555556,
              "#d8576b"
             ],
             [
              0.6666666666666666,
              "#ed7953"
             ],
             [
              0.7777777777777778,
              "#fb9f3a"
             ],
             [
              0.8888888888888888,
              "#fdca26"
             ],
             [
              1,
              "#f0f921"
             ]
            ],
            "type": "heatmap"
           }
          ],
          "heatmapgl": [
           {
            "colorbar": {
             "outlinewidth": 0,
             "ticks": ""
            },
            "colorscale": [
             [
              0,
              "#0d0887"
             ],
             [
              0.1111111111111111,
              "#46039f"
             ],
             [
              0.2222222222222222,
              "#7201a8"
             ],
             [
              0.3333333333333333,
              "#9c179e"
             ],
             [
              0.4444444444444444,
              "#bd3786"
             ],
             [
              0.5555555555555556,
              "#d8576b"
             ],
             [
              0.6666666666666666,
              "#ed7953"
             ],
             [
              0.7777777777777778,
              "#fb9f3a"
             ],
             [
              0.8888888888888888,
              "#fdca26"
             ],
             [
              1,
              "#f0f921"
             ]
            ],
            "type": "heatmapgl"
           }
          ],
          "histogram": [
           {
            "marker": {
             "pattern": {
              "fillmode": "overlay",
              "size": 10,
              "solidity": 0.2
             }
            },
            "type": "histogram"
           }
          ],
          "histogram2d": [
           {
            "colorbar": {
             "outlinewidth": 0,
             "ticks": ""
            },
            "colorscale": [
             [
              0,
              "#0d0887"
             ],
             [
              0.1111111111111111,
              "#46039f"
             ],
             [
              0.2222222222222222,
              "#7201a8"
             ],
             [
              0.3333333333333333,
              "#9c179e"
             ],
             [
              0.4444444444444444,
              "#bd3786"
             ],
             [
              0.5555555555555556,
              "#d8576b"
             ],
             [
              0.6666666666666666,
              "#ed7953"
             ],
             [
              0.7777777777777778,
              "#fb9f3a"
             ],
             [
              0.8888888888888888,
              "#fdca26"
             ],
             [
              1,
              "#f0f921"
             ]
            ],
            "type": "histogram2d"
           }
          ],
          "histogram2dcontour": [
           {
            "colorbar": {
             "outlinewidth": 0,
             "ticks": ""
            },
            "colorscale": [
             [
              0,
              "#0d0887"
             ],
             [
              0.1111111111111111,
              "#46039f"
             ],
             [
              0.2222222222222222,
              "#7201a8"
             ],
             [
              0.3333333333333333,
              "#9c179e"
             ],
             [
              0.4444444444444444,
              "#bd3786"
             ],
             [
              0.5555555555555556,
              "#d8576b"
             ],
             [
              0.6666666666666666,
              "#ed7953"
             ],
             [
              0.7777777777777778,
              "#fb9f3a"
             ],
             [
              0.8888888888888888,
              "#fdca26"
             ],
             [
              1,
              "#f0f921"
             ]
            ],
            "type": "histogram2dcontour"
           }
          ],
          "mesh3d": [
           {
            "colorbar": {
             "outlinewidth": 0,
             "ticks": ""
            },
            "type": "mesh3d"
           }
          ],
          "parcoords": [
           {
            "line": {
             "colorbar": {
              "outlinewidth": 0,
              "ticks": ""
             }
            },
            "type": "parcoords"
           }
          ],
          "pie": [
           {
            "automargin": true,
            "type": "pie"
           }
          ],
          "scatter": [
           {
            "fillpattern": {
             "fillmode": "overlay",
             "size": 10,
             "solidity": 0.2
            },
            "type": "scatter"
           }
          ],
          "scatter3d": [
           {
            "line": {
             "colorbar": {
              "outlinewidth": 0,
              "ticks": ""
             }
            },
            "marker": {
             "colorbar": {
              "outlinewidth": 0,
              "ticks": ""
             }
            },
            "type": "scatter3d"
           }
          ],
          "scattercarpet": [
           {
            "marker": {
             "colorbar": {
              "outlinewidth": 0,
              "ticks": ""
             }
            },
            "type": "scattercarpet"
           }
          ],
          "scattergeo": [
           {
            "marker": {
             "colorbar": {
              "outlinewidth": 0,
              "ticks": ""
             }
            },
            "type": "scattergeo"
           }
          ],
          "scattergl": [
           {
            "marker": {
             "colorbar": {
              "outlinewidth": 0,
              "ticks": ""
             }
            },
            "type": "scattergl"
           }
          ],
          "scattermapbox": [
           {
            "marker": {
             "colorbar": {
              "outlinewidth": 0,
              "ticks": ""
             }
            },
            "type": "scattermapbox"
           }
          ],
          "scatterpolar": [
           {
            "marker": {
             "colorbar": {
              "outlinewidth": 0,
              "ticks": ""
             }
            },
            "type": "scatterpolar"
           }
          ],
          "scatterpolargl": [
           {
            "marker": {
             "colorbar": {
              "outlinewidth": 0,
              "ticks": ""
             }
            },
            "type": "scatterpolargl"
           }
          ],
          "scatterternary": [
           {
            "marker": {
             "colorbar": {
              "outlinewidth": 0,
              "ticks": ""
             }
            },
            "type": "scatterternary"
           }
          ],
          "surface": [
           {
            "colorbar": {
             "outlinewidth": 0,
             "ticks": ""
            },
            "colorscale": [
             [
              0,
              "#0d0887"
             ],
             [
              0.1111111111111111,
              "#46039f"
             ],
             [
              0.2222222222222222,
              "#7201a8"
             ],
             [
              0.3333333333333333,
              "#9c179e"
             ],
             [
              0.4444444444444444,
              "#bd3786"
             ],
             [
              0.5555555555555556,
              "#d8576b"
             ],
             [
              0.6666666666666666,
              "#ed7953"
             ],
             [
              0.7777777777777778,
              "#fb9f3a"
             ],
             [
              0.8888888888888888,
              "#fdca26"
             ],
             [
              1,
              "#f0f921"
             ]
            ],
            "type": "surface"
           }
          ],
          "table": [
           {
            "cells": {
             "fill": {
              "color": "#EBF0F8"
             },
             "line": {
              "color": "white"
             }
            },
            "header": {
             "fill": {
              "color": "#C8D4E3"
             },
             "line": {
              "color": "white"
             }
            },
            "type": "table"
           }
          ]
         },
         "layout": {
          "annotationdefaults": {
           "arrowcolor": "#2a3f5f",
           "arrowhead": 0,
           "arrowwidth": 1
          },
          "autotypenumbers": "strict",
          "coloraxis": {
           "colorbar": {
            "outlinewidth": 0,
            "ticks": ""
           }
          },
          "colorscale": {
           "diverging": [
            [
             0,
             "#8e0152"
            ],
            [
             0.1,
             "#c51b7d"
            ],
            [
             0.2,
             "#de77ae"
            ],
            [
             0.3,
             "#f1b6da"
            ],
            [
             0.4,
             "#fde0ef"
            ],
            [
             0.5,
             "#f7f7f7"
            ],
            [
             0.6,
             "#e6f5d0"
            ],
            [
             0.7,
             "#b8e186"
            ],
            [
             0.8,
             "#7fbc41"
            ],
            [
             0.9,
             "#4d9221"
            ],
            [
             1,
             "#276419"
            ]
           ],
           "sequential": [
            [
             0,
             "#0d0887"
            ],
            [
             0.1111111111111111,
             "#46039f"
            ],
            [
             0.2222222222222222,
             "#7201a8"
            ],
            [
             0.3333333333333333,
             "#9c179e"
            ],
            [
             0.4444444444444444,
             "#bd3786"
            ],
            [
             0.5555555555555556,
             "#d8576b"
            ],
            [
             0.6666666666666666,
             "#ed7953"
            ],
            [
             0.7777777777777778,
             "#fb9f3a"
            ],
            [
             0.8888888888888888,
             "#fdca26"
            ],
            [
             1,
             "#f0f921"
            ]
           ],
           "sequentialminus": [
            [
             0,
             "#0d0887"
            ],
            [
             0.1111111111111111,
             "#46039f"
            ],
            [
             0.2222222222222222,
             "#7201a8"
            ],
            [
             0.3333333333333333,
             "#9c179e"
            ],
            [
             0.4444444444444444,
             "#bd3786"
            ],
            [
             0.5555555555555556,
             "#d8576b"
            ],
            [
             0.6666666666666666,
             "#ed7953"
            ],
            [
             0.7777777777777778,
             "#fb9f3a"
            ],
            [
             0.8888888888888888,
             "#fdca26"
            ],
            [
             1,
             "#f0f921"
            ]
           ]
          },
          "colorway": [
           "#636efa",
           "#EF553B",
           "#00cc96",
           "#ab63fa",
           "#FFA15A",
           "#19d3f3",
           "#FF6692",
           "#B6E880",
           "#FF97FF",
           "#FECB52"
          ],
          "font": {
           "color": "#2a3f5f"
          },
          "geo": {
           "bgcolor": "white",
           "lakecolor": "white",
           "landcolor": "#E5ECF6",
           "showlakes": true,
           "showland": true,
           "subunitcolor": "white"
          },
          "hoverlabel": {
           "align": "left"
          },
          "hovermode": "closest",
          "mapbox": {
           "style": "light"
          },
          "paper_bgcolor": "white",
          "plot_bgcolor": "#E5ECF6",
          "polar": {
           "angularaxis": {
            "gridcolor": "white",
            "linecolor": "white",
            "ticks": ""
           },
           "bgcolor": "#E5ECF6",
           "radialaxis": {
            "gridcolor": "white",
            "linecolor": "white",
            "ticks": ""
           }
          },
          "scene": {
           "xaxis": {
            "backgroundcolor": "#E5ECF6",
            "gridcolor": "white",
            "gridwidth": 2,
            "linecolor": "white",
            "showbackground": true,
            "ticks": "",
            "zerolinecolor": "white"
           },
           "yaxis": {
            "backgroundcolor": "#E5ECF6",
            "gridcolor": "white",
            "gridwidth": 2,
            "linecolor": "white",
            "showbackground": true,
            "ticks": "",
            "zerolinecolor": "white"
           },
           "zaxis": {
            "backgroundcolor": "#E5ECF6",
            "gridcolor": "white",
            "gridwidth": 2,
            "linecolor": "white",
            "showbackground": true,
            "ticks": "",
            "zerolinecolor": "white"
           }
          },
          "shapedefaults": {
           "line": {
            "color": "#2a3f5f"
           }
          },
          "ternary": {
           "aaxis": {
            "gridcolor": "white",
            "linecolor": "white",
            "ticks": ""
           },
           "baxis": {
            "gridcolor": "white",
            "linecolor": "white",
            "ticks": ""
           },
           "bgcolor": "#E5ECF6",
           "caxis": {
            "gridcolor": "white",
            "linecolor": "white",
            "ticks": ""
           }
          },
          "title": {
           "x": 0.05
          },
          "xaxis": {
           "automargin": true,
           "gridcolor": "white",
           "linecolor": "white",
           "ticks": "",
           "title": {
            "standoff": 15
           },
           "zerolinecolor": "white",
           "zerolinewidth": 2
          },
          "yaxis": {
           "automargin": true,
           "gridcolor": "white",
           "linecolor": "white",
           "ticks": "",
           "title": {
            "standoff": 15
           },
           "zerolinecolor": "white",
           "zerolinewidth": 2
          }
         }
        },
        "title": {
         "text": "2017 All-Stars Per Team"
        },
        "xaxis": {
         "anchor": "y",
         "domain": [
          0,
          1
         ],
         "tickangle": -45,
         "title": {
          "text": "Team"
         }
        },
        "yaxis": {
         "anchor": "x",
         "domain": [
          0,
          1
         ],
         "title": {
          "text": "# All-Stars"
         }
        }
       }
      }
     },
     "metadata": {},
     "output_type": "display_data"
    }
   ],
   "source": [
    "fig_data = get_team_all_stars(all_stars, player_stats, team_stats, 2017)\n",
    "fig = px.bar(fig_data, x=fig_data.index, y=fig_data.values, color=fig_data.values,\n",
    "             color_continuous_scale=\"sunsetdark\", title=\"2017 All-Stars Per Team\")\n",
    "fig.update_layout(xaxis_title=\"Team\", yaxis_title=\"# All-Stars\")\n",
    "fig.update_xaxes(tickangle=-45)\n",
    "\n",
    "fig.show()"
   ]
  },
  {
   "cell_type": "markdown",
   "id": "d074a00e-edd5-4fdc-949e-a92bc2991194",
   "metadata": {},
   "source": [
    "#### As can be seen, the Golden State Warriors had 4 players chosen for the All-Star game in 2017, a ridiculous amount!\n"
   ]
  },
  {
   "cell_type": "markdown",
   "id": "b2d36465-8444-4294-ae72-183bc547e7c7",
   "metadata": {},
   "source": [
    "### Part 2: Compare With Success Scores (Scatter Plot)\n",
    "This part will be similar to the last step in Research Question #2, we have to represent the comparisons between the All-Star count and success scores using a graph, which will show if there is a correlation or not between having All-Stars on a team and finding success.\n",
    "\n",
    "#### Scatter Plot\n",
    "> Once again, we will use a scatter plot, where the x values are the success scores, and the y values represent the number of All-Stars. This will give a level-based representation where distinction between teams will be clear based on the All-Star count. Since there is a likelyhood of duplicate values, we can scatter duplicate points to get a better representation of the data."
   ]
  },
  {
   "cell_type": "code",
   "execution_count": 26,
   "id": "95f06c8b-1dd2-4ab3-9b23-5606e2a4a685",
   "metadata": {},
   "outputs": [
    {
     "data": {
      "application/vnd.plotly.v1+json": {
       "config": {
        "plotlyServerURL": "https://plot.ly"
       },
       "data": [
        {
         "marker": {
          "size": 8
         },
         "mode": "markers",
         "name": "2025",
         "opacity": 0.7,
         "type": "scatter",
         "x": [
          40,
          66,
          26,
          39,
          19,
          69,
          39,
          55,
          49,
          53,
          57,
          60,
          55,
          55,
          53,
          42,
          53,
          54,
          21,
          56,
          78,
          46,
          24,
          36,
          36,
          40,
          34,
          30,
          17,
          18
         ],
         "y": [
          1,
          2,
          0,
          0,
          0,
          3,
          2,
          1,
          1,
          1,
          1,
          1,
          1,
          1,
          1,
          1,
          2,
          1,
          0,
          3,
          2,
          0,
          0,
          1,
          0,
          0,
          0,
          0,
          0,
          0
         ]
        },
        {
         "marker": {
          "size": 8
         },
         "mode": "markers",
         "name": "2024",
         "opacity": 0.7,
         "type": "scatter",
         "x": [
          36,
          79,
          32,
          39,
          21,
          53,
          55,
          62,
          14,
          46,
          41,
          52,
          56,
          52,
          27,
          51,
          54,
          61,
          54,
          55,
          62,
          52,
          52,
          54,
          21,
          46,
          22,
          25,
          31,
          15
         ],
         "y": [
          1,
          2,
          0,
          0,
          0,
          1,
          1,
          1,
          0,
          1,
          0,
          1,
          2,
          2,
          0,
          1,
          2,
          2,
          0,
          2,
          1,
          1,
          2,
          2,
          0,
          0,
          0,
          1,
          0,
          0
         ]
        },
        {
         "marker": {
          "size": 8
         },
         "mode": "markers",
         "name": "2023",
         "opacity": 0.7,
         "type": "scatter",
         "x": [
          41,
          57,
          45,
          40,
          27,
          51,
          38,
          63,
          17,
          44,
          22,
          35,
          44,
          43,
          51,
          44,
          58,
          42,
          42,
          47,
          40,
          34,
          54,
          45,
          33,
          48,
          22,
          41,
          37,
          35
         ],
         "y": [
          0,
          2,
          0,
          1,
          0,
          1,
          2,
          1,
          0,
          1,
          0,
          1,
          1,
          1,
          2,
          1,
          2,
          1,
          1,
          1,
          1,
          0,
          1,
          1,
          1,
          2,
          0,
          1,
          1,
          0
         ]
        },
        {
         "marker": {
          "size": 8
         },
         "mode": "markers",
         "name": "2022",
         "opacity": 0.7,
         "type": "scatter",
         "x": [
          48,
          56,
          49,
          51,
          43,
          44,
          57,
          53,
          23,
          68,
          20,
          25,
          42,
          33,
          61,
          58,
          56,
          51,
          41,
          37,
          24,
          22,
          56,
          69,
          27,
          30,
          34,
          53,
          54,
          35
         ],
         "y": [
          1,
          1,
          1,
          2,
          1,
          2,
          1,
          1,
          0,
          3,
          0,
          0,
          0,
          1,
          1,
          1,
          2,
          1,
          0,
          0,
          0,
          0,
          2,
          2,
          0,
          0,
          1,
          1,
          2,
          0
         ]
        },
        {
         "marker": {
          "size": 8
         },
         "mode": "markers",
         "name": "2021",
         "opacity": 0.7,
         "type": "scatter",
         "x": [
          46,
          41,
          53,
          31,
          33,
          22,
          47,
          52,
          20,
          39,
          17,
          34,
          52,
          47,
          43,
          45,
          61,
          23,
          31,
          46,
          22,
          21,
          54,
          56,
          47,
          31,
          33,
          27,
          57,
          39
         ],
         "y": [
          0,
          2,
          3,
          2,
          0,
          0,
          1,
          1,
          0,
          1,
          0,
          1,
          2,
          2,
          0,
          0,
          1,
          0,
          1,
          1,
          0,
          0,
          2,
          2,
          1,
          0,
          0,
          0,
          3,
          1
         ]
        },
        {
         "marker": {
          "size": 8
         },
         "mode": "markers",
         "name": "2020",
         "opacity": 0.7,
         "type": "scatter",
         "x": [
          20,
          53,
          40,
          22,
          23,
          19,
          48,
          51,
          20,
          15,
          49,
          50,
          54,
          67,
          34,
          49,
          61,
          19,
          30,
          21,
          49,
          38,
          48,
          34,
          40,
          31,
          32,
          58,
          49,
          25
         ],
         "y": [
          1,
          2,
          0,
          0,
          0,
          0,
          1,
          1,
          0,
          0,
          2,
          1,
          1,
          2,
          0,
          2,
          2,
          0,
          1,
          0,
          1,
          0,
          2,
          1,
          1,
          0,
          0,
          2,
          2,
          0
         ]
        },
        {
         "marker": {
          "size": 8
         },
         "mode": "markers",
         "name": "2019",
         "opacity": 0.7,
         "type": "scatter",
         "x": [
          29,
          54,
          47,
          22,
          39,
          19,
          33,
          59,
          46,
          72,
          58,
          53,
          53,
          37,
          33,
          39,
          65,
          36,
          33,
          17,
          54,
          47,
          56,
          19,
          58,
          39,
          53,
          63,
          55,
          32
         ],
         "y": [
          0,
          1,
          1,
          0,
          1,
          0,
          1,
          1,
          1,
          3,
          1,
          1,
          0,
          1,
          0,
          1,
          2,
          1,
          1,
          0,
          2,
          1,
          2,
          0,
          1,
          0,
          1,
          2,
          0,
          1
         ]
        },
        {
         "marker": {
          "size": 8
         },
         "mode": "markers",
         "name": "2018",
         "opacity": 0.7,
         "type": "scatter",
         "x": [
          24,
          60,
          28,
          27,
          36,
          55,
          24,
          46,
          39,
          73,
          70,
          53,
          42,
          35,
          22,
          49,
          49,
          52,
          53,
          29,
          53,
          25,
          57,
          21,
          54,
          27,
          52,
          64,
          53,
          48
         ],
         "y": [
          0,
          2,
          0,
          0,
          1,
          2,
          0,
          0,
          1,
          4,
          1,
          1,
          0,
          0,
          0,
          1,
          1,
          2,
          2,
          1,
          2,
          0,
          1,
          0,
          1,
          0,
          1,
          2,
          0,
          2
         ]
        },
        {
         "marker": {
          "size": 8
         },
         "mode": "markers",
         "name": "2017",
         "opacity": 0.7,
         "type": "scatter",
         "x": [
          48,
          58,
          20,
          46,
          36,
          56,
          33,
          40,
          37,
          82,
          60,
          47,
          56,
          26,
          48,
          41,
          47,
          31,
          34,
          31,
          52,
          29,
          28,
          24,
          46,
          32,
          66,
          56,
          56,
          54
         ],
         "y": [
          1,
          1,
          0,
          1,
          1,
          3,
          0,
          0,
          0,
          4,
          1,
          1,
          1,
          0,
          1,
          0,
          1,
          0,
          2,
          1,
          1,
          0,
          0,
          0,
          0,
          0,
          1,
          2,
          1,
          1
         ]
        },
        {
         "marker": {
          "size": 8
         },
         "mode": "markers",
         "name": "2016",
         "opacity": 0.7,
         "type": "scatter",
         "x": [
          53,
          53,
          21,
          42,
          53,
          72,
          47,
          33,
          49,
          78,
          46,
          50,
          58,
          17,
          47,
          53,
          33,
          29,
          30,
          32,
          60,
          35,
          10,
          23,
          49,
          33,
          72,
          61,
          40,
          41
         ],
         "y": [
          2,
          1,
          0,
          2,
          0,
          1,
          0,
          0,
          1,
          3,
          1,
          1,
          1,
          1,
          0,
          2,
          0,
          0,
          1,
          1,
          2,
          0,
          0,
          0,
          0,
          1,
          2,
          2,
          0,
          1
         ]
        },
        {
         "marker": {
          "size": 8
         },
         "mode": "markers",
         "name": "2015",
         "opacity": 0.7,
         "type": "scatter",
         "x": [
          65,
          45,
          43,
          55,
          33,
          58,
          55,
          30,
          32,
          82,
          61,
          38,
          61,
          21,
          60,
          37,
          46,
          16,
          50,
          17,
          45,
          25,
          18,
          39,
          56,
          29,
          60,
          54,
          38,
          51
         ],
         "y": [
          4,
          0,
          0,
          2,
          0,
          2,
          1,
          0,
          0,
          2,
          1,
          0,
          2,
          1,
          1,
          2,
          0,
          0,
          1,
          1,
          2,
          0,
          0,
          0,
          2,
          1,
          1,
          1,
          0,
          1
         ]
        },
        {
         "marker": {
          "size": 8
         },
         "mode": "markers",
         "name": "2014",
         "opacity": 0.7,
         "type": "scatter",
         "x": [
          43,
          25,
          49,
          48,
          53,
          33,
          54,
          36,
          29,
          56,
          59,
          61,
          62,
          27,
          55,
          59,
          15,
          40,
          34,
          37,
          64,
          23,
          19,
          48,
          59,
          28,
          77,
          53,
          25,
          49
         ],
         "y": [
          1,
          0,
          1,
          0,
          1,
          1,
          1,
          0,
          0,
          1,
          2,
          2,
          2,
          1,
          0,
          3,
          0,
          1,
          1,
          1,
          1,
          0,
          0,
          0,
          2,
          0,
          1,
          1,
          0,
          1
         ]
        },
        {
         "marker": {
          "size": 8
         },
         "mode": "markers",
         "name": "2013",
         "opacity": 0.7,
         "type": "scatter",
         "x": [
          49,
          46,
          54,
          21,
          50,
          24,
          41,
          62,
          29,
          52,
          50,
          54,
          61,
          50,
          61,
          81,
          43,
          31,
          27,
          59,
          65,
          20,
          34,
          25,
          33,
          28,
          63,
          34,
          43,
          29
         ],
         "y": [
          0,
          2,
          1,
          0,
          2,
          1,
          0,
          0,
          0,
          1,
          1,
          1,
          2,
          2,
          1,
          3,
          0,
          0,
          0,
          2,
          2,
          0,
          1,
          0,
          1,
          0,
          2,
          0,
          0,
          0
         ]
        },
        {
         "marker": {
          "size": 8
         },
         "mode": "markers",
         "name": "2012",
         "opacity": 0.7,
         "type": "scatter",
         "x": [
          45,
          44,
          7,
          55,
          21,
          41,
          43,
          25,
          23,
          34,
          47,
          45,
          46,
          46,
          61,
          31,
          26,
          22,
          21,
          41,
          52,
          42,
          40,
          33,
          28,
          22,
          55,
          23,
          41,
          20
         ],
         "y": [
          1,
          2,
          0,
          2,
          0,
          1,
          0,
          0,
          0,
          0,
          1,
          2,
          2,
          1,
          3,
          0,
          1,
          1,
          0,
          1,
          2,
          1,
          1,
          1,
          1,
          0,
          1,
          0,
          0,
          0
         ]
        },
        {
         "marker": {
          "size": 8
         },
         "mode": "markers",
         "name": "2011",
         "opacity": 0.7,
         "type": "scatter",
         "x": [
          49,
          61,
          34,
          67,
          19,
          72,
          55,
          30,
          36,
          43,
          42,
          32,
          62,
          51,
          63,
          35,
          17,
          24,
          51,
          47,
          60,
          57,
          46,
          40,
          53,
          24,
          66,
          22,
          39,
          23
         ],
         "y": [
          2,
          4,
          0,
          1,
          0,
          1,
          0,
          0,
          0,
          1,
          0,
          1,
          2,
          0,
          3,
          0,
          1,
          1,
          1,
          2,
          2,
          1,
          0,
          0,
          0,
          0,
          2,
          0,
          0,
          0
         ]
        },
        {
         "marker": {
          "size": 8
         },
         "mode": "markers",
         "name": "2010",
         "opacity": 0.7,
         "type": "scatter",
         "x": [
          58,
          55,
          49,
          46,
          66,
          60,
          58,
          27,
          26,
          42,
          32,
          29,
          72,
          40,
          52,
          51,
          15,
          12,
          37,
          29,
          55,
          64,
          27,
          59,
          55,
          25,
          55,
          40,
          58,
          26
         ],
         "y": [
          2,
          3,
          1,
          1,
          1,
          2,
          2,
          0,
          0,
          0,
          0,
          1,
          2,
          1,
          1,
          0,
          0,
          0,
          1,
          1,
          1,
          1,
          1,
          2,
          1,
          0,
          1,
          1,
          1,
          0
         ]
        },
        {
         "marker": {
          "size": 8
         },
         "mode": "markers",
         "name": "2009",
         "opacity": 0.7,
         "type": "scatter",
         "x": [
          52,
          67,
          35,
          46,
          71,
          55,
          59,
          44,
          29,
          58,
          36,
          19,
          80,
          24,
          48,
          34,
          24,
          34,
          54,
          32,
          23,
          64,
          46,
          46,
          59,
          17,
          59,
          33,
          53,
          19
         ],
         "y": [
          1,
          3,
          0,
          0,
          2,
          1,
          1,
          1,
          0,
          1,
          1,
          0,
          2,
          0,
          1,
          0,
          0,
          1,
          2,
          0,
          0,
          3,
          0,
          2,
          1,
          0,
          2,
          1,
          0,
          0
         ]
        },
        {
         "marker": {
          "size": 8
         },
         "mode": "markers",
         "name": "2008",
         "opacity": 0.7,
         "type": "scatter",
         "x": [
          42,
          81,
          32,
          33,
          50,
          56,
          55,
          64,
          48,
          60,
          36,
          23,
          62,
          22,
          15,
          26,
          22,
          34,
          61,
          23,
          57,
          45,
          60,
          41,
          38,
          61,
          20,
          46,
          59,
          48
         ],
         "y": [
          1,
          3,
          0,
          0,
          1,
          2,
          2,
          3,
          0,
          1,
          0,
          0,
          1,
          0,
          1,
          0,
          0,
          0,
          2,
          0,
          1,
          0,
          2,
          1,
          0,
          1,
          0,
          1,
          1,
          2
         ]
        },
        {
         "marker": {
          "size": 8
         },
         "mode": "markers",
         "name": "2007",
         "opacity": 0.7,
         "type": "scatter",
         "x": [
          30,
          24,
          33,
          54,
          55,
          72,
          50,
          58,
          47,
          57,
          35,
          40,
          47,
          22,
          49,
          28,
          32,
          46,
          39,
          33,
          45,
          35,
          66,
          32,
          33,
          73,
          31,
          52,
          56,
          46
         ],
         "y": [
          1,
          0,
          0,
          0,
          1,
          2,
          2,
          2,
          0,
          2,
          1,
          0,
          1,
          0,
          2,
          0,
          1,
          2,
          0,
          0,
          1,
          0,
          3,
          0,
          0,
          2,
          1,
          1,
          2,
          2
         ]
        },
        {
         "marker": {
          "size": 8
         },
         "mode": "markers",
         "name": "2006",
         "opacity": 0.7,
         "type": "scatter",
         "x": [
          26,
          33,
          26,
          46,
          55,
          65,
          49,
          69,
          34,
          34,
          46,
          52,
          50,
          54,
          67,
          45,
          33,
          54,
          38,
          23,
          36,
          38,
          59,
          21,
          49,
          68,
          35,
          27,
          41,
          47
         ],
         "y": [
          0,
          1,
          0,
          0,
          1,
          1,
          0,
          4,
          0,
          2,
          1,
          1,
          1,
          1,
          2,
          0,
          1,
          1,
          0,
          0,
          0,
          1,
          2,
          0,
          0,
          2,
          1,
          1,
          0,
          1
         ]
        },
        {
         "marker": {
          "size": 8
         },
         "mode": "markers",
         "name": "2005",
         "opacity": 0.7,
         "type": "scatter",
         "x": [
          13,
          50,
          18,
          52,
          42,
          63,
          54,
          59,
          34,
          56,
          49,
          37,
          34,
          50,
          64,
          30,
          44,
          47,
          18,
          33,
          36,
          48,
          67,
          27,
          55,
          74,
          57,
          33,
          26,
          50
         ],
         "y": [
          0,
          1,
          0,
          0,
          2,
          1,
          0,
          1,
          0,
          2,
          1,
          0,
          1,
          0,
          2,
          0,
          1,
          1,
          0,
          0,
          1,
          1,
          3,
          0,
          0,
          2,
          2,
          0,
          0,
          2
         ]
        },
        {
         "marker": {
          "size": 8
         },
         "mode": "markers",
         "name": "2004",
         "opacity": 0.7,
         "type": "scatter",
         "x": [
          28,
          41,
          23,
          35,
          57,
          48,
          69,
          37,
          50,
          66,
          28,
          61,
          55,
          47,
          46,
          63,
          52,
          46,
          44,
          21,
          33,
          29,
          41,
          60,
          62,
          37,
          33,
          42,
          25
         ],
         "y": [
          0,
          1,
          0,
          0,
          1,
          0,
          1,
          0,
          2,
          2,
          0,
          2,
          0,
          0,
          1,
          2,
          2,
          2,
          0,
          1,
          1,
          0,
          0,
          2,
          1,
          1,
          1,
          1,
          0
         ]
        },
        {
         "marker": {
          "size": 8
         },
         "mode": "markers",
         "name": "2003",
         "opacity": 0.7,
         "type": "scatter",
         "x": [
          35,
          49,
          30,
          17,
          65,
          17,
          55,
          38,
          43,
          53,
          27,
          55,
          28,
          25,
          47,
          56,
          54,
          52,
          37,
          47,
          53,
          49,
          55,
          64,
          75,
          40,
          24,
          52,
          37
         ],
         "y": [
          0,
          2,
          0,
          1,
          2,
          0,
          1,
          0,
          2,
          2,
          0,
          2,
          0,
          0,
          1,
          1,
          1,
          1,
          0,
          1,
          1,
          2,
          0,
          2,
          1,
          0,
          1,
          0,
          1
         ]
        },
        {
         "marker": {
          "size": 8
         },
         "mode": "markers",
         "name": "2002",
         "opacity": 0.7,
         "type": "scatter",
         "x": [
          33,
          54,
          49,
          21,
          29,
          62,
          27,
          55,
          21,
          28,
          47,
          39,
          73,
          23,
          36,
          41,
          55,
          57,
          30,
          49,
          48,
          36,
          54,
          66,
          63,
          50,
          47,
          49,
          37
         ],
         "y": [
          1,
          2,
          1,
          0,
          0,
          2,
          0,
          0,
          0,
          1,
          1,
          1,
          2,
          0,
          1,
          1,
          2,
          1,
          0,
          1,
          2,
          0,
          0,
          2,
          1,
          1,
          1,
          1,
          1
         ]
        },
        {
         "marker": {
          "size": 8
         },
         "mode": "markers",
         "name": "2001",
         "opacity": 0.7,
         "type": "scatter",
         "x": [
          25,
          36,
          51,
          15,
          30,
          58,
          40,
          32,
          17,
          45,
          46,
          31,
          71,
          55,
          57,
          52,
          26,
          53,
          48,
          61,
          56,
          55,
          60,
          63,
          44,
          52,
          58,
          23,
          19
         ],
         "y": [
          0,
          0,
          0,
          0,
          0,
          1,
          1,
          1,
          0,
          0,
          0,
          0,
          2,
          2,
          2,
          1,
          1,
          2,
          2,
          3,
          1,
          1,
          2,
          2,
          1,
          2,
          1,
          0,
          0
         ]
        },
        {
         "marker": {
          "size": 8
         },
         "mode": "markers",
         "name": "2000",
         "opacity": 0.7,
         "type": "scatter",
         "x": [
          28,
          35,
          54,
          17,
          32,
          40,
          35,
          47,
          19,
          34,
          61,
          15,
          82,
          57,
          47,
          55,
          31,
          55,
          41,
          54,
          58,
          64,
          49,
          58,
          50,
          50,
          60,
          22,
          29
         ],
         "y": [
          1,
          0,
          1,
          0,
          0,
          1,
          0,
          2,
          0,
          0,
          2,
          0,
          2,
          1,
          2,
          1,
          0,
          1,
          0,
          1,
          1,
          1,
          1,
          2,
          1,
          1,
          2,
          0,
          0
         ]
        },
        {
         "marker": {
          "size": 8
         },
         "mode": "markers",
         "name": "1999",
         "opacity": 0.7,
         "type": "scatter",
         "x": [
          36,
          19,
          26,
          13,
          22,
          19,
          14,
          34,
          21,
          36,
          38,
          9,
          36,
          38,
          33,
          30,
          16,
          32,
          38,
          33,
          32,
          40,
          32,
          52,
          25,
          23,
          42,
          8,
          18
         ],
         "y": [
          0,
          0,
          0,
          0,
          0,
          0,
          0,
          0,
          0,
          0,
          0,
          0,
          0,
          0,
          0,
          0,
          0,
          0,
          0,
          0,
          0,
          0,
          0,
          0,
          0,
          0,
          0,
          0,
          0
         ]
        },
        {
         "marker": {
          "size": 8
         },
         "mode": "markers",
         "name": "1998",
         "opacity": 0.7,
         "type": "scatter",
         "x": [
          55,
          36,
          56,
          77,
          52,
          20,
          11,
          37,
          19,
          46,
          63,
          17,
          66,
          60,
          36,
          50,
          48,
          48,
          41,
          31,
          61,
          51,
          27,
          61,
          66,
          16,
          67,
          19,
          42
         ],
         "y": [
          2,
          1,
          1,
          1,
          1,
          0,
          0,
          1,
          0,
          0,
          2,
          0,
          4,
          1,
          0,
          1,
          1,
          0,
          1,
          0,
          1,
          0,
          1,
          2,
          2,
          0,
          1,
          0,
          0
         ]
        },
        {
         "marker": {
          "size": 8
         },
         "mode": "markers",
         "name": "1997",
         "opacity": 0.7,
         "type": "scatter",
         "x": [
          61,
          15,
          59,
          84,
          42,
          24,
          21,
          59,
          30,
          62,
          39,
          41,
          61,
          66,
          33,
          45,
          26,
          62,
          50,
          22,
          45,
          54,
          34,
          20,
          62,
          30,
          69,
          14,
          49
         ],
         "y": [
          2,
          0,
          1,
          2,
          1,
          0,
          0,
          2,
          1,
          3,
          0,
          0,
          2,
          2,
          1,
          2,
          1,
          1,
          1,
          0,
          0,
          0,
          1,
          0,
          3,
          0,
          2,
          0,
          1
         ]
        },
        {
         "marker": {
          "size": 8
         },
         "mode": "markers",
         "name": "1996",
         "opacity": 0.7,
         "type": "scatter",
         "x": [
          51,
          33,
          41,
          87,
          52,
          26,
          35,
          51,
          36,
          53,
          57,
          29,
          58,
          47,
          25,
          26,
          30,
          52,
          65,
          18,
          46,
          49,
          44,
          64,
          69,
          21,
          60,
          15,
          39
         ],
         "y": [
          0,
          0,
          1,
          2,
          1,
          1,
          1,
          1,
          0,
          2,
          1,
          0,
          0,
          1,
          1,
          0,
          0,
          1,
          2,
          0,
          1,
          0,
          1,
          2,
          2,
          0,
          2,
          0,
          1
         ]
        },
        {
         "marker": {
          "size": 8
         },
         "mode": "markers",
         "name": "1995",
         "opacity": 0.7,
         "type": "scatter",
         "x": [
          47,
          40,
          55,
          52,
          48,
          36,
          46,
          28,
          26,
          62,
          57,
          17,
          53,
          32,
          34,
          21,
          30,
          60,
          62,
          24,
          64,
          49,
          39,
          67,
          62,
          65,
          21
         ],
         "y": [
          0,
          0,
          2,
          1,
          1,
          0,
          1,
          2,
          1,
          1,
          1,
          0,
          1,
          0,
          1,
          0,
          0,
          1,
          2,
          1,
          2,
          0,
          1,
          1,
          3,
          2,
          0
         ]
        },
        {
         "marker": {
          "size": 8
         },
         "mode": "markers",
         "name": "1994",
         "opacity": 0.7,
         "type": "scatter",
         "x": [
          62,
          32,
          41,
          60,
          52,
          13,
          47,
          20,
          55,
          73,
          52,
          27,
          33,
          47,
          20,
          20,
          50,
          62,
          55,
          25,
          61,
          52,
          28,
          60,
          68,
          58,
          24
         ],
         "y": [
          2,
          0,
          1,
          3,
          1,
          0,
          0,
          0,
          1,
          1,
          0,
          1,
          0,
          0,
          0,
          0,
          2,
          3,
          1,
          0,
          2,
          2,
          1,
          1,
          2,
          2,
          0
         ]
        },
        {
         "marker": {
          "size": 8
         },
         "mode": "markers",
         "name": "1993",
         "opacity": 0.7,
         "type": "scatter",
         "x": [
          48,
          53,
          49,
          72,
          59,
          11,
          36,
          40,
          34,
          60,
          46,
          46,
          44,
          36,
          28,
          19,
          48,
          65,
          41,
          26,
          67,
          56,
          25,
          54,
          60,
          52,
          22
         ],
         "y": [
          1,
          0,
          1,
          2,
          3,
          0,
          0,
          2,
          2,
          1,
          1,
          1,
          0,
          0,
          0,
          0,
          0,
          1,
          1,
          0,
          2,
          2,
          1,
          2,
          1,
          2,
          0
         ]
        },
        {
         "marker": {
          "size": 8
         },
         "mode": "markers",
         "name": "1992",
         "opacity": 0.7,
         "type": "scatter",
         "x": [
          38,
          56,
          31,
          82,
          62,
          22,
          24,
          53,
          60,
          42,
          45,
          50,
          48,
          43,
          31,
          15,
          45,
          56,
          21,
          35,
          58,
          62,
          29,
          52,
          52,
          60,
          25
         ],
         "y": [
          2,
          2,
          0,
          2,
          2,
          0,
          1,
          3,
          2,
          2,
          0,
          0,
          1,
          0,
          0,
          0,
          0,
          1,
          0,
          1,
          3,
          1,
          0,
          1,
          0,
          2,
          1
         ]
        },
        {
         "marker": {
          "size": 8
         },
         "mode": "markers",
         "name": "1991",
         "opacity": 0.7,
         "type": "scatter",
         "x": [
          48,
          61,
          26,
          76,
          33,
          28,
          20,
          55,
          49,
          57,
          46,
          31,
          63,
          24,
          53,
          29,
          26,
          44,
          31,
          49,
          60,
          68,
          25,
          60,
          46,
          59,
          30
         ],
         "y": [
          1,
          3,
          0,
          1,
          1,
          0,
          0,
          2,
          2,
          0,
          0,
          0,
          2,
          0,
          1,
          0,
          0,
          1,
          0,
          2,
          2,
          3,
          0,
          1,
          1,
          2,
          1
         ]
        },
        {
         "marker": {
          "size": 8
         },
         "mode": "markers",
         "name": "1990",
         "opacity": 0.7,
         "type": "scatter",
         "x": [
          41,
          57,
          19,
          60,
          47,
          52,
          48,
          74,
          37,
          46,
          47,
          30,
          68,
          18,
          49,
          22,
          17,
          50,
          18,
          58,
          59,
          64,
          23,
          61,
          41,
          60,
          31
         ],
         "y": [
          1,
          3,
          0,
          2,
          0,
          1,
          1,
          3,
          1,
          1,
          1,
          0,
          3,
          0,
          0,
          0,
          0,
          1,
          0,
          1,
          2,
          1,
          0,
          1,
          0,
          2,
          0
         ]
        },
        {
         "marker": {
          "size": 8
         },
         "mode": "markers",
         "name": "1989",
         "opacity": 0.7,
         "type": "scatter",
         "x": [
          57,
          47,
          20,
          52,
          62,
          38,
          49,
          78,
          48,
          50,
          28,
          21,
          62,
          15,
          54,
          26,
          57,
          51,
          60,
          44,
          27,
          21,
          52,
          56,
          40
         ],
         "y": [
          2,
          1,
          0,
          1,
          3,
          0,
          1,
          1,
          1,
          1,
          0,
          0,
          3,
          0,
          1,
          0,
          2,
          1,
          1,
          2,
          0,
          0,
          1,
          3,
          0
         ]
        },
        {
         "marker": {
          "size": 8
         },
         "mode": "markers",
         "name": "1988",
         "opacity": 0.7,
         "type": "scatter",
         "x": [
          55,
          62,
          55,
          47,
          58,
          59,
          59,
          20,
          51,
          38,
          17,
          77,
          47,
          19,
          43,
          36,
          28,
          58,
          24,
          36,
          49,
          52,
          43
         ],
         "y": [
          2,
          3,
          1,
          1,
          2,
          2,
          1,
          0,
          1,
          0,
          0,
          3,
          0,
          0,
          1,
          2,
          0,
          2,
          0,
          1,
          1,
          1,
          1
         ]
        },
        {
         "marker": {
          "size": 8
         },
         "mode": "markers",
         "name": "1987",
         "opacity": 0.7,
         "type": "scatter",
         "x": [
          62,
          64,
          45,
          31,
          60,
          42,
          57,
          47,
          47,
          46,
          12,
          80,
          55,
          24,
          24,
          50,
          36,
          54,
          29,
          28,
          44,
          49,
          47
         ],
         "y": [
          1,
          3,
          1,
          0,
          2,
          1,
          2,
          2,
          2,
          0,
          0,
          3,
          0,
          0,
          0,
          3,
          1,
          0,
          0,
          1,
          1,
          0,
          2
         ]
        },
        {
         "marker": {
          "size": 8
         },
         "mode": "markers",
         "name": "1986",
         "opacity": 0.7,
         "type": "scatter",
         "x": [
          55,
          82,
          35,
          29,
          49,
          52,
          51,
          30,
          56,
          26,
          32,
          67,
          62,
          44,
          23,
          59,
          32,
          45,
          42,
          40,
          31,
          47,
          44
         ],
         "y": [
          1,
          3,
          1,
          0,
          1,
          1,
          1,
          0,
          2,
          0,
          1,
          3,
          1,
          1,
          1,
          3,
          0,
          1,
          0,
          2,
          0,
          1,
          1
         ]
        },
        {
         "marker": {
          "size": 8
         },
         "mode": "markers",
         "name": "1985",
         "opacity": 0.7,
         "type": "scatter",
         "x": [
          34,
          68,
          43,
          41,
          49,
          57,
          51,
          22,
          53,
          22,
          31,
          31,
          77,
          64,
          47,
          24,
          63,
          41,
          47,
          46,
          31,
          46,
          45
         ],
         "y": [
          0,
          3,
          1,
          0,
          1,
          2,
          2,
          0,
          2,
          0,
          0,
          1,
          2,
          2,
          1,
          1,
          2,
          1,
          0,
          1,
          1,
          1,
          1
         ]
        },
        {
         "marker": {
          "size": 8
         },
         "mode": "markers",
         "name": "1984",
         "opacity": 0.7,
         "type": "scatter",
         "x": [
          45,
          77,
          27,
          28,
          48,
          43,
          54,
          37,
          29,
          26,
          43,
          59,
          55,
          50,
          52,
          57,
          46,
          53,
          37,
          30,
          47,
          50,
          40
         ],
         "y": [
          0,
          3,
          0,
          0,
          1,
          2,
          3,
          0,
          1,
          0,
          0,
          2,
          1,
          1,
          1,
          3,
          1,
          1,
          1,
          0,
          1,
          2,
          1
         ]
        },
        {
         "marker": {
          "size": 8
         },
         "mode": "markers",
         "name": "1983",
         "opacity": 0.7,
         "type": "scatter",
         "x": [
          48,
          61,
          28,
          23,
          38,
          50,
          37,
          30,
          14,
          20,
          45,
          63,
          56,
          54,
          49,
          80,
          58,
          51,
          58,
          25,
          53,
          30,
          42
         ],
         "y": [
          0,
          2,
          1,
          0,
          0,
          2,
          2,
          0,
          0,
          0,
          0,
          3,
          2,
          1,
          0,
          4,
          1,
          1,
          2,
          0,
          3,
          0,
          0
         ]
        },
        {
         "marker": {
          "size": 8
         },
         "mode": "markers",
         "name": "1982",
         "opacity": 0.7,
         "type": "scatter",
         "x": [
          47,
          68,
          34,
          15,
          28,
          51,
          39,
          45,
          51,
          35,
          30,
          72,
          60,
          49,
          33,
          63,
          51,
          42,
          53,
          17,
          57,
          25,
          48
         ],
         "y": [
          1,
          3,
          1,
          0,
          0,
          1,
          2,
          1,
          1,
          0,
          0,
          3,
          2,
          1,
          1,
          2,
          1,
          0,
          1,
          0,
          3,
          1,
          0
         ]
        },
        {
         "marker": {
          "size": 8
         },
         "mode": "markers",
         "name": "1981",
         "opacity": 0.7,
         "type": "scatter",
         "x": [
          31,
          77,
          50,
          28,
          15,
          37,
          21,
          39,
          45,
          49,
          45,
          59,
          65,
          24,
          55,
          67,
          62,
          50,
          57,
          36,
          34,
          28,
          39
         ],
         "y": [
          2,
          3,
          2,
          1,
          0,
          0,
          0,
          0,
          1,
          0,
          1,
          2,
          1,
          0,
          1,
          2,
          3,
          0,
          1,
          0,
          2,
          1,
          0
         ]
        },
        {
         "marker": {
          "size": 8
         },
         "mode": "markers",
         "name": "1980",
         "opacity": 0.7,
         "type": "scatter",
         "x": [
          55,
          66,
          30,
          37,
          30,
          16,
          24,
          46,
          37,
          52,
          75,
          54,
          34,
          39,
          64,
          60,
          43,
          46,
          35,
          61,
          24,
          44
         ],
         "y": [
          3,
          3,
          0,
          0,
          0,
          0,
          0,
          1,
          0,
          2,
          2,
          1,
          0,
          2,
          1,
          2,
          1,
          1,
          1,
          2,
          1,
          1
         ]
        },
        {
         "marker": {
          "size": 8
         },
         "mode": "markers",
         "name": "1979",
         "opacity": 0.7,
         "type": "scatter",
         "x": [
          51,
          29,
          31,
          30,
          52,
          30,
          38,
          52,
          38,
          53,
          52,
          38,
          42,
          26,
          31,
          52,
          55,
          50,
          53,
          43,
          67,
          59
         ],
         "y": [
          0,
          0,
          1,
          1,
          2,
          1,
          0,
          3,
          0,
          1,
          1,
          1,
          0,
          1,
          0,
          2,
          2,
          1,
          2,
          0,
          2,
          2
         ]
        },
        {
         "marker": {
          "size": 8
         },
         "mode": "markers",
         "name": "1978",
         "opacity": 0.7,
         "type": "scatter",
         "x": [
          46,
          32,
          27,
          40,
          48,
          53,
          38,
          43,
          28,
          31,
          31,
          50,
          49,
          24,
          39,
          48,
          60,
          54,
          63,
          57,
          52,
          59
         ],
         "y": [
          0,
          2,
          2,
          1,
          0,
          2,
          1,
          1,
          1,
          0,
          0,
          0,
          1,
          0,
          2,
          1,
          2,
          2,
          3,
          2,
          0,
          1
         ]
        },
        {
         "marker": {
          "size": 8
         },
         "mode": "markers",
         "name": "1977",
         "opacity": 0.7,
         "type": "scatter",
         "x": [
          31,
          49,
          30,
          49,
          48,
          55,
          49,
          51,
          54,
          36,
          40,
          58,
          30,
          35,
          40,
          22,
          55,
          34,
          64,
          49,
          40,
          53
         ],
         "y": [
          0,
          3,
          0,
          1,
          0,
          3,
          1,
          2,
          1,
          2,
          0,
          1,
          0,
          1,
          2,
          0,
          3,
          1,
          2,
          1,
          0,
          2
         ]
        },
        {
         "marker": {
          "size": 8
         },
         "mode": "markers",
         "name": "1976",
         "opacity": 0.7,
         "type": "scatter",
         "x": [
          29,
          69,
          51,
          24,
          54,
          41,
          64,
          40,
          31,
          40,
          43,
          38,
          38,
          51,
          47,
          37,
          48,
          53
         ],
         "y": [
          1,
          3,
          2,
          1,
          0,
          1,
          3,
          1,
          2,
          1,
          2,
          0,
          1,
          2,
          1,
          0,
          1,
          2
         ]
        },
        {
         "marker": {
          "size": 8
         },
         "mode": "markers",
         "name": "1975",
         "opacity": 0.7,
         "type": "scatter",
         "x": [
          31,
          65,
          54,
          52,
          40,
          45,
          63,
          46,
          49,
          30,
          38,
          23,
          45,
          34,
          32,
          38,
          48,
          65
         ],
         "y": [
          0,
          4,
          1,
          0,
          0,
          2,
          1,
          1,
          2,
          1,
          3,
          0,
          2,
          1,
          1,
          1,
          1,
          3
         ]
        }
       ],
       "layout": {
        "legend": {
         "title": {
          "text": "Season"
         }
        },
        "scattermode": "group",
        "template": {
         "data": {
          "bar": [
           {
            "error_x": {
             "color": "#2a3f5f"
            },
            "error_y": {
             "color": "#2a3f5f"
            },
            "marker": {
             "line": {
              "color": "#E5ECF6",
              "width": 0.5
             },
             "pattern": {
              "fillmode": "overlay",
              "size": 10,
              "solidity": 0.2
             }
            },
            "type": "bar"
           }
          ],
          "barpolar": [
           {
            "marker": {
             "line": {
              "color": "#E5ECF6",
              "width": 0.5
             },
             "pattern": {
              "fillmode": "overlay",
              "size": 10,
              "solidity": 0.2
             }
            },
            "type": "barpolar"
           }
          ],
          "carpet": [
           {
            "aaxis": {
             "endlinecolor": "#2a3f5f",
             "gridcolor": "white",
             "linecolor": "white",
             "minorgridcolor": "white",
             "startlinecolor": "#2a3f5f"
            },
            "baxis": {
             "endlinecolor": "#2a3f5f",
             "gridcolor": "white",
             "linecolor": "white",
             "minorgridcolor": "white",
             "startlinecolor": "#2a3f5f"
            },
            "type": "carpet"
           }
          ],
          "choropleth": [
           {
            "colorbar": {
             "outlinewidth": 0,
             "ticks": ""
            },
            "type": "choropleth"
           }
          ],
          "contour": [
           {
            "colorbar": {
             "outlinewidth": 0,
             "ticks": ""
            },
            "colorscale": [
             [
              0,
              "#0d0887"
             ],
             [
              0.1111111111111111,
              "#46039f"
             ],
             [
              0.2222222222222222,
              "#7201a8"
             ],
             [
              0.3333333333333333,
              "#9c179e"
             ],
             [
              0.4444444444444444,
              "#bd3786"
             ],
             [
              0.5555555555555556,
              "#d8576b"
             ],
             [
              0.6666666666666666,
              "#ed7953"
             ],
             [
              0.7777777777777778,
              "#fb9f3a"
             ],
             [
              0.8888888888888888,
              "#fdca26"
             ],
             [
              1,
              "#f0f921"
             ]
            ],
            "type": "contour"
           }
          ],
          "contourcarpet": [
           {
            "colorbar": {
             "outlinewidth": 0,
             "ticks": ""
            },
            "type": "contourcarpet"
           }
          ],
          "heatmap": [
           {
            "colorbar": {
             "outlinewidth": 0,
             "ticks": ""
            },
            "colorscale": [
             [
              0,
              "#0d0887"
             ],
             [
              0.1111111111111111,
              "#46039f"
             ],
             [
              0.2222222222222222,
              "#7201a8"
             ],
             [
              0.3333333333333333,
              "#9c179e"
             ],
             [
              0.4444444444444444,
              "#bd3786"
             ],
             [
              0.5555555555555556,
              "#d8576b"
             ],
             [
              0.6666666666666666,
              "#ed7953"
             ],
             [
              0.7777777777777778,
              "#fb9f3a"
             ],
             [
              0.8888888888888888,
              "#fdca26"
             ],
             [
              1,
              "#f0f921"
             ]
            ],
            "type": "heatmap"
           }
          ],
          "heatmapgl": [
           {
            "colorbar": {
             "outlinewidth": 0,
             "ticks": ""
            },
            "colorscale": [
             [
              0,
              "#0d0887"
             ],
             [
              0.1111111111111111,
              "#46039f"
             ],
             [
              0.2222222222222222,
              "#7201a8"
             ],
             [
              0.3333333333333333,
              "#9c179e"
             ],
             [
              0.4444444444444444,
              "#bd3786"
             ],
             [
              0.5555555555555556,
              "#d8576b"
             ],
             [
              0.6666666666666666,
              "#ed7953"
             ],
             [
              0.7777777777777778,
              "#fb9f3a"
             ],
             [
              0.8888888888888888,
              "#fdca26"
             ],
             [
              1,
              "#f0f921"
             ]
            ],
            "type": "heatmapgl"
           }
          ],
          "histogram": [
           {
            "marker": {
             "pattern": {
              "fillmode": "overlay",
              "size": 10,
              "solidity": 0.2
             }
            },
            "type": "histogram"
           }
          ],
          "histogram2d": [
           {
            "colorbar": {
             "outlinewidth": 0,
             "ticks": ""
            },
            "colorscale": [
             [
              0,
              "#0d0887"
             ],
             [
              0.1111111111111111,
              "#46039f"
             ],
             [
              0.2222222222222222,
              "#7201a8"
             ],
             [
              0.3333333333333333,
              "#9c179e"
             ],
             [
              0.4444444444444444,
              "#bd3786"
             ],
             [
              0.5555555555555556,
              "#d8576b"
             ],
             [
              0.6666666666666666,
              "#ed7953"
             ],
             [
              0.7777777777777778,
              "#fb9f3a"
             ],
             [
              0.8888888888888888,
              "#fdca26"
             ],
             [
              1,
              "#f0f921"
             ]
            ],
            "type": "histogram2d"
           }
          ],
          "histogram2dcontour": [
           {
            "colorbar": {
             "outlinewidth": 0,
             "ticks": ""
            },
            "colorscale": [
             [
              0,
              "#0d0887"
             ],
             [
              0.1111111111111111,
              "#46039f"
             ],
             [
              0.2222222222222222,
              "#7201a8"
             ],
             [
              0.3333333333333333,
              "#9c179e"
             ],
             [
              0.4444444444444444,
              "#bd3786"
             ],
             [
              0.5555555555555556,
              "#d8576b"
             ],
             [
              0.6666666666666666,
              "#ed7953"
             ],
             [
              0.7777777777777778,
              "#fb9f3a"
             ],
             [
              0.8888888888888888,
              "#fdca26"
             ],
             [
              1,
              "#f0f921"
             ]
            ],
            "type": "histogram2dcontour"
           }
          ],
          "mesh3d": [
           {
            "colorbar": {
             "outlinewidth": 0,
             "ticks": ""
            },
            "type": "mesh3d"
           }
          ],
          "parcoords": [
           {
            "line": {
             "colorbar": {
              "outlinewidth": 0,
              "ticks": ""
             }
            },
            "type": "parcoords"
           }
          ],
          "pie": [
           {
            "automargin": true,
            "type": "pie"
           }
          ],
          "scatter": [
           {
            "fillpattern": {
             "fillmode": "overlay",
             "size": 10,
             "solidity": 0.2
            },
            "type": "scatter"
           }
          ],
          "scatter3d": [
           {
            "line": {
             "colorbar": {
              "outlinewidth": 0,
              "ticks": ""
             }
            },
            "marker": {
             "colorbar": {
              "outlinewidth": 0,
              "ticks": ""
             }
            },
            "type": "scatter3d"
           }
          ],
          "scattercarpet": [
           {
            "marker": {
             "colorbar": {
              "outlinewidth": 0,
              "ticks": ""
             }
            },
            "type": "scattercarpet"
           }
          ],
          "scattergeo": [
           {
            "marker": {
             "colorbar": {
              "outlinewidth": 0,
              "ticks": ""
             }
            },
            "type": "scattergeo"
           }
          ],
          "scattergl": [
           {
            "marker": {
             "colorbar": {
              "outlinewidth": 0,
              "ticks": ""
             }
            },
            "type": "scattergl"
           }
          ],
          "scattermapbox": [
           {
            "marker": {
             "colorbar": {
              "outlinewidth": 0,
              "ticks": ""
             }
            },
            "type": "scattermapbox"
           }
          ],
          "scatterpolar": [
           {
            "marker": {
             "colorbar": {
              "outlinewidth": 0,
              "ticks": ""
             }
            },
            "type": "scatterpolar"
           }
          ],
          "scatterpolargl": [
           {
            "marker": {
             "colorbar": {
              "outlinewidth": 0,
              "ticks": ""
             }
            },
            "type": "scatterpolargl"
           }
          ],
          "scatterternary": [
           {
            "marker": {
             "colorbar": {
              "outlinewidth": 0,
              "ticks": ""
             }
            },
            "type": "scatterternary"
           }
          ],
          "surface": [
           {
            "colorbar": {
             "outlinewidth": 0,
             "ticks": ""
            },
            "colorscale": [
             [
              0,
              "#0d0887"
             ],
             [
              0.1111111111111111,
              "#46039f"
             ],
             [
              0.2222222222222222,
              "#7201a8"
             ],
             [
              0.3333333333333333,
              "#9c179e"
             ],
             [
              0.4444444444444444,
              "#bd3786"
             ],
             [
              0.5555555555555556,
              "#d8576b"
             ],
             [
              0.6666666666666666,
              "#ed7953"
             ],
             [
              0.7777777777777778,
              "#fb9f3a"
             ],
             [
              0.8888888888888888,
              "#fdca26"
             ],
             [
              1,
              "#f0f921"
             ]
            ],
            "type": "surface"
           }
          ],
          "table": [
           {
            "cells": {
             "fill": {
              "color": "#EBF0F8"
             },
             "line": {
              "color": "white"
             }
            },
            "header": {
             "fill": {
              "color": "#C8D4E3"
             },
             "line": {
              "color": "white"
             }
            },
            "type": "table"
           }
          ]
         },
         "layout": {
          "annotationdefaults": {
           "arrowcolor": "#2a3f5f",
           "arrowhead": 0,
           "arrowwidth": 1
          },
          "autotypenumbers": "strict",
          "coloraxis": {
           "colorbar": {
            "outlinewidth": 0,
            "ticks": ""
           }
          },
          "colorscale": {
           "diverging": [
            [
             0,
             "#8e0152"
            ],
            [
             0.1,
             "#c51b7d"
            ],
            [
             0.2,
             "#de77ae"
            ],
            [
             0.3,
             "#f1b6da"
            ],
            [
             0.4,
             "#fde0ef"
            ],
            [
             0.5,
             "#f7f7f7"
            ],
            [
             0.6,
             "#e6f5d0"
            ],
            [
             0.7,
             "#b8e186"
            ],
            [
             0.8,
             "#7fbc41"
            ],
            [
             0.9,
             "#4d9221"
            ],
            [
             1,
             "#276419"
            ]
           ],
           "sequential": [
            [
             0,
             "#0d0887"
            ],
            [
             0.1111111111111111,
             "#46039f"
            ],
            [
             0.2222222222222222,
             "#7201a8"
            ],
            [
             0.3333333333333333,
             "#9c179e"
            ],
            [
             0.4444444444444444,
             "#bd3786"
            ],
            [
             0.5555555555555556,
             "#d8576b"
            ],
            [
             0.6666666666666666,
             "#ed7953"
            ],
            [
             0.7777777777777778,
             "#fb9f3a"
            ],
            [
             0.8888888888888888,
             "#fdca26"
            ],
            [
             1,
             "#f0f921"
            ]
           ],
           "sequentialminus": [
            [
             0,
             "#0d0887"
            ],
            [
             0.1111111111111111,
             "#46039f"
            ],
            [
             0.2222222222222222,
             "#7201a8"
            ],
            [
             0.3333333333333333,
             "#9c179e"
            ],
            [
             0.4444444444444444,
             "#bd3786"
            ],
            [
             0.5555555555555556,
             "#d8576b"
            ],
            [
             0.6666666666666666,
             "#ed7953"
            ],
            [
             0.7777777777777778,
             "#fb9f3a"
            ],
            [
             0.8888888888888888,
             "#fdca26"
            ],
            [
             1,
             "#f0f921"
            ]
           ]
          },
          "colorway": [
           "#636efa",
           "#EF553B",
           "#00cc96",
           "#ab63fa",
           "#FFA15A",
           "#19d3f3",
           "#FF6692",
           "#B6E880",
           "#FF97FF",
           "#FECB52"
          ],
          "font": {
           "color": "#2a3f5f"
          },
          "geo": {
           "bgcolor": "white",
           "lakecolor": "white",
           "landcolor": "#E5ECF6",
           "showlakes": true,
           "showland": true,
           "subunitcolor": "white"
          },
          "hoverlabel": {
           "align": "left"
          },
          "hovermode": "closest",
          "mapbox": {
           "style": "light"
          },
          "paper_bgcolor": "white",
          "plot_bgcolor": "#E5ECF6",
          "polar": {
           "angularaxis": {
            "gridcolor": "white",
            "linecolor": "white",
            "ticks": ""
           },
           "bgcolor": "#E5ECF6",
           "radialaxis": {
            "gridcolor": "white",
            "linecolor": "white",
            "ticks": ""
           }
          },
          "scene": {
           "xaxis": {
            "backgroundcolor": "#E5ECF6",
            "gridcolor": "white",
            "gridwidth": 2,
            "linecolor": "white",
            "showbackground": true,
            "ticks": "",
            "zerolinecolor": "white"
           },
           "yaxis": {
            "backgroundcolor": "#E5ECF6",
            "gridcolor": "white",
            "gridwidth": 2,
            "linecolor": "white",
            "showbackground": true,
            "ticks": "",
            "zerolinecolor": "white"
           },
           "zaxis": {
            "backgroundcolor": "#E5ECF6",
            "gridcolor": "white",
            "gridwidth": 2,
            "linecolor": "white",
            "showbackground": true,
            "ticks": "",
            "zerolinecolor": "white"
           }
          },
          "shapedefaults": {
           "line": {
            "color": "#2a3f5f"
           }
          },
          "ternary": {
           "aaxis": {
            "gridcolor": "white",
            "linecolor": "white",
            "ticks": ""
           },
           "baxis": {
            "gridcolor": "white",
            "linecolor": "white",
            "ticks": ""
           },
           "bgcolor": "#E5ECF6",
           "caxis": {
            "gridcolor": "white",
            "linecolor": "white",
            "ticks": ""
           }
          },
          "title": {
           "x": 0.05
          },
          "xaxis": {
           "automargin": true,
           "gridcolor": "white",
           "linecolor": "white",
           "ticks": "",
           "title": {
            "standoff": 15
           },
           "zerolinecolor": "white",
           "zerolinewidth": 2
          },
          "yaxis": {
           "automargin": true,
           "gridcolor": "white",
           "linecolor": "white",
           "ticks": "",
           "title": {
            "standoff": 15
           },
           "zerolinecolor": "white",
           "zerolinewidth": 2
          }
         }
        },
        "title": {
         "text": "Season Success VS All-Star Counts"
        },
        "xaxis": {
         "range": [
          0,
          90
         ],
         "title": {
          "text": "Season Success Score"
         }
        },
        "yaxis": {
         "range": [
          -0.4,
          4.4
         ],
         "title": {
          "text": "# All-Stars"
         }
        }
       }
      }
     },
     "metadata": {},
     "output_type": "display_data"
    }
   ],
   "source": [
    "fig = go.Figure()\n",
    "for season in range(2025, 1974, -1):\n",
    "    curr_szn_success = get_season_success(team_stats, nba_champions, season)\n",
    "    curr_all_star_count = get_team_all_stars(all_stars, player_stats, team_stats, season)\n",
    "    fig.add_trace(go.Scatter(x=curr_szn_success.values, y=curr_all_star_count.values, \n",
    "                             mode=\"markers\", name=season, opacity=.7))\n",
    "fig.update_traces(marker_size=8)\n",
    "fig.update_layout(title=\"Season Success VS All-Star Counts\", xaxis_title=\"Season Success Score\",\n",
    "                  yaxis_title=\"# All-Stars\", legend_title=\"Season\", scattermode=\"group\")\n",
    "fig.update_yaxes(range=[-0.4, 4.4])\n",
    "fig.update_xaxes(range=[0, 90])\n",
    "fig.show()"
   ]
  },
  {
   "cell_type": "markdown",
   "id": "ce361e73-cd40-4440-a5a4-8127dacc6aca",
   "metadata": {},
   "source": [
    "#### As shown in the graph, there is a fairly clear trend between the number of All-Stars a team has versus team success in a season. But there is still some clarification needed.\n",
    "\n",
    "### Part 3: Answer\n",
    "\n",
    "The question specifically asks if teams ***need*** an All-Star in order to be successful. This isn't necessarily true in all cases. An example being the Denver Nuggets in 2013, where the team found themselves at a season score of 63 without a single All-Star. This score was even higher than the 2011 Boston Celtics, which had 4 All-Stars on their team and success score of just 61. However, it is clear that the addition of just a single All-Star is enough to push your season score up nearly 10 points, and increase the max by around 16. So, do teams *need* an All-Star to find success? *No*, but it without a doubt increases the odds of finding success, with the most successful teams of all time having 2 All-Star players on their roster. This means that, if you see a team that has an All-Star, it's reasonable to expect more success from them compared to a team that lacks one.\n",
    "\n",
    "#### This concludes Research Question #3! \n",
    "#### As a quick summary, here's what we learned through ALL research questions:\n",
    "* **Question 1**: What are the prominent statistics of an All-Star?\n",
    "  * The six prominent statistics for an All-Star in the 2025 season are:\n",
    "    1. **Free-Throw Attempts Per Game**\n",
    "    2. **Points Per Game**\n",
    "    3. **Field Goals Per Game**\n",
    "    4. **Field Goal Attempts Per Game**\n",
    "    5. **Win Shares**\n",
    "    6. **Two-Pointers Attempted Per Game**\n",
    "  * And the six prominent statistics throughout all the seasons are:\n",
    "    1. **Win Shares**\n",
    "    2. **Field Goals Per Game**\n",
    "    3. **Points Per Game**\n",
    "    4. **Offensive Win Shares**\n",
    "    5. **Free-Throws Per Game**\n",
    "    6. Tie between: **PER (Player Efficiency Rating)** and **Field Goal Attempts Per Game**\n",
    "* **Question 2**: How do prominent statistics transfer to team success?\n",
    "  * While not all prominent stats directly transfer to team success, there is a general trend where the better a team is at the six prominent statistics, the higher chance they find success in the season.\n",
    "  * This means that individual statistics do impact the game at a team-level as well!\n",
    "* **Question 3**:  Do teams *need* All-Stars in order to find season success?\n",
    "  * The short answer is **no**, teams do not *need* an All-Star in order to find success.\n",
    "  * However, teams that do have an All-Star have a higher chance of being exceptionally good, and are more likely to find success than a team without an All-Star\n",
    "  * More specifically, 2 All-Stars is the amount that the most successful teams had, with 4 having the highest floor for success.\n",
    "\n",
    "#### That Concludes the Results!"
   ]
  },
  {
   "attachments": {},
   "cell_type": "markdown",
   "id": "531b1f17-0028-45e3-a31b-954664ea1d00",
   "metadata": {},
   "source": [
    "## Implications and Limitations\n",
    "\n",
    "I am really proud of this study from a statistical analysis standpoint and a passion standpoint, I have been watching the NBA for a long, long time and to complete this project took a lot of time, but was a lot of fun the entire way. However, there is still more to discuss!\n",
    "\n",
    "This project contains real statistics that are associated with real players that are still playing today. With that, this study can have some affect on real-world opinions, but there are some factors that need to be considered, lets get started with the impact and implications that this study provides!"
   ]
  },
  {
   "cell_type": "markdown",
   "id": "05b43ef7-1deb-4522-b759-6f01725edcc6",
   "metadata": {},
   "source": [
    "### Implications\n",
    "\n",
    "When looking at this study, there are a few conclusions that have pretty big implications, and ones that can impact many different individuals in both good and bad ways, to start, let's go through the people that may benefit from my analysis and why they would benefit.\n",
    "\n",
    "#### The Winners\n",
    "1. Fans of the NBA (Both Casual and Non-Casual)\n",
    "   * The way that fans could benefit from this analysis is balanced for both the casual and non-casual fan.\n",
    "   * A casual fan could see the six prominent statistics that I have found for players either in this season or all seasons and use these statistics in order to determine who they vote for in the All-Star game in their current season.\n",
    "   * Since a casual fan probably hasn't seen every player and hasn't seen every game and/or highlight, checking the stat sheets and finding players with high points-per-game, high shots made, and high win shares would be good for giving them an impression on which players in the league are performing best.\n",
    "   * For a non-casual fan, one who watches a lot of games and follows the league, they would be able to use their own knowledge in alignment with this study in order to figure out what players they want to vote for in the All-Star game, but they could even go further and use my later research questions to determine if there are teams that they should either bet on, make predictions on, or even root for in an upcoming season.\n",
    "   * The problem with this is that now, a non-casual fan could be risking money based on this study, which could be a problem as I'll explain in the limitations section.\n",
    "2. Media personnel in the NBA\n",
    "   * There have been many times where members of the media for the NBA have been scrutinized for either having bad takes, bias, or incorrect facts. This study could help with this issue, by giving media members a decent basis for judging if a player is good or not.\n",
    "   * An example could be, when it is coming time for media members to vote for the All-Star game, they could use prominent statistics joined with their own eye-test and biases in order to vote for what they think the best 24 players are in a season.\n",
    "   * This could also be beneficial for them because if, say, they got scrutiny for their votes or their picks, they could back it up with actual statistics and research provided by this study.\n",
    "3. NBA players and coaches\n",
    "   * To be very clear, I don't think that NBA players should try to focus only on that stats that are shown as prominent statistics. This would lead to a lot of individual play in teams and would probably hinder success more than anything.\n",
    "   * I believe that NBA players and coaches would find value out of the second and third question, as it can give coaches an idea of roles that players should have on their team.\n",
    "   * As an example, a coach could look at my results from the 3rd question and pick two of the best players on their team to fit into the All-Star mold, where they focus on the prominent statistics and improving their areas in that field.\n",
    "   * They could also use the conclusions from the second question in order to figure out what is needed to be focused on as a team, and what specific style they should push in order to perform better\n",
    "   * Plus, as with the last two benefiters, they can use the prominent statistics and the players performing well in them in order to vote for All-Stars in the current season.\n",
    "\n",
    "From this study, there is a decent amount of benefit that several different people can have. However, there is still some harm that this study can bring:\n",
    "\n",
    "#### The Losers\n",
    "1. NBA players and coaches (again)\n",
    "   * The big issue that can come with using this project is, as mentioned above, that players may look at the prominent statistics and focus way too much on individuality in their own game and possibily hinder their team.\n",
    "   * Another issue is that, while it is easy to say \"just improve at these statistics\" there is a whole lot more to it and it isn't as simple as flipping a switch.\n",
    "   * This means that a coach can say that their team should focus on a few statistics, like points per game, win shares, and rating, but it comes down to how well their team plays, and they can't simply say \"score more points\" and expect it to happen.\n",
    "   * Still, I think the benefits outweigh the negatives, but it does depend on how the data is treated by the players and coaches.\n",
    "2. Sports betters\n",
    "   * There are a lot of sports betters out in the world that will use any statistic thrown at them and attempt to make a bet out of it or try to get an advantage against the house, this wouldn't be an exception.\n",
    "   * A sports better may see my study, and look at the questions regarding team success for both All-Stars and prominent statistics, then try to predict which team will perform better, win, or even get the championship based on my data. While there was a clear correlation that came with my data, It isn't a clear 1:1 ratio between team success and prominent statistic rankings/All-Star players.\n",
    "   * If sports betters attempt to use this study in order to make bets, I can't see them winning in the long run or gaining any benefit that they may think they have.\n",
    "\n",
    "In my opinion, the benefits slightly outweigh the negatives, but I feel like the negative impacts could affect an ordinary individual compared to the benefits. Now, let me explain why I think this study shouldn't be completely trusted for judging player performance and team success.\n",
    "\n",
    "### Limitations\n",
    "Now, while all of this study is backed by real statistics and using only data, there are still some flaws that affect the validity and accuracy of my conclusions\n",
    "\n",
    "1. Coincidences in prominent stats\n",
    "   * Occasionally, there were seasons where one of the six prominent stats had to do with a statistic that, when looked at on a team-level, have nothing to do with overall success and simply messed up some of the ranking data. This includes but is not limited to:\n",
    "     * Turnovers Per Game\n",
    "     * Age\n",
    "     * Minutes Played\n",
    "   * These statistics aren't great in discerning if a team is good or not, with one of these (turnovers per game) being a stat that teams *shouldn't* want, but was a prominent statistic for a few seasons.\n",
    "   * These statistics lead to a ranking that is nowhere near correlated to success scores, and lead to slightly skewed data when plotting.\n",
    "   * Overall, though, most of the prominent statistics had relevance to performance, and the plotting showed that properly.\n",
    "2. Potential flaws in Season Score calculation\n",
    "   * I only looked at three different statistics when calculating the success scores of teams in different seasons, and the weighting of certain statistics could have been flawed.\n",
    "   * What this may lead to is inconsistencies in Season Scores, where one team may have done a lot better than their score represents, and a team could have done a lot worse than what their score represents as well.\n",
    "   * These scores also don't factor in playoff wins specifically, which are a big thing. A team that makes the Western Conference Finals could have a case for having a better season than a team that had more regular season wins, but lost in the first round.\n",
    "   * Still, I think my scoring method for seasons was pretty solid, and it worked well enough to show my findings.\n",
    "3. Lack of the eye-test\n",
    "   * As a fan of basketball and as a fan of the NBA, I can say without a doubt that **ONLY** using statistics to determine if a player is good or not is a really, really flawed concept.\n",
    "   * If you are unfamiliar, the eye-test involves judging a player based on how good they seem when watching them play. If a player looks like they're good, then that is their judgment based on the eye-test.\n",
    "   * Since this stat involves no actual gameplay and only statistics, if someone wanted to base their judgment on what makes someone good or bad at basketball on prominent statistics or my analysis, they are forgetting one of the biggest parts of forming an opinion in the NBA. You have to watch the games, and see for yourself the players that are good. There are some amazing players in the league that don't have as good stats as some of the stars.\n",
    "   * My favorite example of this is a player like Tyrese Haliburton this year. Let's take a look at his statistics for this season:"
   ]
  },
  {
   "cell_type": "code",
   "execution_count": 27,
   "id": "a90de983-e344-4e33-b5c0-02938de9f4aa",
   "metadata": {},
   "outputs": [
    {
     "data": {
      "text/plain": [
       "seas_id                    32572.0\n",
       "season                        2025\n",
       "player_id                   4892.0\n",
       "player           Tyrese Haliburton\n",
       "age                           24.0\n",
       "experience                       5\n",
       "tm                             IND\n",
       "g                               73\n",
       "gs                            73.0\n",
       "mp_per_game                   33.6\n",
       "fg_per_game                    6.5\n",
       "fga_per_game                  13.8\n",
       "fg_percent                   0.473\n",
       "x3p_per_game                   3.0\n",
       "x3pa_per_game                  7.7\n",
       "x3p_percent                  0.388\n",
       "x2p_per_game                   3.5\n",
       "x2pa_per_game                  6.1\n",
       "x2p_percent                  0.581\n",
       "e_fg_percent                 0.582\n",
       "ft_per_game                    2.6\n",
       "fta_per_game                   3.0\n",
       "ft_percent                   0.851\n",
       "orb_per_game                   0.6\n",
       "drb_per_game                   3.0\n",
       "trb_per_game                   3.5\n",
       "ast_per_game                   9.2\n",
       "stl_per_game                   1.4\n",
       "blk_per_game                   0.7\n",
       "tov_per_game                   1.6\n",
       "pf_per_game                    1.3\n",
       "pts_per_game                  18.6\n",
       "mp                          2451.0\n",
       "per                           21.8\n",
       "ts_percent                   0.616\n",
       "x3p_ar                       0.559\n",
       "f_tr                         0.221\n",
       "orb_percent                    1.9\n",
       "drb_percent                    9.7\n",
       "trb_percent                    5.9\n",
       "ast_percent                   38.9\n",
       "stl_percent                    2.1\n",
       "blk_percent                    1.8\n",
       "tov_percent                    9.8\n",
       "usg_percent                   21.6\n",
       "ows                            8.1\n",
       "dws                            2.3\n",
       "ws                            10.4\n",
       "ws_48                        0.204\n",
       "obpm                           5.7\n",
       "dbpm                           0.2\n",
       "bpm                            5.8\n",
       "Name: 701, dtype: object"
      ]
     },
     "execution_count": 27,
     "metadata": {},
     "output_type": "execute_result"
    }
   ],
   "source": [
    "tyrese = player_stats[(player_stats[\"player\"] == \"Tyrese Haliburton\")]\n",
    "tyrese = tyrese.loc[701, :]\n",
    "tyrese"
   ]
  },
  {
   "cell_type": "markdown",
   "id": "d5170b32-a250-4dc4-a21e-29f65f1fe188",
   "metadata": {},
   "source": [
    "   * Right now, these are just numbers, but there is a bigger story behind these.\n",
    "   * Tyrese Haliburton was an All-Star this year, but if we compared his stats to the thresholds for this season:"
   ]
  },
  {
   "cell_type": "code",
   "execution_count": 28,
   "id": "452c6456-1230-4d13-976f-9b4e1a1a5302",
   "metadata": {},
   "outputs": [
    {
     "data": {
      "application/vnd.plotly.v1+json": {
       "config": {
        "plotlyServerURL": "https://plot.ly"
       },
       "data": [
        {
         "name": "Tyrese",
         "type": "bar",
         "x": [
          "age",
          "experience",
          "g",
          "gs",
          "mp_per_game",
          "fg_per_game",
          "fga_per_game",
          "fg_percent",
          "x3p_per_game",
          "x3pa_per_game",
          "x3p_percent",
          "x2p_per_game",
          "x2pa_per_game",
          "x2p_percent",
          "e_fg_percent",
          "ft_per_game",
          "fta_per_game",
          "ft_percent",
          "orb_per_game",
          "drb_per_game",
          "trb_per_game",
          "ast_per_game",
          "stl_per_game",
          "blk_per_game",
          "tov_per_game",
          "pf_per_game",
          "pts_per_game",
          "per",
          "ts_percent",
          "x3p_ar",
          "f_tr",
          "orb_percent",
          "drb_percent",
          "trb_percent",
          "ast_percent",
          "stl_percent",
          "blk_percent",
          "tov_percent",
          "usg_percent",
          "ows",
          "dws",
          "ws",
          "ws_48",
          "obpm",
          "dbpm",
          "bpm"
         ],
         "y": [
          24,
          5,
          73,
          73,
          33.6,
          6.5,
          13.8,
          0.473,
          3,
          7.7,
          0.388,
          3.5,
          6.1,
          0.581,
          0.582,
          2.6,
          3,
          0.851,
          0.6,
          3,
          3.5,
          9.2,
          1.4,
          0.7,
          1.6,
          1.3,
          18.6,
          21.8,
          0.616,
          0.559,
          0.221,
          1.9,
          9.7,
          5.9,
          38.9,
          2.1,
          1.8,
          9.8,
          21.6,
          8.1,
          2.3,
          10.4,
          0.204,
          5.7,
          0.2,
          5.8
         ]
        },
        {
         "name": "Top 95%",
         "type": "bar",
         "x": [
          "age",
          "experience",
          "g",
          "gs",
          "mp_per_game",
          "fg_per_game",
          "fga_per_game",
          "fg_percent",
          "x3p_per_game",
          "x3pa_per_game",
          "x3p_percent",
          "x2p_per_game",
          "x2pa_per_game",
          "x2p_percent",
          "e_fg_percent",
          "ft_per_game",
          "fta_per_game",
          "ft_percent",
          "orb_per_game",
          "drb_per_game",
          "trb_per_game",
          "ast_per_game",
          "stl_per_game",
          "blk_per_game",
          "tov_per_game",
          "pf_per_game",
          "pts_per_game",
          "per",
          "ts_percent",
          "x3p_ar",
          "f_tr",
          "orb_percent",
          "drb_percent",
          "trb_percent",
          "ast_percent",
          "stl_percent",
          "blk_percent",
          "tov_percent",
          "usg_percent",
          "ows",
          "dws",
          "ws",
          "ws_48",
          "obpm",
          "dbpm",
          "bpm"
         ],
         "y": [
          34,
          14,
          78,
          73,
          34.3,
          8.029999999999996,
          16.929999999999996,
          0.6405000000000001,
          2.7299999999999955,
          7.2,
          0.44309999999999994,
          6.029999999999995,
          10.9,
          0.70685,
          0.6735,
          4,
          5.1,
          0.929,
          2.5299999999999954,
          6.029999999999995,
          8.2,
          5.8,
          1.4,
          1.1,
          2.8,
          2.7,
          22.25999999999999,
          21.729999999999997,
          0.6795,
          0.7555000000000001,
          0.459,
          14,
          28.55999999999999,
          20.3,
          31.689999999999987,
          3.1,
          5.429999999999995,
          21.93499999999998,
          29.3,
          4.259999999999991,
          2.9,
          6.729999999999995,
          0.199,
          3.6299999999999955,
          2.5299999999999954,
          4
         ]
        }
       ],
       "layout": {
        "barmode": "group",
        "template": {
         "data": {
          "bar": [
           {
            "error_x": {
             "color": "#2a3f5f"
            },
            "error_y": {
             "color": "#2a3f5f"
            },
            "marker": {
             "line": {
              "color": "#E5ECF6",
              "width": 0.5
             },
             "pattern": {
              "fillmode": "overlay",
              "size": 10,
              "solidity": 0.2
             }
            },
            "type": "bar"
           }
          ],
          "barpolar": [
           {
            "marker": {
             "line": {
              "color": "#E5ECF6",
              "width": 0.5
             },
             "pattern": {
              "fillmode": "overlay",
              "size": 10,
              "solidity": 0.2
             }
            },
            "type": "barpolar"
           }
          ],
          "carpet": [
           {
            "aaxis": {
             "endlinecolor": "#2a3f5f",
             "gridcolor": "white",
             "linecolor": "white",
             "minorgridcolor": "white",
             "startlinecolor": "#2a3f5f"
            },
            "baxis": {
             "endlinecolor": "#2a3f5f",
             "gridcolor": "white",
             "linecolor": "white",
             "minorgridcolor": "white",
             "startlinecolor": "#2a3f5f"
            },
            "type": "carpet"
           }
          ],
          "choropleth": [
           {
            "colorbar": {
             "outlinewidth": 0,
             "ticks": ""
            },
            "type": "choropleth"
           }
          ],
          "contour": [
           {
            "colorbar": {
             "outlinewidth": 0,
             "ticks": ""
            },
            "colorscale": [
             [
              0,
              "#0d0887"
             ],
             [
              0.1111111111111111,
              "#46039f"
             ],
             [
              0.2222222222222222,
              "#7201a8"
             ],
             [
              0.3333333333333333,
              "#9c179e"
             ],
             [
              0.4444444444444444,
              "#bd3786"
             ],
             [
              0.5555555555555556,
              "#d8576b"
             ],
             [
              0.6666666666666666,
              "#ed7953"
             ],
             [
              0.7777777777777778,
              "#fb9f3a"
             ],
             [
              0.8888888888888888,
              "#fdca26"
             ],
             [
              1,
              "#f0f921"
             ]
            ],
            "type": "contour"
           }
          ],
          "contourcarpet": [
           {
            "colorbar": {
             "outlinewidth": 0,
             "ticks": ""
            },
            "type": "contourcarpet"
           }
          ],
          "heatmap": [
           {
            "colorbar": {
             "outlinewidth": 0,
             "ticks": ""
            },
            "colorscale": [
             [
              0,
              "#0d0887"
             ],
             [
              0.1111111111111111,
              "#46039f"
             ],
             [
              0.2222222222222222,
              "#7201a8"
             ],
             [
              0.3333333333333333,
              "#9c179e"
             ],
             [
              0.4444444444444444,
              "#bd3786"
             ],
             [
              0.5555555555555556,
              "#d8576b"
             ],
             [
              0.6666666666666666,
              "#ed7953"
             ],
             [
              0.7777777777777778,
              "#fb9f3a"
             ],
             [
              0.8888888888888888,
              "#fdca26"
             ],
             [
              1,
              "#f0f921"
             ]
            ],
            "type": "heatmap"
           }
          ],
          "heatmapgl": [
           {
            "colorbar": {
             "outlinewidth": 0,
             "ticks": ""
            },
            "colorscale": [
             [
              0,
              "#0d0887"
             ],
             [
              0.1111111111111111,
              "#46039f"
             ],
             [
              0.2222222222222222,
              "#7201a8"
             ],
             [
              0.3333333333333333,
              "#9c179e"
             ],
             [
              0.4444444444444444,
              "#bd3786"
             ],
             [
              0.5555555555555556,
              "#d8576b"
             ],
             [
              0.6666666666666666,
              "#ed7953"
             ],
             [
              0.7777777777777778,
              "#fb9f3a"
             ],
             [
              0.8888888888888888,
              "#fdca26"
             ],
             [
              1,
              "#f0f921"
             ]
            ],
            "type": "heatmapgl"
           }
          ],
          "histogram": [
           {
            "marker": {
             "pattern": {
              "fillmode": "overlay",
              "size": 10,
              "solidity": 0.2
             }
            },
            "type": "histogram"
           }
          ],
          "histogram2d": [
           {
            "colorbar": {
             "outlinewidth": 0,
             "ticks": ""
            },
            "colorscale": [
             [
              0,
              "#0d0887"
             ],
             [
              0.1111111111111111,
              "#46039f"
             ],
             [
              0.2222222222222222,
              "#7201a8"
             ],
             [
              0.3333333333333333,
              "#9c179e"
             ],
             [
              0.4444444444444444,
              "#bd3786"
             ],
             [
              0.5555555555555556,
              "#d8576b"
             ],
             [
              0.6666666666666666,
              "#ed7953"
             ],
             [
              0.7777777777777778,
              "#fb9f3a"
             ],
             [
              0.8888888888888888,
              "#fdca26"
             ],
             [
              1,
              "#f0f921"
             ]
            ],
            "type": "histogram2d"
           }
          ],
          "histogram2dcontour": [
           {
            "colorbar": {
             "outlinewidth": 0,
             "ticks": ""
            },
            "colorscale": [
             [
              0,
              "#0d0887"
             ],
             [
              0.1111111111111111,
              "#46039f"
             ],
             [
              0.2222222222222222,
              "#7201a8"
             ],
             [
              0.3333333333333333,
              "#9c179e"
             ],
             [
              0.4444444444444444,
              "#bd3786"
             ],
             [
              0.5555555555555556,
              "#d8576b"
             ],
             [
              0.6666666666666666,
              "#ed7953"
             ],
             [
              0.7777777777777778,
              "#fb9f3a"
             ],
             [
              0.8888888888888888,
              "#fdca26"
             ],
             [
              1,
              "#f0f921"
             ]
            ],
            "type": "histogram2dcontour"
           }
          ],
          "mesh3d": [
           {
            "colorbar": {
             "outlinewidth": 0,
             "ticks": ""
            },
            "type": "mesh3d"
           }
          ],
          "parcoords": [
           {
            "line": {
             "colorbar": {
              "outlinewidth": 0,
              "ticks": ""
             }
            },
            "type": "parcoords"
           }
          ],
          "pie": [
           {
            "automargin": true,
            "type": "pie"
           }
          ],
          "scatter": [
           {
            "fillpattern": {
             "fillmode": "overlay",
             "size": 10,
             "solidity": 0.2
            },
            "type": "scatter"
           }
          ],
          "scatter3d": [
           {
            "line": {
             "colorbar": {
              "outlinewidth": 0,
              "ticks": ""
             }
            },
            "marker": {
             "colorbar": {
              "outlinewidth": 0,
              "ticks": ""
             }
            },
            "type": "scatter3d"
           }
          ],
          "scattercarpet": [
           {
            "marker": {
             "colorbar": {
              "outlinewidth": 0,
              "ticks": ""
             }
            },
            "type": "scattercarpet"
           }
          ],
          "scattergeo": [
           {
            "marker": {
             "colorbar": {
              "outlinewidth": 0,
              "ticks": ""
             }
            },
            "type": "scattergeo"
           }
          ],
          "scattergl": [
           {
            "marker": {
             "colorbar": {
              "outlinewidth": 0,
              "ticks": ""
             }
            },
            "type": "scattergl"
           }
          ],
          "scattermapbox": [
           {
            "marker": {
             "colorbar": {
              "outlinewidth": 0,
              "ticks": ""
             }
            },
            "type": "scattermapbox"
           }
          ],
          "scatterpolar": [
           {
            "marker": {
             "colorbar": {
              "outlinewidth": 0,
              "ticks": ""
             }
            },
            "type": "scatterpolar"
           }
          ],
          "scatterpolargl": [
           {
            "marker": {
             "colorbar": {
              "outlinewidth": 0,
              "ticks": ""
             }
            },
            "type": "scatterpolargl"
           }
          ],
          "scatterternary": [
           {
            "marker": {
             "colorbar": {
              "outlinewidth": 0,
              "ticks": ""
             }
            },
            "type": "scatterternary"
           }
          ],
          "surface": [
           {
            "colorbar": {
             "outlinewidth": 0,
             "ticks": ""
            },
            "colorscale": [
             [
              0,
              "#0d0887"
             ],
             [
              0.1111111111111111,
              "#46039f"
             ],
             [
              0.2222222222222222,
              "#7201a8"
             ],
             [
              0.3333333333333333,
              "#9c179e"
             ],
             [
              0.4444444444444444,
              "#bd3786"
             ],
             [
              0.5555555555555556,
              "#d8576b"
             ],
             [
              0.6666666666666666,
              "#ed7953"
             ],
             [
              0.7777777777777778,
              "#fb9f3a"
             ],
             [
              0.8888888888888888,
              "#fdca26"
             ],
             [
              1,
              "#f0f921"
             ]
            ],
            "type": "surface"
           }
          ],
          "table": [
           {
            "cells": {
             "fill": {
              "color": "#EBF0F8"
             },
             "line": {
              "color": "white"
             }
            },
            "header": {
             "fill": {
              "color": "#C8D4E3"
             },
             "line": {
              "color": "white"
             }
            },
            "type": "table"
           }
          ]
         },
         "layout": {
          "annotationdefaults": {
           "arrowcolor": "#2a3f5f",
           "arrowhead": 0,
           "arrowwidth": 1
          },
          "autotypenumbers": "strict",
          "coloraxis": {
           "colorbar": {
            "outlinewidth": 0,
            "ticks": ""
           }
          },
          "colorscale": {
           "diverging": [
            [
             0,
             "#8e0152"
            ],
            [
             0.1,
             "#c51b7d"
            ],
            [
             0.2,
             "#de77ae"
            ],
            [
             0.3,
             "#f1b6da"
            ],
            [
             0.4,
             "#fde0ef"
            ],
            [
             0.5,
             "#f7f7f7"
            ],
            [
             0.6,
             "#e6f5d0"
            ],
            [
             0.7,
             "#b8e186"
            ],
            [
             0.8,
             "#7fbc41"
            ],
            [
             0.9,
             "#4d9221"
            ],
            [
             1,
             "#276419"
            ]
           ],
           "sequential": [
            [
             0,
             "#0d0887"
            ],
            [
             0.1111111111111111,
             "#46039f"
            ],
            [
             0.2222222222222222,
             "#7201a8"
            ],
            [
             0.3333333333333333,
             "#9c179e"
            ],
            [
             0.4444444444444444,
             "#bd3786"
            ],
            [
             0.5555555555555556,
             "#d8576b"
            ],
            [
             0.6666666666666666,
             "#ed7953"
            ],
            [
             0.7777777777777778,
             "#fb9f3a"
            ],
            [
             0.8888888888888888,
             "#fdca26"
            ],
            [
             1,
             "#f0f921"
            ]
           ],
           "sequentialminus": [
            [
             0,
             "#0d0887"
            ],
            [
             0.1111111111111111,
             "#46039f"
            ],
            [
             0.2222222222222222,
             "#7201a8"
            ],
            [
             0.3333333333333333,
             "#9c179e"
            ],
            [
             0.4444444444444444,
             "#bd3786"
            ],
            [
             0.5555555555555556,
             "#d8576b"
            ],
            [
             0.6666666666666666,
             "#ed7953"
            ],
            [
             0.7777777777777778,
             "#fb9f3a"
            ],
            [
             0.8888888888888888,
             "#fdca26"
            ],
            [
             1,
             "#f0f921"
            ]
           ]
          },
          "colorway": [
           "#636efa",
           "#EF553B",
           "#00cc96",
           "#ab63fa",
           "#FFA15A",
           "#19d3f3",
           "#FF6692",
           "#B6E880",
           "#FF97FF",
           "#FECB52"
          ],
          "font": {
           "color": "#2a3f5f"
          },
          "geo": {
           "bgcolor": "white",
           "lakecolor": "white",
           "landcolor": "#E5ECF6",
           "showlakes": true,
           "showland": true,
           "subunitcolor": "white"
          },
          "hoverlabel": {
           "align": "left"
          },
          "hovermode": "closest",
          "mapbox": {
           "style": "light"
          },
          "paper_bgcolor": "white",
          "plot_bgcolor": "#E5ECF6",
          "polar": {
           "angularaxis": {
            "gridcolor": "white",
            "linecolor": "white",
            "ticks": ""
           },
           "bgcolor": "#E5ECF6",
           "radialaxis": {
            "gridcolor": "white",
            "linecolor": "white",
            "ticks": ""
           }
          },
          "scene": {
           "xaxis": {
            "backgroundcolor": "#E5ECF6",
            "gridcolor": "white",
            "gridwidth": 2,
            "linecolor": "white",
            "showbackground": true,
            "ticks": "",
            "zerolinecolor": "white"
           },
           "yaxis": {
            "backgroundcolor": "#E5ECF6",
            "gridcolor": "white",
            "gridwidth": 2,
            "linecolor": "white",
            "showbackground": true,
            "ticks": "",
            "zerolinecolor": "white"
           },
           "zaxis": {
            "backgroundcolor": "#E5ECF6",
            "gridcolor": "white",
            "gridwidth": 2,
            "linecolor": "white",
            "showbackground": true,
            "ticks": "",
            "zerolinecolor": "white"
           }
          },
          "shapedefaults": {
           "line": {
            "color": "#2a3f5f"
           }
          },
          "ternary": {
           "aaxis": {
            "gridcolor": "white",
            "linecolor": "white",
            "ticks": ""
           },
           "baxis": {
            "gridcolor": "white",
            "linecolor": "white",
            "ticks": ""
           },
           "bgcolor": "#E5ECF6",
           "caxis": {
            "gridcolor": "white",
            "linecolor": "white",
            "ticks": ""
           }
          },
          "title": {
           "x": 0.05
          },
          "xaxis": {
           "automargin": true,
           "gridcolor": "white",
           "linecolor": "white",
           "ticks": "",
           "title": {
            "standoff": 15
           },
           "zerolinecolor": "white",
           "zerolinewidth": 2
          },
          "yaxis": {
           "automargin": true,
           "gridcolor": "white",
           "linecolor": "white",
           "ticks": "",
           "title": {
            "standoff": 15
           },
           "zerolinecolor": "white",
           "zerolinewidth": 2
          }
         }
        },
        "title": {
         "text": "Prominent Thresholds vs Tyrese Haliburton"
        },
        "xaxis": {
         "tickangle": -45,
         "title": {
          "text": "Stat"
         }
        },
        "yaxis": {
         "title": {
          "text": "# Of Stat"
         }
        }
       }
      }
     },
     "metadata": {},
     "output_type": "display_data"
    }
   ],
   "source": [
    "tyrese_stats = tyrese.drop([\"seas_id\", \"season\", \"player_id\", \"player\", \"tm\", \"mp\"])\n",
    "curr_season = season_thresholds[2025].drop([\"mp\"])\n",
    "fig = go.Figure(data=[\n",
    "    go.Bar(name='Tyrese', x=tyrese_stats.index,\n",
    "           y=tyrese_stats.values),\n",
    "    go.Bar(name='Top 95%', x=curr_season.index, \n",
    "           y=curr_season.values)\n",
    "])  \n",
    "           \n",
    "\n",
    "fig.update_layout(barmode='group', yaxis_title=\"# Of Stat\", xaxis_title=\"Stat\",\n",
    "                  title_text=\"Prominent Thresholds vs Tyrese Haliburton\")\n",
    "fig.update_xaxes(tickangle=-45)\n",
    "\n",
    "fig.show()"
   ]
  },
  {
   "cell_type": "markdown",
   "id": "2d4d8878-ee8c-46a9-9a79-0c6321b130e7",
   "metadata": {},
   "source": [
    "   * It can be seen that, while he is above the prominence threshold for some common prominent stats such as win shares and box plus-minus, he is below the threshold for some of the most common stats that fans look at such as points per game, field goals per game, and free-throws per game.\n",
    "   * However, if you watch Tyrese Haliburton, especially in the 2025 playoffs, he is arguable one of the best players in the world at his position and is currently leading a finals run for the Indiana Pacers.\n",
    "   * A casual fan may see the basic statistics, such as points per game, field goals per game, and so on, and think that Tyrese isn't completely fit to be an All-Star due to being below the threshold in these categories, when he completely deserves a spot.\n",
    "   * This base example is a phenomena that can be shown on any player, especially players that excel defensively and off-ball.\n",
    "   * This study, and the voting of All-Stars, is fairly biased towards offensive production, which is why I think a study like this shouldn't be the only thing fans look at for voting, and instead they should watch the players themselves and judge based on their own opinion on their performance.\n",
    "\n",
    "To conclude, while I think this study was a success and the results actually provide some meaningful insight, I do think that those that view this study and base their NBA opinions on this study should be careful due to some of the limitations I explained. However, I still think it is a general rule of thumb that teams with All-Star players will do better, and that the stats that All-Stars excel at compared to the rest of the league are also valuable stats to have on a team. Thank you for viewing this project, and I hope you come away from this with a little bit more NBA knowledge if you had none beforehand, and hopefully a new appreciation for statistics and what makes All-Stars valuable. Thank you!\n",
    "\n",
    "\\- ***Joey Reitz***"
   ]
  }
 ],
 "metadata": {
  "kernelspec": {
   "display_name": "Python 3",
   "language": "python",
   "name": "python3"
  },
  "language_info": {
   "codemirror_mode": {
    "name": "ipython",
    "version": 3
   },
   "file_extension": ".py",
   "mimetype": "text/x-python",
   "name": "python",
   "nbconvert_exporter": "python",
   "pygments_lexer": "ipython3",
   "version": "3.7.9"
  }
 },
 "nbformat": 4,
 "nbformat_minor": 5
}
